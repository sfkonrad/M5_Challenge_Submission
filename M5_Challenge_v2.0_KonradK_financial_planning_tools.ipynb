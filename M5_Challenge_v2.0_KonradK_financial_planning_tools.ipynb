{
 "cells": [
  {
   "cell_type": "markdown",
   "metadata": {},
   "source": [
    "#### M5_Challenge_KonradK_financial_planning_tools.ipynb\n",
    "# Konrad Kozicki\n",
    "### UCB-VIRT-FIN-PT-12-2020-U-B-TTH\n",
    "---"
   ]
  },
  {
   "cell_type": "markdown",
   "metadata": {},
   "source": [
    "# Financial Planning with APIs and Simulations\n",
    "\n",
    "In this Challenge, you’ll create two financial analysis tools by using a single Jupyter notebook:\n",
    "\n",
    "Part 1: A financial planner for emergencies. The members will be able to use this tool to visualize their current savings. The members can then determine if they have enough reserves for an emergency fund.\n",
    "\n",
    "Part 2: A financial planner for retirement. This tool will forecast the performance of their retirement portfolio in 30 years. To do this, the tool will make an Alpaca API call via the Alpaca SDK to get historical price data for use in Monte Carlo simulations.\n",
    "\n",
    "You’ll use the information from the Monte Carlo simulation to answer questions about the portfolio in your Jupyter notebook.\n",
    "\n"
   ]
  },
  {
   "cell_type": "code",
   "execution_count": 3,
   "metadata": {},
   "outputs": [],
   "source": [
    "# Import the required libraries and dependencies\n",
    "import os\n",
    "import requests\n",
    "import pandas as pd\n",
    "from dotenv import load_dotenv\n",
    "import alpaca_trade_api as tradeapi\n",
    "import datetime as datetime\n",
    "import pytz\n",
    "\n",
    "import json\n",
    "import click\n",
    "\n",
    "from MCForecastTools import MCSimulation\n",
    "\n",
    "%matplotlib inline"
   ]
  },
  {
   "cell_type": "code",
   "execution_count": 4,
   "metadata": {},
   "outputs": [
    {
     "data": {
      "text/plain": [
       "True"
      ]
     },
     "execution_count": 4,
     "metadata": {},
     "output_type": "execute_result"
    }
   ],
   "source": [
    "# Load the environment variables from the .env file by calling the load_dotenv function.\n",
    "load_dotenv()"
   ]
  },
  {
   "cell_type": "markdown",
   "metadata": {},
   "source": [
    "## Part 0: Confirm Important Information About the Member's Portfolio"
   ]
  },
  {
   "cell_type": "code",
   "execution_count": 5,
   "metadata": {},
   "outputs": [
    {
     "name": "stdout",
     "output_type": "stream",
     "text": [
      "Please take a moment to confirm the following information about the member's portfolio: \n",
      " \n",
      "1) BITCOIN \n",
      "Enter the number of BTC Coins in the portfolio \n",
      "     [press ENTER for default value of [1.2]: "
     ]
    },
    {
     "name": "stdin",
     "output_type": "stream",
     "text": [
      " \n"
     ]
    },
    {
     "name": "stdout",
     "output_type": "stream",
     "text": [
      "1.2\n",
      "\n",
      " \n",
      " \n",
      " \n",
      "2) ETHEREUM \n",
      "Enter the number of ETH Coins in the portfolio \n",
      "     [press ENTER for default value of [5.3]: "
     ]
    },
    {
     "name": "stdin",
     "output_type": "stream",
     "text": [
      " \n"
     ]
    },
    {
     "name": "stdout",
     "output_type": "stream",
     "text": [
      "5.3\n",
      "\n",
      " \n",
      " \n",
      " \n",
      "3) INCOME \n",
      "Please enter the member's current monthly income \n",
      "or projected monthly expenses \n",
      "     [press ENTER for default value of [12000]: "
     ]
    },
    {
     "name": "stdin",
     "output_type": "stream",
     "text": [
      " \n"
     ]
    },
    {
     "name": "stdout",
     "output_type": "stream",
     "text": [
      "12000\n",
      "\n",
      " \n",
      " \n",
      " \n",
      "4) STOCKS \n",
      "Enter the number of S&P 500 Stock holdings in \n",
      "the portfolio \n",
      "     [press ENTER for default value of [110]: "
     ]
    },
    {
     "name": "stdin",
     "output_type": "stream",
     "text": [
      " \n"
     ]
    },
    {
     "name": "stdout",
     "output_type": "stream",
     "text": [
      "110\n",
      "\n",
      " \n",
      " \n",
      " \n",
      "5) BONDS \n",
      "Enter the number of iShares Bond ETF holdings in \n",
      "the portfolio \n",
      "     [press ENTER for default value of [200]: "
     ]
    },
    {
     "name": "stdin",
     "output_type": "stream",
     "text": [
      " \n"
     ]
    },
    {
     "name": "stdout",
     "output_type": "stream",
     "text": [
      "200\n",
      "\n",
      " \n",
      " \n",
      " \n",
      "6) RESERVES \n",
      "Please enter the member's desired months in reserves \n",
      "     [press ENTER for default value of [3]: "
     ]
    },
    {
     "name": "stdin",
     "output_type": "stream",
     "text": [
      " \n"
     ]
    },
    {
     "name": "stdout",
     "output_type": "stream",
     "text": [
      "3\n",
      "\n",
      " \n",
      " \n",
      " \n",
      "<<  FEATURES CURRENTLY UNDER CONSTRUCTION: >>\n",
      " \n",
      "        -> 7) conditional statement for `use_for_today_date`\n",
      "\n",
      "\n",
      "        -> 8) Risk_Tolerance Query\n",
      "\n",
      "\n",
      "        -> 9) Save a log of i/o for every instance the script is run\n",
      "\n",
      " \n",
      " \n",
      " \n",
      "\n"
     ]
    }
   ],
   "source": [
    "print(\"Please take a moment to confirm the following information about the member's portfolio: \\n \")\n",
    "\n",
    "btc_coins = click.prompt(\"1) BITCOIN \\nEnter the number of BTC Coins in the portfolio \\n     [press ENTER for default value of\", type=float, default=1.2) \n",
    "print(btc_coins)\n",
    "eth_coins = click.prompt(\"\\n \\n \\n \\n2) ETHEREUM \\nEnter the number of ETH Coins in the portfolio \\n     [press ENTER for default value of\", type=float, default=5.3) \n",
    "print(eth_coins)\n",
    "monthly_income = click.prompt(\"\\n \\n \\n \\n3) INCOME \\nPlease enter the member's current monthly income \\nor projected monthly expenses \\n     [press ENTER for default value of\", type=float, default=12000) \n",
    "print(monthly_income)\n",
    "spy_shares = click.prompt(\"\\n \\n \\n \\n4) STOCKS \\nEnter the number of S&P 500 Stock holdings in \\nthe portfolio \\n     [press ENTER for default value of\", type=float, default=110) \n",
    "print(spy_shares)\n",
    "agg_shares = click.prompt(\"\\n \\n \\n \\n5) BONDS \\nEnter the number of iShares Bond ETF holdings in \\nthe portfolio \\n     [press ENTER for default value of\", type=float, default=200) \n",
    "print(agg_shares)\n",
    "reserve_months = click.prompt(\"\\n \\n \\n \\n6) RESERVES \\nPlease enter the member's desired months in reserves \\n     [press ENTER for default value of\", type=float, default=3) \n",
    "print(reserve_months)\n",
    "\n",
    "print(\"\\n \\n \\n \\n<<  FEATURES CURRENTLY UNDER CONSTRUCTION: >>\\n \")\n",
    "\n",
    "print(\"        -> 7) conditional statement for `use_for_today_date`\")\n",
    "#    (reference in README.md)\n",
    "#    Boolean test for `close = NaN`\")\n",
    "#    confirm that `use_for_today_date` is an open trading day ⚠️\n",
    "#    elif for `NaN`s\n",
    "#    date_to_use_today = if click(ans) == today_date then return today_date, else return three_days_ago\n",
    "#    ref. Module_2\n",
    "\n",
    "print(\"\\n\\n        -> 8) Risk_Tolerance Query\") \n",
    "#      1:5 (and 0, 666), \n",
    "#      SPY/AGG,\n",
    "#        0: 0/100\n",
    "#        1: 20/80\n",
    "#        2: 40/60\n",
    "#        3: 60/40 [default]\n",
    "#        4: 80/20\n",
    "#        5: 100/0\n",
    "#        666: all on crypto?... Run MC_Sims on Crypto returns\n",
    "\n",
    "print(\"\\n\\n        -> 9) Save a log of i/o for every instance the script is run\")\n",
    "\n",
    "print(\"\\n \\n \\n \\n\")"
   ]
  },
  {
   "cell_type": "markdown",
   "metadata": {},
   "source": [
    "## Part 1: Create a Financial Planner for Emergencies"
   ]
  },
  {
   "cell_type": "markdown",
   "metadata": {},
   "source": [
    "### Evaluate the Cryptocurrency Wallet by Using the Requests Library\n",
    "\n",
    "In this section, you’ll determine the current value of a member’s cryptocurrency wallet. You’ll collect the current prices for the Bitcoin and Ethereum cryptocurrencies by using the Python Requests library. For the prototype, you’ll assume that the member holds the 1.2 Bitcoins (BTC) and 5.3 Ethereum coins (ETH). To do all this, complete the following steps:\n",
    "\n",
    "1. Create a variable named `monthly_income`, and set its value to `12000`.\n",
    "\n",
    "2. Use the Requests library to get the current price (in US dollars) of Bitcoin (BTC) and Ethereum (ETH) by using the API endpoints that the starter code supplies.\n",
    "\n",
    "3. Navigate the JSON response object to access the current price of each coin, and store each in a variable.\n",
    "\n",
    "    > **Hint** Note the specific identifier for each cryptocurrency in the API JSON response. The Bitcoin identifier is `1`, and the Ethereum identifier is `1027`.\n",
    "\n",
    "4. Calculate the value, in US dollars, of the current amount of each cryptocurrency and of the entire cryptocurrency wallet.\n",
    "\n"
   ]
  },
  {
   "cell_type": "code",
   "execution_count": null,
   "metadata": {},
   "outputs": [],
   "source": [
    "# The current number of coins for each cryptocurrency asset held in the portfolio.\n",
    "# btc_coins = 1.2\n",
    "# eth_coins = 5.3"
   ]
  },
  {
   "cell_type": "markdown",
   "metadata": {},
   "source": [
    "#### Step 1: Create a variable named `monthly_income`, and set its value to `12000`."
   ]
  },
  {
   "cell_type": "code",
   "execution_count": null,
   "metadata": {},
   "outputs": [],
   "source": [
    "# The monthly amount for the member's household income\n",
    "# monthly_income = 12000"
   ]
  },
  {
   "cell_type": "markdown",
   "metadata": {},
   "source": [
    "#### Review the endpoint URLs for the API calls to Free Crypto API in order to get the current pricing information for both BTC and ETH."
   ]
  },
  {
   "cell_type": "code",
   "execution_count": 6,
   "metadata": {},
   "outputs": [],
   "source": [
    "# The Free Crypto API Call endpoint URLs for the held cryptocurrency assets\n",
    "btc_url = \"https://api.alternative.me/v2/ticker/Bitcoin/?convert=USD\"\n",
    "eth_url = \"https://api.alternative.me/v2/ticker/Ethereum/?convert=USD\""
   ]
  },
  {
   "cell_type": "markdown",
   "metadata": {},
   "source": [
    "#### Step 2. Use the Requests library to get the current price (in US dollars) of Bitcoin (BTC) and Ethereum (ETH) by using the API endpoints that the starter code supplied."
   ]
  },
  {
   "cell_type": "code",
   "execution_count": 7,
   "metadata": {},
   "outputs": [
    {
     "name": "stdout",
     "output_type": "stream",
     "text": [
      "{\n",
      "    \"data\": {\n",
      "        \"1\": {\n",
      "            \"circulating_supply\": 18621743,\n",
      "            \"id\": 1,\n",
      "            \"last_updated\": 1612665029,\n",
      "            \"max_supply\": 21000000,\n",
      "            \"name\": \"Bitcoin\",\n",
      "            \"quotes\": {\n",
      "                \"USD\": {\n",
      "                    \"market_cap\": 714990097993,\n",
      "                    \"percent_change_1h\": -2.21099818223328,\n",
      "                    \"percent_change_24h\": -1.4640297673017,\n",
      "                    \"percent_change_7d\": 12.2689576146153,\n",
      "                    \"percentage_change_1h\": -2.21099818223328,\n",
      "                    \"percentage_change_24h\": -1.4640297673017,\n",
      "                    \"percentage_change_7d\": 12.2689576146153,\n",
      "                    \"price\": 38395.0,\n",
      "                    \"volume_24h\": 53299899609\n",
      "                }\n",
      "            },\n",
      "            \"rank\": 1,\n",
      "            \"symbol\": \"BTC\",\n",
      "            \"total_supply\": 18621743,\n",
      "            \"website_slug\": \"bitcoin\"\n",
      "        }\n",
      "    },\n",
      "    \"metadata\": {\n",
      "        \"error\": null,\n",
      "        \"num_cryptocurrencies\": 1372,\n",
      "        \"timestamp\": 1612665029\n",
      "    }\n",
      "}\n"
     ]
    }
   ],
   "source": [
    "# Using the Python requests library, make an API call to access the current price of BTC\n",
    "btc_response = requests.get(btc_url).json()\n",
    "\n",
    "# Use the json.dumps function to review the response data from the API call\n",
    "# Use the indent and sort_keys parameters to make the response object readable\n",
    "print(json.dumps(btc_response, indent=4, sort_keys=True))\n"
   ]
  },
  {
   "cell_type": "code",
   "execution_count": 8,
   "metadata": {},
   "outputs": [
    {
     "name": "stdout",
     "output_type": "stream",
     "text": [
      "{\n",
      "    \"data\": {\n",
      "        \"1027\": {\n",
      "            \"circulating_supply\": 114566968,\n",
      "            \"id\": 1027,\n",
      "            \"last_updated\": 1612665029,\n",
      "            \"max_supply\": 0,\n",
      "            \"name\": \"Ethereum\",\n",
      "            \"quotes\": {\n",
      "                \"USD\": {\n",
      "                    \"market_cap\": 185139395921,\n",
      "                    \"percent_change_1h\": -3.45201106129949,\n",
      "                    \"percent_change_24h\": -4.01675107521948,\n",
      "                    \"percent_change_7d\": 17.7470671359344,\n",
      "                    \"percentage_change_1h\": -3.45201106129949,\n",
      "                    \"percentage_change_24h\": -4.01675107521948,\n",
      "                    \"percentage_change_7d\": 17.7470671359344,\n",
      "                    \"price\": 1615.99,\n",
      "                    \"volume_24h\": 34008498778\n",
      "                }\n",
      "            },\n",
      "            \"rank\": 2,\n",
      "            \"symbol\": \"ETH\",\n",
      "            \"total_supply\": 114566968,\n",
      "            \"website_slug\": \"ethereum\"\n",
      "        }\n",
      "    },\n",
      "    \"metadata\": {\n",
      "        \"error\": null,\n",
      "        \"num_cryptocurrencies\": 1372,\n",
      "        \"timestamp\": 1612665029\n",
      "    }\n",
      "}\n"
     ]
    }
   ],
   "source": [
    "# Using the Python requests library, make an API call to access the current price ETH\n",
    "eth_response = requests.get(eth_url).json()\n",
    "\n",
    "# Use the json.dumps function to review the response data from the API call\n",
    "# Use the indent and sort_keys parameters to make the response object readable\n",
    "print(json.dumps(eth_response, indent=4, sort_keys=True))\n"
   ]
  },
  {
   "cell_type": "markdown",
   "metadata": {},
   "source": [
    "#### Step 3: Navigate the JSON response object to access the current price of each coin, and store each in a variable."
   ]
  },
  {
   "cell_type": "code",
   "execution_count": 9,
   "metadata": {},
   "outputs": [
    {
     "name": "stdout",
     "output_type": "stream",
     "text": [
      "The price for BTC is $38,395.00\n"
     ]
    }
   ],
   "source": [
    "# Navigate the BTC response object to access the current price of BTC\n",
    "btc_price = btc_response['data']['1']['quotes']['USD']['price']\n",
    "\n",
    "# Print the current price of BTC\n",
    "print(f\"The price for BTC is ${btc_price:,.2f}\")"
   ]
  },
  {
   "cell_type": "code",
   "execution_count": 10,
   "metadata": {},
   "outputs": [
    {
     "name": "stdout",
     "output_type": "stream",
     "text": [
      "The price for ETH is $1,615.99\n"
     ]
    }
   ],
   "source": [
    "# Navigate the BTC response object to access the current price of ETH\n",
    "eth_price = eth_response['data']['1027']['quotes']['USD']['price']\n",
    "\n",
    "# Print the current price of ETH\n",
    "print(f\"The price for ETH is ${eth_price:,.2f}\")\n"
   ]
  },
  {
   "cell_type": "markdown",
   "metadata": {},
   "source": [
    "### Step 4: Calculate the value, in US dollars, of the current amount of each cryptocurrency and of the entire cryptocurrency wallet."
   ]
  },
  {
   "cell_type": "code",
   "execution_count": 11,
   "metadata": {},
   "outputs": [
    {
     "name": "stdout",
     "output_type": "stream",
     "text": [
      "The current value of the total Bitcoin (BTC) holding is $46,074.00\n"
     ]
    }
   ],
   "source": [
    "# Compute the current value of the BTC holding \n",
    "btc_value = btc_coins * btc_price\n",
    "\n",
    "# Print current value of your holding in BTC\n",
    "print(f\"The current value of the total Bitcoin (BTC) holding is ${btc_value:,.2f}\")"
   ]
  },
  {
   "cell_type": "code",
   "execution_count": 12,
   "metadata": {},
   "outputs": [
    {
     "name": "stdout",
     "output_type": "stream",
     "text": [
      "The current value of the total Ethereum (ETH) holding is $8,564.75\n"
     ]
    }
   ],
   "source": [
    "# Compute the current value of the ETH holding \n",
    "eth_value = eth_coins * eth_price\n",
    "\n",
    "# Print current value of your holding in ETH\n",
    "print(f\"The current value of the total Ethereum (ETH) holding is ${eth_value:,.2f}\")"
   ]
  },
  {
   "cell_type": "code",
   "execution_count": 13,
   "metadata": {},
   "outputs": [
    {
     "name": "stdout",
     "output_type": "stream",
     "text": [
      "The total value of the entire cryptocurrency wallet is $54,638.75\n"
     ]
    }
   ],
   "source": [
    "# Compute the total value of the cryptocurrency wallet\n",
    "# Add the value of the BTC holding to the value of the ETH holding\n",
    "total_crypto_wallet = btc_value + eth_value\n",
    "\n",
    "# Print current cryptocurrency wallet balance\n",
    "print(f\"The total value of the entire cryptocurrency wallet is ${total_crypto_wallet:,.2f}\")"
   ]
  },
  {
   "cell_type": "markdown",
   "metadata": {},
   "source": [
    "### Evaluate the Stock and Bond Holdings by Using the Alpaca SDK\n",
    "\n",
    "In this section, you’ll determine the current value of a member’s stock and bond holdings. You’ll make an API call to Alpaca via the Alpaca SDK to get the current closing prices of the SPDR S&P 500 ETF Trust (ticker: SPY) and of the iShares Core US Aggregate Bond ETF (ticker: AGG). For the prototype, assume that the member holds 110 shares of SPY, which represents the stock portion of their portfolio, and 200 shares of AGG, which represents the bond portion. To do all this, complete the following steps:\n",
    "\n",
    "1. In the `Starter_Code` folder, create an environment file (`.env`) to store the values of your Alpaca API key and Alpaca secret key.\n",
    "\n",
    "2. Set the variables for the Alpaca API and secret keys. Using the Alpaca SDK, create the Alpaca `tradeapi.REST` object. In this object, include the parameters for the Alpaca API key, the secret key, and the version number.\n",
    "\n",
    "3. Set the following parameters for the Alpaca API call:\n",
    "\n",
    "    - `tickers`: Use the tickers for the member’s stock and bond holdings.\n",
    "\n",
    "    - `timeframe`: Use a time frame of one day.\n",
    "\n",
    "    - `start_date` and `end_date`: Use the same date for these parameters, and format them with the date of the previous weekday (or `2020-08-07`). This is because you want the one closing price for the most-recent trading day.\n",
    "\n",
    "4. Get the current closing prices for `SPY` and `AGG` by using the Alpaca `get_barset` function. Format the response as a Pandas DataFrame by including the `df` property at the end of the `get_barset` function.\n",
    "\n",
    "5. Navigating the Alpaca response DataFrame, select the `SPY` and `AGG` closing prices, and store them as variables.\n",
    "\n",
    "6. Calculate the value, in US dollars, of the current amount of shares in each of the stock and bond portions of the portfolio, and print the results.\n"
   ]
  },
  {
   "cell_type": "markdown",
   "metadata": {},
   "source": [
    "#### Review the total number of shares held in both (SPY) and (AGG)."
   ]
  },
  {
   "cell_type": "code",
   "execution_count": null,
   "metadata": {},
   "outputs": [],
   "source": [
    "# Current amount of shares held in both the stock (SPY) and bond (AGG) portion of the portfolio.\n",
    "# spy_shares = 110\n",
    "# agg_shares = 200\n"
   ]
  },
  {
   "cell_type": "markdown",
   "metadata": {},
   "source": [
    "#### Step 1: In the `Starter_Code` folder, create an environment file (`.env`) to store the values of your Alpaca API key and Alpaca secret key."
   ]
  },
  {
   "cell_type": "markdown",
   "metadata": {},
   "source": [
    "#### Step 2: Set the variables for the Alpaca API and secret keys. Using the Alpaca SDK, create the Alpaca `tradeapi.REST` object. In this object, include the parameters for the Alpaca API key, the secret key, and the version number."
   ]
  },
  {
   "cell_type": "code",
   "execution_count": 14,
   "metadata": {},
   "outputs": [
    {
     "data": {
      "text/plain": [
       "str"
      ]
     },
     "metadata": {},
     "output_type": "display_data"
    },
    {
     "data": {
      "text/plain": [
       "str"
      ]
     },
     "metadata": {},
     "output_type": "display_data"
    }
   ],
   "source": [
    "# Set the variables for the Alpaca API and secret keys\n",
    "alpaca_api_key = os.getenv(\"ALPACA_API_KEY\")\n",
    "alpaca_secret_key = os.getenv(\"ALPACA_SECRET_KEY\")\n",
    "\n",
    "# Check the values were imported correctly by evaluating the type of each\n",
    "display(type(alpaca_api_key))\n",
    "display(type(alpaca_secret_key))\n",
    "\n",
    "# Create the Alpaca tradeapi.REST object\n",
    "alpaca = tradeapi.REST(\n",
    "    alpaca_api_key,\n",
    "    alpaca_secret_key,\n",
    "    api_version = \"v2\"\n",
    ")"
   ]
  },
  {
   "cell_type": "markdown",
   "metadata": {},
   "source": [
    "#### Step 3: Set the following parameters for the Alpaca API call:\n",
    "\n",
    "- `tickers`: Use the tickers for the member’s stock and bond holdings.\n",
    "\n",
    "- `timeframe`: Use a time frame of one day.\n",
    "\n",
    "- `start_date` and `end_date`: Use the same date for these parameters, and format them with the date of the previous weekday (or `2020-08-07`). This is because you want the one closing price for the most-recent trading day.\n"
   ]
  },
  {
   "cell_type": "code",
   "execution_count": 15,
   "metadata": {},
   "outputs": [
    {
     "data": {
      "text/plain": [
       "('2021-02-06', '2021-02-03', '2020-02-07', '2018-02-07', '2011-02-09')"
      ]
     },
     "execution_count": 15,
     "metadata": {},
     "output_type": "execute_result"
    }
   ],
   "source": [
    "today_date = str(datetime.datetime.now()).split()[0]\n",
    "three_days_ago = str(datetime.datetime.now() - datetime.timedelta(days=3)).split()[0]\n",
    "\n",
    "one_year_ago = str(datetime.datetime.now() - datetime.timedelta(days=1*365)).split()[0]\n",
    "three_year_ago = str(datetime.datetime.now() - datetime.timedelta(days=3*365)).split()[0]\n",
    "ten_year_ago = str(datetime.datetime.now() - datetime.timedelta(days=10*365)).split()[0]\n",
    "\n",
    "today_date, three_days_ago, one_year_ago, three_year_ago, ten_year_ago"
   ]
  },
  {
   "cell_type": "code",
   "execution_count": 16,
   "metadata": {},
   "outputs": [],
   "source": [
    "use_for_today_date = three_days_ago"
   ]
  },
  {
   "cell_type": "code",
   "execution_count": 17,
   "metadata": {},
   "outputs": [],
   "source": [
    "# Set the tickers for both the bond and stock portion of the portfolio\n",
    "# YOUR CODE HERE\n",
    "tickers = [\"SPY\", \"AGG\"]\n",
    "\n",
    "# Set timeframe to 1D \n",
    "timeframe = \"1D\"\n",
    "\n",
    "# Format current date as ISO format\n",
    "# Set both the start and end date at the date of your prior weekday \n",
    "# This will give you the closing price of the previous trading day\n",
    "# Alternatively you can use a start and end date of 2020-08-07\n",
    "start_date = pd.Timestamp(use_for_today_date, tz=\"America/New_York\").isoformat()\n",
    "end_date = pd.Timestamp(use_for_today_date, tz=\"America/New_York\").isoformat()\n"
   ]
  },
  {
   "cell_type": "markdown",
   "metadata": {},
   "source": [
    "#### Step 4: Get the current closing prices for `SPY` and `AGG` by using the Alpaca `get_barset` function. Format the response as a Pandas DataFrame by including the `df` property at the end of the `get_barset` function."
   ]
  },
  {
   "cell_type": "code",
   "execution_count": 18,
   "metadata": {},
   "outputs": [
    {
     "data": {
      "text/html": [
       "<div>\n",
       "<style scoped>\n",
       "    .dataframe tbody tr th:only-of-type {\n",
       "        vertical-align: middle;\n",
       "    }\n",
       "\n",
       "    .dataframe tbody tr th {\n",
       "        vertical-align: top;\n",
       "    }\n",
       "\n",
       "    .dataframe thead tr th {\n",
       "        text-align: left;\n",
       "    }\n",
       "\n",
       "    .dataframe thead tr:last-of-type th {\n",
       "        text-align: right;\n",
       "    }\n",
       "</style>\n",
       "<table border=\"1\" class=\"dataframe\">\n",
       "  <thead>\n",
       "    <tr>\n",
       "      <th></th>\n",
       "      <th colspan=\"5\" halign=\"left\">AGG</th>\n",
       "      <th colspan=\"5\" halign=\"left\">SPY</th>\n",
       "    </tr>\n",
       "    <tr>\n",
       "      <th></th>\n",
       "      <th>open</th>\n",
       "      <th>high</th>\n",
       "      <th>low</th>\n",
       "      <th>close</th>\n",
       "      <th>volume</th>\n",
       "      <th>open</th>\n",
       "      <th>high</th>\n",
       "      <th>low</th>\n",
       "      <th>close</th>\n",
       "      <th>volume</th>\n",
       "    </tr>\n",
       "    <tr>\n",
       "      <th>time</th>\n",
       "      <th></th>\n",
       "      <th></th>\n",
       "      <th></th>\n",
       "      <th></th>\n",
       "      <th></th>\n",
       "      <th></th>\n",
       "      <th></th>\n",
       "      <th></th>\n",
       "      <th></th>\n",
       "      <th></th>\n",
       "    </tr>\n",
       "  </thead>\n",
       "  <tbody>\n",
       "    <tr>\n",
       "      <th>2021-02-03 00:00:00-05:00</th>\n",
       "      <td>116.97</td>\n",
       "      <td>116.99</td>\n",
       "      <td>116.87</td>\n",
       "      <td>116.89</td>\n",
       "      <td>5060310</td>\n",
       "      <td>382.435</td>\n",
       "      <td>383.7</td>\n",
       "      <td>380.48</td>\n",
       "      <td>381.86</td>\n",
       "      <td>43305661</td>\n",
       "    </tr>\n",
       "  </tbody>\n",
       "</table>\n",
       "</div>"
      ],
      "text/plain": [
       "                              AGG                                       SPY  \\\n",
       "                             open    high     low   close   volume     open   \n",
       "time                                                                          \n",
       "2021-02-03 00:00:00-05:00  116.97  116.99  116.87  116.89  5060310  382.435   \n",
       "\n",
       "                                                            \n",
       "                            high     low   close    volume  \n",
       "time                                                        \n",
       "2021-02-03 00:00:00-05:00  383.7  380.48  381.86  43305661  "
      ]
     },
     "execution_count": 18,
     "metadata": {},
     "output_type": "execute_result"
    }
   ],
   "source": [
    "# Use the Alpaca get_barset function to get current closing prices the portfolio\n",
    "# Be sure to set the `df` property after the function to format the response object as a DataFrame\n",
    "prices_df = alpaca.get_barset(\n",
    "    tickers,\n",
    "    timeframe,\n",
    "    start=start_date,\n",
    "    end=end_date\n",
    ").df\n",
    "\n",
    "# Review the first 5 rows of the Alpaca DataFrame \n",
    "prices_df.head()"
   ]
  },
  {
   "cell_type": "markdown",
   "metadata": {},
   "source": [
    "#### Step 5: Navigating the Alpaca response DataFrame, select the `SPY` and `AGG` closing prices, and store them as variables."
   ]
  },
  {
   "cell_type": "code",
   "execution_count": 19,
   "metadata": {},
   "outputs": [
    {
     "name": "stdout",
     "output_type": "stream",
     "text": [
      "AGG    $ 116.89\n",
      "<class 'float'>\n"
     ]
    }
   ],
   "source": [
    "# Access the closing price for AGG from the Alpaca DataFrame\n",
    "# Converting the value to a floating point number\n",
    "agg_close_price = float(prices_df[\"AGG\"][\"close\"])\n",
    "\n",
    "# Print the AGG closing price\n",
    "print(f\"AGG    ${agg_close_price: .2f}\")\n",
    "print(type(agg_close_price))\n"
   ]
  },
  {
   "cell_type": "code",
   "execution_count": 20,
   "metadata": {},
   "outputs": [
    {
     "name": "stdout",
     "output_type": "stream",
     "text": [
      "SPY    $ 381.86\n",
      "<class 'float'>\n"
     ]
    }
   ],
   "source": [
    "# Access the closing price for SPY from the Alpaca DataFrame\n",
    "# Converting the value to a floating point number\n",
    "spy_close_price = float(prices_df[\"SPY\"][\"close\"])\n",
    "\n",
    "# Print the SPY closing price\n",
    "print(f\"SPY    ${spy_close_price: .2f}\")\n",
    "print(type(spy_close_price)) "
   ]
  },
  {
   "cell_type": "markdown",
   "metadata": {},
   "source": [
    "#### Step 6: Calculate the value, in US dollars, of the current amount of shares in each of the stock and bond portions of the portfolio, and print the results."
   ]
  },
  {
   "cell_type": "code",
   "execution_count": 21,
   "metadata": {},
   "outputs": [
    {
     "name": "stdout",
     "output_type": "stream",
     "text": [
      "Current Value of the Bond Portfolio:            $23,378.00\n"
     ]
    }
   ],
   "source": [
    "# Calculate the current value of the bond portion of the portfolio\n",
    "agg_value = agg_close_price * agg_shares\n",
    "\n",
    "# Print the current value of the bond portfolio\n",
    "print(f\"Current Value of the Bond Portfolio:            ${agg_value:,.2f}\")"
   ]
  },
  {
   "cell_type": "code",
   "execution_count": 22,
   "metadata": {},
   "outputs": [
    {
     "name": "stdout",
     "output_type": "stream",
     "text": [
      "Current Value of the Stock Portfolio:            $42,004.60\n"
     ]
    }
   ],
   "source": [
    "# Calculate the current value of the stock portion of the portfolio\n",
    "spy_value = spy_close_price * spy_shares\n",
    "\n",
    "# Print the current value of the stock portfolio\n",
    "print(f\"Current Value of the Stock Portfolio:            ${spy_value:,.2f}\")"
   ]
  },
  {
   "cell_type": "code",
   "execution_count": 23,
   "metadata": {},
   "outputs": [
    {
     "name": "stdout",
     "output_type": "stream",
     "text": [
      "Total Value of the Stock/Bond Portion of the Portfolio:            $65,382.60\n"
     ]
    }
   ],
   "source": [
    "# Calculate the total value of the stock and bond portion of the portfolio\n",
    "total_stocks_bonds = agg_value + spy_value\n",
    "\n",
    "# Print the current balance of the stock and bond portion of the portfolio\n",
    "print(f\"Total Value of the Stock/Bond Portion of the Portfolio:            ${total_stocks_bonds:,.2f}\")"
   ]
  },
  {
   "cell_type": "code",
   "execution_count": 24,
   "metadata": {},
   "outputs": [
    {
     "name": "stdout",
     "output_type": "stream",
     "text": [
      "Total Value of Entire Portfolio (Stocks/Bonds & Crypto):            $120,021.35\n"
     ]
    }
   ],
   "source": [
    "# Calculate the total value of the member's entire savings portfolio\n",
    "# Add the value of the cryptocurrency walled to the value of the total stocks and bonds\n",
    "total_portfolio = total_crypto_wallet + total_stocks_bonds\n",
    "\n",
    "# Print current cryptocurrency wallet balance\n",
    "# YOUR CODE HERE\n",
    "print(f\"Total Value of Entire Portfolio (Stocks/Bonds & Crypto):            ${total_portfolio:,.2f}\")"
   ]
  },
  {
   "cell_type": "markdown",
   "metadata": {},
   "source": [
    "### Evaluate the Emergency Fund\n",
    "\n",
    "In this section, you’ll use the valuations for the cryptocurrency wallet and for the stock and bond portions of the portfolio to determine if the credit union member has enough savings to build an emergency fund into their financial plan. To do this, complete the following steps:\n",
    "\n",
    "1. Create a Python list named `savings_data` that has two elements. The first element contains the total value of the cryptocurrency wallet. The second element contains the total value of the stock and bond portions of the portfolio.\n",
    "\n",
    "2. Use the `savings_data` list to create a Pandas DataFrame named `savings_df`, and then display this DataFrame. The function to create the DataFrame should take the following three parameters:\n",
    "\n",
    "    - `savings_data`: Use the list that you just created.\n",
    "\n",
    "    - `columns`: Set this parameter equal to a Python list with a single value called `amount`.\n",
    "\n",
    "    - `index`: Set this parameter equal to a Python list with the values of `crypto` and `stock/bond`.\n",
    "\n",
    "3. Use the `savings_df` DataFrame to plot a pie chart that visualizes the composition of the member’s portfolio. The y-axis of the pie chart uses `amount`. Be sure to add a title.\n",
    "\n",
    "4. Using Python, determine if the current portfolio has enough to create an emergency fund as part of the member’s financial plan. Ideally, an emergency fund should equal to three times the member’s monthly income. To do this, implement the following steps:\n",
    "\n",
    "    1. Create a variable named `emergency_fund_value`, and set it equal to three times the value of the member’s `monthly_income` of $12000. (You set this earlier in Part 1).\n",
    "\n",
    "    2. Create a series of three if statements to determine if the member’s total portfolio is large enough to fund the emergency portfolio:\n",
    "\n",
    "        1. If the total portfolio value is greater than the emergency fund value, display a message congratulating the member for having enough money in this fund.\n",
    "\n",
    "        2. Else if the total portfolio value is equal to the emergency fund value, display a message congratulating the member on reaching this important financial goal.\n",
    "\n",
    "        3. Else the total portfolio is less than the emergency fund value, so display a message showing how many dollars away the member is from reaching the goal. (Subtract the total portfolio value from the emergency fund value.)\n"
   ]
  },
  {
   "cell_type": "markdown",
   "metadata": {},
   "source": [
    "#### Step 1: Create a Python list named `savings_data` that has two elements. The first element contains the total value of the cryptocurrency wallet. The second element contains the total value of the stock and bond portions of the portfolio."
   ]
  },
  {
   "cell_type": "code",
   "execution_count": 25,
   "metadata": {},
   "outputs": [
    {
     "data": {
      "text/plain": [
       "['Crypto', 'Stock/Bond', 'Total']"
      ]
     },
     "execution_count": 25,
     "metadata": {},
     "output_type": "execute_result"
    }
   ],
   "source": [
    "# Consolidate financial assets data into a Python list\n",
    "savings_data = [\"Crypto\", \"Stock/Bond\", \"Total\"] \n",
    "\n",
    "# Review the Python list savings_data\n",
    "savings_data    "
   ]
  },
  {
   "cell_type": "markdown",
   "metadata": {},
   "source": [
    "#### Step 2: Use the `savings_data` list to create a Pandas DataFrame named `savings_df`, and then display this DataFrame. The function to create the DataFrame should take the following three parameters:\n",
    "\n",
    "- `savings_data`: Use the list that you just created.\n",
    "\n",
    "- `columns`: Set this parameter equal to a Python list with a single value called `amount`.\n",
    "\n",
    "- `index`: Set this parameter equal to a Python list with the values of `crypto` and `stock/bond`.\n"
   ]
  },
  {
   "cell_type": "code",
   "execution_count": 26,
   "metadata": {},
   "outputs": [
    {
     "data": {
      "text/html": [
       "<div>\n",
       "<style scoped>\n",
       "    .dataframe tbody tr th:only-of-type {\n",
       "        vertical-align: middle;\n",
       "    }\n",
       "\n",
       "    .dataframe tbody tr th {\n",
       "        vertical-align: top;\n",
       "    }\n",
       "\n",
       "    .dataframe thead th {\n",
       "        text-align: right;\n",
       "    }\n",
       "</style>\n",
       "<table border=\"1\" class=\"dataframe\">\n",
       "  <thead>\n",
       "    <tr style=\"text-align: right;\">\n",
       "      <th></th>\n",
       "      <th>Amount</th>\n",
       "    </tr>\n",
       "  </thead>\n",
       "  <tbody>\n",
       "    <tr>\n",
       "      <th>Crypto</th>\n",
       "      <td>54638.747</td>\n",
       "    </tr>\n",
       "    <tr>\n",
       "      <th>Stock/Bond</th>\n",
       "      <td>65382.600</td>\n",
       "    </tr>\n",
       "    <tr>\n",
       "      <th>Total</th>\n",
       "      <td>120021.347</td>\n",
       "    </tr>\n",
       "  </tbody>\n",
       "</table>\n",
       "</div>"
      ],
      "text/plain": [
       "                Amount\n",
       "Crypto       54638.747\n",
       "Stock/Bond   65382.600\n",
       "Total       120021.347"
      ]
     },
     "execution_count": 26,
     "metadata": {},
     "output_type": "execute_result"
    }
   ],
   "source": [
    "# Create a Pandas DataFrame called savings_df \n",
    "savings_df = pd.DataFrame(\n",
    "    {'Amount':[total_crypto_wallet, total_stocks_bonds, total_portfolio]},\n",
    "    index=savings_data\n",
    ")\n",
    "\n",
    "# Display the savings_df DataFrame\n",
    "savings_df"
   ]
  },
  {
   "cell_type": "markdown",
   "metadata": {},
   "source": [
    "#### Step 3: Use the `savings_df` DataFrame to plot a pie chart that visualizes the composition of the member’s portfolio. The y-axis of the pie chart uses `amount`. Be sure to add a title."
   ]
  },
  {
   "cell_type": "code",
   "execution_count": 27,
   "metadata": {},
   "outputs": [
    {
     "data": {
      "text/plain": [
       "<AxesSubplot:title={'center':'Portfolio Composition - Crypto v. Stock/Bond Holdings'}, ylabel='Amount'>"
      ]
     },
     "execution_count": 27,
     "metadata": {},
     "output_type": "execute_result"
    },
    {
     "data": {
      "image/png": "[encoded data removed]",
      "text/plain": [
       "<Figure size 432x288 with 1 Axes>"
      ]
     },
     "metadata": {},
     "output_type": "display_data"
    }
   ],
   "source": [
    "# Plot the total value of the member's portfolio (crypto and stock/bond) in a pie chart\n",
    "savings_df.drop(\"Total\").plot.pie(y='Amount', title='Portfolio Composition - Crypto v. Stock/Bond Holdings')"
   ]
  },
  {
   "cell_type": "markdown",
   "metadata": {},
   "source": [
    "#### Step 4: Using Python, determine if the current portfolio has enough to create an emergency fund as part of the member’s financial plan. Ideally, an emergency fund should equal to three times the member’s monthly income. To do this, implement the following steps:\n",
    "\n",
    "Step 1. Create a variable named `emergency_fund_value`, and set it equal to three times the value of the member’s `monthly_income` of 12000. (You set this earlier in Part 1).\n",
    "\n",
    "Step 2. Create a series of three if statements to determine if the member’s total portfolio is large enough to fund the emergency portfolio:\n",
    "\n",
    "* If the total portfolio value is greater than the emergency fund value, display a message congratulating the member for having enough money in this fund.\n",
    "\n",
    "* Else if the total portfolio value is equal to the emergency fund value, display a message congratulating the member on reaching this important financial goal.\n",
    "\n",
    "* Else the total portfolio is less than the emergency fund value, so display a message showing how many dollars away the member is from reaching the goal. (Subtract the total portfolio value from the emergency fund value.)\n"
   ]
  },
  {
   "cell_type": "markdown",
   "metadata": {},
   "source": [
    "##### Step 4-1: Create a variable named `emergency_fund_value`, and set it equal to three times the value of the member’s `monthly_income` of 12000. (You set this earlier in Part 1)."
   ]
  },
  {
   "cell_type": "code",
   "execution_count": 28,
   "metadata": {},
   "outputs": [
    {
     "data": {
      "text/plain": [
       "36000"
      ]
     },
     "execution_count": 28,
     "metadata": {},
     "output_type": "execute_result"
    }
   ],
   "source": [
    "# reserve_months = 3\n",
    "\n",
    "# Create a variable named emergency_fund_value\n",
    "emergency_fund_value = monthly_income * reserve_months\n",
    "\n",
    "emergency_fund_value"
   ]
  },
  {
   "cell_type": "markdown",
   "metadata": {},
   "source": [
    "##### Step 4-2: Create a series of three if statements to determine if the member’s total portfolio is large enough to fund the emergency portfolio:\n",
    "\n",
    "* If the total portfolio value is greater than the emergency fund value, display a message congratulating the member for having enough money in this fund.\n",
    "\n",
    "* Else if the total portfolio value is equal to the emergency fund value, display a message congratulating the member on reaching this important financial goal.\n",
    "\n",
    "* Else the total portfolio is less than the emergency fund value, so display a message showing how many dollars away the member is from reaching the goal. (Subtract the total portfolio value from the emergency fund value.)"
   ]
  },
  {
   "cell_type": "code",
   "execution_count": 29,
   "metadata": {},
   "outputs": [
    {
     "name": "stdout",
     "output_type": "stream",
     "text": [
      "Congratulations!!! You have saved enough in this fund for your goal of a 3 month reserve, plus an additional 7.00 months.\n"
     ]
    }
   ],
   "source": [
    "# Evaluate the possibility of creating an emergency fund with 3 conditions:\n",
    "if total_portfolio > emergency_fund_value:\n",
    "    print(f\"Congratulations!!! You have saved enough in this fund for your goal of a {reserve_months} month reserve, plus an additional {((total_portfolio / monthly_income) - reserve_months):,.2f} months.\")\n",
    "if total_portfolio == emergency_fund_value: \n",
    "    print(f\"Great Work!! You've reached this important financial goal of having a {reserve_months} month reserve.\")\n",
    "if total_portfolio < emergency_fund_value:\n",
    "    print(f\"Way to go! Only ${(emergency_fund_value - total_portfolio):,.2f} away from reaching your goal of having {reserve_months} months' expenses for an emergency fund.\")"
   ]
  },
  {
   "cell_type": "markdown",
   "metadata": {},
   "source": [
    "## Part 2: Create a Financial Planner for Retirement"
   ]
  },
  {
   "cell_type": "markdown",
   "metadata": {},
   "source": [
    "### Create the Monte Carlo Simulation\n",
    "\n",
    "In this section, you’ll use the MCForecastTools library to create a Monte Carlo simulation for the member’s savings portfolio. To do this, complete the following steps:\n",
    "\n",
    "1. Make an API call via the Alpaca SDK to get 10 years of historical closing prices for a traditional 60/40 portfolio split: 60% stocks (SPY) and 40% bonds (AGG).\n",
    "\n",
    "2. Run a Monte Carlo simulation of 500 samples and 30 years for the 60/40 portfolio, and then plot the results.The following image shows the overlay line plot resulting from a simulation with these characteristics. However, because a random number generator is used to run each live Monte Carlo simulation, your image will differ slightly from this exact image:\n",
    "\n",
    "![A screenshot depicts the resulting plot.](Images/5-4-monte-carlo-line-plot.png)\n",
    "\n",
    "3. Plot the probability distribution of the Monte Carlo simulation. Plot the probability distribution of the Monte Carlo simulation. The following image shows the histogram plot resulting from a simulation with these characteristics. However, because a random number generator is used to run each live Monte Carlo simulation, your image will differ slightly from this exact image:\n",
    "\n",
    "![A screenshot depicts the histogram plot.](Images/5-4-monte-carlo-histogram.png)\n",
    "\n",
    "4. Generate the summary statistics for the Monte Carlo simulation.\n",
    "\n"
   ]
  },
  {
   "cell_type": "markdown",
   "metadata": {},
   "source": [
    "#### Step 1: Make an API call via the Alpaca SDK to get 10 years of historical closing prices for a traditional 60/40 portfolio split: 60% stocks (SPY) and 40% bonds (AGG)."
   ]
  },
  {
   "cell_type": "code",
   "execution_count": 30,
   "metadata": {},
   "outputs": [
    {
     "data": {
      "text/plain": [
       "'2011-02-09T00:00:00-05:00'"
      ]
     },
     "execution_count": 30,
     "metadata": {},
     "output_type": "execute_result"
    }
   ],
   "source": [
    "### Set start and end dates of 10 years back from your current date\n",
    "### Alternatively, you can use an end date of 2020-08-07 and work 10 years back from that date \n",
    "start_date_ten = pd.Timestamp(ten_year_ago, tz=\"America/New_York\").isoformat()\n",
    "end_date = pd.Timestamp(use_for_today_date, tz=\"America/New_York\").isoformat()\n",
    "\n",
    "start_date_ten"
   ]
  },
  {
   "cell_type": "code",
   "execution_count": 41,
   "metadata": {},
   "outputs": [],
   "source": [
    "### Set start and end dates of 10 years back from your current date\n",
    "### Alternatively, you can use an end date of 2020-08-07 and work 10 years back from that date \n",
    "#start_date = pd.Timestamp(\"2011-01-26\", tz=\"America/New_York\").isoformat()\n",
    "#end_date = pd.Timestamp(use_for_today_date, tz=\"America/New_York\").isoformat()\n",
    "\n",
    "\n",
    "#start_date\n",
    "## today_date = str(datetime.datetime.now()).split()[0]\n",
    "## one_year_ago = str(datetime.datetime.now() - datetime.timedelta(days=1*365)).split()[0]\n",
    "## three_year_ago = str(datetime.datetime.now() - datetime.timedelta(days=3*365)).split()[0]"
   ]
  },
  {
   "cell_type": "code",
   "execution_count": 31,
   "metadata": {},
   "outputs": [
    {
     "name": "stdout",
     "output_type": "stream",
     "text": [
      "2011-02-09T00:00:00-05:00\n",
      "                                AGG                                     \\\n",
      "                               open     high     low   close    volume   \n",
      "time                                                                     \n",
      "2020-09-11 00:00:00-04:00  118.4200  118.490  118.24  118.36  11853287   \n",
      "2020-09-14 00:00:00-04:00  118.4700  118.490  118.31  118.37  11222770   \n",
      "2020-09-15 00:00:00-04:00  118.2900  118.425  118.29  118.38   3635547   \n",
      "2020-09-16 00:00:00-04:00  118.5300  118.530  118.20  118.32   5190572   \n",
      "2020-09-17 00:00:00-04:00  118.4201  118.520  118.33  118.36   4263541   \n",
      "\n",
      "                              SPY                                         \n",
      "                             open      high       low   close     volume  \n",
      "time                                                                      \n",
      "2020-09-11 00:00:00-04:00  335.82  336.9700  331.0000  334.08  140223556  \n",
      "2020-09-14 00:00:00-04:00  337.49  340.3800  334.2208  338.42  109684157  \n",
      "2020-09-15 00:00:00-04:00  341.12  342.0200  338.4683  340.15   43980284  \n",
      "2020-09-16 00:00:00-04:00  341.51  343.0600  338.5200  338.81   70521698  \n",
      "2020-09-17 00:00:00-04:00  333.56  337.6996  332.9910  335.86   80778657  \n",
      "                                AGG                                     \\\n",
      "                               open    high       low   close   volume   \n",
      "time                                                                     \n",
      "2021-01-28 00:00:00-05:00  117.4800  117.49  117.2900  117.43  4440895   \n",
      "2021-01-29 00:00:00-05:00  117.1563  117.40  116.5625  117.32  7119889   \n",
      "2021-02-01 00:00:00-05:00  117.2000  117.26  117.0915  117.21  5469814   \n",
      "2021-02-02 00:00:00-05:00  116.9900  117.09  116.9700  117.05  4694446   \n",
      "2021-02-03 00:00:00-05:00  116.9700  116.99  116.8700  116.89  5060310   \n",
      "\n",
      "                               SPY                                       \n",
      "                              open    high       low   close     volume  \n",
      "time                                                                     \n",
      "2021-01-28 00:00:00-05:00  376.360  381.93  375.8900  377.60   75229306  \n",
      "2021-01-29 00:00:00-05:00  375.630  376.67  368.2700  370.19  106397082  \n",
      "2021-02-01 00:00:00-05:00  373.720  377.34  370.3760  376.18   64056510  \n",
      "2021-02-02 00:00:00-05:00  379.650  383.22  376.3181  381.54   53979346  \n",
      "2021-02-03 00:00:00-05:00  382.435  383.70  380.4800  381.86   43305661  \n"
     ]
    }
   ],
   "source": [
    "# Use the Alpaca get_barset function to make the API call to get the 10 years worth of pricing data\n",
    "# The tickers and timeframe parameters should have been set in Part 1 of this activity \n",
    "# The start and end dates should be updated with the information set above\n",
    "# Remember to add the df property to the end of the call so the response is returned as a DataFrame\n",
    "prices_df = alpaca.get_barset(\n",
    "    tickers,\n",
    "    timeframe,\n",
    "    start=start_date_ten,\n",
    "    end=end_date\n",
    ").df\n",
    "\n",
    "# Display both the first and last five rows of the DataFrame\n",
    "print(start_date_ten)\n",
    "print(prices_df.head())\n",
    "print(prices_df.tail())"
   ]
  },
  {
   "cell_type": "markdown",
   "metadata": {},
   "source": [
    "#### Step 2: Run a Monte Carlo simulation of 500 samples and 30 years for the 60/40 portfolio, and then plot the results."
   ]
  },
  {
   "cell_type": "code",
   "execution_count": 43,
   "metadata": {},
   "outputs": [
    {
     "data": {
      "text/html": [
       "<div>\n",
       "<style scoped>\n",
       "    .dataframe tbody tr th:only-of-type {\n",
       "        vertical-align: middle;\n",
       "    }\n",
       "\n",
       "    .dataframe tbody tr th {\n",
       "        vertical-align: top;\n",
       "    }\n",
       "\n",
       "    .dataframe thead tr th {\n",
       "        text-align: left;\n",
       "    }\n",
       "\n",
       "    .dataframe thead tr:last-of-type th {\n",
       "        text-align: right;\n",
       "    }\n",
       "</style>\n",
       "<table border=\"1\" class=\"dataframe\">\n",
       "  <thead>\n",
       "    <tr>\n",
       "      <th></th>\n",
       "      <th colspan=\"6\" halign=\"left\">AGG</th>\n",
       "      <th colspan=\"6\" halign=\"left\">SPY</th>\n",
       "    </tr>\n",
       "    <tr>\n",
       "      <th></th>\n",
       "      <th>open</th>\n",
       "      <th>high</th>\n",
       "      <th>low</th>\n",
       "      <th>close</th>\n",
       "      <th>volume</th>\n",
       "      <th>daily_return</th>\n",
       "      <th>open</th>\n",
       "      <th>high</th>\n",
       "      <th>low</th>\n",
       "      <th>close</th>\n",
       "      <th>volume</th>\n",
       "      <th>daily_return</th>\n",
       "    </tr>\n",
       "    <tr>\n",
       "      <th>time</th>\n",
       "      <th></th>\n",
       "      <th></th>\n",
       "      <th></th>\n",
       "      <th></th>\n",
       "      <th></th>\n",
       "      <th></th>\n",
       "      <th></th>\n",
       "      <th></th>\n",
       "      <th></th>\n",
       "      <th></th>\n",
       "      <th></th>\n",
       "      <th></th>\n",
       "    </tr>\n",
       "  </thead>\n",
       "  <tbody>\n",
       "    <tr>\n",
       "      <th>2020-09-11 00:00:00-04:00</th>\n",
       "      <td>118.4200</td>\n",
       "      <td>118.490</td>\n",
       "      <td>118.24</td>\n",
       "      <td>118.36</td>\n",
       "      <td>11853287</td>\n",
       "      <td>NaN</td>\n",
       "      <td>335.82</td>\n",
       "      <td>336.9700</td>\n",
       "      <td>331.0000</td>\n",
       "      <td>334.08</td>\n",
       "      <td>140223556</td>\n",
       "      <td>NaN</td>\n",
       "    </tr>\n",
       "    <tr>\n",
       "      <th>2020-09-14 00:00:00-04:00</th>\n",
       "      <td>118.4700</td>\n",
       "      <td>118.490</td>\n",
       "      <td>118.31</td>\n",
       "      <td>118.37</td>\n",
       "      <td>11222770</td>\n",
       "      <td>0.000084</td>\n",
       "      <td>337.49</td>\n",
       "      <td>340.3800</td>\n",
       "      <td>334.2208</td>\n",
       "      <td>338.42</td>\n",
       "      <td>109684157</td>\n",
       "      <td>0.012991</td>\n",
       "    </tr>\n",
       "    <tr>\n",
       "      <th>2020-09-15 00:00:00-04:00</th>\n",
       "      <td>118.2900</td>\n",
       "      <td>118.425</td>\n",
       "      <td>118.29</td>\n",
       "      <td>118.38</td>\n",
       "      <td>3635547</td>\n",
       "      <td>0.000084</td>\n",
       "      <td>341.12</td>\n",
       "      <td>342.0200</td>\n",
       "      <td>338.4683</td>\n",
       "      <td>340.15</td>\n",
       "      <td>43980284</td>\n",
       "      <td>0.005112</td>\n",
       "    </tr>\n",
       "    <tr>\n",
       "      <th>2020-09-16 00:00:00-04:00</th>\n",
       "      <td>118.5300</td>\n",
       "      <td>118.530</td>\n",
       "      <td>118.20</td>\n",
       "      <td>118.32</td>\n",
       "      <td>5190572</td>\n",
       "      <td>-0.000507</td>\n",
       "      <td>341.51</td>\n",
       "      <td>343.0600</td>\n",
       "      <td>338.5200</td>\n",
       "      <td>338.81</td>\n",
       "      <td>70521698</td>\n",
       "      <td>-0.003939</td>\n",
       "    </tr>\n",
       "    <tr>\n",
       "      <th>2020-09-17 00:00:00-04:00</th>\n",
       "      <td>118.4201</td>\n",
       "      <td>118.520</td>\n",
       "      <td>118.33</td>\n",
       "      <td>118.36</td>\n",
       "      <td>4263541</td>\n",
       "      <td>0.000338</td>\n",
       "      <td>333.56</td>\n",
       "      <td>337.6996</td>\n",
       "      <td>332.9910</td>\n",
       "      <td>335.86</td>\n",
       "      <td>80778657</td>\n",
       "      <td>-0.008707</td>\n",
       "    </tr>\n",
       "  </tbody>\n",
       "</table>\n",
       "</div>"
      ],
      "text/plain": [
       "                                AGG                                     \\\n",
       "                               open     high     low   close    volume   \n",
       "time                                                                     \n",
       "2020-09-11 00:00:00-04:00  118.4200  118.490  118.24  118.36  11853287   \n",
       "2020-09-14 00:00:00-04:00  118.4700  118.490  118.31  118.37  11222770   \n",
       "2020-09-15 00:00:00-04:00  118.2900  118.425  118.29  118.38   3635547   \n",
       "2020-09-16 00:00:00-04:00  118.5300  118.530  118.20  118.32   5190572   \n",
       "2020-09-17 00:00:00-04:00  118.4201  118.520  118.33  118.36   4263541   \n",
       "\n",
       "                                           SPY                              \\\n",
       "                          daily_return    open      high       low   close   \n",
       "time                                                                         \n",
       "2020-09-11 00:00:00-04:00          NaN  335.82  336.9700  331.0000  334.08   \n",
       "2020-09-14 00:00:00-04:00     0.000084  337.49  340.3800  334.2208  338.42   \n",
       "2020-09-15 00:00:00-04:00     0.000084  341.12  342.0200  338.4683  340.15   \n",
       "2020-09-16 00:00:00-04:00    -0.000507  341.51  343.0600  338.5200  338.81   \n",
       "2020-09-17 00:00:00-04:00     0.000338  333.56  337.6996  332.9910  335.86   \n",
       "\n",
       "                                                   \n",
       "                              volume daily_return  \n",
       "time                                               \n",
       "2020-09-11 00:00:00-04:00  140223556          NaN  \n",
       "2020-09-14 00:00:00-04:00  109684157     0.012991  \n",
       "2020-09-15 00:00:00-04:00   43980284     0.005112  \n",
       "2020-09-16 00:00:00-04:00   70521698    -0.003939  \n",
       "2020-09-17 00:00:00-04:00   80778657    -0.008707  "
      ]
     },
     "execution_count": 43,
     "metadata": {},
     "output_type": "execute_result"
    }
   ],
   "source": [
    "# Configure the Monte Carlo simulation to forecast 30 years cumulative returns\n",
    "# The weights should be split 40% to AGG and 60% to SPY.\n",
    "# Run 500 samples.\n",
    "MC_trad_weight = MCSimulation(\n",
    "    portfolio_data = prices_df,\n",
    "    weights = [.60,.40],\n",
    "    num_simulation = 500,\n",
    "    num_trading_days = 252*30\n",
    ")\n",
    "\n",
    "# Review the simulation input data\n",
    "MC_trad_weight.portfolio_data.head()\n"
   ]
  },
  {
   "cell_type": "code",
   "execution_count": 44,
   "metadata": {},
   "outputs": [
    {
     "name": "stdout",
     "output_type": "stream",
     "text": [
      "Running Monte Carlo simulation number 0.\n",
      "Running Monte Carlo simulation number 10.\n",
      "Running Monte Carlo simulation number 20.\n",
      "Running Monte Carlo simulation number 30.\n",
      "Running Monte Carlo simulation number 40.\n",
      "Running Monte Carlo simulation number 50.\n",
      "Running Monte Carlo simulation number 60.\n",
      "Running Monte Carlo simulation number 70.\n",
      "Running Monte Carlo simulation number 80.\n",
      "Running Monte Carlo simulation number 90.\n",
      "Running Monte Carlo simulation number 100.\n",
      "Running Monte Carlo simulation number 110.\n",
      "Running Monte Carlo simulation number 120.\n",
      "Running Monte Carlo simulation number 130.\n",
      "Running Monte Carlo simulation number 140.\n",
      "Running Monte Carlo simulation number 150.\n",
      "Running Monte Carlo simulation number 160.\n",
      "Running Monte Carlo simulation number 170.\n",
      "Running Monte Carlo simulation number 180.\n",
      "Running Monte Carlo simulation number 190.\n",
      "Running Monte Carlo simulation number 200.\n",
      "Running Monte Carlo simulation number 210.\n",
      "Running Monte Carlo simulation number 220.\n",
      "Running Monte Carlo simulation number 230.\n",
      "Running Monte Carlo simulation number 240.\n",
      "Running Monte Carlo simulation number 250.\n",
      "Running Monte Carlo simulation number 260.\n",
      "Running Monte Carlo simulation number 270.\n",
      "Running Monte Carlo simulation number 280.\n",
      "Running Monte Carlo simulation number 290.\n",
      "Running Monte Carlo simulation number 300.\n",
      "Running Monte Carlo simulation number 310.\n",
      "Running Monte Carlo simulation number 320.\n",
      "Running Monte Carlo simulation number 330.\n",
      "Running Monte Carlo simulation number 340.\n",
      "Running Monte Carlo simulation number 350.\n",
      "Running Monte Carlo simulation number 360.\n",
      "Running Monte Carlo simulation number 370.\n",
      "Running Monte Carlo simulation number 380.\n",
      "Running Monte Carlo simulation number 390.\n",
      "Running Monte Carlo simulation number 400.\n",
      "Running Monte Carlo simulation number 410.\n",
      "Running Monte Carlo simulation number 420.\n",
      "Running Monte Carlo simulation number 430.\n",
      "Running Monte Carlo simulation number 440.\n",
      "Running Monte Carlo simulation number 450.\n",
      "Running Monte Carlo simulation number 460.\n",
      "Running Monte Carlo simulation number 470.\n",
      "Running Monte Carlo simulation number 480.\n",
      "Running Monte Carlo simulation number 490.\n"
     ]
    },
    {
     "data": {
      "text/html": [
       "<div>\n",
       "<style scoped>\n",
       "    .dataframe tbody tr th:only-of-type {\n",
       "        vertical-align: middle;\n",
       "    }\n",
       "\n",
       "    .dataframe tbody tr th {\n",
       "        vertical-align: top;\n",
       "    }\n",
       "\n",
       "    .dataframe thead th {\n",
       "        text-align: right;\n",
       "    }\n",
       "</style>\n",
       "<table border=\"1\" class=\"dataframe\">\n",
       "  <thead>\n",
       "    <tr style=\"text-align: right;\">\n",
       "      <th></th>\n",
       "      <th>0</th>\n",
       "      <th>1</th>\n",
       "      <th>2</th>\n",
       "      <th>3</th>\n",
       "      <th>4</th>\n",
       "      <th>5</th>\n",
       "      <th>6</th>\n",
       "      <th>7</th>\n",
       "      <th>8</th>\n",
       "      <th>9</th>\n",
       "      <th>...</th>\n",
       "      <th>490</th>\n",
       "      <th>491</th>\n",
       "      <th>492</th>\n",
       "      <th>493</th>\n",
       "      <th>494</th>\n",
       "      <th>495</th>\n",
       "      <th>496</th>\n",
       "      <th>497</th>\n",
       "      <th>498</th>\n",
       "      <th>499</th>\n",
       "    </tr>\n",
       "  </thead>\n",
       "  <tbody>\n",
       "    <tr>\n",
       "      <th>0</th>\n",
       "      <td>1.000000</td>\n",
       "      <td>1.000000</td>\n",
       "      <td>1.000000</td>\n",
       "      <td>1.000000</td>\n",
       "      <td>1.000000</td>\n",
       "      <td>1.000000</td>\n",
       "      <td>1.000000</td>\n",
       "      <td>1.000000</td>\n",
       "      <td>1.000000</td>\n",
       "      <td>1.000000</td>\n",
       "      <td>...</td>\n",
       "      <td>1.000000</td>\n",
       "      <td>1.000000</td>\n",
       "      <td>1.000000</td>\n",
       "      <td>1.000000</td>\n",
       "      <td>1.000000</td>\n",
       "      <td>1.000000</td>\n",
       "      <td>1.000000</td>\n",
       "      <td>1.000000</td>\n",
       "      <td>1.000000</td>\n",
       "      <td>1.000000</td>\n",
       "    </tr>\n",
       "    <tr>\n",
       "      <th>1</th>\n",
       "      <td>1.008606</td>\n",
       "      <td>0.996157</td>\n",
       "      <td>1.001465</td>\n",
       "      <td>0.997316</td>\n",
       "      <td>1.005848</td>\n",
       "      <td>1.001685</td>\n",
       "      <td>1.006691</td>\n",
       "      <td>1.000168</td>\n",
       "      <td>0.997950</td>\n",
       "      <td>0.999979</td>\n",
       "      <td>...</td>\n",
       "      <td>1.001552</td>\n",
       "      <td>0.998384</td>\n",
       "      <td>1.001861</td>\n",
       "      <td>1.003439</td>\n",
       "      <td>0.996901</td>\n",
       "      <td>0.995971</td>\n",
       "      <td>1.001210</td>\n",
       "      <td>1.003796</td>\n",
       "      <td>1.001025</td>\n",
       "      <td>0.995694</td>\n",
       "    </tr>\n",
       "    <tr>\n",
       "      <th>2</th>\n",
       "      <td>1.009683</td>\n",
       "      <td>0.995300</td>\n",
       "      <td>1.004575</td>\n",
       "      <td>0.994549</td>\n",
       "      <td>1.007222</td>\n",
       "      <td>1.003501</td>\n",
       "      <td>1.010129</td>\n",
       "      <td>0.997905</td>\n",
       "      <td>0.997646</td>\n",
       "      <td>1.001110</td>\n",
       "      <td>...</td>\n",
       "      <td>1.008912</td>\n",
       "      <td>0.998231</td>\n",
       "      <td>1.010886</td>\n",
       "      <td>1.002067</td>\n",
       "      <td>0.993371</td>\n",
       "      <td>0.994205</td>\n",
       "      <td>1.001437</td>\n",
       "      <td>0.993540</td>\n",
       "      <td>0.993848</td>\n",
       "      <td>0.998304</td>\n",
       "    </tr>\n",
       "    <tr>\n",
       "      <th>3</th>\n",
       "      <td>1.015621</td>\n",
       "      <td>0.996160</td>\n",
       "      <td>1.003972</td>\n",
       "      <td>0.991902</td>\n",
       "      <td>1.011626</td>\n",
       "      <td>1.001219</td>\n",
       "      <td>1.009377</td>\n",
       "      <td>1.003477</td>\n",
       "      <td>0.999312</td>\n",
       "      <td>1.002276</td>\n",
       "      <td>...</td>\n",
       "      <td>1.003852</td>\n",
       "      <td>1.001933</td>\n",
       "      <td>1.015514</td>\n",
       "      <td>1.000385</td>\n",
       "      <td>0.993435</td>\n",
       "      <td>0.999576</td>\n",
       "      <td>1.000931</td>\n",
       "      <td>1.002316</td>\n",
       "      <td>0.994722</td>\n",
       "      <td>0.994737</td>\n",
       "    </tr>\n",
       "    <tr>\n",
       "      <th>4</th>\n",
       "      <td>1.022039</td>\n",
       "      <td>0.997133</td>\n",
       "      <td>1.004957</td>\n",
       "      <td>0.994441</td>\n",
       "      <td>1.014622</td>\n",
       "      <td>0.997913</td>\n",
       "      <td>1.009920</td>\n",
       "      <td>0.997531</td>\n",
       "      <td>0.995603</td>\n",
       "      <td>1.009561</td>\n",
       "      <td>...</td>\n",
       "      <td>1.006094</td>\n",
       "      <td>1.002254</td>\n",
       "      <td>1.016852</td>\n",
       "      <td>1.008273</td>\n",
       "      <td>1.001231</td>\n",
       "      <td>1.001081</td>\n",
       "      <td>1.004098</td>\n",
       "      <td>1.012052</td>\n",
       "      <td>0.989064</td>\n",
       "      <td>0.994977</td>\n",
       "    </tr>\n",
       "    <tr>\n",
       "      <th>...</th>\n",
       "      <td>...</td>\n",
       "      <td>...</td>\n",
       "      <td>...</td>\n",
       "      <td>...</td>\n",
       "      <td>...</td>\n",
       "      <td>...</td>\n",
       "      <td>...</td>\n",
       "      <td>...</td>\n",
       "      <td>...</td>\n",
       "      <td>...</td>\n",
       "      <td>...</td>\n",
       "      <td>...</td>\n",
       "      <td>...</td>\n",
       "      <td>...</td>\n",
       "      <td>...</td>\n",
       "      <td>...</td>\n",
       "      <td>...</td>\n",
       "      <td>...</td>\n",
       "      <td>...</td>\n",
       "      <td>...</td>\n",
       "      <td>...</td>\n",
       "    </tr>\n",
       "    <tr>\n",
       "      <th>7556</th>\n",
       "      <td>19.730557</td>\n",
       "      <td>24.461253</td>\n",
       "      <td>13.218029</td>\n",
       "      <td>40.386034</td>\n",
       "      <td>25.112428</td>\n",
       "      <td>63.396544</td>\n",
       "      <td>56.668033</td>\n",
       "      <td>25.785305</td>\n",
       "      <td>53.752078</td>\n",
       "      <td>37.612310</td>\n",
       "      <td>...</td>\n",
       "      <td>45.214307</td>\n",
       "      <td>62.075836</td>\n",
       "      <td>22.718426</td>\n",
       "      <td>76.627681</td>\n",
       "      <td>56.082230</td>\n",
       "      <td>31.012272</td>\n",
       "      <td>41.355502</td>\n",
       "      <td>31.469294</td>\n",
       "      <td>33.994865</td>\n",
       "      <td>74.799909</td>\n",
       "    </tr>\n",
       "    <tr>\n",
       "      <th>7557</th>\n",
       "      <td>19.660633</td>\n",
       "      <td>24.522502</td>\n",
       "      <td>13.146159</td>\n",
       "      <td>40.378813</td>\n",
       "      <td>25.076251</td>\n",
       "      <td>63.476567</td>\n",
       "      <td>56.696577</td>\n",
       "      <td>25.765976</td>\n",
       "      <td>53.708700</td>\n",
       "      <td>37.511608</td>\n",
       "      <td>...</td>\n",
       "      <td>45.520250</td>\n",
       "      <td>62.038945</td>\n",
       "      <td>22.879059</td>\n",
       "      <td>77.402137</td>\n",
       "      <td>56.184594</td>\n",
       "      <td>31.127842</td>\n",
       "      <td>41.340136</td>\n",
       "      <td>31.188413</td>\n",
       "      <td>33.887186</td>\n",
       "      <td>74.816355</td>\n",
       "    </tr>\n",
       "    <tr>\n",
       "      <th>7558</th>\n",
       "      <td>19.632196</td>\n",
       "      <td>24.469119</td>\n",
       "      <td>13.156355</td>\n",
       "      <td>40.616446</td>\n",
       "      <td>25.114683</td>\n",
       "      <td>63.395289</td>\n",
       "      <td>56.112268</td>\n",
       "      <td>25.936767</td>\n",
       "      <td>53.361202</td>\n",
       "      <td>37.197327</td>\n",
       "      <td>...</td>\n",
       "      <td>45.373835</td>\n",
       "      <td>62.361687</td>\n",
       "      <td>22.981046</td>\n",
       "      <td>77.956616</td>\n",
       "      <td>56.197601</td>\n",
       "      <td>31.194111</td>\n",
       "      <td>41.130819</td>\n",
       "      <td>31.169977</td>\n",
       "      <td>34.097652</td>\n",
       "      <td>75.028835</td>\n",
       "    </tr>\n",
       "    <tr>\n",
       "      <th>7559</th>\n",
       "      <td>19.609723</td>\n",
       "      <td>24.258575</td>\n",
       "      <td>13.116959</td>\n",
       "      <td>40.569797</td>\n",
       "      <td>25.221645</td>\n",
       "      <td>63.178539</td>\n",
       "      <td>56.121684</td>\n",
       "      <td>25.957026</td>\n",
       "      <td>53.230814</td>\n",
       "      <td>37.505749</td>\n",
       "      <td>...</td>\n",
       "      <td>45.232672</td>\n",
       "      <td>62.424364</td>\n",
       "      <td>22.886396</td>\n",
       "      <td>78.032540</td>\n",
       "      <td>56.126247</td>\n",
       "      <td>31.230067</td>\n",
       "      <td>41.414971</td>\n",
       "      <td>31.006202</td>\n",
       "      <td>34.219493</td>\n",
       "      <td>74.918941</td>\n",
       "    </tr>\n",
       "    <tr>\n",
       "      <th>7560</th>\n",
       "      <td>19.577461</td>\n",
       "      <td>24.306225</td>\n",
       "      <td>13.241124</td>\n",
       "      <td>40.917740</td>\n",
       "      <td>25.168270</td>\n",
       "      <td>63.510530</td>\n",
       "      <td>56.385699</td>\n",
       "      <td>26.027711</td>\n",
       "      <td>53.049796</td>\n",
       "      <td>37.291673</td>\n",
       "      <td>...</td>\n",
       "      <td>45.433995</td>\n",
       "      <td>62.484360</td>\n",
       "      <td>22.872799</td>\n",
       "      <td>78.040074</td>\n",
       "      <td>56.315935</td>\n",
       "      <td>31.213906</td>\n",
       "      <td>41.436720</td>\n",
       "      <td>31.154265</td>\n",
       "      <td>34.285429</td>\n",
       "      <td>74.950053</td>\n",
       "    </tr>\n",
       "  </tbody>\n",
       "</table>\n",
       "<p>7561 rows × 500 columns</p>\n",
       "</div>"
      ],
      "text/plain": [
       "            0          1          2          3          4          5    \\\n",
       "0      1.000000   1.000000   1.000000   1.000000   1.000000   1.000000   \n",
       "1      1.008606   0.996157   1.001465   0.997316   1.005848   1.001685   \n",
       "2      1.009683   0.995300   1.004575   0.994549   1.007222   1.003501   \n",
       "3      1.015621   0.996160   1.003972   0.991902   1.011626   1.001219   \n",
       "4      1.022039   0.997133   1.004957   0.994441   1.014622   0.997913   \n",
       "...         ...        ...        ...        ...        ...        ...   \n",
       "7556  19.730557  24.461253  13.218029  40.386034  25.112428  63.396544   \n",
       "7557  19.660633  24.522502  13.146159  40.378813  25.076251  63.476567   \n",
       "7558  19.632196  24.469119  13.156355  40.616446  25.114683  63.395289   \n",
       "7559  19.609723  24.258575  13.116959  40.569797  25.221645  63.178539   \n",
       "7560  19.577461  24.306225  13.241124  40.917740  25.168270  63.510530   \n",
       "\n",
       "            6          7          8          9    ...        490        491  \\\n",
       "0      1.000000   1.000000   1.000000   1.000000  ...   1.000000   1.000000   \n",
       "1      1.006691   1.000168   0.997950   0.999979  ...   1.001552   0.998384   \n",
       "2      1.010129   0.997905   0.997646   1.001110  ...   1.008912   0.998231   \n",
       "3      1.009377   1.003477   0.999312   1.002276  ...   1.003852   1.001933   \n",
       "4      1.009920   0.997531   0.995603   1.009561  ...   1.006094   1.002254   \n",
       "...         ...        ...        ...        ...  ...        ...        ...   \n",
       "7556  56.668033  25.785305  53.752078  37.612310  ...  45.214307  62.075836   \n",
       "7557  56.696577  25.765976  53.708700  37.511608  ...  45.520250  62.038945   \n",
       "7558  56.112268  25.936767  53.361202  37.197327  ...  45.373835  62.361687   \n",
       "7559  56.121684  25.957026  53.230814  37.505749  ...  45.232672  62.424364   \n",
       "7560  56.385699  26.027711  53.049796  37.291673  ...  45.433995  62.484360   \n",
       "\n",
       "            492        493        494        495        496        497  \\\n",
       "0      1.000000   1.000000   1.000000   1.000000   1.000000   1.000000   \n",
       "1      1.001861   1.003439   0.996901   0.995971   1.001210   1.003796   \n",
       "2      1.010886   1.002067   0.993371   0.994205   1.001437   0.993540   \n",
       "3      1.015514   1.000385   0.993435   0.999576   1.000931   1.002316   \n",
       "4      1.016852   1.008273   1.001231   1.001081   1.004098   1.012052   \n",
       "...         ...        ...        ...        ...        ...        ...   \n",
       "7556  22.718426  76.627681  56.082230  31.012272  41.355502  31.469294   \n",
       "7557  22.879059  77.402137  56.184594  31.127842  41.340136  31.188413   \n",
       "7558  22.981046  77.956616  56.197601  31.194111  41.130819  31.169977   \n",
       "7559  22.886396  78.032540  56.126247  31.230067  41.414971  31.006202   \n",
       "7560  22.872799  78.040074  56.315935  31.213906  41.436720  31.154265   \n",
       "\n",
       "            498        499  \n",
       "0      1.000000   1.000000  \n",
       "1      1.001025   0.995694  \n",
       "2      0.993848   0.998304  \n",
       "3      0.994722   0.994737  \n",
       "4      0.989064   0.994977  \n",
       "...         ...        ...  \n",
       "7556  33.994865  74.799909  \n",
       "7557  33.887186  74.816355  \n",
       "7558  34.097652  75.028835  \n",
       "7559  34.219493  74.918941  \n",
       "7560  34.285429  74.950053  \n",
       "\n",
       "[7561 rows x 500 columns]"
      ]
     },
     "execution_count": 44,
     "metadata": {},
     "output_type": "execute_result"
    }
   ],
   "source": [
    "# Run the Monte Carlo simulation to forecast 30 years cumulative returns\n",
    "MC_trad_weight.calc_cumulative_return()\n"
   ]
  },
  {
   "cell_type": "code",
   "execution_count": 45,
   "metadata": {},
   "outputs": [
    {
     "data": {
      "image/png": "[encoded data removed]",
      "text/plain": [
       "<Figure size 432x288 with 1 Axes>"
      ]
     },
     "metadata": {
      "needs_background": "light"
     },
     "output_type": "display_data"
    }
   ],
   "source": [
    "# Visualize the 30-year Monte Carlo simulation by creating an\n",
    "# overlay line plot\n",
    "trad_weight_line_plot = MC_trad_weight.plot_simulation()\n",
    "\n",
    "# Save the plot for future use\n",
    "# trad_weight_line_plot.get_figure().savefig(\"MC_trad_weight_line_plot.png\", bbox_inches=\"tight\")"
   ]
  },
  {
   "cell_type": "markdown",
   "metadata": {},
   "source": [
    "#### Step 3: Plot the probability distribution of the Monte Carlo simulation."
   ]
  },
  {
   "cell_type": "code",
   "execution_count": 46,
   "metadata": {},
   "outputs": [
    {
     "data": {
      "image/png": "[encoded data removed]",
      "text/plain": [
       "<Figure size 432x288 with 1 Axes>"
      ]
     },
     "metadata": {
      "needs_background": "light"
     },
     "output_type": "display_data"
    }
   ],
   "source": [
    "# Visualize the probability distribution of the 30-year Monte Carlo simulation \n",
    "# by plotting a histogram\n",
    "trad_weight_distribution_plot = MC_trad_weight.plot_distribution()\n",
    "\n",
    "# Save the plot for future use\n",
    "# trad_weight_distribution_plot.get_figure().savefig('MC_trad_weight_dist_plot.png',bbox_inches='tight')"
   ]
  },
  {
   "cell_type": "markdown",
   "metadata": {},
   "source": [
    "#### Step 4: Generate the summary statistics for the Monte Carlo simulation."
   ]
  },
  {
   "cell_type": "code",
   "execution_count": 47,
   "metadata": {},
   "outputs": [
    {
     "name": "stdout",
     "output_type": "stream",
     "text": [
      "count           500.000000\n",
      "mean             39.728225\n",
      "std              15.217461\n",
      "min              13.130717\n",
      "25%              28.515886\n",
      "50%              36.937039\n",
      "75%              48.105751\n",
      "max              97.154567\n",
      "95% CI Lower     18.700018\n",
      "95% CI Upper     75.840245\n",
      "Name: 7560, dtype: float64\n"
     ]
    }
   ],
   "source": [
    "# Generate summary statistics from the 30-year Monte Carlo simulation results\n",
    "# Save the results as a variable\n",
    "trad_weight_table = MC_trad_weight.summarize_cumulative_return()\n",
    "\n",
    "# Review the 30-year Monte Carlo summary statistics\n",
    "print(trad_weight_table)"
   ]
  },
  {
   "cell_type": "markdown",
   "metadata": {},
   "source": [
    "### Analyze the Retirement Portfolio Forecasts\n",
    "\n",
    "Using the current value of only the stock and bond portion of the member's portfolio and the summary statistics that you generated from the Monte Carlo simulation, answer the following question in your Jupyter notebook:\n",
    "\n",
    "-  What are the lower and upper bounds for the expected value of the portfolio with a 95% confidence interval?\n"
   ]
  },
  {
   "cell_type": "code",
   "execution_count": 48,
   "metadata": {},
   "outputs": [
    {
     "name": "stdout",
     "output_type": "stream",
     "text": [
      "Total Current Value of the Stock/Bond portion of the Portfolio:            $65,382.60\n"
     ]
    }
   ],
   "source": [
    "# Print the current balance of the stock and bond portion of the members portfolio\n",
    "print(f\"Total Current Value of the Stock/Bond portion of the Portfolio:            ${total_stocks_bonds:,.2f}\")"
   ]
  },
  {
   "cell_type": "code",
   "execution_count": 49,
   "metadata": {},
   "outputs": [
    {
     "name": "stdout",
     "output_type": "stream",
     "text": [
      "There is a 95% chance that investing the Stock/Bond portion of the portfolio (current value $65,382.60) in a traditional 60/40 weight distribution over the next 30 years will result in a value within the range of $1,222,655.82 and $4,958,632.37.\n"
     ]
    }
   ],
   "source": [
    "# Use the lower and upper `95%` confidence intervals to calculate the range of the possible outcomes for the current stock/bond portfolio\n",
    "ci_lower_thirty_cumulative_return = trad_weight_table[8] * total_stocks_bonds\n",
    "ci_upper_thirty_cumulative_return = trad_weight_table[9] * total_stocks_bonds\n",
    "\n",
    "# Print the result of your calculations\n",
    "print(f\"There is a 95% chance that investing the Stock/Bond portion of the portfolio (current value ${total_stocks_bonds:,.2f}) in\"\n",
    "      f\" a traditional 60/40 weight distribution over the next 30 years will result in a value within the range of\"\n",
    "      f\" ${ci_lower_thirty_cumulative_return:,.2f} and ${ci_upper_thirty_cumulative_return:,.2f}.\")\n"
   ]
  },
  {
   "cell_type": "markdown",
   "metadata": {},
   "source": [
    "### Forecast Cumulative Returns in 10 Years\n",
    "\n",
    "The CTO of the credit union is impressed with your work on these planning tools but wonders if 30 years is a long time to wait until retirement. So, your next task is to adjust the retirement portfolio and run a new Monte Carlo simulation to find out if the changes will allow members to retire earlier.\n",
    "\n",
    "For this new Monte Carlo simulation, do the following: \n",
    "\n",
    "- Forecast the cumulative returns for 10 years from now. Because of the shortened investment horizon (30 years to 10 years), the portfolio needs to invest more heavily in the riskier asset&mdash;that is, stock&mdash;to help accumulate wealth for retirement. \n",
    "\n",
    "- Adjust the weights of the retirement portfolio so that the composition for the Monte Carlo simulation consists of 20% bonds and 80% stocks. \n",
    "\n",
    "- Run the simulation over 500 samples, and use the same data that the API call to Alpaca generated.\n",
    "\n",
    "- Based on the new Monte Carlo simulation, answer the following questions in your Jupyter notebook:\n",
    "\n",
    "    - Using the current value of only the stock and bond portion of the member's portfolio and the summary statistics that you generated from the new Monte Carlo simulation, what are the lower and upper bounds for the expected value of the portfolio (with the new weights) with a 95% confidence interval?\n",
    "\n",
    "    - Will weighting the portfolio more heavily toward stocks allow the credit union members to retire after only 10 years?\n"
   ]
  },
  {
   "cell_type": "code",
   "execution_count": 50,
   "metadata": {},
   "outputs": [
    {
     "data": {
      "text/html": [
       "<div>\n",
       "<style scoped>\n",
       "    .dataframe tbody tr th:only-of-type {\n",
       "        vertical-align: middle;\n",
       "    }\n",
       "\n",
       "    .dataframe tbody tr th {\n",
       "        vertical-align: top;\n",
       "    }\n",
       "\n",
       "    .dataframe thead tr th {\n",
       "        text-align: left;\n",
       "    }\n",
       "\n",
       "    .dataframe thead tr:last-of-type th {\n",
       "        text-align: right;\n",
       "    }\n",
       "</style>\n",
       "<table border=\"1\" class=\"dataframe\">\n",
       "  <thead>\n",
       "    <tr>\n",
       "      <th></th>\n",
       "      <th colspan=\"6\" halign=\"left\">AGG</th>\n",
       "      <th colspan=\"6\" halign=\"left\">SPY</th>\n",
       "    </tr>\n",
       "    <tr>\n",
       "      <th></th>\n",
       "      <th>open</th>\n",
       "      <th>high</th>\n",
       "      <th>low</th>\n",
       "      <th>close</th>\n",
       "      <th>volume</th>\n",
       "      <th>daily_return</th>\n",
       "      <th>open</th>\n",
       "      <th>high</th>\n",
       "      <th>low</th>\n",
       "      <th>close</th>\n",
       "      <th>volume</th>\n",
       "      <th>daily_return</th>\n",
       "    </tr>\n",
       "    <tr>\n",
       "      <th>time</th>\n",
       "      <th></th>\n",
       "      <th></th>\n",
       "      <th></th>\n",
       "      <th></th>\n",
       "      <th></th>\n",
       "      <th></th>\n",
       "      <th></th>\n",
       "      <th></th>\n",
       "      <th></th>\n",
       "      <th></th>\n",
       "      <th></th>\n",
       "      <th></th>\n",
       "    </tr>\n",
       "  </thead>\n",
       "  <tbody>\n",
       "    <tr>\n",
       "      <th>2020-09-11 00:00:00-04:00</th>\n",
       "      <td>118.4200</td>\n",
       "      <td>118.490</td>\n",
       "      <td>118.24</td>\n",
       "      <td>118.36</td>\n",
       "      <td>11853287</td>\n",
       "      <td>NaN</td>\n",
       "      <td>335.82</td>\n",
       "      <td>336.9700</td>\n",
       "      <td>331.0000</td>\n",
       "      <td>334.08</td>\n",
       "      <td>140223556</td>\n",
       "      <td>NaN</td>\n",
       "    </tr>\n",
       "    <tr>\n",
       "      <th>2020-09-14 00:00:00-04:00</th>\n",
       "      <td>118.4700</td>\n",
       "      <td>118.490</td>\n",
       "      <td>118.31</td>\n",
       "      <td>118.37</td>\n",
       "      <td>11222770</td>\n",
       "      <td>0.000084</td>\n",
       "      <td>337.49</td>\n",
       "      <td>340.3800</td>\n",
       "      <td>334.2208</td>\n",
       "      <td>338.42</td>\n",
       "      <td>109684157</td>\n",
       "      <td>0.012991</td>\n",
       "    </tr>\n",
       "    <tr>\n",
       "      <th>2020-09-15 00:00:00-04:00</th>\n",
       "      <td>118.2900</td>\n",
       "      <td>118.425</td>\n",
       "      <td>118.29</td>\n",
       "      <td>118.38</td>\n",
       "      <td>3635547</td>\n",
       "      <td>0.000084</td>\n",
       "      <td>341.12</td>\n",
       "      <td>342.0200</td>\n",
       "      <td>338.4683</td>\n",
       "      <td>340.15</td>\n",
       "      <td>43980284</td>\n",
       "      <td>0.005112</td>\n",
       "    </tr>\n",
       "    <tr>\n",
       "      <th>2020-09-16 00:00:00-04:00</th>\n",
       "      <td>118.5300</td>\n",
       "      <td>118.530</td>\n",
       "      <td>118.20</td>\n",
       "      <td>118.32</td>\n",
       "      <td>5190572</td>\n",
       "      <td>-0.000507</td>\n",
       "      <td>341.51</td>\n",
       "      <td>343.0600</td>\n",
       "      <td>338.5200</td>\n",
       "      <td>338.81</td>\n",
       "      <td>70521698</td>\n",
       "      <td>-0.003939</td>\n",
       "    </tr>\n",
       "    <tr>\n",
       "      <th>2020-09-17 00:00:00-04:00</th>\n",
       "      <td>118.4201</td>\n",
       "      <td>118.520</td>\n",
       "      <td>118.33</td>\n",
       "      <td>118.36</td>\n",
       "      <td>4263541</td>\n",
       "      <td>0.000338</td>\n",
       "      <td>333.56</td>\n",
       "      <td>337.6996</td>\n",
       "      <td>332.9910</td>\n",
       "      <td>335.86</td>\n",
       "      <td>80778657</td>\n",
       "      <td>-0.008707</td>\n",
       "    </tr>\n",
       "  </tbody>\n",
       "</table>\n",
       "</div>"
      ],
      "text/plain": [
       "                                AGG                                     \\\n",
       "                               open     high     low   close    volume   \n",
       "time                                                                     \n",
       "2020-09-11 00:00:00-04:00  118.4200  118.490  118.24  118.36  11853287   \n",
       "2020-09-14 00:00:00-04:00  118.4700  118.490  118.31  118.37  11222770   \n",
       "2020-09-15 00:00:00-04:00  118.2900  118.425  118.29  118.38   3635547   \n",
       "2020-09-16 00:00:00-04:00  118.5300  118.530  118.20  118.32   5190572   \n",
       "2020-09-17 00:00:00-04:00  118.4201  118.520  118.33  118.36   4263541   \n",
       "\n",
       "                                           SPY                              \\\n",
       "                          daily_return    open      high       low   close   \n",
       "time                                                                         \n",
       "2020-09-11 00:00:00-04:00          NaN  335.82  336.9700  331.0000  334.08   \n",
       "2020-09-14 00:00:00-04:00     0.000084  337.49  340.3800  334.2208  338.42   \n",
       "2020-09-15 00:00:00-04:00     0.000084  341.12  342.0200  338.4683  340.15   \n",
       "2020-09-16 00:00:00-04:00    -0.000507  341.51  343.0600  338.5200  338.81   \n",
       "2020-09-17 00:00:00-04:00     0.000338  333.56  337.6996  332.9910  335.86   \n",
       "\n",
       "                                                   \n",
       "                              volume daily_return  \n",
       "time                                               \n",
       "2020-09-11 00:00:00-04:00  140223556          NaN  \n",
       "2020-09-14 00:00:00-04:00  109684157     0.012991  \n",
       "2020-09-15 00:00:00-04:00   43980284     0.005112  \n",
       "2020-09-16 00:00:00-04:00   70521698    -0.003939  \n",
       "2020-09-17 00:00:00-04:00   80778657    -0.008707  "
      ]
     },
     "execution_count": 50,
     "metadata": {},
     "output_type": "execute_result"
    }
   ],
   "source": [
    "# Configure a Monte Carlo simulation to forecast 10 years cumulative returns\n",
    "# The weights should be split 20% to AGG and 80% to SPY.\n",
    "# Run 500 samples.\n",
    "MC_spy80_weight = MCSimulation(\n",
    "    portfolio_data = prices_df,\n",
    "    weights = [.80,.20],\n",
    "    num_simulation = 500,\n",
    "    num_trading_days = 252*10\n",
    ")\n",
    "\n",
    "# Review the simulation input data\n",
    "MC_spy80_weight.portfolio_data.head()\n"
   ]
  },
  {
   "cell_type": "code",
   "execution_count": 51,
   "metadata": {},
   "outputs": [
    {
     "name": "stdout",
     "output_type": "stream",
     "text": [
      "Running Monte Carlo simulation number 0.\n",
      "Running Monte Carlo simulation number 10.\n",
      "Running Monte Carlo simulation number 20.\n",
      "Running Monte Carlo simulation number 30.\n",
      "Running Monte Carlo simulation number 40.\n",
      "Running Monte Carlo simulation number 50.\n",
      "Running Monte Carlo simulation number 60.\n",
      "Running Monte Carlo simulation number 70.\n",
      "Running Monte Carlo simulation number 80.\n",
      "Running Monte Carlo simulation number 90.\n",
      "Running Monte Carlo simulation number 100.\n",
      "Running Monte Carlo simulation number 110.\n",
      "Running Monte Carlo simulation number 120.\n",
      "Running Monte Carlo simulation number 130.\n",
      "Running Monte Carlo simulation number 140.\n",
      "Running Monte Carlo simulation number 150.\n",
      "Running Monte Carlo simulation number 160.\n",
      "Running Monte Carlo simulation number 170.\n",
      "Running Monte Carlo simulation number 180.\n",
      "Running Monte Carlo simulation number 190.\n",
      "Running Monte Carlo simulation number 200.\n",
      "Running Monte Carlo simulation number 210.\n",
      "Running Monte Carlo simulation number 220.\n",
      "Running Monte Carlo simulation number 230.\n",
      "Running Monte Carlo simulation number 240.\n",
      "Running Monte Carlo simulation number 250.\n",
      "Running Monte Carlo simulation number 260.\n",
      "Running Monte Carlo simulation number 270.\n",
      "Running Monte Carlo simulation number 280.\n",
      "Running Monte Carlo simulation number 290.\n",
      "Running Monte Carlo simulation number 300.\n",
      "Running Monte Carlo simulation number 310.\n",
      "Running Monte Carlo simulation number 320.\n",
      "Running Monte Carlo simulation number 330.\n",
      "Running Monte Carlo simulation number 340.\n",
      "Running Monte Carlo simulation number 350.\n",
      "Running Monte Carlo simulation number 360.\n",
      "Running Monte Carlo simulation number 370.\n",
      "Running Monte Carlo simulation number 380.\n",
      "Running Monte Carlo simulation number 390.\n",
      "Running Monte Carlo simulation number 400.\n",
      "Running Monte Carlo simulation number 410.\n",
      "Running Monte Carlo simulation number 420.\n",
      "Running Monte Carlo simulation number 430.\n",
      "Running Monte Carlo simulation number 440.\n",
      "Running Monte Carlo simulation number 450.\n",
      "Running Monte Carlo simulation number 460.\n",
      "Running Monte Carlo simulation number 470.\n",
      "Running Monte Carlo simulation number 480.\n",
      "Running Monte Carlo simulation number 490.\n"
     ]
    },
    {
     "data": {
      "text/html": [
       "<div>\n",
       "<style scoped>\n",
       "    .dataframe tbody tr th:only-of-type {\n",
       "        vertical-align: middle;\n",
       "    }\n",
       "\n",
       "    .dataframe tbody tr th {\n",
       "        vertical-align: top;\n",
       "    }\n",
       "\n",
       "    .dataframe thead th {\n",
       "        text-align: right;\n",
       "    }\n",
       "</style>\n",
       "<table border=\"1\" class=\"dataframe\">\n",
       "  <thead>\n",
       "    <tr style=\"text-align: right;\">\n",
       "      <th></th>\n",
       "      <th>0</th>\n",
       "      <th>1</th>\n",
       "      <th>2</th>\n",
       "      <th>3</th>\n",
       "      <th>4</th>\n",
       "      <th>5</th>\n",
       "      <th>6</th>\n",
       "      <th>7</th>\n",
       "      <th>8</th>\n",
       "      <th>9</th>\n",
       "      <th>...</th>\n",
       "      <th>490</th>\n",
       "      <th>491</th>\n",
       "      <th>492</th>\n",
       "      <th>493</th>\n",
       "      <th>494</th>\n",
       "      <th>495</th>\n",
       "      <th>496</th>\n",
       "      <th>497</th>\n",
       "      <th>498</th>\n",
       "      <th>499</th>\n",
       "    </tr>\n",
       "  </thead>\n",
       "  <tbody>\n",
       "    <tr>\n",
       "      <th>0</th>\n",
       "      <td>1.000000</td>\n",
       "      <td>1.000000</td>\n",
       "      <td>1.000000</td>\n",
       "      <td>1.000000</td>\n",
       "      <td>1.000000</td>\n",
       "      <td>1.000000</td>\n",
       "      <td>1.000000</td>\n",
       "      <td>1.000000</td>\n",
       "      <td>1.000000</td>\n",
       "      <td>1.000000</td>\n",
       "      <td>...</td>\n",
       "      <td>1.000000</td>\n",
       "      <td>1.000000</td>\n",
       "      <td>1.000000</td>\n",
       "      <td>1.000000</td>\n",
       "      <td>1.000000</td>\n",
       "      <td>1.000000</td>\n",
       "      <td>1.000000</td>\n",
       "      <td>1.000000</td>\n",
       "      <td>1.000000</td>\n",
       "      <td>1.000000</td>\n",
       "    </tr>\n",
       "    <tr>\n",
       "      <th>1</th>\n",
       "      <td>1.001430</td>\n",
       "      <td>1.001204</td>\n",
       "      <td>1.000073</td>\n",
       "      <td>0.998137</td>\n",
       "      <td>0.997209</td>\n",
       "      <td>1.001520</td>\n",
       "      <td>0.998926</td>\n",
       "      <td>0.999615</td>\n",
       "      <td>0.997821</td>\n",
       "      <td>0.996377</td>\n",
       "      <td>...</td>\n",
       "      <td>0.996331</td>\n",
       "      <td>1.003994</td>\n",
       "      <td>0.998039</td>\n",
       "      <td>1.002225</td>\n",
       "      <td>1.000551</td>\n",
       "      <td>1.000459</td>\n",
       "      <td>1.000776</td>\n",
       "      <td>0.998577</td>\n",
       "      <td>1.003027</td>\n",
       "      <td>1.001128</td>\n",
       "    </tr>\n",
       "    <tr>\n",
       "      <th>2</th>\n",
       "      <td>1.005085</td>\n",
       "      <td>1.001560</td>\n",
       "      <td>0.997782</td>\n",
       "      <td>0.997980</td>\n",
       "      <td>0.996788</td>\n",
       "      <td>1.002112</td>\n",
       "      <td>0.999602</td>\n",
       "      <td>0.996323</td>\n",
       "      <td>0.999176</td>\n",
       "      <td>0.994669</td>\n",
       "      <td>...</td>\n",
       "      <td>0.997999</td>\n",
       "      <td>1.004957</td>\n",
       "      <td>1.000257</td>\n",
       "      <td>1.001612</td>\n",
       "      <td>0.999001</td>\n",
       "      <td>0.999276</td>\n",
       "      <td>1.001670</td>\n",
       "      <td>0.996052</td>\n",
       "      <td>1.004650</td>\n",
       "      <td>1.001657</td>\n",
       "    </tr>\n",
       "    <tr>\n",
       "      <th>3</th>\n",
       "      <td>1.002242</td>\n",
       "      <td>1.001230</td>\n",
       "      <td>0.993553</td>\n",
       "      <td>0.997327</td>\n",
       "      <td>0.993677</td>\n",
       "      <td>1.004902</td>\n",
       "      <td>1.001011</td>\n",
       "      <td>0.996463</td>\n",
       "      <td>0.995859</td>\n",
       "      <td>0.996311</td>\n",
       "      <td>...</td>\n",
       "      <td>0.995563</td>\n",
       "      <td>1.003068</td>\n",
       "      <td>0.998315</td>\n",
       "      <td>1.006233</td>\n",
       "      <td>0.998776</td>\n",
       "      <td>1.003097</td>\n",
       "      <td>1.009098</td>\n",
       "      <td>0.994090</td>\n",
       "      <td>1.005089</td>\n",
       "      <td>1.001747</td>\n",
       "    </tr>\n",
       "    <tr>\n",
       "      <th>4</th>\n",
       "      <td>0.999616</td>\n",
       "      <td>0.998848</td>\n",
       "      <td>0.995083</td>\n",
       "      <td>0.996068</td>\n",
       "      <td>0.992180</td>\n",
       "      <td>1.001319</td>\n",
       "      <td>1.004473</td>\n",
       "      <td>0.998378</td>\n",
       "      <td>0.996427</td>\n",
       "      <td>0.992189</td>\n",
       "      <td>...</td>\n",
       "      <td>0.991461</td>\n",
       "      <td>1.008377</td>\n",
       "      <td>1.000331</td>\n",
       "      <td>1.003144</td>\n",
       "      <td>1.003055</td>\n",
       "      <td>1.002532</td>\n",
       "      <td>1.006963</td>\n",
       "      <td>0.993626</td>\n",
       "      <td>1.010096</td>\n",
       "      <td>1.002965</td>\n",
       "    </tr>\n",
       "    <tr>\n",
       "      <th>...</th>\n",
       "      <td>...</td>\n",
       "      <td>...</td>\n",
       "      <td>...</td>\n",
       "      <td>...</td>\n",
       "      <td>...</td>\n",
       "      <td>...</td>\n",
       "      <td>...</td>\n",
       "      <td>...</td>\n",
       "      <td>...</td>\n",
       "      <td>...</td>\n",
       "      <td>...</td>\n",
       "      <td>...</td>\n",
       "      <td>...</td>\n",
       "      <td>...</td>\n",
       "      <td>...</td>\n",
       "      <td>...</td>\n",
       "      <td>...</td>\n",
       "      <td>...</td>\n",
       "      <td>...</td>\n",
       "      <td>...</td>\n",
       "      <td>...</td>\n",
       "    </tr>\n",
       "    <tr>\n",
       "      <th>2516</th>\n",
       "      <td>1.710003</td>\n",
       "      <td>1.753343</td>\n",
       "      <td>1.534743</td>\n",
       "      <td>1.184961</td>\n",
       "      <td>1.530329</td>\n",
       "      <td>1.424467</td>\n",
       "      <td>1.485222</td>\n",
       "      <td>1.382188</td>\n",
       "      <td>1.274340</td>\n",
       "      <td>1.682254</td>\n",
       "      <td>...</td>\n",
       "      <td>1.308721</td>\n",
       "      <td>1.864648</td>\n",
       "      <td>1.324461</td>\n",
       "      <td>1.667878</td>\n",
       "      <td>1.588189</td>\n",
       "      <td>1.668341</td>\n",
       "      <td>1.797850</td>\n",
       "      <td>1.377094</td>\n",
       "      <td>1.541622</td>\n",
       "      <td>1.490345</td>\n",
       "    </tr>\n",
       "    <tr>\n",
       "      <th>2517</th>\n",
       "      <td>1.711340</td>\n",
       "      <td>1.750325</td>\n",
       "      <td>1.535716</td>\n",
       "      <td>1.181382</td>\n",
       "      <td>1.525709</td>\n",
       "      <td>1.423284</td>\n",
       "      <td>1.489420</td>\n",
       "      <td>1.387725</td>\n",
       "      <td>1.268688</td>\n",
       "      <td>1.683453</td>\n",
       "      <td>...</td>\n",
       "      <td>1.310816</td>\n",
       "      <td>1.865252</td>\n",
       "      <td>1.327720</td>\n",
       "      <td>1.668658</td>\n",
       "      <td>1.595406</td>\n",
       "      <td>1.672248</td>\n",
       "      <td>1.799241</td>\n",
       "      <td>1.377401</td>\n",
       "      <td>1.543909</td>\n",
       "      <td>1.486012</td>\n",
       "    </tr>\n",
       "    <tr>\n",
       "      <th>2518</th>\n",
       "      <td>1.709873</td>\n",
       "      <td>1.755617</td>\n",
       "      <td>1.542503</td>\n",
       "      <td>1.180104</td>\n",
       "      <td>1.520738</td>\n",
       "      <td>1.428270</td>\n",
       "      <td>1.489172</td>\n",
       "      <td>1.387977</td>\n",
       "      <td>1.270954</td>\n",
       "      <td>1.683405</td>\n",
       "      <td>...</td>\n",
       "      <td>1.306721</td>\n",
       "      <td>1.872811</td>\n",
       "      <td>1.324977</td>\n",
       "      <td>1.673729</td>\n",
       "      <td>1.591692</td>\n",
       "      <td>1.667733</td>\n",
       "      <td>1.800966</td>\n",
       "      <td>1.379350</td>\n",
       "      <td>1.549068</td>\n",
       "      <td>1.487047</td>\n",
       "    </tr>\n",
       "    <tr>\n",
       "      <th>2519</th>\n",
       "      <td>1.713018</td>\n",
       "      <td>1.758665</td>\n",
       "      <td>1.541118</td>\n",
       "      <td>1.186223</td>\n",
       "      <td>1.522323</td>\n",
       "      <td>1.427121</td>\n",
       "      <td>1.489354</td>\n",
       "      <td>1.396656</td>\n",
       "      <td>1.273935</td>\n",
       "      <td>1.684975</td>\n",
       "      <td>...</td>\n",
       "      <td>1.300480</td>\n",
       "      <td>1.865691</td>\n",
       "      <td>1.330869</td>\n",
       "      <td>1.674798</td>\n",
       "      <td>1.595675</td>\n",
       "      <td>1.661121</td>\n",
       "      <td>1.802218</td>\n",
       "      <td>1.379335</td>\n",
       "      <td>1.557859</td>\n",
       "      <td>1.491757</td>\n",
       "    </tr>\n",
       "    <tr>\n",
       "      <th>2520</th>\n",
       "      <td>1.713097</td>\n",
       "      <td>1.758127</td>\n",
       "      <td>1.538547</td>\n",
       "      <td>1.188345</td>\n",
       "      <td>1.524233</td>\n",
       "      <td>1.429631</td>\n",
       "      <td>1.487146</td>\n",
       "      <td>1.397719</td>\n",
       "      <td>1.270272</td>\n",
       "      <td>1.683591</td>\n",
       "      <td>...</td>\n",
       "      <td>1.301268</td>\n",
       "      <td>1.863683</td>\n",
       "      <td>1.333194</td>\n",
       "      <td>1.679757</td>\n",
       "      <td>1.595881</td>\n",
       "      <td>1.665175</td>\n",
       "      <td>1.809519</td>\n",
       "      <td>1.381936</td>\n",
       "      <td>1.555969</td>\n",
       "      <td>1.493260</td>\n",
       "    </tr>\n",
       "  </tbody>\n",
       "</table>\n",
       "<p>2521 rows × 500 columns</p>\n",
       "</div>"
      ],
      "text/plain": [
       "           0         1         2         3         4         5         6    \\\n",
       "0     1.000000  1.000000  1.000000  1.000000  1.000000  1.000000  1.000000   \n",
       "1     1.001430  1.001204  1.000073  0.998137  0.997209  1.001520  0.998926   \n",
       "2     1.005085  1.001560  0.997782  0.997980  0.996788  1.002112  0.999602   \n",
       "3     1.002242  1.001230  0.993553  0.997327  0.993677  1.004902  1.001011   \n",
       "4     0.999616  0.998848  0.995083  0.996068  0.992180  1.001319  1.004473   \n",
       "...        ...       ...       ...       ...       ...       ...       ...   \n",
       "2516  1.710003  1.753343  1.534743  1.184961  1.530329  1.424467  1.485222   \n",
       "2517  1.711340  1.750325  1.535716  1.181382  1.525709  1.423284  1.489420   \n",
       "2518  1.709873  1.755617  1.542503  1.180104  1.520738  1.428270  1.489172   \n",
       "2519  1.713018  1.758665  1.541118  1.186223  1.522323  1.427121  1.489354   \n",
       "2520  1.713097  1.758127  1.538547  1.188345  1.524233  1.429631  1.487146   \n",
       "\n",
       "           7         8         9    ...       490       491       492  \\\n",
       "0     1.000000  1.000000  1.000000  ...  1.000000  1.000000  1.000000   \n",
       "1     0.999615  0.997821  0.996377  ...  0.996331  1.003994  0.998039   \n",
       "2     0.996323  0.999176  0.994669  ...  0.997999  1.004957  1.000257   \n",
       "3     0.996463  0.995859  0.996311  ...  0.995563  1.003068  0.998315   \n",
       "4     0.998378  0.996427  0.992189  ...  0.991461  1.008377  1.000331   \n",
       "...        ...       ...       ...  ...       ...       ...       ...   \n",
       "2516  1.382188  1.274340  1.682254  ...  1.308721  1.864648  1.324461   \n",
       "2517  1.387725  1.268688  1.683453  ...  1.310816  1.865252  1.327720   \n",
       "2518  1.387977  1.270954  1.683405  ...  1.306721  1.872811  1.324977   \n",
       "2519  1.396656  1.273935  1.684975  ...  1.300480  1.865691  1.330869   \n",
       "2520  1.397719  1.270272  1.683591  ...  1.301268  1.863683  1.333194   \n",
       "\n",
       "           493       494       495       496       497       498       499  \n",
       "0     1.000000  1.000000  1.000000  1.000000  1.000000  1.000000  1.000000  \n",
       "1     1.002225  1.000551  1.000459  1.000776  0.998577  1.003027  1.001128  \n",
       "2     1.001612  0.999001  0.999276  1.001670  0.996052  1.004650  1.001657  \n",
       "3     1.006233  0.998776  1.003097  1.009098  0.994090  1.005089  1.001747  \n",
       "4     1.003144  1.003055  1.002532  1.006963  0.993626  1.010096  1.002965  \n",
       "...        ...       ...       ...       ...       ...       ...       ...  \n",
       "2516  1.667878  1.588189  1.668341  1.797850  1.377094  1.541622  1.490345  \n",
       "2517  1.668658  1.595406  1.672248  1.799241  1.377401  1.543909  1.486012  \n",
       "2518  1.673729  1.591692  1.667733  1.800966  1.379350  1.549068  1.487047  \n",
       "2519  1.674798  1.595675  1.661121  1.802218  1.379335  1.557859  1.491757  \n",
       "2520  1.679757  1.595881  1.665175  1.809519  1.381936  1.555969  1.493260  \n",
       "\n",
       "[2521 rows x 500 columns]"
      ]
     },
     "execution_count": 51,
     "metadata": {},
     "output_type": "execute_result"
    }
   ],
   "source": [
    "# Run the Monte Carlo simulation to forecast 10 years cumulative returns\n",
    "MC_spy80_weight.calc_cumulative_return()"
   ]
  },
  {
   "cell_type": "code",
   "execution_count": 52,
   "metadata": {},
   "outputs": [
    {
     "data": {
      "image/png": "[encoded data removed]",
      "text/plain": [
       "<Figure size 432x288 with 1 Axes>"
      ]
     },
     "metadata": {
      "needs_background": "light"
     },
     "output_type": "display_data"
    }
   ],
   "source": [
    "# Visualize the 10-year Monte Carlo simulation by creating an\n",
    "# overlay line plot\n",
    "spy80_weight_line_plot = MC_spy80_weight.plot_simulation()\n",
    "\n",
    "# Save the plot for future use\n",
    "# spy80_weight_line_plot.get_figure().savefig(\"MC_spy80_weight_line_plot.png\", bbox_inches=\"tight\")"
   ]
  },
  {
   "cell_type": "code",
   "execution_count": 53,
   "metadata": {},
   "outputs": [
    {
     "data": {
      "image/png": "[encoded data removed]",
      "text/plain": [
       "<Figure size 432x288 with 1 Axes>"
      ]
     },
     "metadata": {
      "needs_background": "light"
     },
     "output_type": "display_data"
    }
   ],
   "source": [
    "# Visualize the probability distribution of the 10-year Monte Carlo simulation \n",
    "# by plotting a histogram\n",
    "spy80_weight_distribution_plot = MC_spy80_weight.plot_distribution()\n",
    "\n",
    "# Save the plot for future use\n",
    "# spy80_weight_distribution_plot.get_figure().savefig('MC_spy80_weight_dist_plot.png',bbox_inches='tight')"
   ]
  },
  {
   "cell_type": "code",
   "execution_count": 54,
   "metadata": {},
   "outputs": [
    {
     "name": "stdout",
     "output_type": "stream",
     "text": [
      "count           500.000000\n",
      "mean              1.565392\n",
      "std               0.189590\n",
      "min               1.081825\n",
      "25%               1.434573\n",
      "50%               1.554722\n",
      "75%               1.677560\n",
      "max               2.266980\n",
      "95% CI Lower      1.236553\n",
      "95% CI Upper      1.979005\n",
      "Name: 2520, dtype: float64\n"
     ]
    }
   ],
   "source": [
    "# Generate summary statistics from the 10-year Monte Carlo simulation results\n",
    "# Save the results as a variable\n",
    "spy80_weight_table = MC_spy80_weight.summarize_cumulative_return()\n",
    "\n",
    "# Review the 10-year Monte Carlo summary statistics\n",
    "print(spy80_weight_table)"
   ]
  },
  {
   "cell_type": "markdown",
   "metadata": {},
   "source": [
    "### Answer the following questions:"
   ]
  },
  {
   "cell_type": "markdown",
   "metadata": {},
   "source": [
    "#### Question: Using the current value of only the stock and bond portion of the member's portfolio and the summary statistics that you generated from the new Monte Carlo simulation, what are the lower and upper bounds for the expected value of the portfolio (with the new weights) with a 95% confidence interval?"
   ]
  },
  {
   "cell_type": "code",
   "execution_count": 55,
   "metadata": {},
   "outputs": [
    {
     "name": "stdout",
     "output_type": "stream",
     "text": [
      "Total Current Value of the Stock/Bond portion of the Portfolio:            $65,382.60\n"
     ]
    }
   ],
   "source": [
    "# Print the current balance of the stock and bond portion of the members portfolio\n",
    "print(f\"Total Current Value of the Stock/Bond portion of the Portfolio:            ${total_stocks_bonds:,.2f}\")"
   ]
  },
  {
   "cell_type": "code",
   "execution_count": 56,
   "metadata": {},
   "outputs": [
    {
     "name": "stdout",
     "output_type": "stream",
     "text": [
      "There is a 95% chance that investing the Stock/Bond portion of the portfolio (current value $65,382.60) in a more aggressive 80/20 weight distribution over the next 10 years will result within the range of $80,849.07 and $129,392.46 in value.\n"
     ]
    }
   ],
   "source": [
    "# Use the lower and upper `95%` confidence intervals to calculate the range of the possible outcomes for the current stock/bond portfolio\n",
    "ci_lower_ten_cumulative_return = spy80_weight_table[8] * total_stocks_bonds\n",
    "ci_upper_ten_cumulative_return = spy80_weight_table[9] * total_stocks_bonds\n",
    "\n",
    "# Print the result of your calculations\n",
    "# YOUR CODE HERE\n",
    "print(f\"There is a 95% chance that investing the Stock/Bond portion of the portfolio (current value ${total_stocks_bonds:,.2f}) in\"\n",
    "      f\" a more aggressive 80/20 weight distribution over the next 10 years will result within the range of\"\n",
    "      f\" ${ci_lower_ten_cumulative_return:,.2f} and ${ci_upper_ten_cumulative_return:,.2f} in value.\")\n"
   ]
  },
  {
   "cell_type": "markdown",
   "metadata": {},
   "source": [
    "#### Question: Will weighting the portfolio more heavily to stocks allow the credit union members to retire after only 10 years?"
   ]
  },
  {
   "cell_type": "code",
   "execution_count": 57,
   "metadata": {},
   "outputs": [
    {
     "name": "stdout",
     "output_type": "stream",
     "text": [
      "**Answer**\n",
      "It's very unlikely that weighting the portfolio more heavily towards stocks would allow the members to retire after only 10 years. With their current monthly expenses of $12,000.00, there is up to a 95% chance they would only have enough in stock/bond retirement accounts to survive for maximum of 10.78 months, or 0.90 years (without accounting for inflation).\n"
     ]
    }
   ],
   "source": [
    "print(\"**Answer**\")\n",
    "\n",
    "print(f\"It's very unlikely that weighting the portfolio more heavily towards stocks would allow the members to retire after only 10 years. With their current monthly expenses of ${monthly_income:,.2f}, there is up to a 95% chance they would only have enough in stock/bond retirement accounts to survive for maximum of {(ci_upper_ten_cumulative_return / monthly_income):,.2f} months, or {((ci_upper_ten_cumulative_return / monthly_income)/12):,.2f} years (without accounting for inflation).\")"
   ]
  }
 ],
 "metadata": {
  "kernelspec": {
   "display_name": "Python (dev)",
   "language": "python",
   "name": "dev"
  },
  "language_info": {
   "codemirror_mode": {
    "name": "ipython",
    "version": 3
   },
   "file_extension": ".py",
   "mimetype": "text/x-python",
   "name": "python",
   "nbconvert_exporter": "python",
   "pygments_lexer": "ipython3",
   "version": "3.7.9"
  }
 },
 "nbformat": 4,
 "nbformat_minor": 4
}
