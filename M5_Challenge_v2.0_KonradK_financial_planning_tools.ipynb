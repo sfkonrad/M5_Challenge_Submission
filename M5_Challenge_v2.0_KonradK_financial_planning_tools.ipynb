{
 "cells": [
  {
   "cell_type": "markdown",
   "metadata": {},
   "source": [
    "#### M5_Challenge_KonradK_financial_planning_tools.ipynb\n",
    "# Konrad Kozicki\n",
    "### UCB-VIRT-FIN-PT-12-2020-U-B-TTH\n",
    "---"
   ]
  },
  {
   "cell_type": "markdown",
   "metadata": {},
   "source": [
    "# Financial Planning with APIs and Simulations\n",
    "\n",
    "In this Challenge, you’ll create two financial analysis tools by using a single Jupyter notebook:\n",
    "\n",
    "Part 1: A financial planner for emergencies. The members will be able to use this tool to visualize their current savings. The members can then determine if they have enough reserves for an emergency fund.\n",
    "\n",
    "Part 2: A financial planner for retirement. This tool will forecast the performance of their retirement portfolio in 30 years. To do this, the tool will make an Alpaca API call via the Alpaca SDK to get historical price data for use in Monte Carlo simulations.\n",
    "\n",
    "You’ll use the information from the Monte Carlo simulation to answer questions about the portfolio in your Jupyter notebook.\n",
    "\n"
   ]
  },
  {
   "cell_type": "code",
   "execution_count": 30,
   "metadata": {},
   "outputs": [],
   "source": [
    "# Import the required libraries and dependencies\n",
    "import os\n",
    "import requests\n",
    "import pandas as pd\n",
    "from dotenv import load_dotenv\n",
    "import alpaca_trade_api as tradeapi\n",
    "import datetime\n",
    "\n",
    "import json\n",
    "import click\n",
    "\n",
    "from MCForecastTools import MCSimulation\n",
    "\n",
    "%matplotlib inline"
   ]
  },
  {
   "cell_type": "code",
   "execution_count": 31,
   "metadata": {},
   "outputs": [
    {
     "data": {
      "text/plain": [
       "True"
      ]
     },
     "execution_count": 31,
     "metadata": {},
     "output_type": "execute_result"
    }
   ],
   "source": [
    "# Load the environment variables from the .env file by calling the load_dotenv function.\n",
    "load_dotenv()"
   ]
  },
  {
   "cell_type": "markdown",
   "metadata": {},
   "source": [
    "## Part 0: Confirm Important Information About the Member's Portfolio"
   ]
  },
  {
   "cell_type": "code",
   "execution_count": 32,
   "metadata": {},
   "outputs": [
    {
     "name": "stdout",
     "output_type": "stream",
     "text": [
      "Please take a moment to confirm the following information about the member's portfolio: \n",
      " \n",
      "1) BITCOIN \n",
      "Enter the number of BTC Coins in the portfolio \n",
      "     [press ENTER for default value of [1.2]: "
     ]
    },
    {
     "name": "stdin",
     "output_type": "stream",
     "text": [
      " \n"
     ]
    },
    {
     "name": "stdout",
     "output_type": "stream",
     "text": [
      "1.2\n",
      "\n",
      " \n",
      " \n",
      " \n",
      "2) ETHEREUM \n",
      "Enter the number of ETH Coins in the portfolio \n",
      "     [press ENTER for default value of [5.3]: "
     ]
    },
    {
     "name": "stdin",
     "output_type": "stream",
     "text": [
      " \n"
     ]
    },
    {
     "name": "stdout",
     "output_type": "stream",
     "text": [
      "5.3\n",
      "\n",
      " \n",
      " \n",
      " \n",
      "3) INCOME \n",
      "Please enter the member's current monthly income \n",
      "or projected monthly expenses \n",
      "     [press ENTER for default value of [12000]: "
     ]
    },
    {
     "name": "stdin",
     "output_type": "stream",
     "text": [
      " \n"
     ]
    },
    {
     "name": "stdout",
     "output_type": "stream",
     "text": [
      "12000\n",
      "\n",
      " \n",
      " \n",
      " \n",
      "4) STOCKS \n",
      "Enter the number of S&P 500 Stock holdings in \n",
      "the portfolio \n",
      "     [press ENTER for default value of [110]: "
     ]
    },
    {
     "name": "stdin",
     "output_type": "stream",
     "text": [
      " \n"
     ]
    },
    {
     "name": "stdout",
     "output_type": "stream",
     "text": [
      "110\n",
      "\n",
      " \n",
      " \n",
      " \n",
      "5) BONDS \n",
      "Enter the number of iShares Bond ETF holdings in \n",
      "the portfolio \n",
      "     [press ENTER for default value of [200]: "
     ]
    },
    {
     "name": "stdin",
     "output_type": "stream",
     "text": [
      " \n"
     ]
    },
    {
     "name": "stdout",
     "output_type": "stream",
     "text": [
      "200\n",
      "\n",
      " \n",
      " \n",
      " \n",
      "6) RESERVES \n",
      "Please enter the member's desired months in reserves \n",
      "     [press ENTER for default value of [3]: "
     ]
    },
    {
     "name": "stdin",
     "output_type": "stream",
     "text": [
      " \n"
     ]
    },
    {
     "name": "stdout",
     "output_type": "stream",
     "text": [
      "3\n",
      "\n",
      " \n",
      " \n",
      " \n",
      "<<  FEATURES CURRENTLY UNDER CONSTRUCTION: >>\n",
      " \n",
      "        -> 7) conditional statement for `use_for_today_date`\n",
      "\n",
      "\n",
      "        -> 8) Risk_Tolerance Query\n",
      "\n",
      "\n",
      "        -> 9) Save a log of i/o for every instance the script is run\n",
      "\n",
      " \n",
      " \n",
      " \n",
      "\n"
     ]
    }
   ],
   "source": [
    "print(\"Please take a moment to confirm the following information about the member's portfolio: \\n \")\n",
    "\n",
    "btc_coins = click.prompt(\"1) BITCOIN \\nEnter the number of BTC Coins in the portfolio \\n     [press ENTER for default value of\", type=float, default=1.2) \n",
    "print(btc_coins)\n",
    "eth_coins = click.prompt(\"\\n \\n \\n \\n2) ETHEREUM \\nEnter the number of ETH Coins in the portfolio \\n     [press ENTER for default value of\", type=float, default=5.3) \n",
    "print(eth_coins)\n",
    "monthly_income = click.prompt(\"\\n \\n \\n \\n3) INCOME \\nPlease enter the member's current monthly income \\nor projected monthly expenses \\n     [press ENTER for default value of\", type=float, default=12000) \n",
    "print(monthly_income)\n",
    "spy_shares = click.prompt(\"\\n \\n \\n \\n4) STOCKS \\nEnter the number of S&P 500 Stock holdings in \\nthe portfolio \\n     [press ENTER for default value of\", type=float, default=110) \n",
    "print(spy_shares)\n",
    "agg_shares = click.prompt(\"\\n \\n \\n \\n5) BONDS \\nEnter the number of iShares Bond ETF holdings in \\nthe portfolio \\n     [press ENTER for default value of\", type=float, default=200) \n",
    "print(agg_shares)\n",
    "reserve_months = click.prompt(\"\\n \\n \\n \\n6) RESERVES \\nPlease enter the member's desired months in reserves \\n     [press ENTER for default value of\", type=float, default=3) \n",
    "print(reserve_months)\n",
    "\n",
    "print(\"\\n \\n \\n \\n<<  FEATURES CURRENTLY UNDER CONSTRUCTION: >>\\n \")\n",
    "\n",
    "print(\"        -> 7) conditional statement for `use_for_today_date`\")\n",
    "#    (reference in README.md)\n",
    "#    Boolean test for `close = NaN`\")\n",
    "#    confirm that `use_for_today_date` is an open trading day ⚠️\n",
    "#    elif for `NaN`s\n",
    "#    date_to_use_today = if click(ans) == today_date then return today_date, else return three_days_ago\n",
    "#    ref. Module_2\n",
    "\n",
    "print(\"\\n\\n        -> 8) Risk_Tolerance Query\") \n",
    "#      1:5 (and 0, 666), \n",
    "#      SPY/AGG,\n",
    "#        0: 0/100\n",
    "#        1: 20/80\n",
    "#        2: 40/60\n",
    "#        3: 60/40 [default]\n",
    "#        4: 80/20\n",
    "#        5: 100/0\n",
    "#        666: all on crypto?... Run MC_Sims on Crypto returns\n",
    "\n",
    "print(\"\\n\\n        -> 9) Save a log of i/o for every instance the script is run\")\n",
    "\n",
    "print(\"\\n \\n \\n \\n\")"
   ]
  },
  {
   "cell_type": "markdown",
   "metadata": {},
   "source": [
    "## Part 1: Create a Financial Planner for Emergencies"
   ]
  },
  {
   "cell_type": "markdown",
   "metadata": {},
   "source": [
    "### Evaluate the Cryptocurrency Wallet by Using the Requests Library\n",
    "\n",
    "In this section, you’ll determine the current value of a member’s cryptocurrency wallet. You’ll collect the current prices for the Bitcoin and Ethereum cryptocurrencies by using the Python Requests library. For the prototype, you’ll assume that the member holds the 1.2 Bitcoins (BTC) and 5.3 Ethereum coins (ETH). To do all this, complete the following steps:\n",
    "\n",
    "1. Create a variable named `monthly_income`, and set its value to `12000`.\n",
    "\n",
    "2. Use the Requests library to get the current price (in US dollars) of Bitcoin (BTC) and Ethereum (ETH) by using the API endpoints that the starter code supplies.\n",
    "\n",
    "3. Navigate the JSON response object to access the current price of each coin, and store each in a variable.\n",
    "\n",
    "    > **Hint** Note the specific identifier for each cryptocurrency in the API JSON response. The Bitcoin identifier is `1`, and the Ethereum identifier is `1027`.\n",
    "\n",
    "4. Calculate the value, in US dollars, of the current amount of each cryptocurrency and of the entire cryptocurrency wallet.\n",
    "\n"
   ]
  },
  {
   "cell_type": "code",
   "execution_count": null,
   "metadata": {},
   "outputs": [],
   "source": [
    "# The current number of coins for each cryptocurrency asset held in the portfolio.\n",
    "# btc_coins = 1.2\n",
    "# eth_coins = 5.3"
   ]
  },
  {
   "cell_type": "markdown",
   "metadata": {},
   "source": [
    "#### Step 1: Create a variable named `monthly_income`, and set its value to `12000`."
   ]
  },
  {
   "cell_type": "code",
   "execution_count": null,
   "metadata": {},
   "outputs": [],
   "source": [
    "# The monthly amount for the member's household income\n",
    "# monthly_income = 12000"
   ]
  },
  {
   "cell_type": "markdown",
   "metadata": {},
   "source": [
    "#### Review the endpoint URLs for the API calls to Free Crypto API in order to get the current pricing information for both BTC and ETH."
   ]
  },
  {
   "cell_type": "code",
   "execution_count": 33,
   "metadata": {},
   "outputs": [],
   "source": [
    "# The Free Crypto API Call endpoint URLs for the held cryptocurrency assets\n",
    "btc_url = \"https://api.alternative.me/v2/ticker/Bitcoin/?convert=USD\"\n",
    "eth_url = \"https://api.alternative.me/v2/ticker/Ethereum/?convert=USD\""
   ]
  },
  {
   "cell_type": "markdown",
   "metadata": {},
   "source": [
    "#### Step 2. Use the Requests library to get the current price (in US dollars) of Bitcoin (BTC) and Ethereum (ETH) by using the API endpoints that the starter code supplied."
   ]
  },
  {
   "cell_type": "code",
   "execution_count": 34,
   "metadata": {},
   "outputs": [
    {
     "name": "stdout",
     "output_type": "stream",
     "text": [
      "{\n",
      "    \"data\": {\n",
      "        \"1\": {\n",
      "            \"circulating_supply\": 18621687,\n",
      "            \"id\": 1,\n",
      "            \"last_updated\": 1612662025,\n",
      "            \"max_supply\": 21000000,\n",
      "            \"name\": \"Bitcoin\",\n",
      "            \"quotes\": {\n",
      "                \"USD\": {\n",
      "                    \"market_cap\": 733482298847,\n",
      "                    \"percent_change_1h\": -0.226856928608124,\n",
      "                    \"percent_change_24h\": 0.397833656691486,\n",
      "                    \"percent_change_7d\": 15.3009263773475,\n",
      "                    \"percentage_change_1h\": -0.226856928608124,\n",
      "                    \"percentage_change_24h\": 0.397833656691486,\n",
      "                    \"percentage_change_7d\": 15.3009263773475,\n",
      "                    \"price\": 39432.0,\n",
      "                    \"volume_24h\": 55340832414\n",
      "                }\n",
      "            },\n",
      "            \"rank\": 1,\n",
      "            \"symbol\": \"BTC\",\n",
      "            \"total_supply\": 18621687,\n",
      "            \"website_slug\": \"bitcoin\"\n",
      "        }\n",
      "    },\n",
      "    \"metadata\": {\n",
      "        \"error\": null,\n",
      "        \"num_cryptocurrencies\": 1372,\n",
      "        \"timestamp\": 1612662025\n",
      "    }\n",
      "}\n"
     ]
    }
   ],
   "source": [
    "# Using the Python requests library, make an API call to access the current price of BTC\n",
    "btc_response = requests.get(btc_url).json()\n",
    "\n",
    "# Use the json.dumps function to review the response data from the API call\n",
    "# Use the indent and sort_keys parameters to make the response object readable\n",
    "print(json.dumps(btc_response, indent=4, sort_keys=True))\n"
   ]
  },
  {
   "cell_type": "code",
   "execution_count": 35,
   "metadata": {},
   "outputs": [
    {
     "name": "stdout",
     "output_type": "stream",
     "text": [
      "{\n",
      "    \"data\": {\n",
      "        \"1027\": {\n",
      "            \"circulating_supply\": 114566303,\n",
      "            \"id\": 1027,\n",
      "            \"last_updated\": 1612662146,\n",
      "            \"max_supply\": 0,\n",
      "            \"name\": \"Ethereum\",\n",
      "            \"quotes\": {\n",
      "                \"USD\": {\n",
      "                    \"market_cap\": 191879870401,\n",
      "                    \"percent_change_1h\": -0.611778034457837,\n",
      "                    \"percent_change_24h\": -0.19772352889463,\n",
      "                    \"percent_change_7d\": 22.016723785628,\n",
      "                    \"percentage_change_1h\": -0.611778034457837,\n",
      "                    \"percentage_change_24h\": -0.19772352889463,\n",
      "                    \"percentage_change_7d\": 22.016723785628,\n",
      "                    \"price\": 1674.59,\n",
      "                    \"volume_24h\": 35464002608\n",
      "                }\n",
      "            },\n",
      "            \"rank\": 2,\n",
      "            \"symbol\": \"ETH\",\n",
      "            \"total_supply\": 114566303,\n",
      "            \"website_slug\": \"ethereum\"\n",
      "        }\n",
      "    },\n",
      "    \"metadata\": {\n",
      "        \"error\": null,\n",
      "        \"num_cryptocurrencies\": 1372,\n",
      "        \"timestamp\": 1612662146\n",
      "    }\n",
      "}\n"
     ]
    }
   ],
   "source": [
    "# Using the Python requests library, make an API call to access the current price ETH\n",
    "eth_response = requests.get(eth_url).json()\n",
    "\n",
    "# Use the json.dumps function to review the response data from the API call\n",
    "# Use the indent and sort_keys parameters to make the response object readable\n",
    "print(json.dumps(eth_response, indent=4, sort_keys=True))\n"
   ]
  },
  {
   "cell_type": "markdown",
   "metadata": {},
   "source": [
    "#### Step 3: Navigate the JSON response object to access the current price of each coin, and store each in a variable."
   ]
  },
  {
   "cell_type": "code",
   "execution_count": 36,
   "metadata": {},
   "outputs": [
    {
     "name": "stdout",
     "output_type": "stream",
     "text": [
      "The price for BTC is $39,432.00\n"
     ]
    }
   ],
   "source": [
    "# Navigate the BTC response object to access the current price of BTC\n",
    "btc_price = btc_response['data']['1']['quotes']['USD']['price']\n",
    "\n",
    "# Print the current price of BTC\n",
    "print(f\"The price for BTC is ${btc_price:,.2f}\")"
   ]
  },
  {
   "cell_type": "code",
   "execution_count": 37,
   "metadata": {},
   "outputs": [
    {
     "name": "stdout",
     "output_type": "stream",
     "text": [
      "The price for ETH is $1,674.59\n"
     ]
    }
   ],
   "source": [
    "# Navigate the BTC response object to access the current price of ETH\n",
    "eth_price = eth_response['data']['1027']['quotes']['USD']['price']\n",
    "\n",
    "# Print the current price of ETH\n",
    "print(f\"The price for ETH is ${eth_price:,.2f}\")\n"
   ]
  },
  {
   "cell_type": "markdown",
   "metadata": {},
   "source": [
    "### Step 4: Calculate the value, in US dollars, of the current amount of each cryptocurrency and of the entire cryptocurrency wallet."
   ]
  },
  {
   "cell_type": "code",
   "execution_count": 38,
   "metadata": {},
   "outputs": [
    {
     "name": "stdout",
     "output_type": "stream",
     "text": [
      "The current value of the total Bitcoin (BTC) holding is $47,318.40\n"
     ]
    }
   ],
   "source": [
    "# Compute the current value of the BTC holding \n",
    "btc_value = btc_coins * btc_price\n",
    "\n",
    "# Print current value of your holding in BTC\n",
    "print(f\"The current value of the total Bitcoin (BTC) holding is ${btc_value:,.2f}\")"
   ]
  },
  {
   "cell_type": "code",
   "execution_count": 39,
   "metadata": {},
   "outputs": [
    {
     "name": "stdout",
     "output_type": "stream",
     "text": [
      "The current value of the total Ethereum (ETH) holding is $8,875.33\n"
     ]
    }
   ],
   "source": [
    "# Compute the current value of the ETH holding \n",
    "eth_value = eth_coins * eth_price\n",
    "\n",
    "# Print current value of your holding in ETH\n",
    "print(f\"The current value of the total Ethereum (ETH) holding is ${eth_value:,.2f}\")"
   ]
  },
  {
   "cell_type": "code",
   "execution_count": 40,
   "metadata": {},
   "outputs": [
    {
     "name": "stdout",
     "output_type": "stream",
     "text": [
      "The total value of the entire cryptocurrency wallet is $56,193.73\n"
     ]
    }
   ],
   "source": [
    "# Compute the total value of the cryptocurrency wallet\n",
    "# Add the value of the BTC holding to the value of the ETH holding\n",
    "total_crypto_wallet = btc_value + eth_value\n",
    "\n",
    "# Print current cryptocurrency wallet balance\n",
    "print(f\"The total value of the entire cryptocurrency wallet is ${total_crypto_wallet:,.2f}\")"
   ]
  },
  {
   "cell_type": "markdown",
   "metadata": {},
   "source": [
    "### Evaluate the Stock and Bond Holdings by Using the Alpaca SDK\n",
    "\n",
    "In this section, you’ll determine the current value of a member’s stock and bond holdings. You’ll make an API call to Alpaca via the Alpaca SDK to get the current closing prices of the SPDR S&P 500 ETF Trust (ticker: SPY) and of the iShares Core US Aggregate Bond ETF (ticker: AGG). For the prototype, assume that the member holds 110 shares of SPY, which represents the stock portion of their portfolio, and 200 shares of AGG, which represents the bond portion. To do all this, complete the following steps:\n",
    "\n",
    "1. In the `Starter_Code` folder, create an environment file (`.env`) to store the values of your Alpaca API key and Alpaca secret key.\n",
    "\n",
    "2. Set the variables for the Alpaca API and secret keys. Using the Alpaca SDK, create the Alpaca `tradeapi.REST` object. In this object, include the parameters for the Alpaca API key, the secret key, and the version number.\n",
    "\n",
    "3. Set the following parameters for the Alpaca API call:\n",
    "\n",
    "    - `tickers`: Use the tickers for the member’s stock and bond holdings.\n",
    "\n",
    "    - `timeframe`: Use a time frame of one day.\n",
    "\n",
    "    - `start_date` and `end_date`: Use the same date for these parameters, and format them with the date of the previous weekday (or `2020-08-07`). This is because you want the one closing price for the most-recent trading day.\n",
    "\n",
    "4. Get the current closing prices for `SPY` and `AGG` by using the Alpaca `get_barset` function. Format the response as a Pandas DataFrame by including the `df` property at the end of the `get_barset` function.\n",
    "\n",
    "5. Navigating the Alpaca response DataFrame, select the `SPY` and `AGG` closing prices, and store them as variables.\n",
    "\n",
    "6. Calculate the value, in US dollars, of the current amount of shares in each of the stock and bond portions of the portfolio, and print the results.\n"
   ]
  },
  {
   "cell_type": "markdown",
   "metadata": {},
   "source": [
    "#### Review the total number of shares held in both (SPY) and (AGG)."
   ]
  },
  {
   "cell_type": "code",
   "execution_count": null,
   "metadata": {},
   "outputs": [],
   "source": [
    "# Current amount of shares held in both the stock (SPY) and bond (AGG) portion of the portfolio.\n",
    "# spy_shares = 110\n",
    "# agg_shares = 200\n"
   ]
  },
  {
   "cell_type": "markdown",
   "metadata": {},
   "source": [
    "#### Step 1: In the `Starter_Code` folder, create an environment file (`.env`) to store the values of your Alpaca API key and Alpaca secret key."
   ]
  },
  {
   "cell_type": "markdown",
   "metadata": {},
   "source": [
    "#### Step 2: Set the variables for the Alpaca API and secret keys. Using the Alpaca SDK, create the Alpaca `tradeapi.REST` object. In this object, include the parameters for the Alpaca API key, the secret key, and the version number."
   ]
  },
  {
   "cell_type": "code",
   "execution_count": 41,
   "metadata": {},
   "outputs": [
    {
     "data": {
      "text/plain": [
       "str"
      ]
     },
     "metadata": {},
     "output_type": "display_data"
    },
    {
     "data": {
      "text/plain": [
       "str"
      ]
     },
     "metadata": {},
     "output_type": "display_data"
    }
   ],
   "source": [
    "# Set the variables for the Alpaca API and secret keys\n",
    "alpaca_api_key = os.getenv(\"ALPACA_API_KEY\")\n",
    "alpaca_secret_key = os.getenv(\"ALPACA_SECRET_KEY\")\n",
    "\n",
    "# Check the values were imported correctly by evaluating the type of each\n",
    "display(type(alpaca_api_key))\n",
    "display(type(alpaca_secret_key))\n",
    "\n",
    "# Create the Alpaca tradeapi.REST object\n",
    "alpaca = tradeapi.REST(\n",
    "    alpaca_api_key,\n",
    "    alpaca_secret_key,\n",
    "    api_version = \"v2\"\n",
    ")"
   ]
  },
  {
   "cell_type": "markdown",
   "metadata": {},
   "source": [
    "#### Step 3: Set the following parameters for the Alpaca API call:\n",
    "\n",
    "- `tickers`: Use the tickers for the member’s stock and bond holdings.\n",
    "\n",
    "- `timeframe`: Use a time frame of one day.\n",
    "\n",
    "- `start_date` and `end_date`: Use the same date for these parameters, and format them with the date of the previous weekday (or `2020-08-07`). This is because you want the one closing price for the most-recent trading day.\n"
   ]
  },
  {
   "cell_type": "code",
   "execution_count": 42,
   "metadata": {},
   "outputs": [
    {
     "data": {
      "text/plain": [
       "('2021-02-06', '2021-02-03', '2020-02-07', '2018-02-07', '2011-02-09')"
      ]
     },
     "execution_count": 42,
     "metadata": {},
     "output_type": "execute_result"
    }
   ],
   "source": [
    "today_date = str(datetime.datetime.now()).split()[0]\n",
    "three_days_ago = str(datetime.datetime.now() - datetime.timedelta(days=3)).split()[0]\n",
    "\n",
    "one_year_ago = str(datetime.datetime.now() - datetime.timedelta(days=1*365)).split()[0]\n",
    "three_year_ago = str(datetime.datetime.now() - datetime.timedelta(days=3*365)).split()[0]\n",
    "ten_year_ago = str(datetime.datetime.now() - datetime.timedelta(days=10*365)).split()[0]\n",
    "\n",
    "today_date, three_days_ago, one_year_ago, three_year_ago, ten_year_ago"
   ]
  },
  {
   "cell_type": "code",
   "execution_count": 43,
   "metadata": {},
   "outputs": [],
   "source": [
    "use_for_today_date = three_days_ago"
   ]
  },
  {
   "cell_type": "code",
   "execution_count": 44,
   "metadata": {},
   "outputs": [],
   "source": [
    "# Set the tickers for both the bond and stock portion of the portfolio\n",
    "# YOUR CODE HERE\n",
    "tickers = [\"SPY\", \"AGG\"]\n",
    "\n",
    "# Set timeframe to 1D \n",
    "timeframe = \"1D\"\n",
    "\n",
    "# Format current date as ISO format\n",
    "# Set both the start and end date at the date of your prior weekday \n",
    "# This will give you the closing price of the previous trading day\n",
    "# Alternatively you can use a start and end date of 2020-08-07\n",
    "start_date = pd.Timestamp(use_for_today_date, tz=\"America/New_York\").isoformat()\n",
    "end_date = pd.Timestamp(use_for_today_date, tz=\"America/New_York\").isoformat()\n"
   ]
  },
  {
   "cell_type": "markdown",
   "metadata": {},
   "source": [
    "#### Step 4: Get the current closing prices for `SPY` and `AGG` by using the Alpaca `get_barset` function. Format the response as a Pandas DataFrame by including the `df` property at the end of the `get_barset` function."
   ]
  },
  {
   "cell_type": "code",
   "execution_count": 45,
   "metadata": {},
   "outputs": [
    {
     "data": {
      "text/html": [
       "<div>\n",
       "<style scoped>\n",
       "    .dataframe tbody tr th:only-of-type {\n",
       "        vertical-align: middle;\n",
       "    }\n",
       "\n",
       "    .dataframe tbody tr th {\n",
       "        vertical-align: top;\n",
       "    }\n",
       "\n",
       "    .dataframe thead tr th {\n",
       "        text-align: left;\n",
       "    }\n",
       "\n",
       "    .dataframe thead tr:last-of-type th {\n",
       "        text-align: right;\n",
       "    }\n",
       "</style>\n",
       "<table border=\"1\" class=\"dataframe\">\n",
       "  <thead>\n",
       "    <tr>\n",
       "      <th></th>\n",
       "      <th colspan=\"5\" halign=\"left\">AGG</th>\n",
       "      <th colspan=\"5\" halign=\"left\">SPY</th>\n",
       "    </tr>\n",
       "    <tr>\n",
       "      <th></th>\n",
       "      <th>open</th>\n",
       "      <th>high</th>\n",
       "      <th>low</th>\n",
       "      <th>close</th>\n",
       "      <th>volume</th>\n",
       "      <th>open</th>\n",
       "      <th>high</th>\n",
       "      <th>low</th>\n",
       "      <th>close</th>\n",
       "      <th>volume</th>\n",
       "    </tr>\n",
       "    <tr>\n",
       "      <th>time</th>\n",
       "      <th></th>\n",
       "      <th></th>\n",
       "      <th></th>\n",
       "      <th></th>\n",
       "      <th></th>\n",
       "      <th></th>\n",
       "      <th></th>\n",
       "      <th></th>\n",
       "      <th></th>\n",
       "      <th></th>\n",
       "    </tr>\n",
       "  </thead>\n",
       "  <tbody>\n",
       "    <tr>\n",
       "      <th>2021-02-03 00:00:00-05:00</th>\n",
       "      <td>116.97</td>\n",
       "      <td>116.99</td>\n",
       "      <td>116.87</td>\n",
       "      <td>116.89</td>\n",
       "      <td>5060310</td>\n",
       "      <td>382.435</td>\n",
       "      <td>383.7</td>\n",
       "      <td>380.48</td>\n",
       "      <td>381.86</td>\n",
       "      <td>43305661</td>\n",
       "    </tr>\n",
       "  </tbody>\n",
       "</table>\n",
       "</div>"
      ],
      "text/plain": [
       "                              AGG                                       SPY  \\\n",
       "                             open    high     low   close   volume     open   \n",
       "time                                                                          \n",
       "2021-02-03 00:00:00-05:00  116.97  116.99  116.87  116.89  5060310  382.435   \n",
       "\n",
       "                                                            \n",
       "                            high     low   close    volume  \n",
       "time                                                        \n",
       "2021-02-03 00:00:00-05:00  383.7  380.48  381.86  43305661  "
      ]
     },
     "execution_count": 45,
     "metadata": {},
     "output_type": "execute_result"
    }
   ],
   "source": [
    "# Use the Alpaca get_barset function to get current closing prices the portfolio\n",
    "# Be sure to set the `df` property after the function to format the response object as a DataFrame\n",
    "prices_df = alpaca.get_barset(\n",
    "    tickers,\n",
    "    timeframe,\n",
    "    start=start_date,\n",
    "    end=end_date\n",
    ").df\n",
    "\n",
    "# Review the first 5 rows of the Alpaca DataFrame \n",
    "prices_df.head()"
   ]
  },
  {
   "cell_type": "markdown",
   "metadata": {},
   "source": [
    "#### Step 5: Navigating the Alpaca response DataFrame, select the `SPY` and `AGG` closing prices, and store them as variables."
   ]
  },
  {
   "cell_type": "code",
   "execution_count": 46,
   "metadata": {},
   "outputs": [
    {
     "name": "stdout",
     "output_type": "stream",
     "text": [
      "AGG    $ 116.89\n",
      "<class 'float'>\n"
     ]
    }
   ],
   "source": [
    "# Access the closing price for AGG from the Alpaca DataFrame\n",
    "# Converting the value to a floating point number\n",
    "agg_close_price = float(prices_df[\"AGG\"][\"close\"])\n",
    "\n",
    "# Print the AGG closing price\n",
    "print(f\"AGG    ${agg_close_price: .2f}\")\n",
    "print(type(agg_close_price))\n"
   ]
  },
  {
   "cell_type": "code",
   "execution_count": 47,
   "metadata": {},
   "outputs": [
    {
     "name": "stdout",
     "output_type": "stream",
     "text": [
      "SPY    $ 381.86\n",
      "<class 'float'>\n"
     ]
    }
   ],
   "source": [
    "# Access the closing price for SPY from the Alpaca DataFrame\n",
    "# Converting the value to a floating point number\n",
    "spy_close_price = float(prices_df[\"SPY\"][\"close\"])\n",
    "\n",
    "# Print the SPY closing price\n",
    "print(f\"SPY    ${spy_close_price: .2f}\")\n",
    "print(type(spy_close_price)) "
   ]
  },
  {
   "cell_type": "markdown",
   "metadata": {},
   "source": [
    "#### Step 6: Calculate the value, in US dollars, of the current amount of shares in each of the stock and bond portions of the portfolio, and print the results."
   ]
  },
  {
   "cell_type": "code",
   "execution_count": 48,
   "metadata": {},
   "outputs": [
    {
     "name": "stdout",
     "output_type": "stream",
     "text": [
      "Current Value of the Bond Portfolio:            $23,378.00\n"
     ]
    }
   ],
   "source": [
    "# Calculate the current value of the bond portion of the portfolio\n",
    "agg_value = agg_close_price * agg_shares\n",
    "\n",
    "# Print the current value of the bond portfolio\n",
    "print(f\"Current Value of the Bond Portfolio:            ${agg_value:,.2f}\")"
   ]
  },
  {
   "cell_type": "code",
   "execution_count": 49,
   "metadata": {},
   "outputs": [
    {
     "name": "stdout",
     "output_type": "stream",
     "text": [
      "Current Value of the Stock Portfolio:            $42,004.60\n"
     ]
    }
   ],
   "source": [
    "# Calculate the current value of the stock portion of the portfolio\n",
    "spy_value = spy_close_price * spy_shares\n",
    "\n",
    "# Print the current value of the stock portfolio\n",
    "print(f\"Current Value of the Stock Portfolio:            ${spy_value:,.2f}\")"
   ]
  },
  {
   "cell_type": "code",
   "execution_count": 50,
   "metadata": {},
   "outputs": [
    {
     "name": "stdout",
     "output_type": "stream",
     "text": [
      "Total Value of the Stock/Bond Portion of the Portfolio:            $65,382.60\n"
     ]
    }
   ],
   "source": [
    "# Calculate the total value of the stock and bond portion of the portfolio\n",
    "total_stocks_bonds = agg_value + spy_value\n",
    "\n",
    "# Print the current balance of the stock and bond portion of the portfolio\n",
    "print(f\"Total Value of the Stock/Bond Portion of the Portfolio:            ${total_stocks_bonds:,.2f}\")"
   ]
  },
  {
   "cell_type": "code",
   "execution_count": 51,
   "metadata": {},
   "outputs": [
    {
     "name": "stdout",
     "output_type": "stream",
     "text": [
      "Total Value of Entire Portfolio (Stocks/Bonds & Crypto):            $121,576.33\n"
     ]
    }
   ],
   "source": [
    "# Calculate the total value of the member's entire savings portfolio\n",
    "# Add the value of the cryptocurrency walled to the value of the total stocks and bonds\n",
    "total_portfolio = total_crypto_wallet + total_stocks_bonds\n",
    "\n",
    "# Print current cryptocurrency wallet balance\n",
    "# YOUR CODE HERE\n",
    "print(f\"Total Value of Entire Portfolio (Stocks/Bonds & Crypto):            ${total_portfolio:,.2f}\")"
   ]
  },
  {
   "cell_type": "markdown",
   "metadata": {},
   "source": [
    "### Evaluate the Emergency Fund\n",
    "\n",
    "In this section, you’ll use the valuations for the cryptocurrency wallet and for the stock and bond portions of the portfolio to determine if the credit union member has enough savings to build an emergency fund into their financial plan. To do this, complete the following steps:\n",
    "\n",
    "1. Create a Python list named `savings_data` that has two elements. The first element contains the total value of the cryptocurrency wallet. The second element contains the total value of the stock and bond portions of the portfolio.\n",
    "\n",
    "2. Use the `savings_data` list to create a Pandas DataFrame named `savings_df`, and then display this DataFrame. The function to create the DataFrame should take the following three parameters:\n",
    "\n",
    "    - `savings_data`: Use the list that you just created.\n",
    "\n",
    "    - `columns`: Set this parameter equal to a Python list with a single value called `amount`.\n",
    "\n",
    "    - `index`: Set this parameter equal to a Python list with the values of `crypto` and `stock/bond`.\n",
    "\n",
    "3. Use the `savings_df` DataFrame to plot a pie chart that visualizes the composition of the member’s portfolio. The y-axis of the pie chart uses `amount`. Be sure to add a title.\n",
    "\n",
    "4. Using Python, determine if the current portfolio has enough to create an emergency fund as part of the member’s financial plan. Ideally, an emergency fund should equal to three times the member’s monthly income. To do this, implement the following steps:\n",
    "\n",
    "    1. Create a variable named `emergency_fund_value`, and set it equal to three times the value of the member’s `monthly_income` of $12000. (You set this earlier in Part 1).\n",
    "\n",
    "    2. Create a series of three if statements to determine if the member’s total portfolio is large enough to fund the emergency portfolio:\n",
    "\n",
    "        1. If the total portfolio value is greater than the emergency fund value, display a message congratulating the member for having enough money in this fund.\n",
    "\n",
    "        2. Else if the total portfolio value is equal to the emergency fund value, display a message congratulating the member on reaching this important financial goal.\n",
    "\n",
    "        3. Else the total portfolio is less than the emergency fund value, so display a message showing how many dollars away the member is from reaching the goal. (Subtract the total portfolio value from the emergency fund value.)\n"
   ]
  },
  {
   "cell_type": "markdown",
   "metadata": {},
   "source": [
    "#### Step 1: Create a Python list named `savings_data` that has two elements. The first element contains the total value of the cryptocurrency wallet. The second element contains the total value of the stock and bond portions of the portfolio."
   ]
  },
  {
   "cell_type": "code",
   "execution_count": 52,
   "metadata": {},
   "outputs": [
    {
     "data": {
      "text/plain": [
       "['Crypto', 'Stock/Bond', 'Total']"
      ]
     },
     "execution_count": 52,
     "metadata": {},
     "output_type": "execute_result"
    }
   ],
   "source": [
    "# Consolidate financial assets data into a Python list\n",
    "savings_data = [\"Crypto\", \"Stock/Bond\", \"Total\"] \n",
    "\n",
    "# Review the Python list savings_data\n",
    "savings_data    "
   ]
  },
  {
   "cell_type": "markdown",
   "metadata": {},
   "source": [
    "#### Step 2: Use the `savings_data` list to create a Pandas DataFrame named `savings_df`, and then display this DataFrame. The function to create the DataFrame should take the following three parameters:\n",
    "\n",
    "- `savings_data`: Use the list that you just created.\n",
    "\n",
    "- `columns`: Set this parameter equal to a Python list with a single value called `amount`.\n",
    "\n",
    "- `index`: Set this parameter equal to a Python list with the values of `crypto` and `stock/bond`.\n"
   ]
  },
  {
   "cell_type": "code",
   "execution_count": 53,
   "metadata": {},
   "outputs": [
    {
     "data": {
      "text/html": [
       "<div>\n",
       "<style scoped>\n",
       "    .dataframe tbody tr th:only-of-type {\n",
       "        vertical-align: middle;\n",
       "    }\n",
       "\n",
       "    .dataframe tbody tr th {\n",
       "        vertical-align: top;\n",
       "    }\n",
       "\n",
       "    .dataframe thead th {\n",
       "        text-align: right;\n",
       "    }\n",
       "</style>\n",
       "<table border=\"1\" class=\"dataframe\">\n",
       "  <thead>\n",
       "    <tr style=\"text-align: right;\">\n",
       "      <th></th>\n",
       "      <th>Amount</th>\n",
       "    </tr>\n",
       "  </thead>\n",
       "  <tbody>\n",
       "    <tr>\n",
       "      <th>Crypto</th>\n",
       "      <td>56193.727</td>\n",
       "    </tr>\n",
       "    <tr>\n",
       "      <th>Stock/Bond</th>\n",
       "      <td>65382.600</td>\n",
       "    </tr>\n",
       "    <tr>\n",
       "      <th>Total</th>\n",
       "      <td>121576.327</td>\n",
       "    </tr>\n",
       "  </tbody>\n",
       "</table>\n",
       "</div>"
      ],
      "text/plain": [
       "                Amount\n",
       "Crypto       56193.727\n",
       "Stock/Bond   65382.600\n",
       "Total       121576.327"
      ]
     },
     "execution_count": 53,
     "metadata": {},
     "output_type": "execute_result"
    }
   ],
   "source": [
    "# Create a Pandas DataFrame called savings_df \n",
    "savings_df = pd.DataFrame(\n",
    "    {'Amount':[total_crypto_wallet, total_stocks_bonds, total_portfolio]},\n",
    "    index=savings_data\n",
    ")\n",
    "\n",
    "# Display the savings_df DataFrame\n",
    "savings_df"
   ]
  },
  {
   "cell_type": "markdown",
   "metadata": {},
   "source": [
    "#### Step 3: Use the `savings_df` DataFrame to plot a pie chart that visualizes the composition of the member’s portfolio. The y-axis of the pie chart uses `amount`. Be sure to add a title."
   ]
  },
  {
   "cell_type": "code",
   "execution_count": 54,
   "metadata": {},
   "outputs": [
    {
     "data": {
      "text/plain": [
       "<AxesSubplot:title={'center':'Portfolio Composition - Crypto v. Stock/Bond Holdings'}, ylabel='Amount'>"
      ]
     },
     "execution_count": 54,
     "metadata": {},
     "output_type": "execute_result"
    },
    {
     "data": {
      "image/png": "[encoded data removed]",
      "text/plain": [
       "<Figure size 432x288 with 1 Axes>"
      ]
     },
     "metadata": {},
     "output_type": "display_data"
    }
   ],
   "source": [
    "# Plot the total value of the member's portfolio (crypto and stock/bond) in a pie chart\n",
    "savings_df.drop(\"Total\").plot.pie(y='Amount', title='Portfolio Composition - Crypto v. Stock/Bond Holdings')"
   ]
  },
  {
   "cell_type": "markdown",
   "metadata": {},
   "source": [
    "#### Step 4: Using Python, determine if the current portfolio has enough to create an emergency fund as part of the member’s financial plan. Ideally, an emergency fund should equal to three times the member’s monthly income. To do this, implement the following steps:\n",
    "\n",
    "Step 1. Create a variable named `emergency_fund_value`, and set it equal to three times the value of the member’s `monthly_income` of 12000. (You set this earlier in Part 1).\n",
    "\n",
    "Step 2. Create a series of three if statements to determine if the member’s total portfolio is large enough to fund the emergency portfolio:\n",
    "\n",
    "* If the total portfolio value is greater than the emergency fund value, display a message congratulating the member for having enough money in this fund.\n",
    "\n",
    "* Else if the total portfolio value is equal to the emergency fund value, display a message congratulating the member on reaching this important financial goal.\n",
    "\n",
    "* Else the total portfolio is less than the emergency fund value, so display a message showing how many dollars away the member is from reaching the goal. (Subtract the total portfolio value from the emergency fund value.)\n"
   ]
  },
  {
   "cell_type": "markdown",
   "metadata": {},
   "source": [
    "##### Step 4-1: Create a variable named `emergency_fund_value`, and set it equal to three times the value of the member’s `monthly_income` of 12000. (You set this earlier in Part 1)."
   ]
  },
  {
   "cell_type": "code",
   "execution_count": 55,
   "metadata": {},
   "outputs": [
    {
     "data": {
      "text/plain": [
       "36000"
      ]
     },
     "execution_count": 55,
     "metadata": {},
     "output_type": "execute_result"
    }
   ],
   "source": [
    "# reserve_months = 3\n",
    "\n",
    "# Create a variable named emergency_fund_value\n",
    "emergency_fund_value = monthly_income * reserve_months\n",
    "\n",
    "emergency_fund_value"
   ]
  },
  {
   "cell_type": "markdown",
   "metadata": {},
   "source": [
    "##### Step 4-2: Create a series of three if statements to determine if the member’s total portfolio is large enough to fund the emergency portfolio:\n",
    "\n",
    "* If the total portfolio value is greater than the emergency fund value, display a message congratulating the member for having enough money in this fund.\n",
    "\n",
    "* Else if the total portfolio value is equal to the emergency fund value, display a message congratulating the member on reaching this important financial goal.\n",
    "\n",
    "* Else the total portfolio is less than the emergency fund value, so display a message showing how many dollars away the member is from reaching the goal. (Subtract the total portfolio value from the emergency fund value.)"
   ]
  },
  {
   "cell_type": "code",
   "execution_count": 56,
   "metadata": {},
   "outputs": [
    {
     "name": "stdout",
     "output_type": "stream",
     "text": [
      "Congratulations!!! You have saved enough in this fund for your goal of a 3 month reserve, plus an additional 7.13 months.\n"
     ]
    }
   ],
   "source": [
    "# Evaluate the possibility of creating an emergency fund with 3 conditions:\n",
    "if total_portfolio > emergency_fund_value:\n",
    "    print(f\"Congratulations!!! You have saved enough in this fund for your goal of a {reserve_months} month reserve, plus an additional {((total_portfolio / monthly_income) - reserve_months):,.2f} months.\")\n",
    "if total_portfolio == emergency_fund_value: \n",
    "    print(f\"Great Work!! You've reached this important financial goal of having a {reserve_months} month reserve.\")\n",
    "if total_portfolio < emergency_fund_value:\n",
    "    print(f\"Way to go! Only ${(emergency_fund_value - total_portfolio):,.2f} away from reaching your goal of having {reserve_months} months' expenses for an emergency fund.\")"
   ]
  },
  {
   "cell_type": "markdown",
   "metadata": {},
   "source": [
    "## Part 2: Create a Financial Planner for Retirement"
   ]
  },
  {
   "cell_type": "markdown",
   "metadata": {},
   "source": [
    "### Create the Monte Carlo Simulation\n",
    "\n",
    "In this section, you’ll use the MCForecastTools library to create a Monte Carlo simulation for the member’s savings portfolio. To do this, complete the following steps:\n",
    "\n",
    "1. Make an API call via the Alpaca SDK to get 10 years of historical closing prices for a traditional 60/40 portfolio split: 60% stocks (SPY) and 40% bonds (AGG).\n",
    "\n",
    "2. Run a Monte Carlo simulation of 500 samples and 30 years for the 60/40 portfolio, and then plot the results.The following image shows the overlay line plot resulting from a simulation with these characteristics. However, because a random number generator is used to run each live Monte Carlo simulation, your image will differ slightly from this exact image:\n",
    "\n",
    "![A screenshot depicts the resulting plot.](Images/5-4-monte-carlo-line-plot.png)\n",
    "\n",
    "3. Plot the probability distribution of the Monte Carlo simulation. Plot the probability distribution of the Monte Carlo simulation. The following image shows the histogram plot resulting from a simulation with these characteristics. However, because a random number generator is used to run each live Monte Carlo simulation, your image will differ slightly from this exact image:\n",
    "\n",
    "![A screenshot depicts the histogram plot.](Images/5-4-monte-carlo-histogram.png)\n",
    "\n",
    "4. Generate the summary statistics for the Monte Carlo simulation.\n",
    "\n"
   ]
  },
  {
   "cell_type": "markdown",
   "metadata": {},
   "source": [
    "#### Step 1: Make an API call via the Alpaca SDK to get 10 years of historical closing prices for a traditional 60/40 portfolio split: 60% stocks (SPY) and 40% bonds (AGG)."
   ]
  },
  {
   "cell_type": "code",
   "execution_count": 57,
   "metadata": {},
   "outputs": [
    {
     "data": {
      "text/plain": [
       "'2011-02-09T00:00:00-05:00'"
      ]
     },
     "execution_count": 57,
     "metadata": {},
     "output_type": "execute_result"
    }
   ],
   "source": [
    "### Set start and end dates of 10 years back from your current date\n",
    "### Alternatively, you can use an end date of 2020-08-07 and work 10 years back from that date \n",
    "start_date_ten = pd.Timestamp(ten_year_ago, tz=\"America/New_York\").isoformat()\n",
    "end_date = pd.Timestamp(use_for_today_date, tz=\"America/New_York\").isoformat()\n",
    "\n",
    "start_date_ten"
   ]
  },
  {
   "cell_type": "code",
   "execution_count": 41,
   "metadata": {},
   "outputs": [],
   "source": [
    "### Set start and end dates of 10 years back from your current date\n",
    "### Alternatively, you can use an end date of 2020-08-07 and work 10 years back from that date \n",
    "#start_date = pd.Timestamp(\"2011-01-26\", tz=\"America/New_York\").isoformat()\n",
    "#end_date = pd.Timestamp(use_for_today_date, tz=\"America/New_York\").isoformat()\n",
    "\n",
    "\n",
    "#start_date\n",
    "## today_date = str(datetime.datetime.now()).split()[0]\n",
    "## one_year_ago = str(datetime.datetime.now() - datetime.timedelta(days=1*365)).split()[0]\n",
    "## three_year_ago = str(datetime.datetime.now() - datetime.timedelta(days=3*365)).split()[0]"
   ]
  },
  {
   "cell_type": "code",
   "execution_count": 58,
   "metadata": {},
   "outputs": [
    {
     "name": "stdout",
     "output_type": "stream",
     "text": [
      "                                AGG                                     \\\n",
      "                               open     high     low   close    volume   \n",
      "time                                                                     \n",
      "2020-09-11 00:00:00-04:00  118.4200  118.490  118.24  118.36  11853287   \n",
      "2020-09-14 00:00:00-04:00  118.4700  118.490  118.31  118.37  11222770   \n",
      "2020-09-15 00:00:00-04:00  118.2900  118.425  118.29  118.38   3635547   \n",
      "2020-09-16 00:00:00-04:00  118.5300  118.530  118.20  118.32   5190572   \n",
      "2020-09-17 00:00:00-04:00  118.4201  118.520  118.33  118.36   4263541   \n",
      "\n",
      "                              SPY                                         \n",
      "                             open      high       low   close     volume  \n",
      "time                                                                      \n",
      "2020-09-11 00:00:00-04:00  335.82  336.9700  331.0000  334.08  140223556  \n",
      "2020-09-14 00:00:00-04:00  337.49  340.3800  334.2208  338.42  109684157  \n",
      "2020-09-15 00:00:00-04:00  341.12  342.0200  338.4683  340.15   43980284  \n",
      "2020-09-16 00:00:00-04:00  341.51  343.0600  338.5200  338.81   70521698  \n",
      "2020-09-17 00:00:00-04:00  333.56  337.6996  332.9910  335.86   80778657  \n",
      "                                AGG                                     \\\n",
      "                               open    high       low   close   volume   \n",
      "time                                                                     \n",
      "2021-01-28 00:00:00-05:00  117.4800  117.49  117.2900  117.43  4440895   \n",
      "2021-01-29 00:00:00-05:00  117.1563  117.40  116.5625  117.32  7119889   \n",
      "2021-02-01 00:00:00-05:00  117.2000  117.26  117.0915  117.21  5469814   \n",
      "2021-02-02 00:00:00-05:00  116.9900  117.09  116.9700  117.05  4694446   \n",
      "2021-02-03 00:00:00-05:00  116.9700  116.99  116.8700  116.89  5060310   \n",
      "\n",
      "                               SPY                                       \n",
      "                              open    high       low   close     volume  \n",
      "time                                                                     \n",
      "2021-01-28 00:00:00-05:00  376.360  381.93  375.8900  377.60   75229306  \n",
      "2021-01-29 00:00:00-05:00  375.630  376.67  368.2700  370.19  106397082  \n",
      "2021-02-01 00:00:00-05:00  373.720  377.34  370.3760  376.18   64056510  \n",
      "2021-02-02 00:00:00-05:00  379.650  383.22  376.3181  381.54   53979346  \n",
      "2021-02-03 00:00:00-05:00  382.435  383.70  380.4800  381.86   43305661  \n"
     ]
    }
   ],
   "source": [
    "# Use the Alpaca get_barset function to make the API call to get the 10 years worth of pricing data\n",
    "# The tickers and timeframe parameters should have been set in Part 1 of this activity \n",
    "# The start and end dates should be updated with the information set above\n",
    "# Remember to add the df property to the end of the call so the response is returned as a DataFrame\n",
    "prices_df = alpaca.get_barset(\n",
    "    tickers,\n",
    "    timeframe,\n",
    "    start=start_date_ten,\n",
    "    end=end_date\n",
    ").df\n",
    "\n",
    "# Display both the first and last five rows of the DataFrame\n",
    "print(prices_df.head())\n",
    "print(prices_df.tail())"
   ]
  },
  {
   "cell_type": "markdown",
   "metadata": {},
   "source": [
    "#### Step 2: Run a Monte Carlo simulation of 500 samples and 30 years for the 60/40 portfolio, and then plot the results."
   ]
  },
  {
   "cell_type": "code",
   "execution_count": 44,
   "metadata": {},
   "outputs": [
    {
     "data": {
      "text/html": [
       "<div>\n",
       "<style scoped>\n",
       "    .dataframe tbody tr th:only-of-type {\n",
       "        vertical-align: middle;\n",
       "    }\n",
       "\n",
       "    .dataframe tbody tr th {\n",
       "        vertical-align: top;\n",
       "    }\n",
       "\n",
       "    .dataframe thead tr th {\n",
       "        text-align: left;\n",
       "    }\n",
       "\n",
       "    .dataframe thead tr:last-of-type th {\n",
       "        text-align: right;\n",
       "    }\n",
       "</style>\n",
       "<table border=\"1\" class=\"dataframe\">\n",
       "  <thead>\n",
       "    <tr>\n",
       "      <th></th>\n",
       "      <th colspan=\"6\" halign=\"left\">AGG</th>\n",
       "      <th colspan=\"6\" halign=\"left\">SPY</th>\n",
       "    </tr>\n",
       "    <tr>\n",
       "      <th></th>\n",
       "      <th>open</th>\n",
       "      <th>high</th>\n",
       "      <th>low</th>\n",
       "      <th>close</th>\n",
       "      <th>volume</th>\n",
       "      <th>daily_return</th>\n",
       "      <th>open</th>\n",
       "      <th>high</th>\n",
       "      <th>low</th>\n",
       "      <th>close</th>\n",
       "      <th>volume</th>\n",
       "      <th>daily_return</th>\n",
       "    </tr>\n",
       "    <tr>\n",
       "      <th>time</th>\n",
       "      <th></th>\n",
       "      <th></th>\n",
       "      <th></th>\n",
       "      <th></th>\n",
       "      <th></th>\n",
       "      <th></th>\n",
       "      <th></th>\n",
       "      <th></th>\n",
       "      <th></th>\n",
       "      <th></th>\n",
       "      <th></th>\n",
       "      <th></th>\n",
       "    </tr>\n",
       "  </thead>\n",
       "  <tbody>\n",
       "    <tr>\n",
       "      <th>2020-09-11 00:00:00-04:00</th>\n",
       "      <td>118.4200</td>\n",
       "      <td>118.490</td>\n",
       "      <td>118.24</td>\n",
       "      <td>118.36</td>\n",
       "      <td>11853287</td>\n",
       "      <td>NaN</td>\n",
       "      <td>335.82</td>\n",
       "      <td>336.9700</td>\n",
       "      <td>331.0000</td>\n",
       "      <td>334.08</td>\n",
       "      <td>140223556</td>\n",
       "      <td>NaN</td>\n",
       "    </tr>\n",
       "    <tr>\n",
       "      <th>2020-09-14 00:00:00-04:00</th>\n",
       "      <td>118.4700</td>\n",
       "      <td>118.490</td>\n",
       "      <td>118.31</td>\n",
       "      <td>118.37</td>\n",
       "      <td>11222770</td>\n",
       "      <td>0.000084</td>\n",
       "      <td>337.49</td>\n",
       "      <td>340.3800</td>\n",
       "      <td>334.2208</td>\n",
       "      <td>338.42</td>\n",
       "      <td>109684157</td>\n",
       "      <td>0.012991</td>\n",
       "    </tr>\n",
       "    <tr>\n",
       "      <th>2020-09-15 00:00:00-04:00</th>\n",
       "      <td>118.2900</td>\n",
       "      <td>118.425</td>\n",
       "      <td>118.29</td>\n",
       "      <td>118.38</td>\n",
       "      <td>3635547</td>\n",
       "      <td>0.000084</td>\n",
       "      <td>341.12</td>\n",
       "      <td>342.0200</td>\n",
       "      <td>338.4683</td>\n",
       "      <td>340.15</td>\n",
       "      <td>43980284</td>\n",
       "      <td>0.005112</td>\n",
       "    </tr>\n",
       "    <tr>\n",
       "      <th>2020-09-16 00:00:00-04:00</th>\n",
       "      <td>118.5300</td>\n",
       "      <td>118.530</td>\n",
       "      <td>118.20</td>\n",
       "      <td>118.32</td>\n",
       "      <td>5190572</td>\n",
       "      <td>-0.000507</td>\n",
       "      <td>341.51</td>\n",
       "      <td>343.0600</td>\n",
       "      <td>338.5200</td>\n",
       "      <td>338.81</td>\n",
       "      <td>70521698</td>\n",
       "      <td>-0.003939</td>\n",
       "    </tr>\n",
       "    <tr>\n",
       "      <th>2020-09-17 00:00:00-04:00</th>\n",
       "      <td>118.4201</td>\n",
       "      <td>118.520</td>\n",
       "      <td>118.33</td>\n",
       "      <td>118.36</td>\n",
       "      <td>4263541</td>\n",
       "      <td>0.000338</td>\n",
       "      <td>333.56</td>\n",
       "      <td>337.6996</td>\n",
       "      <td>332.9910</td>\n",
       "      <td>335.86</td>\n",
       "      <td>80778657</td>\n",
       "      <td>-0.008707</td>\n",
       "    </tr>\n",
       "  </tbody>\n",
       "</table>\n",
       "</div>"
      ],
      "text/plain": [
       "                                AGG                                     \\\n",
       "                               open     high     low   close    volume   \n",
       "time                                                                     \n",
       "2020-09-11 00:00:00-04:00  118.4200  118.490  118.24  118.36  11853287   \n",
       "2020-09-14 00:00:00-04:00  118.4700  118.490  118.31  118.37  11222770   \n",
       "2020-09-15 00:00:00-04:00  118.2900  118.425  118.29  118.38   3635547   \n",
       "2020-09-16 00:00:00-04:00  118.5300  118.530  118.20  118.32   5190572   \n",
       "2020-09-17 00:00:00-04:00  118.4201  118.520  118.33  118.36   4263541   \n",
       "\n",
       "                                           SPY                              \\\n",
       "                          daily_return    open      high       low   close   \n",
       "time                                                                         \n",
       "2020-09-11 00:00:00-04:00          NaN  335.82  336.9700  331.0000  334.08   \n",
       "2020-09-14 00:00:00-04:00     0.000084  337.49  340.3800  334.2208  338.42   \n",
       "2020-09-15 00:00:00-04:00     0.000084  341.12  342.0200  338.4683  340.15   \n",
       "2020-09-16 00:00:00-04:00    -0.000507  341.51  343.0600  338.5200  338.81   \n",
       "2020-09-17 00:00:00-04:00     0.000338  333.56  337.6996  332.9910  335.86   \n",
       "\n",
       "                                                   \n",
       "                              volume daily_return  \n",
       "time                                               \n",
       "2020-09-11 00:00:00-04:00  140223556          NaN  \n",
       "2020-09-14 00:00:00-04:00  109684157     0.012991  \n",
       "2020-09-15 00:00:00-04:00   43980284     0.005112  \n",
       "2020-09-16 00:00:00-04:00   70521698    -0.003939  \n",
       "2020-09-17 00:00:00-04:00   80778657    -0.008707  "
      ]
     },
     "execution_count": 44,
     "metadata": {},
     "output_type": "execute_result"
    }
   ],
   "source": [
    "# Configure the Monte Carlo simulation to forecast 30 years cumulative returns\n",
    "# The weights should be split 40% to AGG and 60% to SPY.\n",
    "# Run 500 samples.\n",
    "MC_trad_weight = MCSimulation(\n",
    "    portfolio_data = prices_df,\n",
    "    weights = [.60,.40],\n",
    "    num_simulation = 500,\n",
    "    num_trading_days = 252*30\n",
    ")\n",
    "\n",
    "# Review the simulation input data\n",
    "MC_trad_weight.portfolio_data.head()\n"
   ]
  },
  {
   "cell_type": "code",
   "execution_count": 47,
   "metadata": {},
   "outputs": [
    {
     "name": "stdout",
     "output_type": "stream",
     "text": [
      "Running Monte Carlo simulation number 0.\n",
      "Running Monte Carlo simulation number 10.\n",
      "Running Monte Carlo simulation number 20.\n",
      "Running Monte Carlo simulation number 30.\n",
      "Running Monte Carlo simulation number 40.\n",
      "Running Monte Carlo simulation number 50.\n",
      "Running Monte Carlo simulation number 60.\n",
      "Running Monte Carlo simulation number 70.\n",
      "Running Monte Carlo simulation number 80.\n",
      "Running Monte Carlo simulation number 90.\n",
      "Running Monte Carlo simulation number 100.\n",
      "Running Monte Carlo simulation number 110.\n",
      "Running Monte Carlo simulation number 120.\n",
      "Running Monte Carlo simulation number 130.\n",
      "Running Monte Carlo simulation number 140.\n",
      "Running Monte Carlo simulation number 150.\n",
      "Running Monte Carlo simulation number 160.\n",
      "Running Monte Carlo simulation number 170.\n",
      "Running Monte Carlo simulation number 180.\n",
      "Running Monte Carlo simulation number 190.\n",
      "Running Monte Carlo simulation number 200.\n",
      "Running Monte Carlo simulation number 210.\n",
      "Running Monte Carlo simulation number 220.\n",
      "Running Monte Carlo simulation number 230.\n",
      "Running Monte Carlo simulation number 240.\n",
      "Running Monte Carlo simulation number 250.\n",
      "Running Monte Carlo simulation number 260.\n",
      "Running Monte Carlo simulation number 270.\n",
      "Running Monte Carlo simulation number 280.\n",
      "Running Monte Carlo simulation number 290.\n",
      "Running Monte Carlo simulation number 300.\n",
      "Running Monte Carlo simulation number 310.\n",
      "Running Monte Carlo simulation number 320.\n",
      "Running Monte Carlo simulation number 330.\n",
      "Running Monte Carlo simulation number 340.\n",
      "Running Monte Carlo simulation number 350.\n",
      "Running Monte Carlo simulation number 360.\n",
      "Running Monte Carlo simulation number 370.\n",
      "Running Monte Carlo simulation number 380.\n",
      "Running Monte Carlo simulation number 390.\n",
      "Running Monte Carlo simulation number 400.\n",
      "Running Monte Carlo simulation number 410.\n",
      "Running Monte Carlo simulation number 420.\n",
      "Running Monte Carlo simulation number 430.\n",
      "Running Monte Carlo simulation number 440.\n",
      "Running Monte Carlo simulation number 450.\n",
      "Running Monte Carlo simulation number 460.\n",
      "Running Monte Carlo simulation number 470.\n",
      "Running Monte Carlo simulation number 480.\n",
      "Running Monte Carlo simulation number 490.\n"
     ]
    },
    {
     "data": {
      "text/html": [
       "<div>\n",
       "<style scoped>\n",
       "    .dataframe tbody tr th:only-of-type {\n",
       "        vertical-align: middle;\n",
       "    }\n",
       "\n",
       "    .dataframe tbody tr th {\n",
       "        vertical-align: top;\n",
       "    }\n",
       "\n",
       "    .dataframe thead th {\n",
       "        text-align: right;\n",
       "    }\n",
       "</style>\n",
       "<table border=\"1\" class=\"dataframe\">\n",
       "  <thead>\n",
       "    <tr style=\"text-align: right;\">\n",
       "      <th></th>\n",
       "      <th>0</th>\n",
       "      <th>1</th>\n",
       "      <th>2</th>\n",
       "      <th>3</th>\n",
       "      <th>4</th>\n",
       "      <th>5</th>\n",
       "      <th>6</th>\n",
       "      <th>7</th>\n",
       "      <th>8</th>\n",
       "      <th>9</th>\n",
       "      <th>...</th>\n",
       "      <th>490</th>\n",
       "      <th>491</th>\n",
       "      <th>492</th>\n",
       "      <th>493</th>\n",
       "      <th>494</th>\n",
       "      <th>495</th>\n",
       "      <th>496</th>\n",
       "      <th>497</th>\n",
       "      <th>498</th>\n",
       "      <th>499</th>\n",
       "    </tr>\n",
       "  </thead>\n",
       "  <tbody>\n",
       "    <tr>\n",
       "      <th>0</th>\n",
       "      <td>1.000000</td>\n",
       "      <td>1.000000</td>\n",
       "      <td>1.000000</td>\n",
       "      <td>1.000000</td>\n",
       "      <td>1.000000</td>\n",
       "      <td>1.000000</td>\n",
       "      <td>1.000000</td>\n",
       "      <td>1.000000</td>\n",
       "      <td>1.000000</td>\n",
       "      <td>1.000000</td>\n",
       "      <td>...</td>\n",
       "      <td>1.000000</td>\n",
       "      <td>1.000000</td>\n",
       "      <td>1.000000</td>\n",
       "      <td>1.000000</td>\n",
       "      <td>1.000000</td>\n",
       "      <td>1.000000</td>\n",
       "      <td>1.000000</td>\n",
       "      <td>1.000000</td>\n",
       "      <td>1.000000</td>\n",
       "      <td>1.000000</td>\n",
       "    </tr>\n",
       "    <tr>\n",
       "      <th>1</th>\n",
       "      <td>1.011149</td>\n",
       "      <td>1.004955</td>\n",
       "      <td>1.001655</td>\n",
       "      <td>0.999878</td>\n",
       "      <td>1.002031</td>\n",
       "      <td>0.997584</td>\n",
       "      <td>1.000156</td>\n",
       "      <td>1.000125</td>\n",
       "      <td>0.997853</td>\n",
       "      <td>1.000431</td>\n",
       "      <td>...</td>\n",
       "      <td>0.997081</td>\n",
       "      <td>0.993614</td>\n",
       "      <td>1.005625</td>\n",
       "      <td>0.993860</td>\n",
       "      <td>0.997203</td>\n",
       "      <td>1.004397</td>\n",
       "      <td>0.999704</td>\n",
       "      <td>1.008883</td>\n",
       "      <td>0.996737</td>\n",
       "      <td>0.994365</td>\n",
       "    </tr>\n",
       "    <tr>\n",
       "      <th>2</th>\n",
       "      <td>1.018128</td>\n",
       "      <td>1.004833</td>\n",
       "      <td>1.008691</td>\n",
       "      <td>1.003311</td>\n",
       "      <td>1.012331</td>\n",
       "      <td>1.000654</td>\n",
       "      <td>0.999561</td>\n",
       "      <td>1.008236</td>\n",
       "      <td>0.994327</td>\n",
       "      <td>1.005101</td>\n",
       "      <td>...</td>\n",
       "      <td>0.995909</td>\n",
       "      <td>0.993425</td>\n",
       "      <td>0.997594</td>\n",
       "      <td>0.991070</td>\n",
       "      <td>1.003907</td>\n",
       "      <td>1.006429</td>\n",
       "      <td>0.998906</td>\n",
       "      <td>1.016328</td>\n",
       "      <td>0.997184</td>\n",
       "      <td>1.002307</td>\n",
       "    </tr>\n",
       "    <tr>\n",
       "      <th>3</th>\n",
       "      <td>1.020993</td>\n",
       "      <td>1.000063</td>\n",
       "      <td>1.000072</td>\n",
       "      <td>0.999676</td>\n",
       "      <td>1.013572</td>\n",
       "      <td>0.997421</td>\n",
       "      <td>1.000722</td>\n",
       "      <td>1.003229</td>\n",
       "      <td>0.996736</td>\n",
       "      <td>1.002198</td>\n",
       "      <td>...</td>\n",
       "      <td>0.999521</td>\n",
       "      <td>0.994475</td>\n",
       "      <td>1.002529</td>\n",
       "      <td>0.989924</td>\n",
       "      <td>1.002527</td>\n",
       "      <td>1.001897</td>\n",
       "      <td>0.999221</td>\n",
       "      <td>1.012616</td>\n",
       "      <td>0.999149</td>\n",
       "      <td>1.005672</td>\n",
       "    </tr>\n",
       "    <tr>\n",
       "      <th>4</th>\n",
       "      <td>1.022561</td>\n",
       "      <td>1.003557</td>\n",
       "      <td>0.998329</td>\n",
       "      <td>1.004396</td>\n",
       "      <td>1.015952</td>\n",
       "      <td>0.996654</td>\n",
       "      <td>0.994336</td>\n",
       "      <td>0.999835</td>\n",
       "      <td>0.990621</td>\n",
       "      <td>0.998015</td>\n",
       "      <td>...</td>\n",
       "      <td>1.001238</td>\n",
       "      <td>0.999210</td>\n",
       "      <td>1.005604</td>\n",
       "      <td>0.989490</td>\n",
       "      <td>1.005037</td>\n",
       "      <td>0.995859</td>\n",
       "      <td>1.001968</td>\n",
       "      <td>1.017194</td>\n",
       "      <td>1.002654</td>\n",
       "      <td>1.002933</td>\n",
       "    </tr>\n",
       "    <tr>\n",
       "      <th>...</th>\n",
       "      <td>...</td>\n",
       "      <td>...</td>\n",
       "      <td>...</td>\n",
       "      <td>...</td>\n",
       "      <td>...</td>\n",
       "      <td>...</td>\n",
       "      <td>...</td>\n",
       "      <td>...</td>\n",
       "      <td>...</td>\n",
       "      <td>...</td>\n",
       "      <td>...</td>\n",
       "      <td>...</td>\n",
       "      <td>...</td>\n",
       "      <td>...</td>\n",
       "      <td>...</td>\n",
       "      <td>...</td>\n",
       "      <td>...</td>\n",
       "      <td>...</td>\n",
       "      <td>...</td>\n",
       "      <td>...</td>\n",
       "      <td>...</td>\n",
       "    </tr>\n",
       "    <tr>\n",
       "      <th>7556</th>\n",
       "      <td>21.012540</td>\n",
       "      <td>32.202828</td>\n",
       "      <td>38.556266</td>\n",
       "      <td>29.024064</td>\n",
       "      <td>18.088734</td>\n",
       "      <td>52.202334</td>\n",
       "      <td>47.439487</td>\n",
       "      <td>39.004608</td>\n",
       "      <td>80.722401</td>\n",
       "      <td>47.411456</td>\n",
       "      <td>...</td>\n",
       "      <td>24.801481</td>\n",
       "      <td>59.656166</td>\n",
       "      <td>25.348789</td>\n",
       "      <td>22.053142</td>\n",
       "      <td>19.875069</td>\n",
       "      <td>35.966964</td>\n",
       "      <td>41.538812</td>\n",
       "      <td>47.521648</td>\n",
       "      <td>44.129217</td>\n",
       "      <td>26.651902</td>\n",
       "    </tr>\n",
       "    <tr>\n",
       "      <th>7557</th>\n",
       "      <td>21.013084</td>\n",
       "      <td>32.008570</td>\n",
       "      <td>38.923946</td>\n",
       "      <td>29.137373</td>\n",
       "      <td>18.073175</td>\n",
       "      <td>51.852765</td>\n",
       "      <td>47.603399</td>\n",
       "      <td>38.772357</td>\n",
       "      <td>81.190106</td>\n",
       "      <td>47.744475</td>\n",
       "      <td>...</td>\n",
       "      <td>24.885950</td>\n",
       "      <td>59.695054</td>\n",
       "      <td>25.425668</td>\n",
       "      <td>21.966394</td>\n",
       "      <td>19.843873</td>\n",
       "      <td>36.198390</td>\n",
       "      <td>41.520797</td>\n",
       "      <td>48.030146</td>\n",
       "      <td>43.587482</td>\n",
       "      <td>26.859157</td>\n",
       "    </tr>\n",
       "    <tr>\n",
       "      <th>7558</th>\n",
       "      <td>21.016076</td>\n",
       "      <td>32.005765</td>\n",
       "      <td>38.879772</td>\n",
       "      <td>29.256771</td>\n",
       "      <td>18.044995</td>\n",
       "      <td>51.806904</td>\n",
       "      <td>47.486544</td>\n",
       "      <td>38.647429</td>\n",
       "      <td>82.103272</td>\n",
       "      <td>47.876156</td>\n",
       "      <td>...</td>\n",
       "      <td>25.007723</td>\n",
       "      <td>60.023647</td>\n",
       "      <td>25.522033</td>\n",
       "      <td>21.994525</td>\n",
       "      <td>19.614308</td>\n",
       "      <td>36.543147</td>\n",
       "      <td>41.799686</td>\n",
       "      <td>48.428213</td>\n",
       "      <td>43.786424</td>\n",
       "      <td>26.806573</td>\n",
       "    </tr>\n",
       "    <tr>\n",
       "      <th>7559</th>\n",
       "      <td>21.044445</td>\n",
       "      <td>32.114341</td>\n",
       "      <td>38.611963</td>\n",
       "      <td>29.275883</td>\n",
       "      <td>17.991530</td>\n",
       "      <td>51.614059</td>\n",
       "      <td>47.511666</td>\n",
       "      <td>38.849569</td>\n",
       "      <td>81.861911</td>\n",
       "      <td>47.978243</td>\n",
       "      <td>...</td>\n",
       "      <td>25.175708</td>\n",
       "      <td>60.266985</td>\n",
       "      <td>25.710309</td>\n",
       "      <td>21.869705</td>\n",
       "      <td>19.576434</td>\n",
       "      <td>36.755456</td>\n",
       "      <td>41.796275</td>\n",
       "      <td>48.474592</td>\n",
       "      <td>43.703588</td>\n",
       "      <td>26.739660</td>\n",
       "    </tr>\n",
       "    <tr>\n",
       "      <th>7560</th>\n",
       "      <td>20.936826</td>\n",
       "      <td>32.145938</td>\n",
       "      <td>38.541148</td>\n",
       "      <td>29.395693</td>\n",
       "      <td>18.064052</td>\n",
       "      <td>51.922653</td>\n",
       "      <td>47.434015</td>\n",
       "      <td>39.077658</td>\n",
       "      <td>82.281534</td>\n",
       "      <td>48.383964</td>\n",
       "      <td>...</td>\n",
       "      <td>25.379013</td>\n",
       "      <td>60.174807</td>\n",
       "      <td>25.764627</td>\n",
       "      <td>21.847996</td>\n",
       "      <td>19.562970</td>\n",
       "      <td>36.952245</td>\n",
       "      <td>41.925934</td>\n",
       "      <td>48.249350</td>\n",
       "      <td>43.619784</td>\n",
       "      <td>26.770048</td>\n",
       "    </tr>\n",
       "  </tbody>\n",
       "</table>\n",
       "<p>7561 rows × 500 columns</p>\n",
       "</div>"
      ],
      "text/plain": [
       "            0          1          2          3          4          5    \\\n",
       "0      1.000000   1.000000   1.000000   1.000000   1.000000   1.000000   \n",
       "1      1.011149   1.004955   1.001655   0.999878   1.002031   0.997584   \n",
       "2      1.018128   1.004833   1.008691   1.003311   1.012331   1.000654   \n",
       "3      1.020993   1.000063   1.000072   0.999676   1.013572   0.997421   \n",
       "4      1.022561   1.003557   0.998329   1.004396   1.015952   0.996654   \n",
       "...         ...        ...        ...        ...        ...        ...   \n",
       "7556  21.012540  32.202828  38.556266  29.024064  18.088734  52.202334   \n",
       "7557  21.013084  32.008570  38.923946  29.137373  18.073175  51.852765   \n",
       "7558  21.016076  32.005765  38.879772  29.256771  18.044995  51.806904   \n",
       "7559  21.044445  32.114341  38.611963  29.275883  17.991530  51.614059   \n",
       "7560  20.936826  32.145938  38.541148  29.395693  18.064052  51.922653   \n",
       "\n",
       "            6          7          8          9    ...        490        491  \\\n",
       "0      1.000000   1.000000   1.000000   1.000000  ...   1.000000   1.000000   \n",
       "1      1.000156   1.000125   0.997853   1.000431  ...   0.997081   0.993614   \n",
       "2      0.999561   1.008236   0.994327   1.005101  ...   0.995909   0.993425   \n",
       "3      1.000722   1.003229   0.996736   1.002198  ...   0.999521   0.994475   \n",
       "4      0.994336   0.999835   0.990621   0.998015  ...   1.001238   0.999210   \n",
       "...         ...        ...        ...        ...  ...        ...        ...   \n",
       "7556  47.439487  39.004608  80.722401  47.411456  ...  24.801481  59.656166   \n",
       "7557  47.603399  38.772357  81.190106  47.744475  ...  24.885950  59.695054   \n",
       "7558  47.486544  38.647429  82.103272  47.876156  ...  25.007723  60.023647   \n",
       "7559  47.511666  38.849569  81.861911  47.978243  ...  25.175708  60.266985   \n",
       "7560  47.434015  39.077658  82.281534  48.383964  ...  25.379013  60.174807   \n",
       "\n",
       "            492        493        494        495        496        497  \\\n",
       "0      1.000000   1.000000   1.000000   1.000000   1.000000   1.000000   \n",
       "1      1.005625   0.993860   0.997203   1.004397   0.999704   1.008883   \n",
       "2      0.997594   0.991070   1.003907   1.006429   0.998906   1.016328   \n",
       "3      1.002529   0.989924   1.002527   1.001897   0.999221   1.012616   \n",
       "4      1.005604   0.989490   1.005037   0.995859   1.001968   1.017194   \n",
       "...         ...        ...        ...        ...        ...        ...   \n",
       "7556  25.348789  22.053142  19.875069  35.966964  41.538812  47.521648   \n",
       "7557  25.425668  21.966394  19.843873  36.198390  41.520797  48.030146   \n",
       "7558  25.522033  21.994525  19.614308  36.543147  41.799686  48.428213   \n",
       "7559  25.710309  21.869705  19.576434  36.755456  41.796275  48.474592   \n",
       "7560  25.764627  21.847996  19.562970  36.952245  41.925934  48.249350   \n",
       "\n",
       "            498        499  \n",
       "0      1.000000   1.000000  \n",
       "1      0.996737   0.994365  \n",
       "2      0.997184   1.002307  \n",
       "3      0.999149   1.005672  \n",
       "4      1.002654   1.002933  \n",
       "...         ...        ...  \n",
       "7556  44.129217  26.651902  \n",
       "7557  43.587482  26.859157  \n",
       "7558  43.786424  26.806573  \n",
       "7559  43.703588  26.739660  \n",
       "7560  43.619784  26.770048  \n",
       "\n",
       "[7561 rows x 500 columns]"
      ]
     },
     "execution_count": 47,
     "metadata": {},
     "output_type": "execute_result"
    }
   ],
   "source": [
    "# Run the Monte Carlo simulation to forecast 30 years cumulative returns\n",
    "MC_trad_weight.calc_cumulative_return()\n"
   ]
  },
  {
   "cell_type": "code",
   "execution_count": 48,
   "metadata": {},
   "outputs": [
    {
     "data": {
      "image/png": "[encoded data removed]",
      "text/plain": [
       "<Figure size 432x288 with 1 Axes>"
      ]
     },
     "metadata": {
      "needs_background": "light"
     },
     "output_type": "display_data"
    }
   ],
   "source": [
    "# Visualize the 30-year Monte Carlo simulation by creating an\n",
    "# overlay line plot\n",
    "trad_weight_line_plot = MC_trad_weight.plot_simulation()\n",
    "\n",
    "# Save the plot for future use\n",
    "# trad_weight_line_plot.get_figure().savefig(\"MC_trad_weight_line_plot.png\", bbox_inches=\"tight\")"
   ]
  },
  {
   "cell_type": "markdown",
   "metadata": {},
   "source": [
    "#### Step 3: Plot the probability distribution of the Monte Carlo simulation."
   ]
  },
  {
   "cell_type": "code",
   "execution_count": null,
   "metadata": {},
   "outputs": [],
   "source": [
    "# Visualize the probability distribution of the 30-year Monte Carlo simulation \n",
    "# by plotting a histogram\n",
    "trad_weight_distribution_plot = MC_trad_weight.plot_distribution()\n",
    "\n",
    "# Save the plot for future use\n",
    "# trad_weight_distribution_plot.get_figure().savefig('MC_trad_weight_dist_plot.png',bbox_inches='tight')"
   ]
  },
  {
   "cell_type": "markdown",
   "metadata": {},
   "source": [
    "#### Step 4: Generate the summary statistics for the Monte Carlo simulation."
   ]
  },
  {
   "cell_type": "code",
   "execution_count": null,
   "metadata": {},
   "outputs": [],
   "source": [
    "# Generate summary statistics from the 30-year Monte Carlo simulation results\n",
    "# Save the results as a variable\n",
    "trad_weight_table = MC_trad_weight.summarize_cumulative_return()\n",
    "\n",
    "# Review the 30-year Monte Carlo summary statistics\n",
    "print(trad_weight_table)"
   ]
  },
  {
   "cell_type": "markdown",
   "metadata": {},
   "source": [
    "### Analyze the Retirement Portfolio Forecasts\n",
    "\n",
    "Using the current value of only the stock and bond portion of the member's portfolio and the summary statistics that you generated from the Monte Carlo simulation, answer the following question in your Jupyter notebook:\n",
    "\n",
    "-  What are the lower and upper bounds for the expected value of the portfolio with a 95% confidence interval?\n"
   ]
  },
  {
   "cell_type": "code",
   "execution_count": null,
   "metadata": {},
   "outputs": [],
   "source": [
    "# Print the current balance of the stock and bond portion of the members portfolio\n",
    "print(f\"Total Current Value of the Stock/Bond portion of the Portfolio:            ${total_stocks_bonds:,.2f}\")"
   ]
  },
  {
   "cell_type": "code",
   "execution_count": null,
   "metadata": {},
   "outputs": [],
   "source": [
    "# Use the lower and upper `95%` confidence intervals to calculate the range of the possible outcomes for the current stock/bond portfolio\n",
    "ci_lower_thirty_cumulative_return = trad_weight_table[8] * total_stocks_bonds\n",
    "ci_upper_thirty_cumulative_return = trad_weight_table[9] * total_stocks_bonds\n",
    "\n",
    "# Print the result of your calculations\n",
    "print(f\"There is a 95% chance that investing the Stock/Bond portion of the portfolio (current value ${total_stocks_bonds:,.2f}) in\"\n",
    "      f\" a traditional 60/40 weight distribution over the next 30 years will result in a value within the range of\"\n",
    "      f\" ${ci_lower_thirty_cumulative_return:,.2f} and ${ci_upper_thirty_cumulative_return:,.2f}.\")\n"
   ]
  },
  {
   "cell_type": "markdown",
   "metadata": {},
   "source": [
    "### Forecast Cumulative Returns in 10 Years\n",
    "\n",
    "The CTO of the credit union is impressed with your work on these planning tools but wonders if 30 years is a long time to wait until retirement. So, your next task is to adjust the retirement portfolio and run a new Monte Carlo simulation to find out if the changes will allow members to retire earlier.\n",
    "\n",
    "For this new Monte Carlo simulation, do the following: \n",
    "\n",
    "- Forecast the cumulative returns for 10 years from now. Because of the shortened investment horizon (30 years to 10 years), the portfolio needs to invest more heavily in the riskier asset&mdash;that is, stock&mdash;to help accumulate wealth for retirement. \n",
    "\n",
    "- Adjust the weights of the retirement portfolio so that the composition for the Monte Carlo simulation consists of 20% bonds and 80% stocks. \n",
    "\n",
    "- Run the simulation over 500 samples, and use the same data that the API call to Alpaca generated.\n",
    "\n",
    "- Based on the new Monte Carlo simulation, answer the following questions in your Jupyter notebook:\n",
    "\n",
    "    - Using the current value of only the stock and bond portion of the member's portfolio and the summary statistics that you generated from the new Monte Carlo simulation, what are the lower and upper bounds for the expected value of the portfolio (with the new weights) with a 95% confidence interval?\n",
    "\n",
    "    - Will weighting the portfolio more heavily toward stocks allow the credit union members to retire after only 10 years?\n"
   ]
  },
  {
   "cell_type": "code",
   "execution_count": null,
   "metadata": {},
   "outputs": [],
   "source": [
    "# Configure a Monte Carlo simulation to forecast 10 years cumulative returns\n",
    "# The weights should be split 20% to AGG and 80% to SPY.\n",
    "# Run 500 samples.\n",
    "MC_spy80_weight = MCSimulation(\n",
    "    portfolio_data = prices_df,\n",
    "    weights = [.80,.20],\n",
    "    num_simulation = 500,\n",
    "    num_trading_days = 252*10\n",
    ")\n",
    "\n",
    "# Review the simulation input data\n",
    "MC_spy80_weight.portfolio_data.head()\n"
   ]
  },
  {
   "cell_type": "code",
   "execution_count": null,
   "metadata": {},
   "outputs": [],
   "source": [
    "# Run the Monte Carlo simulation to forecast 10 years cumulative returns\n",
    "MC_spy80_weight.calc_cumulative_return()"
   ]
  },
  {
   "cell_type": "code",
   "execution_count": null,
   "metadata": {},
   "outputs": [],
   "source": [
    "# Visualize the 10-year Monte Carlo simulation by creating an\n",
    "# overlay line plot\n",
    "spy80_weight_line_plot = MC_spy80_weight.plot_simulation()\n",
    "\n",
    "# Save the plot for future use\n",
    "# spy80_weight_line_plot.get_figure().savefig(\"MC_spy80_weight_line_plot.png\", bbox_inches=\"tight\")"
   ]
  },
  {
   "cell_type": "code",
   "execution_count": 52,
   "metadata": {},
   "outputs": [
    {
     "data": {
      "image/png": "[encoded data removed]",
      "text/plain": [
       "<Figure size 432x288 with 1 Axes>"
      ]
     },
     "metadata": {
      "needs_background": "light"
     },
     "output_type": "display_data"
    }
   ],
   "source": [
    "# Visualize the probability distribution of the 10-year Monte Carlo simulation \n",
    "# by plotting a histogram\n",
    "spy80_weight_distribution_plot = MC_spy80_weight.plot_distribution()\n",
    "\n",
    "# Save the plot for future use\n",
    "# spy80_weight_distribution_plot.get_figure().savefig('MC_spy80_weight_dist_plot.png',bbox_inches='tight')"
   ]
  },
  {
   "cell_type": "code",
   "execution_count": 53,
   "metadata": {},
   "outputs": [
    {
     "name": "stdout",
     "output_type": "stream",
     "text": [
      "count           500.000000\n",
      "mean              1.555033\n",
      "std               0.181708\n",
      "min               1.083609\n",
      "25%               1.434159\n",
      "50%               1.550191\n",
      "75%               1.672105\n",
      "max               2.276116\n",
      "95% CI Lower      1.213872\n",
      "95% CI Upper      1.926372\n",
      "Name: 2520, dtype: float64\n"
     ]
    }
   ],
   "source": [
    "# Generate summary statistics from the 10-year Monte Carlo simulation results\n",
    "# Save the results as a variable\n",
    "spy80_weight_table = MC_spy80_weight.summarize_cumulative_return()\n",
    "\n",
    "# Review the 10-year Monte Carlo summary statistics\n",
    "print(spy80_weight_table)"
   ]
  },
  {
   "cell_type": "markdown",
   "metadata": {},
   "source": [
    "### Answer the following questions:"
   ]
  },
  {
   "cell_type": "markdown",
   "metadata": {},
   "source": [
    "#### Question: Using the current value of only the stock and bond portion of the member's portfolio and the summary statistics that you generated from the new Monte Carlo simulation, what are the lower and upper bounds for the expected value of the portfolio (with the new weights) with a 95% confidence interval?"
   ]
  },
  {
   "cell_type": "code",
   "execution_count": 54,
   "metadata": {},
   "outputs": [
    {
     "name": "stdout",
     "output_type": "stream",
     "text": [
      "Total Current Value of the Stock/Bond portion of the Portfolio:            $65,850.70\n"
     ]
    }
   ],
   "source": [
    "# Print the current balance of the stock and bond portion of the members portfolio\n",
    "print(f\"Total Current Value of the Stock/Bond portion of the Portfolio:            ${total_stocks_bonds:,.2f}\")"
   ]
  },
  {
   "cell_type": "code",
   "execution_count": 55,
   "metadata": {},
   "outputs": [
    {
     "name": "stdout",
     "output_type": "stream",
     "text": [
      "There is a 95% chance that investing the Stock/Bond portion of the portfolio (current value $65,850.70) in a more aggressive 80/20 weight distribution over the next 10 years will result within the range of $79,934.33 and $126,852.96 in value.\n"
     ]
    }
   ],
   "source": [
    "# Use the lower and upper `95%` confidence intervals to calculate the range of the possible outcomes for the current stock/bond portfolio\n",
    "ci_lower_ten_cumulative_return = spy80_weight_table[8] * total_stocks_bonds\n",
    "ci_upper_ten_cumulative_return = spy80_weight_table[9] * total_stocks_bonds\n",
    "\n",
    "# Print the result of your calculations\n",
    "# YOUR CODE HERE\n",
    "print(f\"There is a 95% chance that investing the Stock/Bond portion of the portfolio (current value ${total_stocks_bonds:,.2f}) in\"\n",
    "      f\" a more aggressive 80/20 weight distribution over the next 10 years will result within the range of\"\n",
    "      f\" ${ci_lower_ten_cumulative_return:,.2f} and ${ci_upper_ten_cumulative_return:,.2f} in value.\")\n"
   ]
  },
  {
   "cell_type": "markdown",
   "metadata": {},
   "source": [
    "#### Question: Will weighting the portfolio more heavily to stocks allow the credit union members to retire after only 10 years?"
   ]
  },
  {
   "cell_type": "code",
   "execution_count": 56,
   "metadata": {},
   "outputs": [
    {
     "name": "stdout",
     "output_type": "stream",
     "text": [
      "**Answer**\n",
      "It's very unlikely that weighting the portfolio more heavily towards stocks would allow the members to retire after only 10 years. With their current monthly expenses of $12,000.00, there is up to a 95% chance they would only have enough in stock/bond retirement accounts to survive for maximum of 10.57 months, or 0.88 years (without accounting for inflation).\n"
     ]
    }
   ],
   "source": [
    "print(\"**Answer**\")\n",
    "\n",
    "print(f\"It's very unlikely that weighting the portfolio more heavily towards stocks would allow the members to retire after only 10 years. With their current monthly expenses of ${monthly_income:,.2f}, there is up to a 95% chance they would only have enough in stock/bond retirement accounts to survive for maximum of {(ci_upper_ten_cumulative_return / monthly_income):,.2f} months, or {((ci_upper_ten_cumulative_return / monthly_income)/12):,.2f} years (without accounting for inflation).\")"
   ]
  }
 ],
 "metadata": {
  "kernelspec": {
   "display_name": "Python (dev)",
   "language": "python",
   "name": "dev"
  },
  "language_info": {
   "codemirror_mode": {
    "name": "ipython",
    "version": 3
   },
   "file_extension": ".py",
   "mimetype": "text/x-python",
   "name": "python",
   "nbconvert_exporter": "python",
   "pygments_lexer": "ipython3",
   "version": "3.7.9"
  }
 },
 "nbformat": 4,
 "nbformat_minor": 4
}
