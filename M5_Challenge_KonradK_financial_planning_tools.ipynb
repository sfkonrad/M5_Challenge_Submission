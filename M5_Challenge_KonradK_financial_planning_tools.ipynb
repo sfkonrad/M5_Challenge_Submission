{
 "cells": [
  {
   "cell_type": "markdown",
   "metadata": {},
   "source": [
    "#### M5_Challenge_KonradK_financial_planning_tools.ipynb\n",
    "# Konrad Kozicki\n",
    "### UCB-VIRT-FIN-PT-12-2020-U-B-TTH\n",
    "---"
   ]
  },
  {
   "cell_type": "markdown",
   "metadata": {},
   "source": [
    "# Financial Planning with APIs and Simulations\n",
    "\n",
    "In this Challenge, you’ll create two financial analysis tools by using a single Jupyter notebook:\n",
    "\n",
    "Part 1: A financial planner for emergencies. The members will be able to use this tool to visualize their current savings. The members can then determine if they have enough reserves for an emergency fund.\n",
    "\n",
    "Part 2: A financial planner for retirement. This tool will forecast the performance of their retirement portfolio in 30 years. To do this, the tool will make an Alpaca API call via the Alpaca SDK to get historical price data for use in Monte Carlo simulations.\n",
    "\n",
    "You’ll use the information from the Monte Carlo simulation to answer questions about the portfolio in your Jupyter notebook.\n",
    "\n"
   ]
  },
  {
   "cell_type": "code",
   "execution_count": 8,
   "metadata": {},
   "outputs": [],
   "source": [
    "# Import the required libraries and dependencies\n",
    "import os\n",
    "import requests\n",
    "import json\n",
    "import pandas as pd\n",
    "import datetime\n",
    "import click\n",
    "from dotenv import load_dotenv\n",
    "import alpaca_trade_api as tradeapi\n",
    "from MCForecastTools import MCSimulation\n",
    "\n",
    "%matplotlib inline"
   ]
  },
  {
   "cell_type": "code",
   "execution_count": 9,
   "metadata": {},
   "outputs": [
    {
     "data": {
      "text/plain": [
       "True"
      ]
     },
     "execution_count": 9,
     "metadata": {},
     "output_type": "execute_result"
    }
   ],
   "source": [
    "# Load the environment variables from the .env file by calling the load_dotenv function.\n",
    "load_dotenv()"
   ]
  },
  {
   "cell_type": "markdown",
   "metadata": {},
   "source": [
    "## Part 0: Confirm Important Information About the Member's Portfolio"
   ]
  },
  {
   "cell_type": "code",
   "execution_count": 13,
   "metadata": {},
   "outputs": [
    {
     "name": "stdout",
     "output_type": "stream",
     "text": [
      "Please take a moment to confirm the following information about the member's portfolio: \n",
      " \n",
      "BITCOIN \n",
      "Enter the number of BTC Coins in the portfolio \n",
      "     [press ENTER for default value of [1.2]: "
     ]
    },
    {
     "name": "stdin",
     "output_type": "stream",
     "text": [
      " \n"
     ]
    },
    {
     "name": "stdout",
     "output_type": "stream",
     "text": [
      "1.2\n",
      "\n",
      " \n",
      " \n",
      " \n",
      "ETHEREUM \n",
      "Enter the number of ETH Coins in the portfolio \n",
      "     [press ENTER for default value of [5.3]: "
     ]
    },
    {
     "name": "stdin",
     "output_type": "stream",
     "text": [
      " \n"
     ]
    },
    {
     "name": "stdout",
     "output_type": "stream",
     "text": [
      "5.3\n",
      "\n",
      " \n",
      " \n",
      " \n",
      "INCOME \n",
      "Please enter the member's current monthly income \n",
      "or projected monthly expenses \n",
      "     [press ENTER for default value of [12000]: "
     ]
    },
    {
     "name": "stdin",
     "output_type": "stream",
     "text": [
      " \n"
     ]
    },
    {
     "name": "stdout",
     "output_type": "stream",
     "text": [
      "12000\n",
      "\n",
      " \n",
      " \n",
      " \n",
      "STOCKS \n",
      "Enter the number of S&P 500 Stock holdings in \n",
      "the portfolio \n",
      "     [press ENTER for default value of [110]: "
     ]
    },
    {
     "name": "stdin",
     "output_type": "stream",
     "text": [
      " \n"
     ]
    },
    {
     "name": "stdout",
     "output_type": "stream",
     "text": [
      "110\n",
      "\n",
      " \n",
      " \n",
      " \n",
      "BONDS \n",
      "Enter the number of iShares Bond ETF holdings in \n",
      "the portfolio \n",
      "     [press ENTER for default value of [200]: "
     ]
    },
    {
     "name": "stdin",
     "output_type": "stream",
     "text": [
      " \n"
     ]
    },
    {
     "name": "stdout",
     "output_type": "stream",
     "text": [
      "200\n",
      "\n",
      " \n",
      " \n",
      " \n",
      "RESERVES \n",
      "Please enter the member's desired months in reserves \n",
      "     [press ENTER for default value of [3]: "
     ]
    },
    {
     "name": "stdin",
     "output_type": "stream",
     "text": [
      " 12\n"
     ]
    },
    {
     "name": "stdout",
     "output_type": "stream",
     "text": [
      "12.0\n",
      "\n",
      " \n",
      " \n",
      " \n",
      "<<  FEATURES STILL UNDER CONSTRUCTION: >>\n",
      " \n",
      "\n",
      " \n",
      " \n",
      " \n",
      "\n",
      "Boolean test for `close = NaN`\n",
      "\n",
      "\n",
      "\n",
      "Save a log of i/o for every instance the script is run\n",
      "\n",
      " \n",
      " \n",
      " \n",
      "\n"
     ]
    }
   ],
   "source": [
    "print(\"Please take a moment to confirm the following information about the member's portfolio: \\n \")\n",
    "\n",
    "btc_coins = click.prompt(\"BITCOIN \\nEnter the number of BTC Coins in the portfolio \\n     [press ENTER for default value of\", type=float, default=1.2)\n",
    "print(btc_coins)\n",
    "\n",
    "eth_coins = click.prompt(\"\\n \\n \\n \\nETHEREUM \\nEnter the number of ETH Coins in the portfolio \\n     [press ENTER for default value of\", type=float, default=5.3)\n",
    "print(eth_coins)\n",
    "\n",
    "monthly_income = click.prompt(\"\\n \\n \\n \\nINCOME \\nPlease enter the member's current monthly income \\nor projected monthly expenses \\n     [press ENTER for default value of\", type=float, default=12000)\n",
    "print(monthly_income)\n",
    "\n",
    "spy_shares = click.prompt(\"\\n \\n \\n \\nSTOCKS \\nEnter the number of S&P 500 Stock holdings in \\nthe portfolio \\n     [press ENTER for default value of\", type=float, default=110)\n",
    "print(spy_shares)\n",
    "\n",
    "agg_shares = click.prompt(\"\\n \\n \\n \\nBONDS \\nEnter the number of iShares Bond ETF holdings in \\nthe portfolio \\n     [press ENTER for default value of\", type=float, default=200)\n",
    "print(agg_shares)\n",
    "\n",
    "reserve_months = click.prompt(\"\\n \\n \\n \\nRESERVES \\nPlease enter the member's desired months in reserves \\n     [press ENTER for default value of\", type=float, default=3)\n",
    "print(reserve_months)\n",
    "\n",
    "print(\"\\n \\n \\n \\n<<  FEATURES UNDER CONSTRUCTION: >>\\n \")\n",
    "print(\"\\n \\n \\n \\n\")\n",
    "\n",
    "print(\"-> conditional statement for `use_for_todays_date`\")\n",
    "#    (reference in README.md)\n",
    "#    Boolean test for `close = NaN`\")\n",
    "#    confirm that `use_for_today_date` is an open trading day ⚠️\n",
    "#    elif for `NaN`s\n",
    "#    date_to_use_today = if click(ans) == today_date then return today_date, else return three_days_ago\n",
    "#    ref. Module_2\n",
    "\n",
    "print(\"\\n\\n\\n-> Risk_Tolerance Query\") \n",
    "#      1:5 (and 0, 666), SPY/AGG,\n",
    "#        0: 0/100\n",
    "#        1: 20/80\n",
    "#        2: 40/60\n",
    "#        3: 60/40 [default]\n",
    "#        4: 80/20\n",
    "#        5: 100/0\n",
    "#        666: all on crypto?... Run MC_Sims on Crypto returns\n",
    "\n",
    "print(\"\\n\\n\\n-> Save a log of i/o for every instance the script is run\")\n",
    "\n",
    "print(\"\\n \\n \\n \\n\")"
   ]
  },
  {
   "cell_type": "markdown",
   "metadata": {},
   "source": [
    "## Part 1: Create a Financial Planner for Emergencies"
   ]
  },
  {
   "cell_type": "markdown",
   "metadata": {},
   "source": [
    "### Evaluate the Cryptocurrency Wallet by Using the Requests Library\n",
    "\n",
    "In this section, you’ll determine the current value of a member’s cryptocurrency wallet. You’ll collect the current prices for the Bitcoin and Ethereum cryptocurrencies by using the Python Requests library. For the prototype, you’ll assume that the member holds the 1.2 Bitcoins (BTC) and 5.3 Ethereum coins (ETH). To do all this, complete the following steps:\n",
    "\n",
    "1. Create a variable named `monthly_income`, and set its value to `12000`.\n",
    "\n",
    "2. Use the Requests library to get the current price (in US dollars) of Bitcoin (BTC) and Ethereum (ETH) by using the API endpoints that the starter code supplies.\n",
    "\n",
    "3. Navigate the JSON response object to access the current price of each coin, and store each in a variable.\n",
    "\n",
    "    > **Hint** Note the specific identifier for each cryptocurrency in the API JSON response. The Bitcoin identifier is `1`, and the Ethereum identifier is `1027`.\n",
    "\n",
    "4. Calculate the value, in US dollars, of the current amount of each cryptocurrency and of the entire cryptocurrency wallet.\n",
    "\n"
   ]
  },
  {
   "cell_type": "code",
   "execution_count": 166,
   "metadata": {},
   "outputs": [],
   "source": [
    "# The current number of coins for each cryptocurrency asset held in the portfolio.\n",
    "# btc_coins = 1.2\n",
    "# eth_coins = 5.3"
   ]
  },
  {
   "cell_type": "markdown",
   "metadata": {},
   "source": [
    "#### Step 1: Create a variable named `monthly_income`, and set its value to `12000`."
   ]
  },
  {
   "cell_type": "code",
   "execution_count": 167,
   "metadata": {},
   "outputs": [],
   "source": [
    "# The monthly amount for the member's household income\n",
    "# monthly_income = 12000"
   ]
  },
  {
   "cell_type": "markdown",
   "metadata": {},
   "source": [
    "#### Review the endpoint URLs for the API calls to Free Crypto API in order to get the current pricing information for both BTC and ETH."
   ]
  },
  {
   "cell_type": "code",
   "execution_count": 14,
   "metadata": {},
   "outputs": [],
   "source": [
    "# The Free Crypto API Call endpoint URLs for the held cryptocurrency assets\n",
    "btc_url = \"https://api.alternative.me/v2/ticker/Bitcoin/?convert=USD\"\n",
    "eth_url = \"https://api.alternative.me/v2/ticker/Ethereum/?convert=USD\""
   ]
  },
  {
   "cell_type": "markdown",
   "metadata": {},
   "source": [
    "#### Step 2. Use the Requests library to get the current price (in US dollars) of Bitcoin (BTC) and Ethereum (ETH) by using the API endpoints that the starter code supplied."
   ]
  },
  {
   "cell_type": "code",
   "execution_count": 15,
   "metadata": {},
   "outputs": [
    {
     "name": "stdout",
     "output_type": "stream",
     "text": [
      "{\n",
      "    \"data\": {\n",
      "        \"1\": {\n",
      "            \"circulating_supply\": 18619456,\n",
      "            \"id\": 1,\n",
      "            \"last_updated\": 1612479149,\n",
      "            \"max_supply\": 21000000,\n",
      "            \"name\": \"Bitcoin\",\n",
      "            \"quotes\": {\n",
      "                \"USD\": {\n",
      "                    \"market_cap\": 690425367497,\n",
      "                    \"percent_change_1h\": -1.40030689594881,\n",
      "                    \"percent_change_24h\": -0.567487517930204,\n",
      "                    \"percent_change_7d\": 21.6977681679371,\n",
      "                    \"percentage_change_1h\": -1.40030689594881,\n",
      "                    \"percentage_change_24h\": -0.567487517930204,\n",
      "                    \"percentage_change_7d\": 21.6977681679371,\n",
      "                    \"price\": 37052.0,\n",
      "                    \"volume_24h\": 54824309858\n",
      "                }\n",
      "            },\n",
      "            \"rank\": 1,\n",
      "            \"symbol\": \"BTC\",\n",
      "            \"total_supply\": 18619456,\n",
      "            \"website_slug\": \"bitcoin\"\n",
      "        }\n",
      "    },\n",
      "    \"metadata\": {\n",
      "        \"error\": null,\n",
      "        \"num_cryptocurrencies\": 1372,\n",
      "        \"timestamp\": 1612479149\n",
      "    }\n",
      "}\n"
     ]
    }
   ],
   "source": [
    "# Using the Python requests library, make an API call to access the current price of BTC\n",
    "btc_response = requests.get(btc_url).json()\n",
    "\n",
    "# Use the json.dumps function to review the response data from the API call\n",
    "# Use the indent and sort_keys parameters to make the response object readable\n",
    "print(json.dumps(btc_response, indent=4, sort_keys=True))\n"
   ]
  },
  {
   "cell_type": "code",
   "execution_count": 16,
   "metadata": {},
   "outputs": [
    {
     "name": "stdout",
     "output_type": "stream",
     "text": [
      "{\n",
      "    \"data\": {\n",
      "        \"1027\": {\n",
      "            \"circulating_supply\": 114537840,\n",
      "            \"id\": 1027,\n",
      "            \"last_updated\": 1612479277,\n",
      "            \"max_supply\": 0,\n",
      "            \"name\": \"Ethereum\",\n",
      "            \"quotes\": {\n",
      "                \"USD\": {\n",
      "                    \"market_cap\": 185107737758,\n",
      "                    \"percent_change_1h\": -1.23198101571784,\n",
      "                    \"percent_change_24h\": -1.09898763732518,\n",
      "                    \"percent_change_7d\": 29.0389918261284,\n",
      "                    \"percentage_change_1h\": -1.23198101571784,\n",
      "                    \"percentage_change_24h\": -1.09898763732518,\n",
      "                    \"percentage_change_7d\": 29.0389918261284,\n",
      "                    \"price\": 1617.04,\n",
      "                    \"volume_24h\": 43302516192\n",
      "                }\n",
      "            },\n",
      "            \"rank\": 2,\n",
      "            \"symbol\": \"ETH\",\n",
      "            \"total_supply\": 114537840,\n",
      "            \"website_slug\": \"ethereum\"\n",
      "        }\n",
      "    },\n",
      "    \"metadata\": {\n",
      "        \"error\": null,\n",
      "        \"num_cryptocurrencies\": 1372,\n",
      "        \"timestamp\": 1612479277\n",
      "    }\n",
      "}\n"
     ]
    }
   ],
   "source": [
    "# Using the Python requests library, make an API call to access the current price ETH\n",
    "eth_response = requests.get(eth_url).json()\n",
    "\n",
    "# Use the json.dumps function to review the response data from the API call\n",
    "# Use the indent and sort_keys parameters to make the response object readable\n",
    "print(json.dumps(eth_response, indent=4, sort_keys=True))\n"
   ]
  },
  {
   "cell_type": "markdown",
   "metadata": {},
   "source": [
    "#### Step 3: Navigate the JSON response object to access the current price of each coin, and store each in a variable."
   ]
  },
  {
   "cell_type": "code",
   "execution_count": 17,
   "metadata": {},
   "outputs": [
    {
     "name": "stdout",
     "output_type": "stream",
     "text": [
      "The price for BTC is $37,052.00\n"
     ]
    }
   ],
   "source": [
    "# Navigate the BTC response object to access the current price of BTC\n",
    "btc_price = btc_response['data']['1']['quotes']['USD']['price']\n",
    "\n",
    "# Print the current price of BTC\n",
    "print(f\"The price for BTC is ${btc_price:,.2f}\")"
   ]
  },
  {
   "cell_type": "code",
   "execution_count": 18,
   "metadata": {},
   "outputs": [
    {
     "name": "stdout",
     "output_type": "stream",
     "text": [
      "The price for ETH is $1,617.04\n"
     ]
    }
   ],
   "source": [
    "# Navigate the BTC response object to access the current price of ETH\n",
    "eth_price = eth_response['data']['1027']['quotes']['USD']['price']\n",
    "\n",
    "# Print the current price of ETH\n",
    "print(f\"The price for ETH is ${eth_price:,.2f}\")\n"
   ]
  },
  {
   "cell_type": "markdown",
   "metadata": {},
   "source": [
    "### Step 4: Calculate the value, in US dollars, of the current amount of each cryptocurrency and of the entire cryptocurrency wallet."
   ]
  },
  {
   "cell_type": "code",
   "execution_count": 19,
   "metadata": {},
   "outputs": [
    {
     "name": "stdout",
     "output_type": "stream",
     "text": [
      "The current value of the total Bitcoin (BTC) holding is $44,462.40\n"
     ]
    }
   ],
   "source": [
    "# Compute the current value of the BTC holding \n",
    "btc_value = btc_coins * btc_price\n",
    "\n",
    "# Print current value of your holding in BTC\n",
    "print(f\"The current value of the total Bitcoin (BTC) holding is ${btc_value:,.2f}\")"
   ]
  },
  {
   "cell_type": "code",
   "execution_count": 22,
   "metadata": {},
   "outputs": [
    {
     "name": "stdout",
     "output_type": "stream",
     "text": [
      "The current value of the total Ethereum (ETH) holding is $8,570.31\n"
     ]
    }
   ],
   "source": [
    "# Compute the current value of the ETH holding \n",
    "eth_value = eth_coins * eth_price\n",
    "\n",
    "# Print current value of your holding in ETH\n",
    "print(f\"The current value of the total Ethereum (ETH) holding is ${eth_value:,.2f}\")"
   ]
  },
  {
   "cell_type": "code",
   "execution_count": 23,
   "metadata": {},
   "outputs": [
    {
     "name": "stdout",
     "output_type": "stream",
     "text": [
      "The total value of the entire cryptocurrency wallet is $53,032.71\n"
     ]
    }
   ],
   "source": [
    "# Compute the total value of the cryptocurrency wallet\n",
    "# Add the value of the BTC holding to the value of the ETH holding\n",
    "total_crypto_wallet = btc_value + eth_value\n",
    "\n",
    "# Print current cryptocurrency wallet balance\n",
    "print(f\"The total value of the entire cryptocurrency wallet is ${total_crypto_wallet:,.2f}\")"
   ]
  },
  {
   "cell_type": "markdown",
   "metadata": {},
   "source": [
    "### Evaluate the Stock and Bond Holdings by Using the Alpaca SDK\n",
    "\n",
    "In this section, you’ll determine the current value of a member’s stock and bond holdings. You’ll make an API call to Alpaca via the Alpaca SDK to get the current closing prices of the SPDR S&P 500 ETF Trust (ticker: SPY) and of the iShares Core US Aggregate Bond ETF (ticker: AGG). For the prototype, assume that the member holds 110 shares of SPY, which represents the stock portion of their portfolio, and 200 shares of AGG, which represents the bond portion. To do all this, complete the following steps:\n",
    "\n",
    "1. In the `Starter_Code` folder, create an environment file (`.env`) to store the values of your Alpaca API key and Alpaca secret key.\n",
    "\n",
    "2. Set the variables for the Alpaca API and secret keys. Using the Alpaca SDK, create the Alpaca `tradeapi.REST` object. In this object, include the parameters for the Alpaca API key, the secret key, and the version number.\n",
    "\n",
    "3. Set the following parameters for the Alpaca API call:\n",
    "\n",
    "    - `tickers`: Use the tickers for the member’s stock and bond holdings.\n",
    "\n",
    "    - `timeframe`: Use a time frame of one day.\n",
    "\n",
    "    - `start_date` and `end_date`: Use the same date for these parameters, and format them with the date of the previous weekday (or `2020-08-07`). This is because you want the one closing price for the most-recent trading day.\n",
    "\n",
    "4. Get the current closing prices for `SPY` and `AGG` by using the Alpaca `get_barset` function. Format the response as a Pandas DataFrame by including the `df` property at the end of the `get_barset` function.\n",
    "\n",
    "5. Navigating the Alpaca response DataFrame, select the `SPY` and `AGG` closing prices, and store them as variables.\n",
    "\n",
    "6. Calculate the value, in US dollars, of the current amount of shares in each of the stock and bond portions of the portfolio, and print the results.\n"
   ]
  },
  {
   "cell_type": "markdown",
   "metadata": {},
   "source": [
    "#### Review the total number of shares held in both (SPY) and (AGG)."
   ]
  },
  {
   "cell_type": "code",
   "execution_count": 24,
   "metadata": {},
   "outputs": [],
   "source": [
    "# Current amount of shares held in both the stock (SPY) and bond (AGG) portion of the portfolio.\n",
    "# spy_shares = 110\n",
    "# agg_shares = 200\n"
   ]
  },
  {
   "cell_type": "markdown",
   "metadata": {},
   "source": [
    "#### Step 1: In the `Starter_Code` folder, create an environment file (`.env`) to store the values of your Alpaca API key and Alpaca secret key."
   ]
  },
  {
   "cell_type": "markdown",
   "metadata": {},
   "source": [
    "#### Step 2: Set the variables for the Alpaca API and secret keys. Using the Alpaca SDK, create the Alpaca `tradeapi.REST` object. In this object, include the parameters for the Alpaca API key, the secret key, and the version number."
   ]
  },
  {
   "cell_type": "code",
   "execution_count": 25,
   "metadata": {},
   "outputs": [
    {
     "data": {
      "text/plain": [
       "str"
      ]
     },
     "metadata": {},
     "output_type": "display_data"
    },
    {
     "data": {
      "text/plain": [
       "str"
      ]
     },
     "metadata": {},
     "output_type": "display_data"
    }
   ],
   "source": [
    "# Set the variables for the Alpaca API and secret keys\n",
    "alpaca_api_key = os.getenv(\"ALPACA_API_KEY\")\n",
    "alpaca_secret_key = os.getenv(\"ALPACA_SECRET_KEY\")\n",
    "\n",
    "# Check the values were imported correctly by evaluating the type of each\n",
    "display(type(alpaca_api_key))\n",
    "display(type(alpaca_secret_key))\n",
    "\n",
    "# Create the Alpaca tradeapi.REST object\n",
    "alpaca = tradeapi.REST(\n",
    "    alpaca_api_key,\n",
    "    alpaca_secret_key,\n",
    "    api_version = \"v2\"\n",
    ")"
   ]
  },
  {
   "cell_type": "markdown",
   "metadata": {},
   "source": [
    "#### Step 3: Set the following parameters for the Alpaca API call:\n",
    "\n",
    "- `tickers`: Use the tickers for the member’s stock and bond holdings.\n",
    "\n",
    "- `timeframe`: Use a time frame of one day.\n",
    "\n",
    "- `start_date` and `end_date`: Use the same date for these parameters, and format them with the date of the previous weekday (or `2020-08-07`). This is because you want the one closing price for the most-recent trading day.\n"
   ]
  },
  {
   "cell_type": "code",
   "execution_count": 26,
   "metadata": {},
   "outputs": [
    {
     "data": {
      "text/plain": [
       "('2021-02-04', '2021-02-01', '2020-02-05', '2018-02-05', '2011-02-07')"
      ]
     },
     "execution_count": 26,
     "metadata": {},
     "output_type": "execute_result"
    }
   ],
   "source": [
    "today_date = str(datetime.datetime.now()).split()[0]\n",
    "three_days_ago = str(datetime.datetime.now() - datetime.timedelta(days=3)).split()[0]\n",
    "\n",
    "one_year_ago = str(datetime.datetime.now() - datetime.timedelta(days=1*365)).split()[0]\n",
    "three_year_ago = str(datetime.datetime.now() - datetime.timedelta(days=3*365)).split()[0]\n",
    "ten_year_ago = str(datetime.datetime.now() - datetime.timedelta(days=10*365)).split()[0]\n",
    "\n",
    "today_date, three_days_ago, one_year_ago, three_year_ago, ten_year_ago"
   ]
  },
  {
   "cell_type": "code",
   "execution_count": 27,
   "metadata": {},
   "outputs": [],
   "source": [
    "use_for_today_date = today_date"
   ]
  },
  {
   "cell_type": "code",
   "execution_count": 28,
   "metadata": {},
   "outputs": [],
   "source": [
    "# Set the tickers for both the bond and stock portion of the portfolio\n",
    "# YOUR CODE HERE\n",
    "tickers = [\"SPY\", \"AGG\"]\n",
    "\n",
    "# Set timeframe to 1D \n",
    "timeframe = \"1D\"\n",
    "\n",
    "# Format current date as ISO format\n",
    "# Set both the start and end date at the date of your prior weekday \n",
    "# This will give you the closing price of the previous trading day\n",
    "# Alternatively you can use a start and end date of 2020-08-07\n",
    "start_date = pd.Timestamp(use_for_today_date, tz=\"America/New_York\").isoformat()\n",
    "end_date = pd.Timestamp(use_for_today_date, tz=\"America/New_York\").isoformat()\n"
   ]
  },
  {
   "cell_type": "markdown",
   "metadata": {},
   "source": [
    "#### Step 4: Get the current closing prices for `SPY` and `AGG` by using the Alpaca `get_barset` function. Format the response as a Pandas DataFrame by including the `df` property at the end of the `get_barset` function."
   ]
  },
  {
   "cell_type": "code",
   "execution_count": 32,
   "metadata": {},
   "outputs": [
    {
     "data": {
      "text/html": [
       "<div>\n",
       "<style scoped>\n",
       "    .dataframe tbody tr th:only-of-type {\n",
       "        vertical-align: middle;\n",
       "    }\n",
       "\n",
       "    .dataframe tbody tr th {\n",
       "        vertical-align: top;\n",
       "    }\n",
       "\n",
       "    .dataframe thead tr th {\n",
       "        text-align: left;\n",
       "    }\n",
       "\n",
       "    .dataframe thead tr:last-of-type th {\n",
       "        text-align: right;\n",
       "    }\n",
       "</style>\n",
       "<table border=\"1\" class=\"dataframe\">\n",
       "  <thead>\n",
       "    <tr>\n",
       "      <th></th>\n",
       "      <th colspan=\"5\" halign=\"left\">AGG</th>\n",
       "      <th colspan=\"5\" halign=\"left\">SPY</th>\n",
       "    </tr>\n",
       "    <tr>\n",
       "      <th></th>\n",
       "      <th>open</th>\n",
       "      <th>high</th>\n",
       "      <th>low</th>\n",
       "      <th>close</th>\n",
       "      <th>volume</th>\n",
       "      <th>open</th>\n",
       "      <th>high</th>\n",
       "      <th>low</th>\n",
       "      <th>close</th>\n",
       "      <th>volume</th>\n",
       "    </tr>\n",
       "    <tr>\n",
       "      <th>time</th>\n",
       "      <th></th>\n",
       "      <th></th>\n",
       "      <th></th>\n",
       "      <th></th>\n",
       "      <th></th>\n",
       "      <th></th>\n",
       "      <th></th>\n",
       "      <th></th>\n",
       "      <th></th>\n",
       "      <th></th>\n",
       "    </tr>\n",
       "  </thead>\n",
       "  <tbody>\n",
       "    <tr>\n",
       "      <th>2021-02-04 00:00:00-05:00</th>\n",
       "      <td>116.75</td>\n",
       "      <td>116.89</td>\n",
       "      <td>116.69</td>\n",
       "      <td>116.86</td>\n",
       "      <td>5128808</td>\n",
       "      <td>382.96</td>\n",
       "      <td>386.24</td>\n",
       "      <td>381.9655</td>\n",
       "      <td>386.17</td>\n",
       "      <td>40030930</td>\n",
       "    </tr>\n",
       "  </tbody>\n",
       "</table>\n",
       "</div>"
      ],
      "text/plain": [
       "                              AGG                                      SPY  \\\n",
       "                             open    high     low   close   volume    open   \n",
       "time                                                                         \n",
       "2021-02-04 00:00:00-05:00  116.75  116.89  116.69  116.86  5128808  382.96   \n",
       "\n",
       "                                                               \n",
       "                             high       low   close    volume  \n",
       "time                                                           \n",
       "2021-02-04 00:00:00-05:00  386.24  381.9655  386.17  40030930  "
      ]
     },
     "execution_count": 32,
     "metadata": {},
     "output_type": "execute_result"
    }
   ],
   "source": [
    "# Use the Alpaca get_barset function to get current closing prices the portfolio\n",
    "# Be sure to set the `df` property after the function to format the response object as a DataFrame\n",
    "prices_df = alpaca.get_barset(\n",
    "    tickers,\n",
    "    timeframe,\n",
    "    start=start_date,\n",
    "    end=end_date\n",
    ").df\n",
    "\n",
    "# Review the first 5 rows of the Alpaca DataFrame \n",
    "prices_df.head()"
   ]
  },
  {
   "cell_type": "markdown",
   "metadata": {},
   "source": [
    "#### Step 5: Navigating the Alpaca response DataFrame, select the `SPY` and `AGG` closing prices, and store them as variables."
   ]
  },
  {
   "cell_type": "code",
   "execution_count": 33,
   "metadata": {},
   "outputs": [
    {
     "name": "stdout",
     "output_type": "stream",
     "text": [
      "AGG    $ 116.86\n",
      "<class 'float'>\n"
     ]
    }
   ],
   "source": [
    "# Access the closing price for AGG from the Alpaca DataFrame\n",
    "# Converting the value to a floating point number\n",
    "agg_close_price = float(prices_df[\"AGG\"][\"close\"])\n",
    "\n",
    "# Print the AGG closing price\n",
    "print(f\"AGG    ${agg_close_price: .2f}\")\n",
    "print(type(agg_close_price)) # YOUR CODE HERE\n"
   ]
  },
  {
   "cell_type": "code",
   "execution_count": 34,
   "metadata": {},
   "outputs": [
    {
     "name": "stdout",
     "output_type": "stream",
     "text": [
      "SPY    $ 386.17\n",
      "<class 'float'>\n"
     ]
    }
   ],
   "source": [
    "# Access the closing price for SPY from the Alpaca DataFrame\n",
    "# Converting the value to a floating point number\n",
    "spy_close_price = float(prices_df[\"SPY\"][\"close\"])\n",
    "\n",
    "# Print the SPY closing price\n",
    "print(f\"SPY    ${spy_close_price: .2f}\")\n",
    "print(type(spy_close_price)) "
   ]
  },
  {
   "cell_type": "markdown",
   "metadata": {},
   "source": [
    "#### Step 6: Calculate the value, in US dollars, of the current amount of shares in each of the stock and bond portions of the portfolio, and print the results."
   ]
  },
  {
   "cell_type": "code",
   "execution_count": 35,
   "metadata": {},
   "outputs": [
    {
     "name": "stdout",
     "output_type": "stream",
     "text": [
      "Current Value of the Bond Portfolio:            $23,372.00\n"
     ]
    }
   ],
   "source": [
    "# Calculate the current value of the bond portion of the portfolio\n",
    "agg_value = agg_close_price * agg_shares\n",
    "\n",
    "# Print the current value of the bond portfolio\n",
    "print(f\"Current Value of the Bond Portfolio:            ${agg_value:,.2f}\")"
   ]
  },
  {
   "cell_type": "code",
   "execution_count": 36,
   "metadata": {},
   "outputs": [
    {
     "name": "stdout",
     "output_type": "stream",
     "text": [
      "Current Value of the Stock Portfolio:            $42,478.70\n"
     ]
    }
   ],
   "source": [
    "# Calculate the current value of the stock portion of the portfolio\n",
    "spy_value = spy_close_price * spy_shares\n",
    "\n",
    "# Print the current value of the stock portfolio\n",
    "print(f\"Current Value of the Stock Portfolio:            ${spy_value:,.2f}\")"
   ]
  },
  {
   "cell_type": "code",
   "execution_count": 37,
   "metadata": {},
   "outputs": [
    {
     "name": "stdout",
     "output_type": "stream",
     "text": [
      "Total Value of the Stock/Bond Portion of the Portfolio:            $65,850.70\n"
     ]
    }
   ],
   "source": [
    "# Calculate the total value of the stock and bond portion of the portfolio\n",
    "total_stocks_bonds = agg_value + spy_value\n",
    "\n",
    "# Print the current balance of the stock and bond portion of the portfolio\n",
    "print(f\"Total Value of the Stock/Bond Portion of the Portfolio:            ${total_stocks_bonds:,.2f}\")"
   ]
  },
  {
   "cell_type": "code",
   "execution_count": 38,
   "metadata": {},
   "outputs": [
    {
     "name": "stdout",
     "output_type": "stream",
     "text": [
      "Total Value of Entire Portfolio (Stocks/Bonds & Crypto):            $118,883.41\n"
     ]
    }
   ],
   "source": [
    "# Calculate the total value of the member's entire savings portfolio\n",
    "# Add the value of the cryptocurrency walled to the value of the total stocks and bonds\n",
    "total_portfolio = total_crypto_wallet + total_stocks_bonds\n",
    "\n",
    "# Print current cryptocurrency wallet balance\n",
    "# YOUR CODE HERE\n",
    "print(f\"Total Value of Entire Portfolio (Stocks/Bonds & Crypto):            ${total_portfolio:,.2f}\")"
   ]
  },
  {
   "cell_type": "markdown",
   "metadata": {},
   "source": [
    "### Evaluate the Emergency Fund\n",
    "\n",
    "In this section, you’ll use the valuations for the cryptocurrency wallet and for the stock and bond portions of the portfolio to determine if the credit union member has enough savings to build an emergency fund into their financial plan. To do this, complete the following steps:\n",
    "\n",
    "1. Create a Python list named `savings_data` that has two elements. The first element contains the total value of the cryptocurrency wallet. The second element contains the total value of the stock and bond portions of the portfolio.\n",
    "\n",
    "2. Use the `savings_data` list to create a Pandas DataFrame named `savings_df`, and then display this DataFrame. The function to create the DataFrame should take the following three parameters:\n",
    "\n",
    "    - `savings_data`: Use the list that you just created.\n",
    "\n",
    "    - `columns`: Set this parameter equal to a Python list with a single value called `amount`.\n",
    "\n",
    "    - `index`: Set this parameter equal to a Python list with the values of `crypto` and `stock/bond`.\n",
    "\n",
    "3. Use the `savings_df` DataFrame to plot a pie chart that visualizes the composition of the member’s portfolio. The y-axis of the pie chart uses `amount`. Be sure to add a title.\n",
    "\n",
    "4. Using Python, determine if the current portfolio has enough to create an emergency fund as part of the member’s financial plan. Ideally, an emergency fund should equal to three times the member’s monthly income. To do this, implement the following steps:\n",
    "\n",
    "    1. Create a variable named `emergency_fund_value`, and set it equal to three times the value of the member’s `monthly_income` of $12000. (You set this earlier in Part 1).\n",
    "\n",
    "    2. Create a series of three if statements to determine if the member’s total portfolio is large enough to fund the emergency portfolio:\n",
    "\n",
    "        1. If the total portfolio value is greater than the emergency fund value, display a message congratulating the member for having enough money in this fund.\n",
    "\n",
    "        2. Else if the total portfolio value is equal to the emergency fund value, display a message congratulating the member on reaching this important financial goal.\n",
    "\n",
    "        3. Else the total portfolio is less than the emergency fund value, so display a message showing how many dollars away the member is from reaching the goal. (Subtract the total portfolio value from the emergency fund value.)\n"
   ]
  },
  {
   "cell_type": "markdown",
   "metadata": {},
   "source": [
    "#### Step 1: Create a Python list named `savings_data` that has two elements. The first element contains the total value of the cryptocurrency wallet. The second element contains the total value of the stock and bond portions of the portfolio."
   ]
  },
  {
   "cell_type": "code",
   "execution_count": 41,
   "metadata": {},
   "outputs": [
    {
     "data": {
      "text/plain": [
       "['Crypto', 'Stock/Bond']"
      ]
     },
     "execution_count": 41,
     "metadata": {},
     "output_type": "execute_result"
    }
   ],
   "source": [
    "# Consolidate financial assets data into a Python list\n",
    "savings_data = [\"Crypto\", \"Stock/Bond\"] \n",
    "\n",
    "# Review the Python list savings_data\n",
    "savings_data    "
   ]
  },
  {
   "cell_type": "markdown",
   "metadata": {},
   "source": [
    "#### Step 2: Use the `savings_data` list to create a Pandas DataFrame named `savings_df`, and then display this DataFrame. The function to create the DataFrame should take the following three parameters:\n",
    "\n",
    "- `savings_data`: Use the list that you just created.\n",
    "\n",
    "- `columns`: Set this parameter equal to a Python list with a single value called `amount`.\n",
    "\n",
    "- `index`: Set this parameter equal to a Python list with the values of `crypto` and `stock/bond`.\n"
   ]
  },
  {
   "cell_type": "code",
   "execution_count": 42,
   "metadata": {},
   "outputs": [
    {
     "data": {
      "text/html": [
       "<div>\n",
       "<style scoped>\n",
       "    .dataframe tbody tr th:only-of-type {\n",
       "        vertical-align: middle;\n",
       "    }\n",
       "\n",
       "    .dataframe tbody tr th {\n",
       "        vertical-align: top;\n",
       "    }\n",
       "\n",
       "    .dataframe thead th {\n",
       "        text-align: right;\n",
       "    }\n",
       "</style>\n",
       "<table border=\"1\" class=\"dataframe\">\n",
       "  <thead>\n",
       "    <tr style=\"text-align: right;\">\n",
       "      <th></th>\n",
       "      <th>Amount</th>\n",
       "    </tr>\n",
       "  </thead>\n",
       "  <tbody>\n",
       "    <tr>\n",
       "      <th>Crypto</th>\n",
       "      <td>53032.712</td>\n",
       "    </tr>\n",
       "    <tr>\n",
       "      <th>Stock/Bond</th>\n",
       "      <td>65850.700</td>\n",
       "    </tr>\n",
       "  </tbody>\n",
       "</table>\n",
       "</div>"
      ],
      "text/plain": [
       "               Amount\n",
       "Crypto      53032.712\n",
       "Stock/Bond  65850.700"
      ]
     },
     "execution_count": 42,
     "metadata": {},
     "output_type": "execute_result"
    }
   ],
   "source": [
    "# Create a Pandas DataFrame called savings_df \n",
    "savings_df = pd.DataFrame(\n",
    "    {'Amount':[total_crypto_wallet, total_stocks_bonds]},\n",
    "    index=savings_data\n",
    ")\n",
    "\n",
    "# Display the savings_df DataFrame\n",
    "savings_df"
   ]
  },
  {
   "cell_type": "markdown",
   "metadata": {},
   "source": [
    "#### Step 3: Use the `savings_df` DataFrame to plot a pie chart that visualizes the composition of the member’s portfolio. The y-axis of the pie chart uses `amount`. Be sure to add a title."
   ]
  },
  {
   "cell_type": "code",
   "execution_count": 43,
   "metadata": {},
   "outputs": [
    {
     "data": {
      "text/plain": [
       "<AxesSubplot:title={'center':'Portfolio Composition - Crypto v. Stock/Bond Holdings'}, ylabel='Amount'>"
      ]
     },
     "execution_count": 43,
     "metadata": {},
     "output_type": "execute_result"
    },
    {
     "data": {
      "image/png": "[encoded data removed]",
      "text/plain": [
       "<Figure size 432x288 with 1 Axes>"
      ]
     },
     "metadata": {},
     "output_type": "display_data"
    }
   ],
   "source": [
    "# Plot the total value of the member's portfolio (crypto and stock/bond) in a pie chart\n",
    "savings_df.plot.pie(y='Amount', title='Portfolio Composition - Crypto v. Stock/Bond Holdings')"
   ]
  },
  {
   "cell_type": "markdown",
   "metadata": {},
   "source": [
    "#### Step 4: Using Python, determine if the current portfolio has enough to create an emergency fund as part of the member’s financial plan. Ideally, an emergency fund should equal to three times the member’s monthly income. To do this, implement the following steps:\n",
    "\n",
    "Step 1. Create a variable named `emergency_fund_value`, and set it equal to three times the value of the member’s `monthly_income` of 12000. (You set this earlier in Part 1).\n",
    "\n",
    "Step 2. Create a series of three if statements to determine if the member’s total portfolio is large enough to fund the emergency portfolio:\n",
    "\n",
    "* If the total portfolio value is greater than the emergency fund value, display a message congratulating the member for having enough money in this fund.\n",
    "\n",
    "* Else if the total portfolio value is equal to the emergency fund value, display a message congratulating the member on reaching this important financial goal.\n",
    "\n",
    "* Else the total portfolio is less than the emergency fund value, so display a message showing how many dollars away the member is from reaching the goal. (Subtract the total portfolio value from the emergency fund value.)\n"
   ]
  },
  {
   "cell_type": "markdown",
   "metadata": {},
   "source": [
    "##### Step 4-1: Create a variable named `emergency_fund_value`, and set it equal to three times the value of the member’s `monthly_income` of 12000. (You set this earlier in Part 1)."
   ]
  },
  {
   "cell_type": "code",
   "execution_count": 44,
   "metadata": {},
   "outputs": [
    {
     "data": {
      "text/plain": [
       "144000.0"
      ]
     },
     "execution_count": 44,
     "metadata": {},
     "output_type": "execute_result"
    }
   ],
   "source": [
    "# reserve_months = 3\n",
    "\n",
    "# Create a variable named emergency_fund_value\n",
    "emergency_fund_value = monthly_income * reserve_months\n",
    "\n",
    "emergency_fund_value"
   ]
  },
  {
   "cell_type": "markdown",
   "metadata": {},
   "source": [
    "##### Step 4-2: Create a series of three if statements to determine if the member’s total portfolio is large enough to fund the emergency portfolio:\n",
    "\n",
    "* If the total portfolio value is greater than the emergency fund value, display a message congratulating the member for having enough money in this fund.\n",
    "\n",
    "* Else if the total portfolio value is equal to the emergency fund value, display a message congratulating the member on reaching this important financial goal.\n",
    "\n",
    "* Else the total portfolio is less than the emergency fund value, so display a message showing how many dollars away the member is from reaching the goal. (Subtract the total portfolio value from the emergency fund value.)"
   ]
  },
  {
   "cell_type": "code",
   "execution_count": 45,
   "metadata": {},
   "outputs": [
    {
     "name": "stdout",
     "output_type": "stream",
     "text": [
      "Way to go! Only $25,116.59 away from reaching your goal of having 12.0 months' expenses for an emergency fund.\n"
     ]
    }
   ],
   "source": [
    "# Evaluate the possibility of creating an emergency fund with 3 conditions:\n",
    "if total_portfolio > emergency_fund_value:\n",
    "    print(f\"Congratulations!!! You have enough money in this fund for your goal of a {reserve_months} month reserve, plus an additional {((total_portfolio / monthly_income) - reserve_months):,.2f} months.\")\n",
    "if total_portfolio == emergency_fund_value: \n",
    "    print(f\"Great Work!! You've reached this important financial goal of having a {reserve_months} month reserve.\")\n",
    "if total_portfolio < emergency_fund_value:\n",
    "    print(f\"Way to go! Only ${(emergency_fund_value - total_portfolio):,.2f} away from reaching your goal of having {reserve_months} months' expenses for an emergency fund.\")"
   ]
  },
  {
   "cell_type": "markdown",
   "metadata": {},
   "source": [
    "## Part 2: Create a Financial Planner for Retirement"
   ]
  },
  {
   "cell_type": "markdown",
   "metadata": {},
   "source": [
    "### Create the Monte Carlo Simulation\n",
    "\n",
    "In this section, you’ll use the MCForecastTools library to create a Monte Carlo simulation for the member’s savings portfolio. To do this, complete the following steps:\n",
    "\n",
    "1. Make an API call via the Alpaca SDK to get 10 years of historical closing prices for a traditional 60/40 portfolio split: 60% stocks (SPY) and 40% bonds (AGG).\n",
    "\n",
    "2. Run a Monte Carlo simulation of 500 samples and 30 years for the 60/40 portfolio, and then plot the results.The following image shows the overlay line plot resulting from a simulation with these characteristics. However, because a random number generator is used to run each live Monte Carlo simulation, your image will differ slightly from this exact image:\n",
    "\n",
    "![A screenshot depicts the resulting plot.](Images/5-4-monte-carlo-line-plot.png)\n",
    "\n",
    "3. Plot the probability distribution of the Monte Carlo simulation. Plot the probability distribution of the Monte Carlo simulation. The following image shows the histogram plot resulting from a simulation with these characteristics. However, because a random number generator is used to run each live Monte Carlo simulation, your image will differ slightly from this exact image:\n",
    "\n",
    "![A screenshot depicts the histogram plot.](Images/5-4-monte-carlo-histogram.png)\n",
    "\n",
    "4. Generate the summary statistics for the Monte Carlo simulation.\n",
    "\n"
   ]
  },
  {
   "cell_type": "markdown",
   "metadata": {},
   "source": [
    "#### Step 1: Make an API call via the Alpaca SDK to get 10 years of historical closing prices for a traditional 60/40 portfolio split: 60% stocks (SPY) and 40% bonds (AGG)."
   ]
  },
  {
   "cell_type": "code",
   "execution_count": 46,
   "metadata": {},
   "outputs": [],
   "source": [
    "# Set start and end dates of 10 years back from your current date\n",
    "# Alternatively, you can use an end date of 2020-08-07 and work 10 years back from that date \n",
    "start_date = pd.Timestamp(ten_year_ago, tz=\"America/New_York\").isoformat()\n",
    "end_date = pd.Timestamp(use_for_today_date, tz=\"America/New_York\").isoformat()\n"
   ]
  },
  {
   "cell_type": "code",
   "execution_count": 47,
   "metadata": {},
   "outputs": [
    {
     "data": {
      "text/html": [
       "<div>\n",
       "<style scoped>\n",
       "    .dataframe tbody tr th:only-of-type {\n",
       "        vertical-align: middle;\n",
       "    }\n",
       "\n",
       "    .dataframe tbody tr th {\n",
       "        vertical-align: top;\n",
       "    }\n",
       "\n",
       "    .dataframe thead tr th {\n",
       "        text-align: left;\n",
       "    }\n",
       "\n",
       "    .dataframe thead tr:last-of-type th {\n",
       "        text-align: right;\n",
       "    }\n",
       "</style>\n",
       "<table border=\"1\" class=\"dataframe\">\n",
       "  <thead>\n",
       "    <tr>\n",
       "      <th></th>\n",
       "      <th colspan=\"5\" halign=\"left\">AGG</th>\n",
       "      <th colspan=\"5\" halign=\"left\">SPY</th>\n",
       "    </tr>\n",
       "    <tr>\n",
       "      <th></th>\n",
       "      <th>open</th>\n",
       "      <th>high</th>\n",
       "      <th>low</th>\n",
       "      <th>close</th>\n",
       "      <th>volume</th>\n",
       "      <th>open</th>\n",
       "      <th>high</th>\n",
       "      <th>low</th>\n",
       "      <th>close</th>\n",
       "      <th>volume</th>\n",
       "    </tr>\n",
       "    <tr>\n",
       "      <th>time</th>\n",
       "      <th></th>\n",
       "      <th></th>\n",
       "      <th></th>\n",
       "      <th></th>\n",
       "      <th></th>\n",
       "      <th></th>\n",
       "      <th></th>\n",
       "      <th></th>\n",
       "      <th></th>\n",
       "      <th></th>\n",
       "    </tr>\n",
       "  </thead>\n",
       "  <tbody>\n",
       "    <tr>\n",
       "      <th>2020-09-14 00:00:00-04:00</th>\n",
       "      <td>118.4700</td>\n",
       "      <td>118.490</td>\n",
       "      <td>118.31</td>\n",
       "      <td>118.37</td>\n",
       "      <td>11222770</td>\n",
       "      <td>337.49</td>\n",
       "      <td>340.3800</td>\n",
       "      <td>334.2208</td>\n",
       "      <td>338.42</td>\n",
       "      <td>109684157</td>\n",
       "    </tr>\n",
       "    <tr>\n",
       "      <th>2020-09-15 00:00:00-04:00</th>\n",
       "      <td>118.2900</td>\n",
       "      <td>118.425</td>\n",
       "      <td>118.29</td>\n",
       "      <td>118.38</td>\n",
       "      <td>3635547</td>\n",
       "      <td>341.12</td>\n",
       "      <td>342.0200</td>\n",
       "      <td>338.4683</td>\n",
       "      <td>340.15</td>\n",
       "      <td>43980284</td>\n",
       "    </tr>\n",
       "    <tr>\n",
       "      <th>2020-09-16 00:00:00-04:00</th>\n",
       "      <td>118.5300</td>\n",
       "      <td>118.530</td>\n",
       "      <td>118.20</td>\n",
       "      <td>118.32</td>\n",
       "      <td>5190572</td>\n",
       "      <td>341.51</td>\n",
       "      <td>343.0600</td>\n",
       "      <td>338.5200</td>\n",
       "      <td>338.81</td>\n",
       "      <td>70521698</td>\n",
       "    </tr>\n",
       "    <tr>\n",
       "      <th>2020-09-17 00:00:00-04:00</th>\n",
       "      <td>118.4201</td>\n",
       "      <td>118.520</td>\n",
       "      <td>118.33</td>\n",
       "      <td>118.36</td>\n",
       "      <td>4263541</td>\n",
       "      <td>333.56</td>\n",
       "      <td>337.6996</td>\n",
       "      <td>332.9910</td>\n",
       "      <td>335.86</td>\n",
       "      <td>80778657</td>\n",
       "    </tr>\n",
       "    <tr>\n",
       "      <th>2020-09-18 00:00:00-04:00</th>\n",
       "      <td>118.3900</td>\n",
       "      <td>118.440</td>\n",
       "      <td>118.18</td>\n",
       "      <td>118.24</td>\n",
       "      <td>4548578</td>\n",
       "      <td>335.37</td>\n",
       "      <td>335.4900</td>\n",
       "      <td>327.9700</td>\n",
       "      <td>330.69</td>\n",
       "      <td>88780313</td>\n",
       "    </tr>\n",
       "  </tbody>\n",
       "</table>\n",
       "</div>"
      ],
      "text/plain": [
       "                                AGG                                     \\\n",
       "                               open     high     low   close    volume   \n",
       "time                                                                     \n",
       "2020-09-14 00:00:00-04:00  118.4700  118.490  118.31  118.37  11222770   \n",
       "2020-09-15 00:00:00-04:00  118.2900  118.425  118.29  118.38   3635547   \n",
       "2020-09-16 00:00:00-04:00  118.5300  118.530  118.20  118.32   5190572   \n",
       "2020-09-17 00:00:00-04:00  118.4201  118.520  118.33  118.36   4263541   \n",
       "2020-09-18 00:00:00-04:00  118.3900  118.440  118.18  118.24   4548578   \n",
       "\n",
       "                              SPY                                         \n",
       "                             open      high       low   close     volume  \n",
       "time                                                                      \n",
       "2020-09-14 00:00:00-04:00  337.49  340.3800  334.2208  338.42  109684157  \n",
       "2020-09-15 00:00:00-04:00  341.12  342.0200  338.4683  340.15   43980284  \n",
       "2020-09-16 00:00:00-04:00  341.51  343.0600  338.5200  338.81   70521698  \n",
       "2020-09-17 00:00:00-04:00  333.56  337.6996  332.9910  335.86   80778657  \n",
       "2020-09-18 00:00:00-04:00  335.37  335.4900  327.9700  330.69   88780313  "
      ]
     },
     "metadata": {},
     "output_type": "display_data"
    },
    {
     "data": {
      "text/html": [
       "<div>\n",
       "<style scoped>\n",
       "    .dataframe tbody tr th:only-of-type {\n",
       "        vertical-align: middle;\n",
       "    }\n",
       "\n",
       "    .dataframe tbody tr th {\n",
       "        vertical-align: top;\n",
       "    }\n",
       "\n",
       "    .dataframe thead tr th {\n",
       "        text-align: left;\n",
       "    }\n",
       "\n",
       "    .dataframe thead tr:last-of-type th {\n",
       "        text-align: right;\n",
       "    }\n",
       "</style>\n",
       "<table border=\"1\" class=\"dataframe\">\n",
       "  <thead>\n",
       "    <tr>\n",
       "      <th></th>\n",
       "      <th colspan=\"5\" halign=\"left\">AGG</th>\n",
       "      <th colspan=\"5\" halign=\"left\">SPY</th>\n",
       "    </tr>\n",
       "    <tr>\n",
       "      <th></th>\n",
       "      <th>open</th>\n",
       "      <th>high</th>\n",
       "      <th>low</th>\n",
       "      <th>close</th>\n",
       "      <th>volume</th>\n",
       "      <th>open</th>\n",
       "      <th>high</th>\n",
       "      <th>low</th>\n",
       "      <th>close</th>\n",
       "      <th>volume</th>\n",
       "    </tr>\n",
       "    <tr>\n",
       "      <th>time</th>\n",
       "      <th></th>\n",
       "      <th></th>\n",
       "      <th></th>\n",
       "      <th></th>\n",
       "      <th></th>\n",
       "      <th></th>\n",
       "      <th></th>\n",
       "      <th></th>\n",
       "      <th></th>\n",
       "      <th></th>\n",
       "    </tr>\n",
       "  </thead>\n",
       "  <tbody>\n",
       "    <tr>\n",
       "      <th>2021-01-29 00:00:00-05:00</th>\n",
       "      <td>117.1563</td>\n",
       "      <td>117.40</td>\n",
       "      <td>116.5625</td>\n",
       "      <td>117.32</td>\n",
       "      <td>7119889</td>\n",
       "      <td>375.630</td>\n",
       "      <td>376.67</td>\n",
       "      <td>368.2700</td>\n",
       "      <td>370.19</td>\n",
       "      <td>106397082</td>\n",
       "    </tr>\n",
       "    <tr>\n",
       "      <th>2021-02-01 00:00:00-05:00</th>\n",
       "      <td>117.2000</td>\n",
       "      <td>117.26</td>\n",
       "      <td>117.0915</td>\n",
       "      <td>117.21</td>\n",
       "      <td>5469814</td>\n",
       "      <td>373.720</td>\n",
       "      <td>377.34</td>\n",
       "      <td>370.3760</td>\n",
       "      <td>376.18</td>\n",
       "      <td>64056510</td>\n",
       "    </tr>\n",
       "    <tr>\n",
       "      <th>2021-02-02 00:00:00-05:00</th>\n",
       "      <td>116.9900</td>\n",
       "      <td>117.09</td>\n",
       "      <td>116.9700</td>\n",
       "      <td>117.05</td>\n",
       "      <td>4694446</td>\n",
       "      <td>379.650</td>\n",
       "      <td>383.22</td>\n",
       "      <td>376.3181</td>\n",
       "      <td>381.54</td>\n",
       "      <td>53979346</td>\n",
       "    </tr>\n",
       "    <tr>\n",
       "      <th>2021-02-03 00:00:00-05:00</th>\n",
       "      <td>116.9700</td>\n",
       "      <td>116.99</td>\n",
       "      <td>116.8700</td>\n",
       "      <td>116.89</td>\n",
       "      <td>5060310</td>\n",
       "      <td>382.435</td>\n",
       "      <td>383.70</td>\n",
       "      <td>380.4800</td>\n",
       "      <td>381.86</td>\n",
       "      <td>43305661</td>\n",
       "    </tr>\n",
       "    <tr>\n",
       "      <th>2021-02-04 00:00:00-05:00</th>\n",
       "      <td>116.7500</td>\n",
       "      <td>116.89</td>\n",
       "      <td>116.6900</td>\n",
       "      <td>116.86</td>\n",
       "      <td>5128808</td>\n",
       "      <td>382.960</td>\n",
       "      <td>386.24</td>\n",
       "      <td>381.9655</td>\n",
       "      <td>386.17</td>\n",
       "      <td>40030930</td>\n",
       "    </tr>\n",
       "  </tbody>\n",
       "</table>\n",
       "</div>"
      ],
      "text/plain": [
       "                                AGG                                     \\\n",
       "                               open    high       low   close   volume   \n",
       "time                                                                     \n",
       "2021-01-29 00:00:00-05:00  117.1563  117.40  116.5625  117.32  7119889   \n",
       "2021-02-01 00:00:00-05:00  117.2000  117.26  117.0915  117.21  5469814   \n",
       "2021-02-02 00:00:00-05:00  116.9900  117.09  116.9700  117.05  4694446   \n",
       "2021-02-03 00:00:00-05:00  116.9700  116.99  116.8700  116.89  5060310   \n",
       "2021-02-04 00:00:00-05:00  116.7500  116.89  116.6900  116.86  5128808   \n",
       "\n",
       "                               SPY                                       \n",
       "                              open    high       low   close     volume  \n",
       "time                                                                     \n",
       "2021-01-29 00:00:00-05:00  375.630  376.67  368.2700  370.19  106397082  \n",
       "2021-02-01 00:00:00-05:00  373.720  377.34  370.3760  376.18   64056510  \n",
       "2021-02-02 00:00:00-05:00  379.650  383.22  376.3181  381.54   53979346  \n",
       "2021-02-03 00:00:00-05:00  382.435  383.70  380.4800  381.86   43305661  \n",
       "2021-02-04 00:00:00-05:00  382.960  386.24  381.9655  386.17   40030930  "
      ]
     },
     "execution_count": 47,
     "metadata": {},
     "output_type": "execute_result"
    }
   ],
   "source": [
    "# Use the Alpaca get_barset function to make the API call to get the 10 years worth of pricing data\n",
    "# The tickers and timeframe parameters should have been set in Part 1 of this activity \n",
    "# The start and end dates should be updated with the information set above\n",
    "# Remember to add the df property to the end of the call so the response is returned as a DataFrame\n",
    "prices_df = alpaca.get_barset(\n",
    "    tickers,\n",
    "    timeframe,\n",
    "    start=start_date,\n",
    "    end=end_date\n",
    ").df\n",
    "\n",
    "# Display both the first and last five rows of the DataFrame\n",
    "display(prices_df.head())\n",
    "prices_df.tail() "
   ]
  },
  {
   "cell_type": "markdown",
   "metadata": {},
   "source": [
    "#### Step 2: Run a Monte Carlo simulation of 500 samples and 30 years for the 60/40 portfolio, and then plot the results."
   ]
  },
  {
   "cell_type": "code",
   "execution_count": 48,
   "metadata": {},
   "outputs": [
    {
     "data": {
      "text/html": [
       "<div>\n",
       "<style scoped>\n",
       "    .dataframe tbody tr th:only-of-type {\n",
       "        vertical-align: middle;\n",
       "    }\n",
       "\n",
       "    .dataframe tbody tr th {\n",
       "        vertical-align: top;\n",
       "    }\n",
       "\n",
       "    .dataframe thead tr th {\n",
       "        text-align: left;\n",
       "    }\n",
       "\n",
       "    .dataframe thead tr:last-of-type th {\n",
       "        text-align: right;\n",
       "    }\n",
       "</style>\n",
       "<table border=\"1\" class=\"dataframe\">\n",
       "  <thead>\n",
       "    <tr>\n",
       "      <th></th>\n",
       "      <th colspan=\"6\" halign=\"left\">AGG</th>\n",
       "      <th colspan=\"6\" halign=\"left\">SPY</th>\n",
       "    </tr>\n",
       "    <tr>\n",
       "      <th></th>\n",
       "      <th>open</th>\n",
       "      <th>high</th>\n",
       "      <th>low</th>\n",
       "      <th>close</th>\n",
       "      <th>volume</th>\n",
       "      <th>daily_return</th>\n",
       "      <th>open</th>\n",
       "      <th>high</th>\n",
       "      <th>low</th>\n",
       "      <th>close</th>\n",
       "      <th>volume</th>\n",
       "      <th>daily_return</th>\n",
       "    </tr>\n",
       "    <tr>\n",
       "      <th>time</th>\n",
       "      <th></th>\n",
       "      <th></th>\n",
       "      <th></th>\n",
       "      <th></th>\n",
       "      <th></th>\n",
       "      <th></th>\n",
       "      <th></th>\n",
       "      <th></th>\n",
       "      <th></th>\n",
       "      <th></th>\n",
       "      <th></th>\n",
       "      <th></th>\n",
       "    </tr>\n",
       "  </thead>\n",
       "  <tbody>\n",
       "    <tr>\n",
       "      <th>2020-09-14 00:00:00-04:00</th>\n",
       "      <td>118.4700</td>\n",
       "      <td>118.490</td>\n",
       "      <td>118.31</td>\n",
       "      <td>118.37</td>\n",
       "      <td>11222770</td>\n",
       "      <td>NaN</td>\n",
       "      <td>337.49</td>\n",
       "      <td>340.3800</td>\n",
       "      <td>334.2208</td>\n",
       "      <td>338.42</td>\n",
       "      <td>109684157</td>\n",
       "      <td>NaN</td>\n",
       "    </tr>\n",
       "    <tr>\n",
       "      <th>2020-09-15 00:00:00-04:00</th>\n",
       "      <td>118.2900</td>\n",
       "      <td>118.425</td>\n",
       "      <td>118.29</td>\n",
       "      <td>118.38</td>\n",
       "      <td>3635547</td>\n",
       "      <td>0.000084</td>\n",
       "      <td>341.12</td>\n",
       "      <td>342.0200</td>\n",
       "      <td>338.4683</td>\n",
       "      <td>340.15</td>\n",
       "      <td>43980284</td>\n",
       "      <td>0.005112</td>\n",
       "    </tr>\n",
       "    <tr>\n",
       "      <th>2020-09-16 00:00:00-04:00</th>\n",
       "      <td>118.5300</td>\n",
       "      <td>118.530</td>\n",
       "      <td>118.20</td>\n",
       "      <td>118.32</td>\n",
       "      <td>5190572</td>\n",
       "      <td>-0.000507</td>\n",
       "      <td>341.51</td>\n",
       "      <td>343.0600</td>\n",
       "      <td>338.5200</td>\n",
       "      <td>338.81</td>\n",
       "      <td>70521698</td>\n",
       "      <td>-0.003939</td>\n",
       "    </tr>\n",
       "    <tr>\n",
       "      <th>2020-09-17 00:00:00-04:00</th>\n",
       "      <td>118.4201</td>\n",
       "      <td>118.520</td>\n",
       "      <td>118.33</td>\n",
       "      <td>118.36</td>\n",
       "      <td>4263541</td>\n",
       "      <td>0.000338</td>\n",
       "      <td>333.56</td>\n",
       "      <td>337.6996</td>\n",
       "      <td>332.9910</td>\n",
       "      <td>335.86</td>\n",
       "      <td>80778657</td>\n",
       "      <td>-0.008707</td>\n",
       "    </tr>\n",
       "    <tr>\n",
       "      <th>2020-09-18 00:00:00-04:00</th>\n",
       "      <td>118.3900</td>\n",
       "      <td>118.440</td>\n",
       "      <td>118.18</td>\n",
       "      <td>118.24</td>\n",
       "      <td>4548578</td>\n",
       "      <td>-0.001014</td>\n",
       "      <td>335.37</td>\n",
       "      <td>335.4900</td>\n",
       "      <td>327.9700</td>\n",
       "      <td>330.69</td>\n",
       "      <td>88780313</td>\n",
       "      <td>-0.015393</td>\n",
       "    </tr>\n",
       "  </tbody>\n",
       "</table>\n",
       "</div>"
      ],
      "text/plain": [
       "                                AGG                                     \\\n",
       "                               open     high     low   close    volume   \n",
       "time                                                                     \n",
       "2020-09-14 00:00:00-04:00  118.4700  118.490  118.31  118.37  11222770   \n",
       "2020-09-15 00:00:00-04:00  118.2900  118.425  118.29  118.38   3635547   \n",
       "2020-09-16 00:00:00-04:00  118.5300  118.530  118.20  118.32   5190572   \n",
       "2020-09-17 00:00:00-04:00  118.4201  118.520  118.33  118.36   4263541   \n",
       "2020-09-18 00:00:00-04:00  118.3900  118.440  118.18  118.24   4548578   \n",
       "\n",
       "                                           SPY                              \\\n",
       "                          daily_return    open      high       low   close   \n",
       "time                                                                         \n",
       "2020-09-14 00:00:00-04:00          NaN  337.49  340.3800  334.2208  338.42   \n",
       "2020-09-15 00:00:00-04:00     0.000084  341.12  342.0200  338.4683  340.15   \n",
       "2020-09-16 00:00:00-04:00    -0.000507  341.51  343.0600  338.5200  338.81   \n",
       "2020-09-17 00:00:00-04:00     0.000338  333.56  337.6996  332.9910  335.86   \n",
       "2020-09-18 00:00:00-04:00    -0.001014  335.37  335.4900  327.9700  330.69   \n",
       "\n",
       "                                                   \n",
       "                              volume daily_return  \n",
       "time                                               \n",
       "2020-09-14 00:00:00-04:00  109684157          NaN  \n",
       "2020-09-15 00:00:00-04:00   43980284     0.005112  \n",
       "2020-09-16 00:00:00-04:00   70521698    -0.003939  \n",
       "2020-09-17 00:00:00-04:00   80778657    -0.008707  \n",
       "2020-09-18 00:00:00-04:00   88780313    -0.015393  "
      ]
     },
     "execution_count": 48,
     "metadata": {},
     "output_type": "execute_result"
    }
   ],
   "source": [
    "# Configure the Monte Carlo simulation to forecast 30 years cumulative returns\n",
    "# The weights should be split 40% to AGG and 60% to SPY.\n",
    "# Run 500 samples.\n",
    "MC_trad_weight = MCSimulation(\n",
    "    portfolio_data = prices_df,\n",
    "    weights = [.60,.40],\n",
    "    num_simulation = 500,\n",
    "    num_trading_days = 252*30\n",
    ")\n",
    "\n",
    "# Review the simulation input data\n",
    "MC_trad_weight.portfolio_data.head()\n"
   ]
  },
  {
   "cell_type": "code",
   "execution_count": 49,
   "metadata": {},
   "outputs": [
    {
     "name": "stdout",
     "output_type": "stream",
     "text": [
      "Running Monte Carlo simulation number 0.\n",
      "Running Monte Carlo simulation number 10.\n",
      "Running Monte Carlo simulation number 20.\n",
      "Running Monte Carlo simulation number 30.\n",
      "Running Monte Carlo simulation number 40.\n",
      "Running Monte Carlo simulation number 50.\n",
      "Running Monte Carlo simulation number 60.\n",
      "Running Monte Carlo simulation number 70.\n",
      "Running Monte Carlo simulation number 80.\n",
      "Running Monte Carlo simulation number 90.\n",
      "Running Monte Carlo simulation number 100.\n",
      "Running Monte Carlo simulation number 110.\n",
      "Running Monte Carlo simulation number 120.\n",
      "Running Monte Carlo simulation number 130.\n",
      "Running Monte Carlo simulation number 140.\n",
      "Running Monte Carlo simulation number 150.\n",
      "Running Monte Carlo simulation number 160.\n",
      "Running Monte Carlo simulation number 170.\n",
      "Running Monte Carlo simulation number 180.\n",
      "Running Monte Carlo simulation number 190.\n",
      "Running Monte Carlo simulation number 200.\n",
      "Running Monte Carlo simulation number 210.\n",
      "Running Monte Carlo simulation number 220.\n",
      "Running Monte Carlo simulation number 230.\n",
      "Running Monte Carlo simulation number 240.\n",
      "Running Monte Carlo simulation number 250.\n",
      "Running Monte Carlo simulation number 260.\n",
      "Running Monte Carlo simulation number 270.\n",
      "Running Monte Carlo simulation number 280.\n",
      "Running Monte Carlo simulation number 290.\n",
      "Running Monte Carlo simulation number 300.\n",
      "Running Monte Carlo simulation number 310.\n",
      "Running Monte Carlo simulation number 320.\n",
      "Running Monte Carlo simulation number 330.\n",
      "Running Monte Carlo simulation number 340.\n",
      "Running Monte Carlo simulation number 350.\n",
      "Running Monte Carlo simulation number 360.\n",
      "Running Monte Carlo simulation number 370.\n",
      "Running Monte Carlo simulation number 380.\n",
      "Running Monte Carlo simulation number 390.\n",
      "Running Monte Carlo simulation number 400.\n",
      "Running Monte Carlo simulation number 410.\n",
      "Running Monte Carlo simulation number 420.\n",
      "Running Monte Carlo simulation number 430.\n",
      "Running Monte Carlo simulation number 440.\n",
      "Running Monte Carlo simulation number 450.\n",
      "Running Monte Carlo simulation number 460.\n",
      "Running Monte Carlo simulation number 470.\n",
      "Running Monte Carlo simulation number 480.\n",
      "Running Monte Carlo simulation number 490.\n"
     ]
    },
    {
     "data": {
      "text/html": [
       "<div>\n",
       "<style scoped>\n",
       "    .dataframe tbody tr th:only-of-type {\n",
       "        vertical-align: middle;\n",
       "    }\n",
       "\n",
       "    .dataframe tbody tr th {\n",
       "        vertical-align: top;\n",
       "    }\n",
       "\n",
       "    .dataframe thead th {\n",
       "        text-align: right;\n",
       "    }\n",
       "</style>\n",
       "<table border=\"1\" class=\"dataframe\">\n",
       "  <thead>\n",
       "    <tr style=\"text-align: right;\">\n",
       "      <th></th>\n",
       "      <th>0</th>\n",
       "      <th>1</th>\n",
       "      <th>2</th>\n",
       "      <th>3</th>\n",
       "      <th>4</th>\n",
       "      <th>5</th>\n",
       "      <th>6</th>\n",
       "      <th>7</th>\n",
       "      <th>8</th>\n",
       "      <th>9</th>\n",
       "      <th>...</th>\n",
       "      <th>490</th>\n",
       "      <th>491</th>\n",
       "      <th>492</th>\n",
       "      <th>493</th>\n",
       "      <th>494</th>\n",
       "      <th>495</th>\n",
       "      <th>496</th>\n",
       "      <th>497</th>\n",
       "      <th>498</th>\n",
       "      <th>499</th>\n",
       "    </tr>\n",
       "  </thead>\n",
       "  <tbody>\n",
       "    <tr>\n",
       "      <th>0</th>\n",
       "      <td>1.000000</td>\n",
       "      <td>1.000000</td>\n",
       "      <td>1.000000</td>\n",
       "      <td>1.000000</td>\n",
       "      <td>1.000000</td>\n",
       "      <td>1.000000</td>\n",
       "      <td>1.000000</td>\n",
       "      <td>1.000000</td>\n",
       "      <td>1.000000</td>\n",
       "      <td>1.000000</td>\n",
       "      <td>...</td>\n",
       "      <td>1.000000</td>\n",
       "      <td>1.000000</td>\n",
       "      <td>1.000000</td>\n",
       "      <td>1.000000</td>\n",
       "      <td>1.000000</td>\n",
       "      <td>1.000000</td>\n",
       "      <td>1.000000</td>\n",
       "      <td>1.000000</td>\n",
       "      <td>1.000000</td>\n",
       "      <td>1.000000</td>\n",
       "    </tr>\n",
       "    <tr>\n",
       "      <th>1</th>\n",
       "      <td>1.002155</td>\n",
       "      <td>1.002817</td>\n",
       "      <td>0.994101</td>\n",
       "      <td>0.998240</td>\n",
       "      <td>0.991295</td>\n",
       "      <td>1.005432</td>\n",
       "      <td>0.996578</td>\n",
       "      <td>1.002609</td>\n",
       "      <td>1.006656</td>\n",
       "      <td>1.002749</td>\n",
       "      <td>...</td>\n",
       "      <td>0.993864</td>\n",
       "      <td>0.993587</td>\n",
       "      <td>1.001790</td>\n",
       "      <td>1.003826</td>\n",
       "      <td>1.003940</td>\n",
       "      <td>1.001897</td>\n",
       "      <td>0.996023</td>\n",
       "      <td>1.003885</td>\n",
       "      <td>1.008455</td>\n",
       "      <td>1.003411</td>\n",
       "    </tr>\n",
       "    <tr>\n",
       "      <th>2</th>\n",
       "      <td>1.003336</td>\n",
       "      <td>0.995875</td>\n",
       "      <td>0.995021</td>\n",
       "      <td>0.999768</td>\n",
       "      <td>0.993730</td>\n",
       "      <td>1.004240</td>\n",
       "      <td>0.996249</td>\n",
       "      <td>0.996096</td>\n",
       "      <td>1.005092</td>\n",
       "      <td>1.000725</td>\n",
       "      <td>...</td>\n",
       "      <td>0.990216</td>\n",
       "      <td>0.992538</td>\n",
       "      <td>0.994397</td>\n",
       "      <td>1.004560</td>\n",
       "      <td>1.005285</td>\n",
       "      <td>0.999185</td>\n",
       "      <td>0.996082</td>\n",
       "      <td>1.003859</td>\n",
       "      <td>1.008163</td>\n",
       "      <td>1.004000</td>\n",
       "    </tr>\n",
       "    <tr>\n",
       "      <th>3</th>\n",
       "      <td>1.001966</td>\n",
       "      <td>0.995079</td>\n",
       "      <td>0.997851</td>\n",
       "      <td>0.998970</td>\n",
       "      <td>0.999264</td>\n",
       "      <td>1.007416</td>\n",
       "      <td>0.997131</td>\n",
       "      <td>0.991566</td>\n",
       "      <td>1.007089</td>\n",
       "      <td>1.000860</td>\n",
       "      <td>...</td>\n",
       "      <td>0.981231</td>\n",
       "      <td>0.994773</td>\n",
       "      <td>1.001481</td>\n",
       "      <td>1.000424</td>\n",
       "      <td>1.007682</td>\n",
       "      <td>0.999186</td>\n",
       "      <td>1.002229</td>\n",
       "      <td>1.006912</td>\n",
       "      <td>1.016118</td>\n",
       "      <td>1.011685</td>\n",
       "    </tr>\n",
       "    <tr>\n",
       "      <th>4</th>\n",
       "      <td>1.003432</td>\n",
       "      <td>0.998897</td>\n",
       "      <td>0.996383</td>\n",
       "      <td>1.000437</td>\n",
       "      <td>0.996924</td>\n",
       "      <td>1.009370</td>\n",
       "      <td>0.993846</td>\n",
       "      <td>0.992388</td>\n",
       "      <td>1.010815</td>\n",
       "      <td>0.996626</td>\n",
       "      <td>...</td>\n",
       "      <td>0.979985</td>\n",
       "      <td>0.988956</td>\n",
       "      <td>0.999185</td>\n",
       "      <td>1.005576</td>\n",
       "      <td>1.006332</td>\n",
       "      <td>0.998726</td>\n",
       "      <td>1.008158</td>\n",
       "      <td>1.021534</td>\n",
       "      <td>1.018493</td>\n",
       "      <td>1.009342</td>\n",
       "    </tr>\n",
       "    <tr>\n",
       "      <th>...</th>\n",
       "      <td>...</td>\n",
       "      <td>...</td>\n",
       "      <td>...</td>\n",
       "      <td>...</td>\n",
       "      <td>...</td>\n",
       "      <td>...</td>\n",
       "      <td>...</td>\n",
       "      <td>...</td>\n",
       "      <td>...</td>\n",
       "      <td>...</td>\n",
       "      <td>...</td>\n",
       "      <td>...</td>\n",
       "      <td>...</td>\n",
       "      <td>...</td>\n",
       "      <td>...</td>\n",
       "      <td>...</td>\n",
       "      <td>...</td>\n",
       "      <td>...</td>\n",
       "      <td>...</td>\n",
       "      <td>...</td>\n",
       "      <td>...</td>\n",
       "    </tr>\n",
       "    <tr>\n",
       "      <th>7556</th>\n",
       "      <td>38.842900</td>\n",
       "      <td>19.440844</td>\n",
       "      <td>57.409054</td>\n",
       "      <td>33.006903</td>\n",
       "      <td>22.883077</td>\n",
       "      <td>24.853180</td>\n",
       "      <td>27.391672</td>\n",
       "      <td>25.592763</td>\n",
       "      <td>61.259550</td>\n",
       "      <td>20.960415</td>\n",
       "      <td>...</td>\n",
       "      <td>47.969730</td>\n",
       "      <td>24.233844</td>\n",
       "      <td>23.662939</td>\n",
       "      <td>24.387921</td>\n",
       "      <td>27.047234</td>\n",
       "      <td>38.814638</td>\n",
       "      <td>26.571127</td>\n",
       "      <td>52.787578</td>\n",
       "      <td>27.444573</td>\n",
       "      <td>57.235351</td>\n",
       "    </tr>\n",
       "    <tr>\n",
       "      <th>7557</th>\n",
       "      <td>38.905852</td>\n",
       "      <td>19.525646</td>\n",
       "      <td>57.515351</td>\n",
       "      <td>33.048929</td>\n",
       "      <td>22.885730</td>\n",
       "      <td>24.782046</td>\n",
       "      <td>27.047542</td>\n",
       "      <td>25.745488</td>\n",
       "      <td>61.119072</td>\n",
       "      <td>20.765288</td>\n",
       "      <td>...</td>\n",
       "      <td>47.702785</td>\n",
       "      <td>24.168866</td>\n",
       "      <td>23.821123</td>\n",
       "      <td>24.235526</td>\n",
       "      <td>27.136174</td>\n",
       "      <td>38.467106</td>\n",
       "      <td>26.662715</td>\n",
       "      <td>52.725375</td>\n",
       "      <td>27.645398</td>\n",
       "      <td>57.428977</td>\n",
       "    </tr>\n",
       "    <tr>\n",
       "      <th>7558</th>\n",
       "      <td>38.990352</td>\n",
       "      <td>19.574981</td>\n",
       "      <td>57.226026</td>\n",
       "      <td>33.235816</td>\n",
       "      <td>23.010907</td>\n",
       "      <td>24.768843</td>\n",
       "      <td>27.137804</td>\n",
       "      <td>25.514068</td>\n",
       "      <td>60.820899</td>\n",
       "      <td>20.581352</td>\n",
       "      <td>...</td>\n",
       "      <td>47.992595</td>\n",
       "      <td>24.172292</td>\n",
       "      <td>23.729193</td>\n",
       "      <td>24.319552</td>\n",
       "      <td>27.318271</td>\n",
       "      <td>38.635604</td>\n",
       "      <td>26.557286</td>\n",
       "      <td>52.878083</td>\n",
       "      <td>27.604468</td>\n",
       "      <td>57.262338</td>\n",
       "    </tr>\n",
       "    <tr>\n",
       "      <th>7559</th>\n",
       "      <td>39.010902</td>\n",
       "      <td>19.628829</td>\n",
       "      <td>57.392711</td>\n",
       "      <td>33.014558</td>\n",
       "      <td>23.164520</td>\n",
       "      <td>24.667700</td>\n",
       "      <td>27.147027</td>\n",
       "      <td>25.463555</td>\n",
       "      <td>61.051237</td>\n",
       "      <td>20.709144</td>\n",
       "      <td>...</td>\n",
       "      <td>48.209421</td>\n",
       "      <td>24.237267</td>\n",
       "      <td>23.729535</td>\n",
       "      <td>24.336430</td>\n",
       "      <td>27.249278</td>\n",
       "      <td>38.487388</td>\n",
       "      <td>26.418027</td>\n",
       "      <td>52.926188</td>\n",
       "      <td>27.704176</td>\n",
       "      <td>57.426978</td>\n",
       "    </tr>\n",
       "    <tr>\n",
       "      <th>7560</th>\n",
       "      <td>38.824123</td>\n",
       "      <td>19.594020</td>\n",
       "      <td>57.463098</td>\n",
       "      <td>32.887840</td>\n",
       "      <td>23.187021</td>\n",
       "      <td>24.753543</td>\n",
       "      <td>27.286317</td>\n",
       "      <td>25.184895</td>\n",
       "      <td>61.570946</td>\n",
       "      <td>20.776839</td>\n",
       "      <td>...</td>\n",
       "      <td>47.930792</td>\n",
       "      <td>24.416808</td>\n",
       "      <td>23.603917</td>\n",
       "      <td>24.557536</td>\n",
       "      <td>27.512857</td>\n",
       "      <td>38.623737</td>\n",
       "      <td>26.472734</td>\n",
       "      <td>52.688597</td>\n",
       "      <td>27.789883</td>\n",
       "      <td>57.116621</td>\n",
       "    </tr>\n",
       "  </tbody>\n",
       "</table>\n",
       "<p>7561 rows × 500 columns</p>\n",
       "</div>"
      ],
      "text/plain": [
       "            0          1          2          3          4          5    \\\n",
       "0      1.000000   1.000000   1.000000   1.000000   1.000000   1.000000   \n",
       "1      1.002155   1.002817   0.994101   0.998240   0.991295   1.005432   \n",
       "2      1.003336   0.995875   0.995021   0.999768   0.993730   1.004240   \n",
       "3      1.001966   0.995079   0.997851   0.998970   0.999264   1.007416   \n",
       "4      1.003432   0.998897   0.996383   1.000437   0.996924   1.009370   \n",
       "...         ...        ...        ...        ...        ...        ...   \n",
       "7556  38.842900  19.440844  57.409054  33.006903  22.883077  24.853180   \n",
       "7557  38.905852  19.525646  57.515351  33.048929  22.885730  24.782046   \n",
       "7558  38.990352  19.574981  57.226026  33.235816  23.010907  24.768843   \n",
       "7559  39.010902  19.628829  57.392711  33.014558  23.164520  24.667700   \n",
       "7560  38.824123  19.594020  57.463098  32.887840  23.187021  24.753543   \n",
       "\n",
       "            6          7          8          9    ...        490        491  \\\n",
       "0      1.000000   1.000000   1.000000   1.000000  ...   1.000000   1.000000   \n",
       "1      0.996578   1.002609   1.006656   1.002749  ...   0.993864   0.993587   \n",
       "2      0.996249   0.996096   1.005092   1.000725  ...   0.990216   0.992538   \n",
       "3      0.997131   0.991566   1.007089   1.000860  ...   0.981231   0.994773   \n",
       "4      0.993846   0.992388   1.010815   0.996626  ...   0.979985   0.988956   \n",
       "...         ...        ...        ...        ...  ...        ...        ...   \n",
       "7556  27.391672  25.592763  61.259550  20.960415  ...  47.969730  24.233844   \n",
       "7557  27.047542  25.745488  61.119072  20.765288  ...  47.702785  24.168866   \n",
       "7558  27.137804  25.514068  60.820899  20.581352  ...  47.992595  24.172292   \n",
       "7559  27.147027  25.463555  61.051237  20.709144  ...  48.209421  24.237267   \n",
       "7560  27.286317  25.184895  61.570946  20.776839  ...  47.930792  24.416808   \n",
       "\n",
       "            492        493        494        495        496        497  \\\n",
       "0      1.000000   1.000000   1.000000   1.000000   1.000000   1.000000   \n",
       "1      1.001790   1.003826   1.003940   1.001897   0.996023   1.003885   \n",
       "2      0.994397   1.004560   1.005285   0.999185   0.996082   1.003859   \n",
       "3      1.001481   1.000424   1.007682   0.999186   1.002229   1.006912   \n",
       "4      0.999185   1.005576   1.006332   0.998726   1.008158   1.021534   \n",
       "...         ...        ...        ...        ...        ...        ...   \n",
       "7556  23.662939  24.387921  27.047234  38.814638  26.571127  52.787578   \n",
       "7557  23.821123  24.235526  27.136174  38.467106  26.662715  52.725375   \n",
       "7558  23.729193  24.319552  27.318271  38.635604  26.557286  52.878083   \n",
       "7559  23.729535  24.336430  27.249278  38.487388  26.418027  52.926188   \n",
       "7560  23.603917  24.557536  27.512857  38.623737  26.472734  52.688597   \n",
       "\n",
       "            498        499  \n",
       "0      1.000000   1.000000  \n",
       "1      1.008455   1.003411  \n",
       "2      1.008163   1.004000  \n",
       "3      1.016118   1.011685  \n",
       "4      1.018493   1.009342  \n",
       "...         ...        ...  \n",
       "7556  27.444573  57.235351  \n",
       "7557  27.645398  57.428977  \n",
       "7558  27.604468  57.262338  \n",
       "7559  27.704176  57.426978  \n",
       "7560  27.789883  57.116621  \n",
       "\n",
       "[7561 rows x 500 columns]"
      ]
     },
     "execution_count": 49,
     "metadata": {},
     "output_type": "execute_result"
    }
   ],
   "source": [
    "# Run the Monte Carlo simulation to forecast 30 years cumulative returns\n",
    "MC_trad_weight.calc_cumulative_return()\n"
   ]
  },
  {
   "cell_type": "code",
   "execution_count": 50,
   "metadata": {},
   "outputs": [
    {
     "data": {
      "image/png": "[encoded data removed]",
      "text/plain": [
       "<Figure size 432x288 with 1 Axes>"
      ]
     },
     "metadata": {
      "needs_background": "light"
     },
     "output_type": "display_data"
    }
   ],
   "source": [
    "# Visualize the 30-year Monte Carlo simulation by creating an\n",
    "# overlay line plot\n",
    "trad_weight_line_plot = MC_trad_weight.plot_simulation()\n",
    "\n",
    "# Save the plot for future use\n",
    "trad_weight_line_plot.get_figure().savefig(\"MC_trad_weight_line_plot.png\", bbox_inches=\"tight\")"
   ]
  },
  {
   "cell_type": "markdown",
   "metadata": {},
   "source": [
    "#### Step 3: Plot the probability distribution of the Monte Carlo simulation."
   ]
  },
  {
   "cell_type": "code",
   "execution_count": 51,
   "metadata": {},
   "outputs": [
    {
     "data": {
      "image/png": "[encoded data removed]",
      "text/plain": [
       "<Figure size 432x288 with 1 Axes>"
      ]
     },
     "metadata": {
      "needs_background": "light"
     },
     "output_type": "display_data"
    }
   ],
   "source": [
    "# Visualize the probability distribution of the 30-year Monte Carlo simulation \n",
    "# by plotting a histogram\n",
    "trad_weight_distribution_plot = MC_trad_weight.plot_distribution()\n",
    "\n",
    "# Save the plot for future use\n",
    "trad_weight_distribution_plot.get_figure().savefig('MC_trad_weight_dist_plot.png',bbox_inches='tight')"
   ]
  },
  {
   "cell_type": "markdown",
   "metadata": {},
   "source": [
    "#### Step 4: Generate the summary statistics for the Monte Carlo simulation."
   ]
  },
  {
   "cell_type": "code",
   "execution_count": 52,
   "metadata": {},
   "outputs": [
    {
     "name": "stdout",
     "output_type": "stream",
     "text": [
      "count           500.000000\n",
      "mean             36.954962\n",
      "std              13.586221\n",
      "min              11.706779\n",
      "25%              27.277210\n",
      "50%              34.881069\n",
      "75%              43.255510\n",
      "max             107.531473\n",
      "95% CI Lower     17.979129\n",
      "95% CI Upper     70.270060\n",
      "Name: 7560, dtype: float64\n"
     ]
    }
   ],
   "source": [
    "# Generate summary statistics from the 30-year Monte Carlo simulation results\n",
    "# Save the results as a variable\n",
    "trad_weight_table = MC_trad_weight.summarize_cumulative_return()\n",
    "\n",
    "# Review the 30-year Monte Carlo summary statistics\n",
    "print(trad_weight_table)"
   ]
  },
  {
   "cell_type": "markdown",
   "metadata": {},
   "source": [
    "### Analyze the Retirement Portfolio Forecasts\n",
    "\n",
    "Using the current value of only the stock and bond portion of the member's portfolio and the summary statistics that you generated from the Monte Carlo simulation, answer the following question in your Jupyter notebook:\n",
    "\n",
    "-  What are the lower and upper bounds for the expected value of the portfolio with a 95% confidence interval?\n"
   ]
  },
  {
   "cell_type": "code",
   "execution_count": 53,
   "metadata": {},
   "outputs": [
    {
     "name": "stdout",
     "output_type": "stream",
     "text": [
      "Total Current Value of the Stock/Bond portion of the Portfolio:            $65,850.70\n"
     ]
    }
   ],
   "source": [
    "# Print the current balance of the stock and bond portion of the members portfolio\n",
    "print(f\"Total Current Value of the Stock/Bond portion of the Portfolio:            ${total_stocks_bonds:,.2f}\")"
   ]
  },
  {
   "cell_type": "code",
   "execution_count": 54,
   "metadata": {},
   "outputs": [
    {
     "name": "stdout",
     "output_type": "stream",
     "text": [
      "There is a 95% chance that investing the Stock/Bond portion of the portfolio (current value $65,850.70) in a traditional 60/40 weight distribution over the next 30 years will result in a value within the range of $1,183,938.20 and $4,627,332.62.\n"
     ]
    }
   ],
   "source": [
    "# Use the lower and upper `95%` confidence intervals to calculate the range of the possible outcomes for the current stock/bond portfolio\n",
    "ci_lower_thirty_cumulative_return = trad_weight_table[8] * total_stocks_bonds\n",
    "ci_upper_thirty_cumulative_return = trad_weight_table[9] * total_stocks_bonds\n",
    "\n",
    "# Print the result of your calculations\n",
    "print(f\"There is a 95% chance that investing the Stock/Bond portion of the portfolio (current value ${total_stocks_bonds:,.2f}) in\"\n",
    "      f\" a traditional 60/40 weight distribution over the next 30 years will result in a value within the range of\"\n",
    "      f\" ${ci_lower_thirty_cumulative_return:,.2f} and ${ci_upper_thirty_cumulative_return:,.2f}.\")\n"
   ]
  },
  {
   "cell_type": "markdown",
   "metadata": {},
   "source": [
    "### Forecast Cumulative Returns in 10 Years\n",
    "\n",
    "The CTO of the credit union is impressed with your work on these planning tools but wonders if 30 years is a long time to wait until retirement. So, your next task is to adjust the retirement portfolio and run a new Monte Carlo simulation to find out if the changes will allow members to retire earlier.\n",
    "\n",
    "For this new Monte Carlo simulation, do the following: \n",
    "\n",
    "- Forecast the cumulative returns for 10 years from now. Because of the shortened investment horizon (30 years to 10 years), the portfolio needs to invest more heavily in the riskier asset&mdash;that is, stock&mdash;to help accumulate wealth for retirement. \n",
    "\n",
    "- Adjust the weights of the retirement portfolio so that the composition for the Monte Carlo simulation consists of 20% bonds and 80% stocks. \n",
    "\n",
    "- Run the simulation over 500 samples, and use the same data that the API call to Alpaca generated.\n",
    "\n",
    "- Based on the new Monte Carlo simulation, answer the following questions in your Jupyter notebook:\n",
    "\n",
    "    - Using the current value of only the stock and bond portion of the member's portfolio and the summary statistics that you generated from the new Monte Carlo simulation, what are the lower and upper bounds for the expected value of the portfolio (with the new weights) with a 95% confidence interval?\n",
    "\n",
    "    - Will weighting the portfolio more heavily toward stocks allow the credit union members to retire after only 10 years?\n"
   ]
  },
  {
   "cell_type": "code",
   "execution_count": 55,
   "metadata": {},
   "outputs": [
    {
     "data": {
      "text/html": [
       "<div>\n",
       "<style scoped>\n",
       "    .dataframe tbody tr th:only-of-type {\n",
       "        vertical-align: middle;\n",
       "    }\n",
       "\n",
       "    .dataframe tbody tr th {\n",
       "        vertical-align: top;\n",
       "    }\n",
       "\n",
       "    .dataframe thead tr th {\n",
       "        text-align: left;\n",
       "    }\n",
       "\n",
       "    .dataframe thead tr:last-of-type th {\n",
       "        text-align: right;\n",
       "    }\n",
       "</style>\n",
       "<table border=\"1\" class=\"dataframe\">\n",
       "  <thead>\n",
       "    <tr>\n",
       "      <th></th>\n",
       "      <th colspan=\"6\" halign=\"left\">AGG</th>\n",
       "      <th colspan=\"6\" halign=\"left\">SPY</th>\n",
       "    </tr>\n",
       "    <tr>\n",
       "      <th></th>\n",
       "      <th>open</th>\n",
       "      <th>high</th>\n",
       "      <th>low</th>\n",
       "      <th>close</th>\n",
       "      <th>volume</th>\n",
       "      <th>daily_return</th>\n",
       "      <th>open</th>\n",
       "      <th>high</th>\n",
       "      <th>low</th>\n",
       "      <th>close</th>\n",
       "      <th>volume</th>\n",
       "      <th>daily_return</th>\n",
       "    </tr>\n",
       "    <tr>\n",
       "      <th>time</th>\n",
       "      <th></th>\n",
       "      <th></th>\n",
       "      <th></th>\n",
       "      <th></th>\n",
       "      <th></th>\n",
       "      <th></th>\n",
       "      <th></th>\n",
       "      <th></th>\n",
       "      <th></th>\n",
       "      <th></th>\n",
       "      <th></th>\n",
       "      <th></th>\n",
       "    </tr>\n",
       "  </thead>\n",
       "  <tbody>\n",
       "    <tr>\n",
       "      <th>2020-09-14 00:00:00-04:00</th>\n",
       "      <td>118.4700</td>\n",
       "      <td>118.490</td>\n",
       "      <td>118.31</td>\n",
       "      <td>118.37</td>\n",
       "      <td>11222770</td>\n",
       "      <td>NaN</td>\n",
       "      <td>337.49</td>\n",
       "      <td>340.3800</td>\n",
       "      <td>334.2208</td>\n",
       "      <td>338.42</td>\n",
       "      <td>109684157</td>\n",
       "      <td>NaN</td>\n",
       "    </tr>\n",
       "    <tr>\n",
       "      <th>2020-09-15 00:00:00-04:00</th>\n",
       "      <td>118.2900</td>\n",
       "      <td>118.425</td>\n",
       "      <td>118.29</td>\n",
       "      <td>118.38</td>\n",
       "      <td>3635547</td>\n",
       "      <td>0.000084</td>\n",
       "      <td>341.12</td>\n",
       "      <td>342.0200</td>\n",
       "      <td>338.4683</td>\n",
       "      <td>340.15</td>\n",
       "      <td>43980284</td>\n",
       "      <td>0.005112</td>\n",
       "    </tr>\n",
       "    <tr>\n",
       "      <th>2020-09-16 00:00:00-04:00</th>\n",
       "      <td>118.5300</td>\n",
       "      <td>118.530</td>\n",
       "      <td>118.20</td>\n",
       "      <td>118.32</td>\n",
       "      <td>5190572</td>\n",
       "      <td>-0.000507</td>\n",
       "      <td>341.51</td>\n",
       "      <td>343.0600</td>\n",
       "      <td>338.5200</td>\n",
       "      <td>338.81</td>\n",
       "      <td>70521698</td>\n",
       "      <td>-0.003939</td>\n",
       "    </tr>\n",
       "    <tr>\n",
       "      <th>2020-09-17 00:00:00-04:00</th>\n",
       "      <td>118.4201</td>\n",
       "      <td>118.520</td>\n",
       "      <td>118.33</td>\n",
       "      <td>118.36</td>\n",
       "      <td>4263541</td>\n",
       "      <td>0.000338</td>\n",
       "      <td>333.56</td>\n",
       "      <td>337.6996</td>\n",
       "      <td>332.9910</td>\n",
       "      <td>335.86</td>\n",
       "      <td>80778657</td>\n",
       "      <td>-0.008707</td>\n",
       "    </tr>\n",
       "    <tr>\n",
       "      <th>2020-09-18 00:00:00-04:00</th>\n",
       "      <td>118.3900</td>\n",
       "      <td>118.440</td>\n",
       "      <td>118.18</td>\n",
       "      <td>118.24</td>\n",
       "      <td>4548578</td>\n",
       "      <td>-0.001014</td>\n",
       "      <td>335.37</td>\n",
       "      <td>335.4900</td>\n",
       "      <td>327.9700</td>\n",
       "      <td>330.69</td>\n",
       "      <td>88780313</td>\n",
       "      <td>-0.015393</td>\n",
       "    </tr>\n",
       "  </tbody>\n",
       "</table>\n",
       "</div>"
      ],
      "text/plain": [
       "                                AGG                                     \\\n",
       "                               open     high     low   close    volume   \n",
       "time                                                                     \n",
       "2020-09-14 00:00:00-04:00  118.4700  118.490  118.31  118.37  11222770   \n",
       "2020-09-15 00:00:00-04:00  118.2900  118.425  118.29  118.38   3635547   \n",
       "2020-09-16 00:00:00-04:00  118.5300  118.530  118.20  118.32   5190572   \n",
       "2020-09-17 00:00:00-04:00  118.4201  118.520  118.33  118.36   4263541   \n",
       "2020-09-18 00:00:00-04:00  118.3900  118.440  118.18  118.24   4548578   \n",
       "\n",
       "                                           SPY                              \\\n",
       "                          daily_return    open      high       low   close   \n",
       "time                                                                         \n",
       "2020-09-14 00:00:00-04:00          NaN  337.49  340.3800  334.2208  338.42   \n",
       "2020-09-15 00:00:00-04:00     0.000084  341.12  342.0200  338.4683  340.15   \n",
       "2020-09-16 00:00:00-04:00    -0.000507  341.51  343.0600  338.5200  338.81   \n",
       "2020-09-17 00:00:00-04:00     0.000338  333.56  337.6996  332.9910  335.86   \n",
       "2020-09-18 00:00:00-04:00    -0.001014  335.37  335.4900  327.9700  330.69   \n",
       "\n",
       "                                                   \n",
       "                              volume daily_return  \n",
       "time                                               \n",
       "2020-09-14 00:00:00-04:00  109684157          NaN  \n",
       "2020-09-15 00:00:00-04:00   43980284     0.005112  \n",
       "2020-09-16 00:00:00-04:00   70521698    -0.003939  \n",
       "2020-09-17 00:00:00-04:00   80778657    -0.008707  \n",
       "2020-09-18 00:00:00-04:00   88780313    -0.015393  "
      ]
     },
     "execution_count": 55,
     "metadata": {},
     "output_type": "execute_result"
    }
   ],
   "source": [
    "# Configure a Monte Carlo simulation to forecast 10 years cumulative returns\n",
    "# The weights should be split 20% to AGG and 80% to SPY.\n",
    "# Run 500 samples.\n",
    "MC_spy80_weight = MCSimulation(\n",
    "    portfolio_data = prices_df,\n",
    "    weights = [.80,.20],\n",
    "    num_simulation = 500,\n",
    "    num_trading_days = 252*10\n",
    ")\n",
    "\n",
    "# Review the simulation input data\n",
    "MC_spy80_weight.portfolio_data.head()\n"
   ]
  },
  {
   "cell_type": "code",
   "execution_count": 56,
   "metadata": {},
   "outputs": [
    {
     "name": "stdout",
     "output_type": "stream",
     "text": [
      "Running Monte Carlo simulation number 0.\n",
      "Running Monte Carlo simulation number 10.\n",
      "Running Monte Carlo simulation number 20.\n",
      "Running Monte Carlo simulation number 30.\n",
      "Running Monte Carlo simulation number 40.\n",
      "Running Monte Carlo simulation number 50.\n",
      "Running Monte Carlo simulation number 60.\n",
      "Running Monte Carlo simulation number 70.\n",
      "Running Monte Carlo simulation number 80.\n",
      "Running Monte Carlo simulation number 90.\n",
      "Running Monte Carlo simulation number 100.\n",
      "Running Monte Carlo simulation number 110.\n",
      "Running Monte Carlo simulation number 120.\n",
      "Running Monte Carlo simulation number 130.\n",
      "Running Monte Carlo simulation number 140.\n",
      "Running Monte Carlo simulation number 150.\n",
      "Running Monte Carlo simulation number 160.\n",
      "Running Monte Carlo simulation number 170.\n",
      "Running Monte Carlo simulation number 180.\n",
      "Running Monte Carlo simulation number 190.\n",
      "Running Monte Carlo simulation number 200.\n",
      "Running Monte Carlo simulation number 210.\n",
      "Running Monte Carlo simulation number 220.\n",
      "Running Monte Carlo simulation number 230.\n",
      "Running Monte Carlo simulation number 240.\n",
      "Running Monte Carlo simulation number 250.\n",
      "Running Monte Carlo simulation number 260.\n",
      "Running Monte Carlo simulation number 270.\n",
      "Running Monte Carlo simulation number 280.\n",
      "Running Monte Carlo simulation number 290.\n",
      "Running Monte Carlo simulation number 300.\n",
      "Running Monte Carlo simulation number 310.\n",
      "Running Monte Carlo simulation number 320.\n",
      "Running Monte Carlo simulation number 330.\n",
      "Running Monte Carlo simulation number 340.\n",
      "Running Monte Carlo simulation number 350.\n",
      "Running Monte Carlo simulation number 360.\n",
      "Running Monte Carlo simulation number 370.\n",
      "Running Monte Carlo simulation number 380.\n",
      "Running Monte Carlo simulation number 390.\n",
      "Running Monte Carlo simulation number 400.\n",
      "Running Monte Carlo simulation number 410.\n",
      "Running Monte Carlo simulation number 420.\n",
      "Running Monte Carlo simulation number 430.\n",
      "Running Monte Carlo simulation number 440.\n",
      "Running Monte Carlo simulation number 450.\n",
      "Running Monte Carlo simulation number 460.\n",
      "Running Monte Carlo simulation number 470.\n",
      "Running Monte Carlo simulation number 480.\n",
      "Running Monte Carlo simulation number 490.\n"
     ]
    },
    {
     "data": {
      "text/html": [
       "<div>\n",
       "<style scoped>\n",
       "    .dataframe tbody tr th:only-of-type {\n",
       "        vertical-align: middle;\n",
       "    }\n",
       "\n",
       "    .dataframe tbody tr th {\n",
       "        vertical-align: top;\n",
       "    }\n",
       "\n",
       "    .dataframe thead th {\n",
       "        text-align: right;\n",
       "    }\n",
       "</style>\n",
       "<table border=\"1\" class=\"dataframe\">\n",
       "  <thead>\n",
       "    <tr style=\"text-align: right;\">\n",
       "      <th></th>\n",
       "      <th>0</th>\n",
       "      <th>1</th>\n",
       "      <th>2</th>\n",
       "      <th>3</th>\n",
       "      <th>4</th>\n",
       "      <th>5</th>\n",
       "      <th>6</th>\n",
       "      <th>7</th>\n",
       "      <th>8</th>\n",
       "      <th>9</th>\n",
       "      <th>...</th>\n",
       "      <th>490</th>\n",
       "      <th>491</th>\n",
       "      <th>492</th>\n",
       "      <th>493</th>\n",
       "      <th>494</th>\n",
       "      <th>495</th>\n",
       "      <th>496</th>\n",
       "      <th>497</th>\n",
       "      <th>498</th>\n",
       "      <th>499</th>\n",
       "    </tr>\n",
       "  </thead>\n",
       "  <tbody>\n",
       "    <tr>\n",
       "      <th>0</th>\n",
       "      <td>1.000000</td>\n",
       "      <td>1.000000</td>\n",
       "      <td>1.000000</td>\n",
       "      <td>1.000000</td>\n",
       "      <td>1.000000</td>\n",
       "      <td>1.000000</td>\n",
       "      <td>1.000000</td>\n",
       "      <td>1.000000</td>\n",
       "      <td>1.000000</td>\n",
       "      <td>1.000000</td>\n",
       "      <td>...</td>\n",
       "      <td>1.000000</td>\n",
       "      <td>1.000000</td>\n",
       "      <td>1.000000</td>\n",
       "      <td>1.000000</td>\n",
       "      <td>1.000000</td>\n",
       "      <td>1.000000</td>\n",
       "      <td>1.000000</td>\n",
       "      <td>1.000000</td>\n",
       "      <td>1.000000</td>\n",
       "      <td>1.000000</td>\n",
       "    </tr>\n",
       "    <tr>\n",
       "      <th>1</th>\n",
       "      <td>1.001024</td>\n",
       "      <td>0.999820</td>\n",
       "      <td>0.997059</td>\n",
       "      <td>0.998989</td>\n",
       "      <td>1.002580</td>\n",
       "      <td>0.995721</td>\n",
       "      <td>0.997199</td>\n",
       "      <td>1.001409</td>\n",
       "      <td>0.998825</td>\n",
       "      <td>0.999025</td>\n",
       "      <td>...</td>\n",
       "      <td>0.999224</td>\n",
       "      <td>1.003881</td>\n",
       "      <td>1.002614</td>\n",
       "      <td>1.000620</td>\n",
       "      <td>0.999710</td>\n",
       "      <td>0.999047</td>\n",
       "      <td>0.999610</td>\n",
       "      <td>1.003588</td>\n",
       "      <td>0.995283</td>\n",
       "      <td>1.000867</td>\n",
       "    </tr>\n",
       "    <tr>\n",
       "      <th>2</th>\n",
       "      <td>0.999656</td>\n",
       "      <td>1.004008</td>\n",
       "      <td>0.993807</td>\n",
       "      <td>1.004695</td>\n",
       "      <td>1.003559</td>\n",
       "      <td>0.993389</td>\n",
       "      <td>0.996618</td>\n",
       "      <td>1.000734</td>\n",
       "      <td>0.995489</td>\n",
       "      <td>0.995995</td>\n",
       "      <td>...</td>\n",
       "      <td>0.996850</td>\n",
       "      <td>1.000510</td>\n",
       "      <td>1.005014</td>\n",
       "      <td>1.001843</td>\n",
       "      <td>0.996980</td>\n",
       "      <td>1.001796</td>\n",
       "      <td>1.001909</td>\n",
       "      <td>0.999362</td>\n",
       "      <td>0.995215</td>\n",
       "      <td>1.000396</td>\n",
       "    </tr>\n",
       "    <tr>\n",
       "      <th>3</th>\n",
       "      <td>0.997622</td>\n",
       "      <td>1.001166</td>\n",
       "      <td>0.991172</td>\n",
       "      <td>1.001056</td>\n",
       "      <td>1.005301</td>\n",
       "      <td>0.993539</td>\n",
       "      <td>0.999353</td>\n",
       "      <td>1.001652</td>\n",
       "      <td>0.995012</td>\n",
       "      <td>0.996390</td>\n",
       "      <td>...</td>\n",
       "      <td>0.997408</td>\n",
       "      <td>1.005296</td>\n",
       "      <td>1.008833</td>\n",
       "      <td>1.004785</td>\n",
       "      <td>0.998502</td>\n",
       "      <td>0.997556</td>\n",
       "      <td>1.001063</td>\n",
       "      <td>0.995946</td>\n",
       "      <td>0.993450</td>\n",
       "      <td>1.002849</td>\n",
       "    </tr>\n",
       "    <tr>\n",
       "      <th>4</th>\n",
       "      <td>0.998364</td>\n",
       "      <td>0.999888</td>\n",
       "      <td>0.991095</td>\n",
       "      <td>1.003037</td>\n",
       "      <td>1.003556</td>\n",
       "      <td>0.994274</td>\n",
       "      <td>0.999937</td>\n",
       "      <td>1.003082</td>\n",
       "      <td>0.993725</td>\n",
       "      <td>0.998960</td>\n",
       "      <td>...</td>\n",
       "      <td>0.994677</td>\n",
       "      <td>1.008986</td>\n",
       "      <td>1.011755</td>\n",
       "      <td>1.006699</td>\n",
       "      <td>0.996709</td>\n",
       "      <td>0.995896</td>\n",
       "      <td>0.997494</td>\n",
       "      <td>0.997856</td>\n",
       "      <td>0.995338</td>\n",
       "      <td>1.005324</td>\n",
       "    </tr>\n",
       "    <tr>\n",
       "      <th>...</th>\n",
       "      <td>...</td>\n",
       "      <td>...</td>\n",
       "      <td>...</td>\n",
       "      <td>...</td>\n",
       "      <td>...</td>\n",
       "      <td>...</td>\n",
       "      <td>...</td>\n",
       "      <td>...</td>\n",
       "      <td>...</td>\n",
       "      <td>...</td>\n",
       "      <td>...</td>\n",
       "      <td>...</td>\n",
       "      <td>...</td>\n",
       "      <td>...</td>\n",
       "      <td>...</td>\n",
       "      <td>...</td>\n",
       "      <td>...</td>\n",
       "      <td>...</td>\n",
       "      <td>...</td>\n",
       "      <td>...</td>\n",
       "      <td>...</td>\n",
       "    </tr>\n",
       "    <tr>\n",
       "      <th>2516</th>\n",
       "      <td>1.800667</td>\n",
       "      <td>1.827592</td>\n",
       "      <td>1.512819</td>\n",
       "      <td>1.590883</td>\n",
       "      <td>1.176028</td>\n",
       "      <td>1.730636</td>\n",
       "      <td>1.270387</td>\n",
       "      <td>1.742303</td>\n",
       "      <td>1.379146</td>\n",
       "      <td>1.435646</td>\n",
       "      <td>...</td>\n",
       "      <td>1.610841</td>\n",
       "      <td>1.611686</td>\n",
       "      <td>1.386487</td>\n",
       "      <td>1.763027</td>\n",
       "      <td>1.473885</td>\n",
       "      <td>1.642664</td>\n",
       "      <td>1.863213</td>\n",
       "      <td>1.212347</td>\n",
       "      <td>1.461531</td>\n",
       "      <td>1.319944</td>\n",
       "    </tr>\n",
       "    <tr>\n",
       "      <th>2517</th>\n",
       "      <td>1.807270</td>\n",
       "      <td>1.833883</td>\n",
       "      <td>1.512712</td>\n",
       "      <td>1.593887</td>\n",
       "      <td>1.182201</td>\n",
       "      <td>1.730693</td>\n",
       "      <td>1.267964</td>\n",
       "      <td>1.750884</td>\n",
       "      <td>1.378188</td>\n",
       "      <td>1.440788</td>\n",
       "      <td>...</td>\n",
       "      <td>1.609519</td>\n",
       "      <td>1.616342</td>\n",
       "      <td>1.382772</td>\n",
       "      <td>1.757008</td>\n",
       "      <td>1.479591</td>\n",
       "      <td>1.641570</td>\n",
       "      <td>1.861040</td>\n",
       "      <td>1.210211</td>\n",
       "      <td>1.466323</td>\n",
       "      <td>1.319036</td>\n",
       "    </tr>\n",
       "    <tr>\n",
       "      <th>2518</th>\n",
       "      <td>1.815342</td>\n",
       "      <td>1.839354</td>\n",
       "      <td>1.511377</td>\n",
       "      <td>1.598410</td>\n",
       "      <td>1.184228</td>\n",
       "      <td>1.736770</td>\n",
       "      <td>1.263181</td>\n",
       "      <td>1.754966</td>\n",
       "      <td>1.380044</td>\n",
       "      <td>1.443242</td>\n",
       "      <td>...</td>\n",
       "      <td>1.610112</td>\n",
       "      <td>1.618441</td>\n",
       "      <td>1.387876</td>\n",
       "      <td>1.754343</td>\n",
       "      <td>1.484415</td>\n",
       "      <td>1.639821</td>\n",
       "      <td>1.861163</td>\n",
       "      <td>1.208891</td>\n",
       "      <td>1.460978</td>\n",
       "      <td>1.318267</td>\n",
       "    </tr>\n",
       "    <tr>\n",
       "      <th>2519</th>\n",
       "      <td>1.821882</td>\n",
       "      <td>1.849051</td>\n",
       "      <td>1.506737</td>\n",
       "      <td>1.602667</td>\n",
       "      <td>1.185822</td>\n",
       "      <td>1.734071</td>\n",
       "      <td>1.257996</td>\n",
       "      <td>1.749494</td>\n",
       "      <td>1.376868</td>\n",
       "      <td>1.442827</td>\n",
       "      <td>...</td>\n",
       "      <td>1.608266</td>\n",
       "      <td>1.614215</td>\n",
       "      <td>1.395181</td>\n",
       "      <td>1.753578</td>\n",
       "      <td>1.491571</td>\n",
       "      <td>1.646902</td>\n",
       "      <td>1.859310</td>\n",
       "      <td>1.210706</td>\n",
       "      <td>1.460206</td>\n",
       "      <td>1.317328</td>\n",
       "    </tr>\n",
       "    <tr>\n",
       "      <th>2520</th>\n",
       "      <td>1.821549</td>\n",
       "      <td>1.847175</td>\n",
       "      <td>1.509747</td>\n",
       "      <td>1.599619</td>\n",
       "      <td>1.180388</td>\n",
       "      <td>1.734374</td>\n",
       "      <td>1.252451</td>\n",
       "      <td>1.757149</td>\n",
       "      <td>1.379816</td>\n",
       "      <td>1.444686</td>\n",
       "      <td>...</td>\n",
       "      <td>1.602763</td>\n",
       "      <td>1.616083</td>\n",
       "      <td>1.399321</td>\n",
       "      <td>1.753523</td>\n",
       "      <td>1.495028</td>\n",
       "      <td>1.647863</td>\n",
       "      <td>1.865510</td>\n",
       "      <td>1.215865</td>\n",
       "      <td>1.461228</td>\n",
       "      <td>1.316463</td>\n",
       "    </tr>\n",
       "  </tbody>\n",
       "</table>\n",
       "<p>2521 rows × 500 columns</p>\n",
       "</div>"
      ],
      "text/plain": [
       "           0         1         2         3         4         5         6    \\\n",
       "0     1.000000  1.000000  1.000000  1.000000  1.000000  1.000000  1.000000   \n",
       "1     1.001024  0.999820  0.997059  0.998989  1.002580  0.995721  0.997199   \n",
       "2     0.999656  1.004008  0.993807  1.004695  1.003559  0.993389  0.996618   \n",
       "3     0.997622  1.001166  0.991172  1.001056  1.005301  0.993539  0.999353   \n",
       "4     0.998364  0.999888  0.991095  1.003037  1.003556  0.994274  0.999937   \n",
       "...        ...       ...       ...       ...       ...       ...       ...   \n",
       "2516  1.800667  1.827592  1.512819  1.590883  1.176028  1.730636  1.270387   \n",
       "2517  1.807270  1.833883  1.512712  1.593887  1.182201  1.730693  1.267964   \n",
       "2518  1.815342  1.839354  1.511377  1.598410  1.184228  1.736770  1.263181   \n",
       "2519  1.821882  1.849051  1.506737  1.602667  1.185822  1.734071  1.257996   \n",
       "2520  1.821549  1.847175  1.509747  1.599619  1.180388  1.734374  1.252451   \n",
       "\n",
       "           7         8         9    ...       490       491       492  \\\n",
       "0     1.000000  1.000000  1.000000  ...  1.000000  1.000000  1.000000   \n",
       "1     1.001409  0.998825  0.999025  ...  0.999224  1.003881  1.002614   \n",
       "2     1.000734  0.995489  0.995995  ...  0.996850  1.000510  1.005014   \n",
       "3     1.001652  0.995012  0.996390  ...  0.997408  1.005296  1.008833   \n",
       "4     1.003082  0.993725  0.998960  ...  0.994677  1.008986  1.011755   \n",
       "...        ...       ...       ...  ...       ...       ...       ...   \n",
       "2516  1.742303  1.379146  1.435646  ...  1.610841  1.611686  1.386487   \n",
       "2517  1.750884  1.378188  1.440788  ...  1.609519  1.616342  1.382772   \n",
       "2518  1.754966  1.380044  1.443242  ...  1.610112  1.618441  1.387876   \n",
       "2519  1.749494  1.376868  1.442827  ...  1.608266  1.614215  1.395181   \n",
       "2520  1.757149  1.379816  1.444686  ...  1.602763  1.616083  1.399321   \n",
       "\n",
       "           493       494       495       496       497       498       499  \n",
       "0     1.000000  1.000000  1.000000  1.000000  1.000000  1.000000  1.000000  \n",
       "1     1.000620  0.999710  0.999047  0.999610  1.003588  0.995283  1.000867  \n",
       "2     1.001843  0.996980  1.001796  1.001909  0.999362  0.995215  1.000396  \n",
       "3     1.004785  0.998502  0.997556  1.001063  0.995946  0.993450  1.002849  \n",
       "4     1.006699  0.996709  0.995896  0.997494  0.997856  0.995338  1.005324  \n",
       "...        ...       ...       ...       ...       ...       ...       ...  \n",
       "2516  1.763027  1.473885  1.642664  1.863213  1.212347  1.461531  1.319944  \n",
       "2517  1.757008  1.479591  1.641570  1.861040  1.210211  1.466323  1.319036  \n",
       "2518  1.754343  1.484415  1.639821  1.861163  1.208891  1.460978  1.318267  \n",
       "2519  1.753578  1.491571  1.646902  1.859310  1.210706  1.460206  1.317328  \n",
       "2520  1.753523  1.495028  1.647863  1.865510  1.215865  1.461228  1.316463  \n",
       "\n",
       "[2521 rows x 500 columns]"
      ]
     },
     "execution_count": 56,
     "metadata": {},
     "output_type": "execute_result"
    }
   ],
   "source": [
    "# Run the Monte Carlo simulation to forecast 10 years cumulative returns\n",
    "MC_spy80_weight.calc_cumulative_return()"
   ]
  },
  {
   "cell_type": "code",
   "execution_count": 57,
   "metadata": {},
   "outputs": [
    {
     "data": {
      "image/png": "[encoded data removed]",
      "text/plain": [
       "<Figure size 432x288 with 1 Axes>"
      ]
     },
     "metadata": {
      "needs_background": "light"
     },
     "output_type": "display_data"
    }
   ],
   "source": [
    "# Visualize the 10-year Monte Carlo simulation by creating an\n",
    "# overlay line plot\n",
    "spy80_weight_line_plot = MC_spy80_weight.plot_simulation()\n",
    "\n",
    "# Save the plot for future use\n",
    "spy80_weight_line_plot.get_figure().savefig(\"MC_spy80_weight_line_plot.png\", bbox_inches=\"tight\")"
   ]
  },
  {
   "cell_type": "code",
   "execution_count": 58,
   "metadata": {},
   "outputs": [
    {
     "data": {
      "image/png": "[encoded data removed]",
      "text/plain": [
       "<Figure size 432x288 with 1 Axes>"
      ]
     },
     "metadata": {
      "needs_background": "light"
     },
     "output_type": "display_data"
    }
   ],
   "source": [
    "# Visualize the probability distribution of the 10-year Monte Carlo simulation \n",
    "# by plotting a histogram\n",
    "spy80_weight_distribution_plot = MC_spy80_weight.plot_distribution()\n",
    "\n",
    "# Save the plot for future use\n",
    "spy80_weight_distribution_plot.get_figure().savefig('MC_spy80_weight_dist_plot.png',bbox_inches='tight')"
   ]
  },
  {
   "cell_type": "code",
   "execution_count": 59,
   "metadata": {},
   "outputs": [
    {
     "name": "stdout",
     "output_type": "stream",
     "text": [
      "count           500.000000\n",
      "mean              1.550946\n",
      "std               0.195650\n",
      "min               1.028370\n",
      "25%               1.414185\n",
      "50%               1.545270\n",
      "75%               1.670756\n",
      "max               2.198992\n",
      "95% CI Lower      1.199055\n",
      "95% CI Upper      1.991294\n",
      "Name: 2520, dtype: float64\n"
     ]
    }
   ],
   "source": [
    "# Generate summary statistics from the 10-year Monte Carlo simulation results\n",
    "# Save the results as a variable\n",
    "spy80_weight_table = MC_spy80_weight.summarize_cumulative_return()\n",
    "\n",
    "# Review the 10-year Monte Carlo summary statistics\n",
    "print(spy80_weight_table)"
   ]
  },
  {
   "cell_type": "markdown",
   "metadata": {},
   "source": [
    "### Answer the following questions:"
   ]
  },
  {
   "cell_type": "markdown",
   "metadata": {},
   "source": [
    "#### Question: Using the current value of only the stock and bond portion of the member's portfolio and the summary statistics that you generated from the new Monte Carlo simulation, what are the lower and upper bounds for the expected value of the portfolio (with the new weights) with a 95% confidence interval?"
   ]
  },
  {
   "cell_type": "code",
   "execution_count": 60,
   "metadata": {},
   "outputs": [
    {
     "name": "stdout",
     "output_type": "stream",
     "text": [
      "Total Current Value of the Stock/Bond portion of the Portfolio:            $65,850.70\n"
     ]
    }
   ],
   "source": [
    "# Print the current balance of the stock and bond portion of the members portfolio\n",
    "print(f\"Total Current Value of the Stock/Bond portion of the Portfolio:            ${total_stocks_bonds:,.2f}\")"
   ]
  },
  {
   "cell_type": "code",
   "execution_count": 61,
   "metadata": {},
   "outputs": [
    {
     "name": "stdout",
     "output_type": "stream",
     "text": [
      "There is a 95% chance that investing the Stock/Bond portion of the portfolio (current value $65,850.70) in a more aggressive 80/20 weight distribution over the next 10 years will result within the range of $78,958.64 and $131,128.11 in value.\n"
     ]
    }
   ],
   "source": [
    "# Use the lower and upper `95%` confidence intervals to calculate the range of the possible outcomes for the current stock/bond portfolio\n",
    "ci_lower_ten_cumulative_return = spy80_weight_table[8] * total_stocks_bonds\n",
    "ci_upper_ten_cumulative_return = spy80_weight_table[9] * total_stocks_bonds\n",
    "\n",
    "# Print the result of your calculations\n",
    "# YOUR CODE HERE\n",
    "print(f\"There is a 95% chance that investing the Stock/Bond portion of the portfolio (current value ${total_stocks_bonds:,.2f}) in\"\n",
    "      f\" a more aggressive 80/20 weight distribution over the next 10 years will result within the range of\"\n",
    "      f\" ${ci_lower_ten_cumulative_return:,.2f} and ${ci_upper_ten_cumulative_return:,.2f} in value.\")\n"
   ]
  },
  {
   "cell_type": "markdown",
   "metadata": {},
   "source": [
    "#### Question: Will weighting the portfolio more heavily to stocks allow the credit union members to retire after only 10 years?"
   ]
  },
  {
   "cell_type": "code",
   "execution_count": 62,
   "metadata": {},
   "outputs": [
    {
     "name": "stdout",
     "output_type": "stream",
     "text": [
      "**Answer**\n",
      "It's very unlikely that weighting the portfolio more heavily towards stocks would allow the members to retire after only 10 years. With their current monthly expenses of $12,000.00, there is up to a 95% chance they would only have enough in stock/bond retirement accounts to survive for maximum of 10.93 months, or 0.91 years (without accounting for inflation).\n"
     ]
    }
   ],
   "source": [
    "print(\"**Answer**\")\n",
    "\n",
    "print(f\"It's very unlikely that weighting the portfolio more heavily towards stocks would allow the members to retire after only 10 years. With their current monthly expenses of ${monthly_income:,.2f}, there is up to a 95% chance they would only have enough in stock/bond retirement accounts to survive for maximum of {(ci_upper_ten_cumulative_return / monthly_income):,.2f} months, or {((ci_upper_ten_cumulative_return / monthly_income)/12):,.2f} years (without accounting for inflation).\")"
   ]
  }
 ],
 "metadata": {
  "kernelspec": {
   "display_name": "Python (dev)",
   "language": "python",
   "name": "dev"
  },
  "language_info": {
   "codemirror_mode": {
    "name": "ipython",
    "version": 3
   },
   "file_extension": ".py",
   "mimetype": "text/x-python",
   "name": "python",
   "nbconvert_exporter": "python",
   "pygments_lexer": "ipython3",
   "version": "3.7.9"
  }
 },
 "nbformat": 4,
 "nbformat_minor": 4
}
