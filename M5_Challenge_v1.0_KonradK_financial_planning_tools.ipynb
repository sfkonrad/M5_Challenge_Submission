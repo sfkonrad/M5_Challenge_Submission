{
 "cells": [
  {
   "cell_type": "markdown",
   "metadata": {},
   "source": [
    "#### M5_Challenge_KonradK_financial_planning_tools.ipynb\n",
    "# Konrad Kozicki\n",
    "### UCB-VIRT-FIN-PT-12-2020-U-B-TTH\n",
    "---"
   ]
  },
  {
   "cell_type": "markdown",
   "metadata": {},
   "source": [
    "# Financial Planning with APIs and Simulations\n",
    "\n",
    "In this Challenge, you’ll create two financial analysis tools by using a single Jupyter notebook:\n",
    "\n",
    "Part 1: A financial planner for emergencies. The members will be able to use this tool to visualize their current savings. The members can then determine if they have enough reserves for an emergency fund.\n",
    "\n",
    "Part 2: A financial planner for retirement. This tool will forecast the performance of their retirement portfolio in 30 years. To do this, the tool will make an Alpaca API call via the Alpaca SDK to get historical price data for use in Monte Carlo simulations.\n",
    "\n",
    "You’ll use the information from the Monte Carlo simulation to answer questions about the portfolio in your Jupyter notebook.\n",
    "\n"
   ]
  },
  {
   "cell_type": "code",
   "execution_count": 3,
   "metadata": {},
   "outputs": [],
   "source": [
    "# Import the required libraries and dependencies\n",
    "import os\n",
    "import requests\n",
    "import json\n",
    "import pandas as pd\n",
    "from dotenv import load_dotenv\n",
    "import alpaca_trade_api as tradeapi\n",
    "from MCForecastTools import MCSimulation\n",
    "\n",
    "%matplotlib inline"
   ]
  },
  {
   "cell_type": "code",
   "execution_count": 4,
   "metadata": {},
   "outputs": [
    {
     "data": {
      "text/plain": [
       "True"
      ]
     },
     "execution_count": 4,
     "metadata": {},
     "output_type": "execute_result"
    }
   ],
   "source": [
    "# Load the environment variables from the .env file by calling the load_dotenv function.\n",
    "load_dotenv()"
   ]
  },
  {
   "cell_type": "markdown",
   "metadata": {},
   "source": [
    "## Part 1: Create a Financial Planner for Emergencies"
   ]
  },
  {
   "cell_type": "markdown",
   "metadata": {},
   "source": [
    "### Evaluate the Cryptocurrency Wallet by Using the Requests Library\n",
    "\n",
    "In this section, you’ll determine the current value of a member’s cryptocurrency wallet. You’ll collect the current prices for the Bitcoin and Ethereum cryptocurrencies by using the Python Requests library. For the prototype, you’ll assume that the member holds the 1.2 Bitcoins (BTC) and 5.3 Ethereum coins (ETH). To do all this, complete the following steps:\n",
    "\n",
    "1. Create a variable named `monthly_income`, and set its value to `12000`.\n",
    "\n",
    "2. Use the Requests library to get the current price (in US dollars) of Bitcoin (BTC) and Ethereum (ETH) by using the API endpoints that the starter code supplies.\n",
    "\n",
    "3. Navigate the JSON response object to access the current price of each coin, and store each in a variable.\n",
    "\n",
    "    > **Hint** Note the specific identifier for each cryptocurrency in the API JSON response. The Bitcoin identifier is `1`, and the Ethereum identifier is `1027`.\n",
    "\n",
    "4. Calculate the value, in US dollars, of the current amount of each cryptocurrency and of the entire cryptocurrency wallet.\n",
    "\n"
   ]
  },
  {
   "cell_type": "code",
   "execution_count": 5,
   "metadata": {},
   "outputs": [],
   "source": [
    "# The current number of coins for each cryptocurrency asset held in the portfolio.\n",
    "btc_coins = 1.2\n",
    "eth_coins = 5.3"
   ]
  },
  {
   "cell_type": "markdown",
   "metadata": {},
   "source": [
    "#### Step 1: Create a variable named `monthly_income`, and set its value to `12000`."
   ]
  },
  {
   "cell_type": "code",
   "execution_count": 6,
   "metadata": {},
   "outputs": [],
   "source": [
    "# The monthly amount for the member's household income\n",
    "monthly_income = 12000"
   ]
  },
  {
   "cell_type": "markdown",
   "metadata": {},
   "source": [
    "#### Review the endpoint URLs for the API calls to Free Crypto API in order to get the current pricing information for both BTC and ETH."
   ]
  },
  {
   "cell_type": "code",
   "execution_count": 7,
   "metadata": {},
   "outputs": [],
   "source": [
    "# The Free Crypto API Call endpoint URLs for the held cryptocurrency assets\n",
    "btc_url = \"https://api.alternative.me/v2/ticker/Bitcoin/?convert=USD\"\n",
    "eth_url = \"https://api.alternative.me/v2/ticker/Ethereum/?convert=USD\""
   ]
  },
  {
   "cell_type": "markdown",
   "metadata": {},
   "source": [
    "#### Step 2. Use the Requests library to get the current price (in US dollars) of Bitcoin (BTC) and Ethereum (ETH) by using the API endpoints that the starter code supplied."
   ]
  },
  {
   "cell_type": "code",
   "execution_count": 8,
   "metadata": {},
   "outputs": [
    {
     "name": "stdout",
     "output_type": "stream",
     "text": [
      "{\n",
      "    \"data\": {\n",
      "        \"1\": {\n",
      "            \"circulating_supply\": 18613406,\n",
      "            \"id\": 1,\n",
      "            \"last_updated\": 1611898007,\n",
      "            \"max_supply\": 21000000,\n",
      "            \"name\": \"Bitcoin\",\n",
      "            \"quotes\": {\n",
      "                \"USD\": {\n",
      "                    \"market_cap\": 613127730831,\n",
      "                    \"percent_change_1h\": -0.338229820132765,\n",
      "                    \"percent_change_24h\": 5.65502891274396,\n",
      "                    \"percent_change_7d\": 6.55508516750109,\n",
      "                    \"percentage_change_1h\": -0.338229820132765,\n",
      "                    \"percentage_change_24h\": 5.65502891274396,\n",
      "                    \"percentage_change_7d\": 6.55508516750109,\n",
      "                    \"price\": 32940.0,\n",
      "                    \"volume_24h\": 57903125147\n",
      "                }\n",
      "            },\n",
      "            \"rank\": 1,\n",
      "            \"symbol\": \"BTC\",\n",
      "            \"total_supply\": 18613406,\n",
      "            \"website_slug\": \"bitcoin\"\n",
      "        }\n",
      "    },\n",
      "    \"metadata\": {\n",
      "        \"error\": null,\n",
      "        \"num_cryptocurrencies\": 1371,\n",
      "        \"timestamp\": 1611898007\n",
      "    }\n",
      "}\n"
     ]
    }
   ],
   "source": [
    "# Using the Python requests library, make an API call to access the current price of BTC\n",
    "btc_response = requests.get(btc_url).json()\n",
    "\n",
    "# Use the json.dumps function to review the response data from the API call\n",
    "# Use the indent and sort_keys parameters to make the response object readable\n",
    "print(json.dumps(btc_response, indent=4, sort_keys=True))\n"
   ]
  },
  {
   "cell_type": "code",
   "execution_count": 9,
   "metadata": {},
   "outputs": [
    {
     "name": "stdout",
     "output_type": "stream",
     "text": [
      "{\n",
      "    \"data\": {\n",
      "        \"1027\": {\n",
      "            \"circulating_supply\": 114446802,\n",
      "            \"id\": 1027,\n",
      "            \"last_updated\": 1611898110,\n",
      "            \"max_supply\": 0,\n",
      "            \"name\": \"Ethereum\",\n",
      "            \"quotes\": {\n",
      "                \"USD\": {\n",
      "                    \"market_cap\": 149252884505,\n",
      "                    \"percent_change_1h\": -0.003304118891636,\n",
      "                    \"percent_change_24h\": 1.47060261305049,\n",
      "                    \"percent_change_7d\": 15.5152473121476,\n",
      "                    \"percentage_change_1h\": -0.003304118891636,\n",
      "                    \"percentage_change_24h\": 1.47060261305049,\n",
      "                    \"percentage_change_7d\": 15.5152473121476,\n",
      "                    \"price\": 1297.14,\n",
      "                    \"volume_24h\": 34901437674\n",
      "                }\n",
      "            },\n",
      "            \"rank\": 2,\n",
      "            \"symbol\": \"ETH\",\n",
      "            \"total_supply\": 114446802,\n",
      "            \"website_slug\": \"ethereum\"\n",
      "        }\n",
      "    },\n",
      "    \"metadata\": {\n",
      "        \"error\": null,\n",
      "        \"num_cryptocurrencies\": 1371,\n",
      "        \"timestamp\": 1611898110\n",
      "    }\n",
      "}\n"
     ]
    }
   ],
   "source": [
    "# Using the Python requests library, make an API call to access the current price ETH\n",
    "eth_response = requests.get(eth_url).json()\n",
    "\n",
    "# Use the json.dumps function to review the response data from the API call\n",
    "# Use the indent and sort_keys parameters to make the response object readable\n",
    "print(json.dumps(eth_response, indent=4, sort_keys=True))\n"
   ]
  },
  {
   "cell_type": "markdown",
   "metadata": {},
   "source": [
    "#### Step 3: Navigate the JSON response object to access the current price of each coin, and store each in a variable."
   ]
  },
  {
   "cell_type": "code",
   "execution_count": 10,
   "metadata": {},
   "outputs": [
    {
     "name": "stdout",
     "output_type": "stream",
     "text": [
      "The price for BTC is $32,940.00\n"
     ]
    }
   ],
   "source": [
    "# Navigate the BTC response object to access the current price of BTC\n",
    "btc_price = btc_response['data']['1']['quotes']['USD']['price']\n",
    "\n",
    "# Print the current price of BTC\n",
    "print(f\"The price for BTC is ${btc_price:,.2f}\")"
   ]
  },
  {
   "cell_type": "code",
   "execution_count": 11,
   "metadata": {},
   "outputs": [
    {
     "name": "stdout",
     "output_type": "stream",
     "text": [
      "The price for ETH is $1,297.14\n"
     ]
    }
   ],
   "source": [
    "# Navigate the BTC response object to access the current price of ETH\n",
    "eth_price = eth_response['data']['1027']['quotes']['USD']['price']\n",
    "\n",
    "# Print the current price of ETH\n",
    "print(f\"The price for ETH is ${eth_price:,.2f}\")\n"
   ]
  },
  {
   "cell_type": "markdown",
   "metadata": {},
   "source": [
    "### Step 4: Calculate the value, in US dollars, of the current amount of each cryptocurrency and of the entire cryptocurrency wallet."
   ]
  },
  {
   "cell_type": "code",
   "execution_count": 12,
   "metadata": {},
   "outputs": [
    {
     "name": "stdout",
     "output_type": "stream",
     "text": [
      "The current value of the total Bitcoin (BTC) holding is $39,528.00\n"
     ]
    }
   ],
   "source": [
    "# Compute the current value of the BTC holding \n",
    "btc_value = btc_coins * btc_price\n",
    "\n",
    "# Print current value of your holding in BTC\n",
    "print(f\"The current value of the total Bitcoin (BTC) holding is ${btc_value:,.2f}\")"
   ]
  },
  {
   "cell_type": "code",
   "execution_count": 13,
   "metadata": {},
   "outputs": [
    {
     "name": "stdout",
     "output_type": "stream",
     "text": [
      "The current value of the total Ethereum (ETH) holding is $6,874.84\n"
     ]
    }
   ],
   "source": [
    "# Compute the current value of the ETH holding \n",
    "eth_value = eth_coins * eth_price\n",
    "\n",
    "# Print current value of your holding in ETH\n",
    "print(f\"The current value of the total Ethereum (ETH) holding is ${eth_value:,.2f}\")"
   ]
  },
  {
   "cell_type": "code",
   "execution_count": 14,
   "metadata": {},
   "outputs": [
    {
     "name": "stdout",
     "output_type": "stream",
     "text": [
      "The total value of the entire cryptocurrency wallet is $46,402.84\n"
     ]
    }
   ],
   "source": [
    "# Compute the total value of the cryptocurrency wallet\n",
    "# Add the value of the BTC holding to the value of the ETH holding\n",
    "total_crypto_wallet = btc_value + eth_value\n",
    "\n",
    "# Print current cryptocurrency wallet balance\n",
    "print(f\"The total value of the entire cryptocurrency wallet is ${total_crypto_wallet:,.2f}\")"
   ]
  },
  {
   "cell_type": "markdown",
   "metadata": {},
   "source": [
    "### Evaluate the Stock and Bond Holdings by Using the Alpaca SDK\n",
    "\n",
    "In this section, you’ll determine the current value of a member’s stock and bond holdings. You’ll make an API call to Alpaca via the Alpaca SDK to get the current closing prices of the SPDR S&P 500 ETF Trust (ticker: SPY) and of the iShares Core US Aggregate Bond ETF (ticker: AGG). For the prototype, assume that the member holds 110 shares of SPY, which represents the stock portion of their portfolio, and 200 shares of AGG, which represents the bond portion. To do all this, complete the following steps:\n",
    "\n",
    "1. In the `Starter_Code` folder, create an environment file (`.env`) to store the values of your Alpaca API key and Alpaca secret key.\n",
    "\n",
    "2. Set the variables for the Alpaca API and secret keys. Using the Alpaca SDK, create the Alpaca `tradeapi.REST` object. In this object, include the parameters for the Alpaca API key, the secret key, and the version number.\n",
    "\n",
    "3. Set the following parameters for the Alpaca API call:\n",
    "\n",
    "    - `tickers`: Use the tickers for the member’s stock and bond holdings.\n",
    "\n",
    "    - `timeframe`: Use a time frame of one day.\n",
    "\n",
    "    - `start_date` and `end_date`: Use the same date for these parameters, and format them with the date of the previous weekday (or `2020-08-07`). This is because you want the one closing price for the most-recent trading day.\n",
    "\n",
    "4. Get the current closing prices for `SPY` and `AGG` by using the Alpaca `get_barset` function. Format the response as a Pandas DataFrame by including the `df` property at the end of the `get_barset` function.\n",
    "\n",
    "5. Navigating the Alpaca response DataFrame, select the `SPY` and `AGG` closing prices, and store them as variables.\n",
    "\n",
    "6. Calculate the value, in US dollars, of the current amount of shares in each of the stock and bond portions of the portfolio, and print the results.\n"
   ]
  },
  {
   "cell_type": "markdown",
   "metadata": {},
   "source": [
    "#### Review the total number of shares held in both (SPY) and (AGG)."
   ]
  },
  {
   "cell_type": "code",
   "execution_count": 15,
   "metadata": {},
   "outputs": [],
   "source": [
    "# Current amount of shares held in both the stock (SPY) and bond (AGG) portion of the portfolio.\n",
    "spy_shares = 110\n",
    "agg_shares = 200\n"
   ]
  },
  {
   "cell_type": "markdown",
   "metadata": {},
   "source": [
    "#### Step 1: In the `Starter_Code` folder, create an environment file (`.env`) to store the values of your Alpaca API key and Alpaca secret key."
   ]
  },
  {
   "cell_type": "markdown",
   "metadata": {},
   "source": [
    "#### Step 2: Set the variables for the Alpaca API and secret keys. Using the Alpaca SDK, create the Alpaca `tradeapi.REST` object. In this object, include the parameters for the Alpaca API key, the secret key, and the version number."
   ]
  },
  {
   "cell_type": "code",
   "execution_count": 16,
   "metadata": {},
   "outputs": [
    {
     "data": {
      "text/plain": [
       "str"
      ]
     },
     "metadata": {},
     "output_type": "display_data"
    },
    {
     "data": {
      "text/plain": [
       "str"
      ]
     },
     "metadata": {},
     "output_type": "display_data"
    }
   ],
   "source": [
    "# Set the variables for the Alpaca API and secret keys\n",
    "alpaca_api_key = os.getenv(\"ALPACA_API_KEY\")\n",
    "alpaca_secret_key = os.getenv(\"ALPACA_SECRET_KEY\")\n",
    "\n",
    "# Check the values were imported correctly by evaluating the type of each\n",
    "display(type(alpaca_api_key))\n",
    "display(type(alpaca_secret_key))\n",
    "\n",
    "# Create the Alpaca tradeapi.REST object\n",
    "alpaca = tradeapi.REST(\n",
    "    alpaca_api_key,\n",
    "    alpaca_secret_key,\n",
    "    api_version = \"v2\"\n",
    ")"
   ]
  },
  {
   "cell_type": "markdown",
   "metadata": {},
   "source": [
    "#### Step 3: Set the following parameters for the Alpaca API call:\n",
    "\n",
    "- `tickers`: Use the tickers for the member’s stock and bond holdings.\n",
    "\n",
    "- `timeframe`: Use a time frame of one day.\n",
    "\n",
    "- `start_date` and `end_date`: Use the same date for these parameters, and format them with the date of the previous weekday (or `2020-08-07`). This is because you want the one closing price for the most-recent trading day.\n"
   ]
  },
  {
   "cell_type": "code",
   "execution_count": 39,
   "metadata": {},
   "outputs": [],
   "source": [
    "# Set the tickers for both the bond and stock portion of the portfolio\n",
    "# YOUR CODE HERE\n",
    "tickers = [\"SPY\", \"AGG\"]\n",
    "\n",
    "# Set timeframe to 1D \n",
    "timeframe = \"1D\"\n",
    "\n",
    "# Format current date as ISO format\n",
    "# Set both the start and end date at the date of your prior weekday \n",
    "# This will give you the closing price of the previous trading day\n",
    "# Alternatively you can use a start and end date of 2020-08-07\n",
    "start_date = pd.Timestamp(\"2021-01-26\", tz=\"America/New_York\").isoformat()\n",
    "end_date = pd.Timestamp(\"2021-01-26\", tz=\"America/New_York\").isoformat()\n",
    "\n",
    "\n",
    "# today_date = str(datetime.datetime.now()).split()[0]\n",
    "# one_year_ago = str(datetime.datetime.now() - datetime.timedelta(days=1*365)).split()[0]\n",
    "# three_year_ago = str(datetime.datetime.now() - datetime.timedelta(days=3*365)).split()[0]"
   ]
  },
  {
   "cell_type": "markdown",
   "metadata": {},
   "source": [
    "#### Step 4: Get the current closing prices for `SPY` and `AGG` by using the Alpaca `get_barset` function. Format the response as a Pandas DataFrame by including the `df` property at the end of the `get_barset` function."
   ]
  },
  {
   "cell_type": "code",
   "execution_count": 40,
   "metadata": {},
   "outputs": [
    {
     "data": {
      "text/html": [
       "<div>\n",
       "<style scoped>\n",
       "    .dataframe tbody tr th:only-of-type {\n",
       "        vertical-align: middle;\n",
       "    }\n",
       "\n",
       "    .dataframe tbody tr th {\n",
       "        vertical-align: top;\n",
       "    }\n",
       "\n",
       "    .dataframe thead tr th {\n",
       "        text-align: left;\n",
       "    }\n",
       "\n",
       "    .dataframe thead tr:last-of-type th {\n",
       "        text-align: right;\n",
       "    }\n",
       "</style>\n",
       "<table border=\"1\" class=\"dataframe\">\n",
       "  <thead>\n",
       "    <tr>\n",
       "      <th></th>\n",
       "      <th colspan=\"5\" halign=\"left\">AGG</th>\n",
       "      <th colspan=\"5\" halign=\"left\">SPY</th>\n",
       "    </tr>\n",
       "    <tr>\n",
       "      <th></th>\n",
       "      <th>open</th>\n",
       "      <th>high</th>\n",
       "      <th>low</th>\n",
       "      <th>close</th>\n",
       "      <th>volume</th>\n",
       "      <th>open</th>\n",
       "      <th>high</th>\n",
       "      <th>low</th>\n",
       "      <th>close</th>\n",
       "      <th>volume</th>\n",
       "    </tr>\n",
       "    <tr>\n",
       "      <th>time</th>\n",
       "      <th></th>\n",
       "      <th></th>\n",
       "      <th></th>\n",
       "      <th></th>\n",
       "      <th></th>\n",
       "      <th></th>\n",
       "      <th></th>\n",
       "      <th></th>\n",
       "      <th></th>\n",
       "      <th></th>\n",
       "    </tr>\n",
       "  </thead>\n",
       "  <tbody>\n",
       "    <tr>\n",
       "      <th>2021-01-26 00:00:00-05:00</th>\n",
       "      <td>117.46</td>\n",
       "      <td>117.585</td>\n",
       "      <td>117.4255</td>\n",
       "      <td>117.51</td>\n",
       "      <td>3451493</td>\n",
       "      <td>385.41</td>\n",
       "      <td>385.85</td>\n",
       "      <td>383.54</td>\n",
       "      <td>383.83</td>\n",
       "      <td>36871235</td>\n",
       "    </tr>\n",
       "  </tbody>\n",
       "</table>\n",
       "</div>"
      ],
      "text/plain": [
       "                              AGG                                         SPY  \\\n",
       "                             open     high       low   close   volume    open   \n",
       "time                                                                            \n",
       "2021-01-26 00:00:00-05:00  117.46  117.585  117.4255  117.51  3451493  385.41   \n",
       "\n",
       "                                                             \n",
       "                             high     low   close    volume  \n",
       "time                                                         \n",
       "2021-01-26 00:00:00-05:00  385.85  383.54  383.83  36871235  "
      ]
     },
     "execution_count": 40,
     "metadata": {},
     "output_type": "execute_result"
    }
   ],
   "source": [
    "# Use the Alpaca get_barset function to get current closing prices the portfolio\n",
    "# Be sure to set the `df` property after the function to format the response object as a DataFrame\n",
    "prices_df = alpaca.get_barset(\n",
    "    tickers,\n",
    "    timeframe,\n",
    "    start=start_date,\n",
    "    end=end_date\n",
    ").df\n",
    "\n",
    "# Review the first 5 rows of the Alpaca DataFrame \n",
    "prices_df.head()"
   ]
  },
  {
   "cell_type": "markdown",
   "metadata": {},
   "source": [
    "#### Step 5: Navigating the Alpaca response DataFrame, select the `SPY` and `AGG` closing prices, and store them as variables."
   ]
  },
  {
   "cell_type": "code",
   "execution_count": 19,
   "metadata": {},
   "outputs": [
    {
     "name": "stdout",
     "output_type": "stream",
     "text": [
      "AGG    $ 117.51\n",
      "<class 'float'>\n"
     ]
    }
   ],
   "source": [
    "# Access the closing price for AGG from the Alpaca DataFrame\n",
    "# Converting the value to a floating point number\n",
    "agg_close_price = float(prices_df[\"AGG\"][\"close\"])\n",
    "\n",
    "# Print the AGG closing price\n",
    "print(f\"AGG    ${agg_close_price: .2f}\")\n",
    "print(type(agg_close_price)) # YOUR CODE HERE\n"
   ]
  },
  {
   "cell_type": "code",
   "execution_count": 20,
   "metadata": {},
   "outputs": [
    {
     "name": "stdout",
     "output_type": "stream",
     "text": [
      "SPY    $ 383.83\n",
      "<class 'float'>\n"
     ]
    }
   ],
   "source": [
    "# Access the closing price for SPY from the Alpaca DataFrame\n",
    "# Converting the value to a floating point number\n",
    "spy_close_price = float(prices_df[\"SPY\"][\"close\"])\n",
    "\n",
    "# Print the SPY closing price\n",
    "print(f\"SPY    ${spy_close_price: .2f}\")\n",
    "print(type(spy_close_price)) "
   ]
  },
  {
   "cell_type": "markdown",
   "metadata": {},
   "source": [
    "#### Step 6: Calculate the value, in US dollars, of the current amount of shares in each of the stock and bond portions of the portfolio, and print the results."
   ]
  },
  {
   "cell_type": "code",
   "execution_count": 21,
   "metadata": {},
   "outputs": [
    {
     "name": "stdout",
     "output_type": "stream",
     "text": [
      "Current Value of the Bond Portfolio:            $23,502.00\n"
     ]
    }
   ],
   "source": [
    "# Calculate the current value of the bond portion of the portfolio\n",
    "agg_value = agg_close_price * agg_shares\n",
    "\n",
    "# Print the current value of the bond portfolio\n",
    "print(f\"Current Value of the Bond Portfolio:            ${agg_value:,.2f}\")"
   ]
  },
  {
   "cell_type": "code",
   "execution_count": 22,
   "metadata": {},
   "outputs": [
    {
     "name": "stdout",
     "output_type": "stream",
     "text": [
      "Current Value of the Stock Portfolio:            $42,221.30\n"
     ]
    }
   ],
   "source": [
    "# Calculate the current value of the stock portion of the portfolio\n",
    "spy_value = spy_close_price * spy_shares\n",
    "\n",
    "# Print the current value of the stock portfolio\n",
    "print(f\"Current Value of the Stock Portfolio:            ${spy_value:,.2f}\")"
   ]
  },
  {
   "cell_type": "code",
   "execution_count": 23,
   "metadata": {},
   "outputs": [
    {
     "name": "stdout",
     "output_type": "stream",
     "text": [
      "Total Value of the Stock/Bond Portion of the Portfolio:            $65,723.30\n"
     ]
    }
   ],
   "source": [
    "# Calculate the total value of the stock and bond portion of the portfolio\n",
    "total_stocks_bonds = agg_value + spy_value\n",
    "\n",
    "# Print the current balance of the stock and bond portion of the portfolio\n",
    "print(f\"Total Value of the Stock/Bond Portion of the Portfolio:            ${total_stocks_bonds:,.2f}\")"
   ]
  },
  {
   "cell_type": "code",
   "execution_count": 24,
   "metadata": {},
   "outputs": [
    {
     "name": "stdout",
     "output_type": "stream",
     "text": [
      "Total Value of Entire Portfolio (Stocks/Bonds & Crypto):            $112,126.14\n"
     ]
    }
   ],
   "source": [
    "# Calculate the total value of the member's entire savings portfolio\n",
    "# Add the value of the cryptocurrency walled to the value of the total stocks and bonds\n",
    "total_portfolio = total_crypto_wallet + total_stocks_bonds\n",
    "\n",
    "# Print current cryptocurrency wallet balance\n",
    "# YOUR CODE HERE\n",
    "print(f\"Total Value of Entire Portfolio (Stocks/Bonds & Crypto):            ${total_portfolio:,.2f}\")"
   ]
  },
  {
   "cell_type": "markdown",
   "metadata": {},
   "source": [
    "### Evaluate the Emergency Fund\n",
    "\n",
    "In this section, you’ll use the valuations for the cryptocurrency wallet and for the stock and bond portions of the portfolio to determine if the credit union member has enough savings to build an emergency fund into their financial plan. To do this, complete the following steps:\n",
    "\n",
    "1. Create a Python list named `savings_data` that has two elements. The first element contains the total value of the cryptocurrency wallet. The second element contains the total value of the stock and bond portions of the portfolio.\n",
    "\n",
    "2. Use the `savings_data` list to create a Pandas DataFrame named `savings_df`, and then display this DataFrame. The function to create the DataFrame should take the following three parameters:\n",
    "\n",
    "    - `savings_data`: Use the list that you just created.\n",
    "\n",
    "    - `columns`: Set this parameter equal to a Python list with a single value called `amount`.\n",
    "\n",
    "    - `index`: Set this parameter equal to a Python list with the values of `crypto` and `stock/bond`.\n",
    "\n",
    "3. Use the `savings_df` DataFrame to plot a pie chart that visualizes the composition of the member’s portfolio. The y-axis of the pie chart uses `amount`. Be sure to add a title.\n",
    "\n",
    "4. Using Python, determine if the current portfolio has enough to create an emergency fund as part of the member’s financial plan. Ideally, an emergency fund should equal to three times the member’s monthly income. To do this, implement the following steps:\n",
    "\n",
    "    1. Create a variable named `emergency_fund_value`, and set it equal to three times the value of the member’s `monthly_income` of $12000. (You set this earlier in Part 1).\n",
    "\n",
    "    2. Create a series of three if statements to determine if the member’s total portfolio is large enough to fund the emergency portfolio:\n",
    "\n",
    "        1. If the total portfolio value is greater than the emergency fund value, display a message congratulating the member for having enough money in this fund.\n",
    "\n",
    "        2. Else if the total portfolio value is equal to the emergency fund value, display a message congratulating the member on reaching this important financial goal.\n",
    "\n",
    "        3. Else the total portfolio is less than the emergency fund value, so display a message showing how many dollars away the member is from reaching the goal. (Subtract the total portfolio value from the emergency fund value.)\n"
   ]
  },
  {
   "cell_type": "markdown",
   "metadata": {},
   "source": [
    "#### Step 1: Create a Python list named `savings_data` that has two elements. The first element contains the total value of the cryptocurrency wallet. The second element contains the total value of the stock and bond portions of the portfolio."
   ]
  },
  {
   "cell_type": "code",
   "execution_count": 25,
   "metadata": {},
   "outputs": [
    {
     "data": {
      "text/plain": [
       "['Crypto', 'Stock/Bond']"
      ]
     },
     "execution_count": 25,
     "metadata": {},
     "output_type": "execute_result"
    }
   ],
   "source": [
    "# Consolidate financial assets data into a Python list\n",
    "savings_data = [\"Crypto\", \"Stock/Bond\"] \n",
    "\n",
    "# Review the Python list savings_data\n",
    "savings_data    "
   ]
  },
  {
   "cell_type": "markdown",
   "metadata": {},
   "source": [
    "#### Step 2: Use the `savings_data` list to create a Pandas DataFrame named `savings_df`, and then display this DataFrame. The function to create the DataFrame should take the following three parameters:\n",
    "\n",
    "- `savings_data`: Use the list that you just created.\n",
    "\n",
    "- `columns`: Set this parameter equal to a Python list with a single value called `amount`.\n",
    "\n",
    "- `index`: Set this parameter equal to a Python list with the values of `crypto` and `stock/bond`.\n"
   ]
  },
  {
   "cell_type": "code",
   "execution_count": 26,
   "metadata": {},
   "outputs": [
    {
     "data": {
      "text/html": [
       "<div>\n",
       "<style scoped>\n",
       "    .dataframe tbody tr th:only-of-type {\n",
       "        vertical-align: middle;\n",
       "    }\n",
       "\n",
       "    .dataframe tbody tr th {\n",
       "        vertical-align: top;\n",
       "    }\n",
       "\n",
       "    .dataframe thead th {\n",
       "        text-align: right;\n",
       "    }\n",
       "</style>\n",
       "<table border=\"1\" class=\"dataframe\">\n",
       "  <thead>\n",
       "    <tr style=\"text-align: right;\">\n",
       "      <th></th>\n",
       "      <th>Amount</th>\n",
       "    </tr>\n",
       "  </thead>\n",
       "  <tbody>\n",
       "    <tr>\n",
       "      <th>Crypto</th>\n",
       "      <td>46402.842</td>\n",
       "    </tr>\n",
       "    <tr>\n",
       "      <th>Stock/Bond</th>\n",
       "      <td>65723.300</td>\n",
       "    </tr>\n",
       "  </tbody>\n",
       "</table>\n",
       "</div>"
      ],
      "text/plain": [
       "               Amount\n",
       "Crypto      46402.842\n",
       "Stock/Bond  65723.300"
      ]
     },
     "execution_count": 26,
     "metadata": {},
     "output_type": "execute_result"
    }
   ],
   "source": [
    "# Create a Pandas DataFrame called savings_df \n",
    "savings_df = pd.DataFrame(\n",
    "    {'Amount':[total_crypto_wallet, total_stocks_bonds]},\n",
    "    index=savings_data\n",
    ")\n",
    "\n",
    "# Display the savings_df DataFrame\n",
    "savings_df"
   ]
  },
  {
   "cell_type": "markdown",
   "metadata": {},
   "source": [
    "#### Step 3: Use the `savings_df` DataFrame to plot a pie chart that visualizes the composition of the member’s portfolio. The y-axis of the pie chart uses `amount`. Be sure to add a title."
   ]
  },
  {
   "cell_type": "code",
   "execution_count": 27,
   "metadata": {},
   "outputs": [
    {
     "data": {
      "text/plain": [
       "<AxesSubplot:title={'center':'Portfolio Composition - Crypto v. Stock/Bond Holdings'}, ylabel='Amount'>"
      ]
     },
     "execution_count": 27,
     "metadata": {},
     "output_type": "execute_result"
    },
    {
     "data": {
      "image/png": "[encoded data removed]",
      "text/plain": [
       "<Figure size 432x288 with 1 Axes>"
      ]
     },
     "metadata": {},
     "output_type": "display_data"
    }
   ],
   "source": [
    "# Plot the total value of the member's portfolio (crypto and stock/bond) in a pie chart\n",
    "savings_df.plot.pie(y='Amount', title='Portfolio Composition - Crypto v. Stock/Bond Holdings')"
   ]
  },
  {
   "cell_type": "markdown",
   "metadata": {},
   "source": [
    "#### Step 4: Using Python, determine if the current portfolio has enough to create an emergency fund as part of the member’s financial plan. Ideally, an emergency fund should equal to three times the member’s monthly income. To do this, implement the following steps:\n",
    "\n",
    "Step 1. Create a variable named `emergency_fund_value`, and set it equal to three times the value of the member’s `monthly_income` of 12000. (You set this earlier in Part 1).\n",
    "\n",
    "Step 2. Create a series of three if statements to determine if the member’s total portfolio is large enough to fund the emergency portfolio:\n",
    "\n",
    "* If the total portfolio value is greater than the emergency fund value, display a message congratulating the member for having enough money in this fund.\n",
    "\n",
    "* Else if the total portfolio value is equal to the emergency fund value, display a message congratulating the member on reaching this important financial goal.\n",
    "\n",
    "* Else the total portfolio is less than the emergency fund value, so display a message showing how many dollars away the member is from reaching the goal. (Subtract the total portfolio value from the emergency fund value.)\n"
   ]
  },
  {
   "cell_type": "markdown",
   "metadata": {},
   "source": [
    "##### Step 4-1: Create a variable named `emergency_fund_value`, and set it equal to three times the value of the member’s `monthly_income` of 12000. (You set this earlier in Part 1)."
   ]
  },
  {
   "cell_type": "code",
   "execution_count": 34,
   "metadata": {},
   "outputs": [
    {
     "data": {
      "text/plain": [
       "36000"
      ]
     },
     "execution_count": 34,
     "metadata": {},
     "output_type": "execute_result"
    }
   ],
   "source": [
    "reserve_months = 3\n",
    "\n",
    "# Create a variable named emergency_fund_value\n",
    "emergency_fund_value = monthly_income * reserve_months\n",
    "\n",
    "emergency_fund_value"
   ]
  },
  {
   "cell_type": "markdown",
   "metadata": {},
   "source": [
    "##### Step 4-2: Create a series of three if statements to determine if the member’s total portfolio is large enough to fund the emergency portfolio:\n",
    "\n",
    "* If the total portfolio value is greater than the emergency fund value, display a message congratulating the member for having enough money in this fund.\n",
    "\n",
    "* Else if the total portfolio value is equal to the emergency fund value, display a message congratulating the member on reaching this important financial goal.\n",
    "\n",
    "* Else the total portfolio is less than the emergency fund value, so display a message showing how many dollars away the member is from reaching the goal. (Subtract the total portfolio value from the emergency fund value.)"
   ]
  },
  {
   "cell_type": "code",
   "execution_count": 37,
   "metadata": {},
   "outputs": [
    {
     "name": "stdout",
     "output_type": "stream",
     "text": [
      "Congratulations!!! You have enough money in this fund for your goal of a 3 month reserve, plus an additional 6.34 months.\n"
     ]
    }
   ],
   "source": [
    "# Evaluate the possibility of creating an emergency fund with 3 conditions:\n",
    "if total_portfolio > emergency_fund_value:\n",
    "    print(f\"Congratulations!!! You have enough money in this fund for your goal of a {reserve_months} month reserve, plus an additional {((total_portfolio / monthly_income) - reserve_months):,.2f} months.\")\n",
    "if total_portfolio == emergency_fund_value: \n",
    "    print(f\"Great Work!! You've reached this important financial goal of having a {reserve_months} month reserve.\")\n",
    "if total_portfolio < emergency_fund_value:\n",
    "    print(f\"Way to go! Only ${(emergency_fund_value - total_portfolio):,.2f} away from reaching your goal of having {reserve_months} months' expenses for an emergency fund.\")"
   ]
  },
  {
   "cell_type": "markdown",
   "metadata": {},
   "source": [
    "## Part 2: Create a Financial Planner for Retirement"
   ]
  },
  {
   "cell_type": "markdown",
   "metadata": {},
   "source": [
    "### Create the Monte Carlo Simulation\n",
    "\n",
    "In this section, you’ll use the MCForecastTools library to create a Monte Carlo simulation for the member’s savings portfolio. To do this, complete the following steps:\n",
    "\n",
    "1. Make an API call via the Alpaca SDK to get 10 years of historical closing prices for a traditional 60/40 portfolio split: 60% stocks (SPY) and 40% bonds (AGG).\n",
    "\n",
    "2. Run a Monte Carlo simulation of 500 samples and 30 years for the 60/40 portfolio, and then plot the results.The following image shows the overlay line plot resulting from a simulation with these characteristics. However, because a random number generator is used to run each live Monte Carlo simulation, your image will differ slightly from this exact image:\n",
    "\n",
    "![A screenshot depicts the resulting plot.](Images/5-4-monte-carlo-line-plot.png)\n",
    "\n",
    "3. Plot the probability distribution of the Monte Carlo simulation. Plot the probability distribution of the Monte Carlo simulation. The following image shows the histogram plot resulting from a simulation with these characteristics. However, because a random number generator is used to run each live Monte Carlo simulation, your image will differ slightly from this exact image:\n",
    "\n",
    "![A screenshot depicts the histogram plot.](Images/5-4-monte-carlo-histogram.png)\n",
    "\n",
    "4. Generate the summary statistics for the Monte Carlo simulation.\n",
    "\n"
   ]
  },
  {
   "cell_type": "markdown",
   "metadata": {},
   "source": [
    "#### Step 1: Make an API call via the Alpaca SDK to get 10 years of historical closing prices for a traditional 60/40 portfolio split: 60% stocks (SPY) and 40% bonds (AGG)."
   ]
  },
  {
   "cell_type": "code",
   "execution_count": 41,
   "metadata": {},
   "outputs": [],
   "source": [
    "# Set start and end dates of 10 years back from your current date\n",
    "# Alternatively, you can use an end date of 2020-08-07 and work 10 years back from that date \n",
    "start_date = pd.Timestamp(\"2011-01-26\", tz=\"America/New_York\").isoformat()\n",
    "end_date = pd.Timestamp(\"2021-01-26\", tz=\"America/New_York\").isoformat()\n",
    "\n",
    "\n",
    "\n",
    "# today_date = str(datetime.datetime.now()).split()[0]\n",
    "# one_year_ago = str(datetime.datetime.now() - datetime.timedelta(days=1*365)).split()[0]\n",
    "# three_year_ago = str(datetime.datetime.now() - datetime.timedelta(days=3*365)).split()[0]"
   ]
  },
  {
   "cell_type": "code",
   "execution_count": 42,
   "metadata": {},
   "outputs": [
    {
     "data": {
      "text/html": [
       "<div>\n",
       "<style scoped>\n",
       "    .dataframe tbody tr th:only-of-type {\n",
       "        vertical-align: middle;\n",
       "    }\n",
       "\n",
       "    .dataframe tbody tr th {\n",
       "        vertical-align: top;\n",
       "    }\n",
       "\n",
       "    .dataframe thead tr th {\n",
       "        text-align: left;\n",
       "    }\n",
       "\n",
       "    .dataframe thead tr:last-of-type th {\n",
       "        text-align: right;\n",
       "    }\n",
       "</style>\n",
       "<table border=\"1\" class=\"dataframe\">\n",
       "  <thead>\n",
       "    <tr>\n",
       "      <th></th>\n",
       "      <th colspan=\"5\" halign=\"left\">AGG</th>\n",
       "      <th colspan=\"5\" halign=\"left\">SPY</th>\n",
       "    </tr>\n",
       "    <tr>\n",
       "      <th></th>\n",
       "      <th>open</th>\n",
       "      <th>high</th>\n",
       "      <th>low</th>\n",
       "      <th>close</th>\n",
       "      <th>volume</th>\n",
       "      <th>open</th>\n",
       "      <th>high</th>\n",
       "      <th>low</th>\n",
       "      <th>close</th>\n",
       "      <th>volume</th>\n",
       "    </tr>\n",
       "    <tr>\n",
       "      <th>time</th>\n",
       "      <th></th>\n",
       "      <th></th>\n",
       "      <th></th>\n",
       "      <th></th>\n",
       "      <th></th>\n",
       "      <th></th>\n",
       "      <th></th>\n",
       "      <th></th>\n",
       "      <th></th>\n",
       "      <th></th>\n",
       "    </tr>\n",
       "  </thead>\n",
       "  <tbody>\n",
       "    <tr>\n",
       "      <th>2011-01-26 00:00:00-05:00</th>\n",
       "      <td>105.74</td>\n",
       "      <td>105.7800</td>\n",
       "      <td>105.51</td>\n",
       "      <td>105.557</td>\n",
       "      <td>542836.0</td>\n",
       "      <td>129.49</td>\n",
       "      <td>130.05</td>\n",
       "      <td>129.2300</td>\n",
       "      <td>129.67</td>\n",
       "      <td>115993932</td>\n",
       "    </tr>\n",
       "    <tr>\n",
       "      <th>2011-01-27 00:00:00-05:00</th>\n",
       "      <td>105.64</td>\n",
       "      <td>105.7501</td>\n",
       "      <td>105.52</td>\n",
       "      <td>105.730</td>\n",
       "      <td>422093.0</td>\n",
       "      <td>129.70</td>\n",
       "      <td>130.21</td>\n",
       "      <td>129.4700</td>\n",
       "      <td>130.02</td>\n",
       "      <td>100169887</td>\n",
       "    </tr>\n",
       "    <tr>\n",
       "      <th>2011-01-28 00:00:00-05:00</th>\n",
       "      <td>105.59</td>\n",
       "      <td>105.9700</td>\n",
       "      <td>105.58</td>\n",
       "      <td>105.840</td>\n",
       "      <td>607012.0</td>\n",
       "      <td>130.14</td>\n",
       "      <td>130.35</td>\n",
       "      <td>127.5100</td>\n",
       "      <td>127.69</td>\n",
       "      <td>235476101</td>\n",
       "    </tr>\n",
       "    <tr>\n",
       "      <th>2011-01-31 00:00:00-05:00</th>\n",
       "      <td>105.85</td>\n",
       "      <td>105.9400</td>\n",
       "      <td>105.59</td>\n",
       "      <td>105.670</td>\n",
       "      <td>1514824.0</td>\n",
       "      <td>128.07</td>\n",
       "      <td>128.78</td>\n",
       "      <td>127.7500</td>\n",
       "      <td>128.67</td>\n",
       "      <td>125255715</td>\n",
       "    </tr>\n",
       "    <tr>\n",
       "      <th>2011-02-01 00:00:00-05:00</th>\n",
       "      <td>105.26</td>\n",
       "      <td>105.2600</td>\n",
       "      <td>105.03</td>\n",
       "      <td>105.120</td>\n",
       "      <td>629903.0</td>\n",
       "      <td>129.46</td>\n",
       "      <td>130.97</td>\n",
       "      <td>129.3801</td>\n",
       "      <td>130.75</td>\n",
       "      <td>134943648</td>\n",
       "    </tr>\n",
       "  </tbody>\n",
       "</table>\n",
       "</div>"
      ],
      "text/plain": [
       "                              AGG                                        \\\n",
       "                             open      high     low    close     volume   \n",
       "time                                                                      \n",
       "2011-01-26 00:00:00-05:00  105.74  105.7800  105.51  105.557   542836.0   \n",
       "2011-01-27 00:00:00-05:00  105.64  105.7501  105.52  105.730   422093.0   \n",
       "2011-01-28 00:00:00-05:00  105.59  105.9700  105.58  105.840   607012.0   \n",
       "2011-01-31 00:00:00-05:00  105.85  105.9400  105.59  105.670  1514824.0   \n",
       "2011-02-01 00:00:00-05:00  105.26  105.2600  105.03  105.120   629903.0   \n",
       "\n",
       "                              SPY                                       \n",
       "                             open    high       low   close     volume  \n",
       "time                                                                    \n",
       "2011-01-26 00:00:00-05:00  129.49  130.05  129.2300  129.67  115993932  \n",
       "2011-01-27 00:00:00-05:00  129.70  130.21  129.4700  130.02  100169887  \n",
       "2011-01-28 00:00:00-05:00  130.14  130.35  127.5100  127.69  235476101  \n",
       "2011-01-31 00:00:00-05:00  128.07  128.78  127.7500  128.67  125255715  \n",
       "2011-02-01 00:00:00-05:00  129.46  130.97  129.3801  130.75  134943648  "
      ]
     },
     "metadata": {},
     "output_type": "display_data"
    },
    {
     "data": {
      "text/html": [
       "<div>\n",
       "<style scoped>\n",
       "    .dataframe tbody tr th:only-of-type {\n",
       "        vertical-align: middle;\n",
       "    }\n",
       "\n",
       "    .dataframe tbody tr th {\n",
       "        vertical-align: top;\n",
       "    }\n",
       "\n",
       "    .dataframe thead tr th {\n",
       "        text-align: left;\n",
       "    }\n",
       "\n",
       "    .dataframe thead tr:last-of-type th {\n",
       "        text-align: right;\n",
       "    }\n",
       "</style>\n",
       "<table border=\"1\" class=\"dataframe\">\n",
       "  <thead>\n",
       "    <tr>\n",
       "      <th></th>\n",
       "      <th colspan=\"5\" halign=\"left\">AGG</th>\n",
       "      <th colspan=\"5\" halign=\"left\">SPY</th>\n",
       "    </tr>\n",
       "    <tr>\n",
       "      <th></th>\n",
       "      <th>open</th>\n",
       "      <th>high</th>\n",
       "      <th>low</th>\n",
       "      <th>close</th>\n",
       "      <th>volume</th>\n",
       "      <th>open</th>\n",
       "      <th>high</th>\n",
       "      <th>low</th>\n",
       "      <th>close</th>\n",
       "      <th>volume</th>\n",
       "    </tr>\n",
       "    <tr>\n",
       "      <th>time</th>\n",
       "      <th></th>\n",
       "      <th></th>\n",
       "      <th></th>\n",
       "      <th></th>\n",
       "      <th></th>\n",
       "      <th></th>\n",
       "      <th></th>\n",
       "      <th></th>\n",
       "      <th></th>\n",
       "      <th></th>\n",
       "    </tr>\n",
       "  </thead>\n",
       "  <tbody>\n",
       "    <tr>\n",
       "      <th>2021-01-20 00:00:00-05:00</th>\n",
       "      <td>117.35</td>\n",
       "      <td>117.4300</td>\n",
       "      <td>117.3100</td>\n",
       "      <td>117.40</td>\n",
       "      <td>3877734.0</td>\n",
       "      <td>381.11</td>\n",
       "      <td>384.7900</td>\n",
       "      <td>380.690</td>\n",
       "      <td>383.86</td>\n",
       "      <td>53064901</td>\n",
       "    </tr>\n",
       "    <tr>\n",
       "      <th>2021-01-21 00:00:00-05:00</th>\n",
       "      <td>117.22</td>\n",
       "      <td>117.2985</td>\n",
       "      <td>117.1400</td>\n",
       "      <td>117.26</td>\n",
       "      <td>5801029.0</td>\n",
       "      <td>384.49</td>\n",
       "      <td>384.9500</td>\n",
       "      <td>383.250</td>\n",
       "      <td>384.20</td>\n",
       "      <td>41800991</td>\n",
       "    </tr>\n",
       "    <tr>\n",
       "      <th>2021-01-22 00:00:00-05:00</th>\n",
       "      <td>117.29</td>\n",
       "      <td>117.3200</td>\n",
       "      <td>117.1900</td>\n",
       "      <td>117.26</td>\n",
       "      <td>3469745.0</td>\n",
       "      <td>382.25</td>\n",
       "      <td>384.1256</td>\n",
       "      <td>381.835</td>\n",
       "      <td>382.86</td>\n",
       "      <td>39108239</td>\n",
       "    </tr>\n",
       "    <tr>\n",
       "      <th>2021-01-25 00:00:00-05:00</th>\n",
       "      <td>117.39</td>\n",
       "      <td>117.5600</td>\n",
       "      <td>117.3600</td>\n",
       "      <td>117.54</td>\n",
       "      <td>3977366.0</td>\n",
       "      <td>383.67</td>\n",
       "      <td>384.7700</td>\n",
       "      <td>378.460</td>\n",
       "      <td>384.40</td>\n",
       "      <td>61090775</td>\n",
       "    </tr>\n",
       "    <tr>\n",
       "      <th>2021-01-26 00:00:00-05:00</th>\n",
       "      <td>117.46</td>\n",
       "      <td>117.5850</td>\n",
       "      <td>117.4255</td>\n",
       "      <td>117.51</td>\n",
       "      <td>3451493.0</td>\n",
       "      <td>385.41</td>\n",
       "      <td>385.8500</td>\n",
       "      <td>383.540</td>\n",
       "      <td>383.83</td>\n",
       "      <td>36871235</td>\n",
       "    </tr>\n",
       "  </tbody>\n",
       "</table>\n",
       "</div>"
      ],
      "text/plain": [
       "                              AGG                                         \\\n",
       "                             open      high       low   close     volume   \n",
       "time                                                                       \n",
       "2021-01-20 00:00:00-05:00  117.35  117.4300  117.3100  117.40  3877734.0   \n",
       "2021-01-21 00:00:00-05:00  117.22  117.2985  117.1400  117.26  5801029.0   \n",
       "2021-01-22 00:00:00-05:00  117.29  117.3200  117.1900  117.26  3469745.0   \n",
       "2021-01-25 00:00:00-05:00  117.39  117.5600  117.3600  117.54  3977366.0   \n",
       "2021-01-26 00:00:00-05:00  117.46  117.5850  117.4255  117.51  3451493.0   \n",
       "\n",
       "                              SPY                                       \n",
       "                             open      high      low   close    volume  \n",
       "time                                                                    \n",
       "2021-01-20 00:00:00-05:00  381.11  384.7900  380.690  383.86  53064901  \n",
       "2021-01-21 00:00:00-05:00  384.49  384.9500  383.250  384.20  41800991  \n",
       "2021-01-22 00:00:00-05:00  382.25  384.1256  381.835  382.86  39108239  \n",
       "2021-01-25 00:00:00-05:00  383.67  384.7700  378.460  384.40  61090775  \n",
       "2021-01-26 00:00:00-05:00  385.41  385.8500  383.540  383.83  36871235  "
      ]
     },
     "execution_count": 42,
     "metadata": {},
     "output_type": "execute_result"
    }
   ],
   "source": [
    "# Use the Alpaca get_barset function to make the API call to get the 10 years worth of pricing data\n",
    "# The tickers and timeframe parameters should have been set in Part 1 of this activity \n",
    "# The start and end dates should be updated with the information set above\n",
    "# Remember to add the df property to the end of the call so the response is returned as a DataFrame\n",
    "prices_df = alpaca.get_barset(\n",
    "    tickers,\n",
    "    timeframe,\n",
    "    start=start_date,\n",
    "    end=end_date\n",
    ").df\n",
    "\n",
    "# Display both the first and last five rows of the DataFrame\n",
    "display(prices_df.head())\n",
    "prices_df.tail() "
   ]
  },
  {
   "cell_type": "markdown",
   "metadata": {},
   "source": [
    "#### Step 2: Run a Monte Carlo simulation of 500 samples and 30 years for the 60/40 portfolio, and then plot the results."
   ]
  },
  {
   "cell_type": "code",
   "execution_count": 43,
   "metadata": {},
   "outputs": [
    {
     "data": {
      "text/html": [
       "<div>\n",
       "<style scoped>\n",
       "    .dataframe tbody tr th:only-of-type {\n",
       "        vertical-align: middle;\n",
       "    }\n",
       "\n",
       "    .dataframe tbody tr th {\n",
       "        vertical-align: top;\n",
       "    }\n",
       "\n",
       "    .dataframe thead tr th {\n",
       "        text-align: left;\n",
       "    }\n",
       "\n",
       "    .dataframe thead tr:last-of-type th {\n",
       "        text-align: right;\n",
       "    }\n",
       "</style>\n",
       "<table border=\"1\" class=\"dataframe\">\n",
       "  <thead>\n",
       "    <tr>\n",
       "      <th></th>\n",
       "      <th colspan=\"6\" halign=\"left\">AGG</th>\n",
       "      <th colspan=\"6\" halign=\"left\">SPY</th>\n",
       "    </tr>\n",
       "    <tr>\n",
       "      <th></th>\n",
       "      <th>open</th>\n",
       "      <th>high</th>\n",
       "      <th>low</th>\n",
       "      <th>close</th>\n",
       "      <th>volume</th>\n",
       "      <th>daily_return</th>\n",
       "      <th>open</th>\n",
       "      <th>high</th>\n",
       "      <th>low</th>\n",
       "      <th>close</th>\n",
       "      <th>volume</th>\n",
       "      <th>daily_return</th>\n",
       "    </tr>\n",
       "    <tr>\n",
       "      <th>time</th>\n",
       "      <th></th>\n",
       "      <th></th>\n",
       "      <th></th>\n",
       "      <th></th>\n",
       "      <th></th>\n",
       "      <th></th>\n",
       "      <th></th>\n",
       "      <th></th>\n",
       "      <th></th>\n",
       "      <th></th>\n",
       "      <th></th>\n",
       "      <th></th>\n",
       "    </tr>\n",
       "  </thead>\n",
       "  <tbody>\n",
       "    <tr>\n",
       "      <th>2011-01-26 00:00:00-05:00</th>\n",
       "      <td>105.74</td>\n",
       "      <td>105.7800</td>\n",
       "      <td>105.51</td>\n",
       "      <td>105.557</td>\n",
       "      <td>542836.0</td>\n",
       "      <td>NaN</td>\n",
       "      <td>129.49</td>\n",
       "      <td>130.05</td>\n",
       "      <td>129.2300</td>\n",
       "      <td>129.67</td>\n",
       "      <td>115993932</td>\n",
       "      <td>NaN</td>\n",
       "    </tr>\n",
       "    <tr>\n",
       "      <th>2011-01-27 00:00:00-05:00</th>\n",
       "      <td>105.64</td>\n",
       "      <td>105.7501</td>\n",
       "      <td>105.52</td>\n",
       "      <td>105.730</td>\n",
       "      <td>422093.0</td>\n",
       "      <td>0.001639</td>\n",
       "      <td>129.70</td>\n",
       "      <td>130.21</td>\n",
       "      <td>129.4700</td>\n",
       "      <td>130.02</td>\n",
       "      <td>100169887</td>\n",
       "      <td>0.002699</td>\n",
       "    </tr>\n",
       "    <tr>\n",
       "      <th>2011-01-28 00:00:00-05:00</th>\n",
       "      <td>105.59</td>\n",
       "      <td>105.9700</td>\n",
       "      <td>105.58</td>\n",
       "      <td>105.840</td>\n",
       "      <td>607012.0</td>\n",
       "      <td>0.001040</td>\n",
       "      <td>130.14</td>\n",
       "      <td>130.35</td>\n",
       "      <td>127.5100</td>\n",
       "      <td>127.69</td>\n",
       "      <td>235476101</td>\n",
       "      <td>-0.017920</td>\n",
       "    </tr>\n",
       "    <tr>\n",
       "      <th>2011-01-31 00:00:00-05:00</th>\n",
       "      <td>105.85</td>\n",
       "      <td>105.9400</td>\n",
       "      <td>105.59</td>\n",
       "      <td>105.670</td>\n",
       "      <td>1514824.0</td>\n",
       "      <td>-0.001606</td>\n",
       "      <td>128.07</td>\n",
       "      <td>128.78</td>\n",
       "      <td>127.7500</td>\n",
       "      <td>128.67</td>\n",
       "      <td>125255715</td>\n",
       "      <td>0.007675</td>\n",
       "    </tr>\n",
       "    <tr>\n",
       "      <th>2011-02-01 00:00:00-05:00</th>\n",
       "      <td>105.26</td>\n",
       "      <td>105.2600</td>\n",
       "      <td>105.03</td>\n",
       "      <td>105.120</td>\n",
       "      <td>629903.0</td>\n",
       "      <td>-0.005205</td>\n",
       "      <td>129.46</td>\n",
       "      <td>130.97</td>\n",
       "      <td>129.3801</td>\n",
       "      <td>130.75</td>\n",
       "      <td>134943648</td>\n",
       "      <td>0.016165</td>\n",
       "    </tr>\n",
       "  </tbody>\n",
       "</table>\n",
       "</div>"
      ],
      "text/plain": [
       "                              AGG                                        \\\n",
       "                             open      high     low    close     volume   \n",
       "time                                                                      \n",
       "2011-01-26 00:00:00-05:00  105.74  105.7800  105.51  105.557   542836.0   \n",
       "2011-01-27 00:00:00-05:00  105.64  105.7501  105.52  105.730   422093.0   \n",
       "2011-01-28 00:00:00-05:00  105.59  105.9700  105.58  105.840   607012.0   \n",
       "2011-01-31 00:00:00-05:00  105.85  105.9400  105.59  105.670  1514824.0   \n",
       "2011-02-01 00:00:00-05:00  105.26  105.2600  105.03  105.120   629903.0   \n",
       "\n",
       "                                           SPY                            \\\n",
       "                          daily_return    open    high       low   close   \n",
       "time                                                                       \n",
       "2011-01-26 00:00:00-05:00          NaN  129.49  130.05  129.2300  129.67   \n",
       "2011-01-27 00:00:00-05:00     0.001639  129.70  130.21  129.4700  130.02   \n",
       "2011-01-28 00:00:00-05:00     0.001040  130.14  130.35  127.5100  127.69   \n",
       "2011-01-31 00:00:00-05:00    -0.001606  128.07  128.78  127.7500  128.67   \n",
       "2011-02-01 00:00:00-05:00    -0.005205  129.46  130.97  129.3801  130.75   \n",
       "\n",
       "                                                   \n",
       "                              volume daily_return  \n",
       "time                                               \n",
       "2011-01-26 00:00:00-05:00  115993932          NaN  \n",
       "2011-01-27 00:00:00-05:00  100169887     0.002699  \n",
       "2011-01-28 00:00:00-05:00  235476101    -0.017920  \n",
       "2011-01-31 00:00:00-05:00  125255715     0.007675  \n",
       "2011-02-01 00:00:00-05:00  134943648     0.016165  "
      ]
     },
     "execution_count": 43,
     "metadata": {},
     "output_type": "execute_result"
    }
   ],
   "source": [
    "# Configure the Monte Carlo simulation to forecast 30 years cumulative returns\n",
    "# The weights should be split 40% to AGG and 60% to SPY.\n",
    "# Run 500 samples.\n",
    "MC_trad_weight = MCSimulation(\n",
    "    portfolio_data = prices_df,\n",
    "    weights = [.60,.40],\n",
    "    num_simulation = 500,\n",
    "    num_trading_days = 252*30\n",
    ")\n",
    "\n",
    "# Review the simulation input data\n",
    "MC_trad_weight.portfolio_data.head()\n"
   ]
  },
  {
   "cell_type": "code",
   "execution_count": 45,
   "metadata": {},
   "outputs": [
    {
     "name": "stdout",
     "output_type": "stream",
     "text": [
      "Running Monte Carlo simulation number 0.\n",
      "Running Monte Carlo simulation number 10.\n",
      "Running Monte Carlo simulation number 20.\n",
      "Running Monte Carlo simulation number 30.\n",
      "Running Monte Carlo simulation number 40.\n",
      "Running Monte Carlo simulation number 50.\n",
      "Running Monte Carlo simulation number 60.\n",
      "Running Monte Carlo simulation number 70.\n",
      "Running Monte Carlo simulation number 80.\n",
      "Running Monte Carlo simulation number 90.\n",
      "Running Monte Carlo simulation number 100.\n",
      "Running Monte Carlo simulation number 110.\n",
      "Running Monte Carlo simulation number 120.\n",
      "Running Monte Carlo simulation number 130.\n",
      "Running Monte Carlo simulation number 140.\n",
      "Running Monte Carlo simulation number 150.\n",
      "Running Monte Carlo simulation number 160.\n",
      "Running Monte Carlo simulation number 170.\n",
      "Running Monte Carlo simulation number 180.\n",
      "Running Monte Carlo simulation number 190.\n",
      "Running Monte Carlo simulation number 200.\n",
      "Running Monte Carlo simulation number 210.\n",
      "Running Monte Carlo simulation number 220.\n",
      "Running Monte Carlo simulation number 230.\n",
      "Running Monte Carlo simulation number 240.\n",
      "Running Monte Carlo simulation number 250.\n",
      "Running Monte Carlo simulation number 260.\n",
      "Running Monte Carlo simulation number 270.\n",
      "Running Monte Carlo simulation number 280.\n",
      "Running Monte Carlo simulation number 290.\n",
      "Running Monte Carlo simulation number 300.\n",
      "Running Monte Carlo simulation number 310.\n",
      "Running Monte Carlo simulation number 320.\n",
      "Running Monte Carlo simulation number 330.\n",
      "Running Monte Carlo simulation number 340.\n",
      "Running Monte Carlo simulation number 350.\n",
      "Running Monte Carlo simulation number 360.\n",
      "Running Monte Carlo simulation number 370.\n",
      "Running Monte Carlo simulation number 380.\n",
      "Running Monte Carlo simulation number 390.\n",
      "Running Monte Carlo simulation number 400.\n",
      "Running Monte Carlo simulation number 410.\n",
      "Running Monte Carlo simulation number 420.\n",
      "Running Monte Carlo simulation number 430.\n",
      "Running Monte Carlo simulation number 440.\n",
      "Running Monte Carlo simulation number 450.\n",
      "Running Monte Carlo simulation number 460.\n",
      "Running Monte Carlo simulation number 470.\n",
      "Running Monte Carlo simulation number 480.\n",
      "Running Monte Carlo simulation number 490.\n"
     ]
    },
    {
     "data": {
      "text/html": [
       "<div>\n",
       "<style scoped>\n",
       "    .dataframe tbody tr th:only-of-type {\n",
       "        vertical-align: middle;\n",
       "    }\n",
       "\n",
       "    .dataframe tbody tr th {\n",
       "        vertical-align: top;\n",
       "    }\n",
       "\n",
       "    .dataframe thead th {\n",
       "        text-align: right;\n",
       "    }\n",
       "</style>\n",
       "<table border=\"1\" class=\"dataframe\">\n",
       "  <thead>\n",
       "    <tr style=\"text-align: right;\">\n",
       "      <th></th>\n",
       "      <th>0</th>\n",
       "      <th>1</th>\n",
       "      <th>2</th>\n",
       "      <th>3</th>\n",
       "      <th>4</th>\n",
       "      <th>5</th>\n",
       "      <th>6</th>\n",
       "      <th>7</th>\n",
       "      <th>8</th>\n",
       "      <th>9</th>\n",
       "      <th>...</th>\n",
       "      <th>490</th>\n",
       "      <th>491</th>\n",
       "      <th>492</th>\n",
       "      <th>493</th>\n",
       "      <th>494</th>\n",
       "      <th>495</th>\n",
       "      <th>496</th>\n",
       "      <th>497</th>\n",
       "      <th>498</th>\n",
       "      <th>499</th>\n",
       "    </tr>\n",
       "  </thead>\n",
       "  <tbody>\n",
       "    <tr>\n",
       "      <th>0</th>\n",
       "      <td>1.000000</td>\n",
       "      <td>1.000000</td>\n",
       "      <td>1.000000</td>\n",
       "      <td>1.000000</td>\n",
       "      <td>1.000000</td>\n",
       "      <td>1.000000</td>\n",
       "      <td>1.000000</td>\n",
       "      <td>1.000000</td>\n",
       "      <td>1.000000</td>\n",
       "      <td>1.000000</td>\n",
       "      <td>...</td>\n",
       "      <td>1.000000</td>\n",
       "      <td>1.000000</td>\n",
       "      <td>1.000000</td>\n",
       "      <td>1.000000</td>\n",
       "      <td>1.000000</td>\n",
       "      <td>1.000000</td>\n",
       "      <td>1.000000</td>\n",
       "      <td>1.000000</td>\n",
       "      <td>1.000000</td>\n",
       "      <td>1.000000</td>\n",
       "    </tr>\n",
       "    <tr>\n",
       "      <th>1</th>\n",
       "      <td>0.998178</td>\n",
       "      <td>1.007804</td>\n",
       "      <td>0.999356</td>\n",
       "      <td>1.001150</td>\n",
       "      <td>1.005010</td>\n",
       "      <td>1.002617</td>\n",
       "      <td>0.998511</td>\n",
       "      <td>1.004010</td>\n",
       "      <td>0.997752</td>\n",
       "      <td>0.996172</td>\n",
       "      <td>...</td>\n",
       "      <td>1.001892</td>\n",
       "      <td>0.999507</td>\n",
       "      <td>1.003324</td>\n",
       "      <td>1.001666</td>\n",
       "      <td>0.997689</td>\n",
       "      <td>1.004181</td>\n",
       "      <td>0.987178</td>\n",
       "      <td>1.008107</td>\n",
       "      <td>1.009908</td>\n",
       "      <td>0.996382</td>\n",
       "    </tr>\n",
       "    <tr>\n",
       "      <th>2</th>\n",
       "      <td>0.989824</td>\n",
       "      <td>1.003425</td>\n",
       "      <td>0.997449</td>\n",
       "      <td>1.004738</td>\n",
       "      <td>1.005643</td>\n",
       "      <td>1.000092</td>\n",
       "      <td>0.995982</td>\n",
       "      <td>1.002018</td>\n",
       "      <td>1.000312</td>\n",
       "      <td>0.994255</td>\n",
       "      <td>...</td>\n",
       "      <td>0.995279</td>\n",
       "      <td>1.001101</td>\n",
       "      <td>1.008922</td>\n",
       "      <td>0.996803</td>\n",
       "      <td>1.000166</td>\n",
       "      <td>1.007684</td>\n",
       "      <td>0.994779</td>\n",
       "      <td>1.002258</td>\n",
       "      <td>1.000953</td>\n",
       "      <td>0.999943</td>\n",
       "    </tr>\n",
       "    <tr>\n",
       "      <th>3</th>\n",
       "      <td>0.986852</td>\n",
       "      <td>1.003073</td>\n",
       "      <td>0.995634</td>\n",
       "      <td>1.000767</td>\n",
       "      <td>1.003171</td>\n",
       "      <td>1.007113</td>\n",
       "      <td>0.990951</td>\n",
       "      <td>1.005725</td>\n",
       "      <td>0.998418</td>\n",
       "      <td>0.996099</td>\n",
       "      <td>...</td>\n",
       "      <td>1.003724</td>\n",
       "      <td>1.003729</td>\n",
       "      <td>1.008021</td>\n",
       "      <td>0.997059</td>\n",
       "      <td>0.999941</td>\n",
       "      <td>1.012221</td>\n",
       "      <td>0.991704</td>\n",
       "      <td>0.999422</td>\n",
       "      <td>1.001139</td>\n",
       "      <td>1.002951</td>\n",
       "    </tr>\n",
       "    <tr>\n",
       "      <th>4</th>\n",
       "      <td>0.986007</td>\n",
       "      <td>0.998272</td>\n",
       "      <td>0.997692</td>\n",
       "      <td>1.000626</td>\n",
       "      <td>1.008863</td>\n",
       "      <td>0.997789</td>\n",
       "      <td>0.997635</td>\n",
       "      <td>0.998436</td>\n",
       "      <td>0.995704</td>\n",
       "      <td>0.998949</td>\n",
       "      <td>...</td>\n",
       "      <td>1.012071</td>\n",
       "      <td>1.002793</td>\n",
       "      <td>1.010688</td>\n",
       "      <td>0.989840</td>\n",
       "      <td>1.000080</td>\n",
       "      <td>1.014292</td>\n",
       "      <td>0.992984</td>\n",
       "      <td>0.992735</td>\n",
       "      <td>1.001465</td>\n",
       "      <td>1.000726</td>\n",
       "    </tr>\n",
       "    <tr>\n",
       "      <th>...</th>\n",
       "      <td>...</td>\n",
       "      <td>...</td>\n",
       "      <td>...</td>\n",
       "      <td>...</td>\n",
       "      <td>...</td>\n",
       "      <td>...</td>\n",
       "      <td>...</td>\n",
       "      <td>...</td>\n",
       "      <td>...</td>\n",
       "      <td>...</td>\n",
       "      <td>...</td>\n",
       "      <td>...</td>\n",
       "      <td>...</td>\n",
       "      <td>...</td>\n",
       "      <td>...</td>\n",
       "      <td>...</td>\n",
       "      <td>...</td>\n",
       "      <td>...</td>\n",
       "      <td>...</td>\n",
       "      <td>...</td>\n",
       "      <td>...</td>\n",
       "    </tr>\n",
       "    <tr>\n",
       "      <th>7556</th>\n",
       "      <td>5.446938</td>\n",
       "      <td>3.327964</td>\n",
       "      <td>8.379941</td>\n",
       "      <td>3.240819</td>\n",
       "      <td>7.988728</td>\n",
       "      <td>5.874254</td>\n",
       "      <td>4.119386</td>\n",
       "      <td>6.852086</td>\n",
       "      <td>6.844087</td>\n",
       "      <td>7.331178</td>\n",
       "      <td>...</td>\n",
       "      <td>4.045671</td>\n",
       "      <td>3.747310</td>\n",
       "      <td>5.083560</td>\n",
       "      <td>3.998363</td>\n",
       "      <td>3.572939</td>\n",
       "      <td>4.438457</td>\n",
       "      <td>3.432989</td>\n",
       "      <td>4.129196</td>\n",
       "      <td>5.356498</td>\n",
       "      <td>7.644632</td>\n",
       "    </tr>\n",
       "    <tr>\n",
       "      <th>7557</th>\n",
       "      <td>5.495455</td>\n",
       "      <td>3.326034</td>\n",
       "      <td>8.447663</td>\n",
       "      <td>3.252241</td>\n",
       "      <td>8.003864</td>\n",
       "      <td>5.806615</td>\n",
       "      <td>4.135232</td>\n",
       "      <td>6.832182</td>\n",
       "      <td>6.876997</td>\n",
       "      <td>7.300766</td>\n",
       "      <td>...</td>\n",
       "      <td>4.047416</td>\n",
       "      <td>3.753074</td>\n",
       "      <td>5.072403</td>\n",
       "      <td>3.983506</td>\n",
       "      <td>3.590056</td>\n",
       "      <td>4.440315</td>\n",
       "      <td>3.414644</td>\n",
       "      <td>4.154653</td>\n",
       "      <td>5.366006</td>\n",
       "      <td>7.627574</td>\n",
       "    </tr>\n",
       "    <tr>\n",
       "      <th>7558</th>\n",
       "      <td>5.478226</td>\n",
       "      <td>3.351766</td>\n",
       "      <td>8.461065</td>\n",
       "      <td>3.229648</td>\n",
       "      <td>7.905627</td>\n",
       "      <td>5.781090</td>\n",
       "      <td>4.139885</td>\n",
       "      <td>6.761735</td>\n",
       "      <td>6.882991</td>\n",
       "      <td>7.275532</td>\n",
       "      <td>...</td>\n",
       "      <td>4.069807</td>\n",
       "      <td>3.760754</td>\n",
       "      <td>5.099960</td>\n",
       "      <td>3.982703</td>\n",
       "      <td>3.614464</td>\n",
       "      <td>4.465436</td>\n",
       "      <td>3.411779</td>\n",
       "      <td>4.159193</td>\n",
       "      <td>5.372172</td>\n",
       "      <td>7.657212</td>\n",
       "    </tr>\n",
       "    <tr>\n",
       "      <th>7559</th>\n",
       "      <td>5.447988</td>\n",
       "      <td>3.354799</td>\n",
       "      <td>8.449685</td>\n",
       "      <td>3.241965</td>\n",
       "      <td>7.922115</td>\n",
       "      <td>5.761840</td>\n",
       "      <td>4.139193</td>\n",
       "      <td>6.738401</td>\n",
       "      <td>6.915100</td>\n",
       "      <td>7.250718</td>\n",
       "      <td>...</td>\n",
       "      <td>4.069811</td>\n",
       "      <td>3.765008</td>\n",
       "      <td>5.070741</td>\n",
       "      <td>3.988334</td>\n",
       "      <td>3.586034</td>\n",
       "      <td>4.453257</td>\n",
       "      <td>3.400539</td>\n",
       "      <td>4.147266</td>\n",
       "      <td>5.387360</td>\n",
       "      <td>7.647903</td>\n",
       "    </tr>\n",
       "    <tr>\n",
       "      <th>7560</th>\n",
       "      <td>5.452634</td>\n",
       "      <td>3.365126</td>\n",
       "      <td>8.433682</td>\n",
       "      <td>3.243127</td>\n",
       "      <td>7.916504</td>\n",
       "      <td>5.778342</td>\n",
       "      <td>4.147945</td>\n",
       "      <td>6.736000</td>\n",
       "      <td>6.873832</td>\n",
       "      <td>7.238950</td>\n",
       "      <td>...</td>\n",
       "      <td>4.071827</td>\n",
       "      <td>3.758360</td>\n",
       "      <td>5.083583</td>\n",
       "      <td>3.977161</td>\n",
       "      <td>3.582886</td>\n",
       "      <td>4.452303</td>\n",
       "      <td>3.419536</td>\n",
       "      <td>4.166676</td>\n",
       "      <td>5.400799</td>\n",
       "      <td>7.596060</td>\n",
       "    </tr>\n",
       "  </tbody>\n",
       "</table>\n",
       "<p>7561 rows × 500 columns</p>\n",
       "</div>"
      ],
      "text/plain": [
       "           0         1         2         3         4         5         6    \\\n",
       "0     1.000000  1.000000  1.000000  1.000000  1.000000  1.000000  1.000000   \n",
       "1     0.998178  1.007804  0.999356  1.001150  1.005010  1.002617  0.998511   \n",
       "2     0.989824  1.003425  0.997449  1.004738  1.005643  1.000092  0.995982   \n",
       "3     0.986852  1.003073  0.995634  1.000767  1.003171  1.007113  0.990951   \n",
       "4     0.986007  0.998272  0.997692  1.000626  1.008863  0.997789  0.997635   \n",
       "...        ...       ...       ...       ...       ...       ...       ...   \n",
       "7556  5.446938  3.327964  8.379941  3.240819  7.988728  5.874254  4.119386   \n",
       "7557  5.495455  3.326034  8.447663  3.252241  8.003864  5.806615  4.135232   \n",
       "7558  5.478226  3.351766  8.461065  3.229648  7.905627  5.781090  4.139885   \n",
       "7559  5.447988  3.354799  8.449685  3.241965  7.922115  5.761840  4.139193   \n",
       "7560  5.452634  3.365126  8.433682  3.243127  7.916504  5.778342  4.147945   \n",
       "\n",
       "           7         8         9    ...       490       491       492  \\\n",
       "0     1.000000  1.000000  1.000000  ...  1.000000  1.000000  1.000000   \n",
       "1     1.004010  0.997752  0.996172  ...  1.001892  0.999507  1.003324   \n",
       "2     1.002018  1.000312  0.994255  ...  0.995279  1.001101  1.008922   \n",
       "3     1.005725  0.998418  0.996099  ...  1.003724  1.003729  1.008021   \n",
       "4     0.998436  0.995704  0.998949  ...  1.012071  1.002793  1.010688   \n",
       "...        ...       ...       ...  ...       ...       ...       ...   \n",
       "7556  6.852086  6.844087  7.331178  ...  4.045671  3.747310  5.083560   \n",
       "7557  6.832182  6.876997  7.300766  ...  4.047416  3.753074  5.072403   \n",
       "7558  6.761735  6.882991  7.275532  ...  4.069807  3.760754  5.099960   \n",
       "7559  6.738401  6.915100  7.250718  ...  4.069811  3.765008  5.070741   \n",
       "7560  6.736000  6.873832  7.238950  ...  4.071827  3.758360  5.083583   \n",
       "\n",
       "           493       494       495       496       497       498       499  \n",
       "0     1.000000  1.000000  1.000000  1.000000  1.000000  1.000000  1.000000  \n",
       "1     1.001666  0.997689  1.004181  0.987178  1.008107  1.009908  0.996382  \n",
       "2     0.996803  1.000166  1.007684  0.994779  1.002258  1.000953  0.999943  \n",
       "3     0.997059  0.999941  1.012221  0.991704  0.999422  1.001139  1.002951  \n",
       "4     0.989840  1.000080  1.014292  0.992984  0.992735  1.001465  1.000726  \n",
       "...        ...       ...       ...       ...       ...       ...       ...  \n",
       "7556  3.998363  3.572939  4.438457  3.432989  4.129196  5.356498  7.644632  \n",
       "7557  3.983506  3.590056  4.440315  3.414644  4.154653  5.366006  7.627574  \n",
       "7558  3.982703  3.614464  4.465436  3.411779  4.159193  5.372172  7.657212  \n",
       "7559  3.988334  3.586034  4.453257  3.400539  4.147266  5.387360  7.647903  \n",
       "7560  3.977161  3.582886  4.452303  3.419536  4.166676  5.400799  7.596060  \n",
       "\n",
       "[7561 rows x 500 columns]"
      ]
     },
     "execution_count": 45,
     "metadata": {},
     "output_type": "execute_result"
    }
   ],
   "source": [
    "# Run the Monte Carlo simulation to forecast 30 years cumulative returns\n",
    "MC_trad_weight.calc_cumulative_return()\n"
   ]
  },
  {
   "cell_type": "code",
   "execution_count": 47,
   "metadata": {},
   "outputs": [
    {
     "data": {
      "image/png": "[encoded data removed]",
      "text/plain": [
       "<Figure size 432x288 with 1 Axes>"
      ]
     },
     "metadata": {
      "needs_background": "light"
     },
     "output_type": "display_data"
    }
   ],
   "source": [
    "# Visualize the 30-year Monte Carlo simulation by creating an\n",
    "# overlay line plot\n",
    "trad_weight_line_plot = MC_trad_weight.plot_simulation()\n",
    "\n",
    "# Save the plot for future use\n",
    "trad_weight_line_plot.get_figure().savefig(\"MC_trad_weight_line_plot.png\", bbox_inches=\"tight\")"
   ]
  },
  {
   "cell_type": "markdown",
   "metadata": {},
   "source": [
    "#### Step 3: Plot the probability distribution of the Monte Carlo simulation."
   ]
  },
  {
   "cell_type": "code",
   "execution_count": 48,
   "metadata": {},
   "outputs": [
    {
     "data": {
      "image/png": "[encoded data removed]",
      "text/plain": [
       "<Figure size 432x288 with 1 Axes>"
      ]
     },
     "metadata": {
      "needs_background": "light"
     },
     "output_type": "display_data"
    }
   ],
   "source": [
    "# Visualize the probability distribution of the 30-year Monte Carlo simulation \n",
    "# by plotting a histogram\n",
    "trad_weight_distribution_plot = MC_trad_weight.plot_distribution()\n",
    "\n",
    "# Save the plot for future use\n",
    "trad_weight_distribution_plot.get_figure().savefig('MC_trad_weight_dist_plot.png',bbox_inches='tight')"
   ]
  },
  {
   "cell_type": "markdown",
   "metadata": {},
   "source": [
    "#### Step 4: Generate the summary statistics for the Monte Carlo simulation."
   ]
  },
  {
   "cell_type": "code",
   "execution_count": 49,
   "metadata": {},
   "outputs": [
    {
     "name": "stdout",
     "output_type": "stream",
     "text": [
      "count           500.000000\n",
      "mean              5.300730\n",
      "std               2.063439\n",
      "min               1.655683\n",
      "25%               3.827162\n",
      "50%               4.953694\n",
      "75%               6.385785\n",
      "max              16.649481\n",
      "95% CI Lower      2.287621\n",
      "95% CI Upper     10.177823\n",
      "Name: 7560, dtype: float64\n"
     ]
    }
   ],
   "source": [
    "# Generate summary statistics from the 30-year Monte Carlo simulation results\n",
    "# Save the results as a variable\n",
    "trad_weight_table = MC_trad_weight.summarize_cumulative_return()\n",
    "\n",
    "# Review the 30-year Monte Carlo summary statistics\n",
    "print(trad_weight_table)"
   ]
  },
  {
   "cell_type": "markdown",
   "metadata": {},
   "source": [
    "### Analyze the Retirement Portfolio Forecasts\n",
    "\n",
    "Using the current value of only the stock and bond portion of the member's portfolio and the summary statistics that you generated from the Monte Carlo simulation, answer the following question in your Jupyter notebook:\n",
    "\n",
    "-  What are the lower and upper bounds for the expected value of the portfolio with a 95% confidence interval?\n"
   ]
  },
  {
   "cell_type": "code",
   "execution_count": 50,
   "metadata": {},
   "outputs": [
    {
     "name": "stdout",
     "output_type": "stream",
     "text": [
      "Total Current Value of the Stock/Bond portion of the Portfolio:            $65,723.30\n"
     ]
    }
   ],
   "source": [
    "# Print the current balance of the stock and bond portion of the members portfolio\n",
    "print(f\"Total Current Value of the Stock/Bond portion of the Portfolio:            ${total_stocks_bonds:,.2f}\")"
   ]
  },
  {
   "cell_type": "code",
   "execution_count": 53,
   "metadata": {},
   "outputs": [
    {
     "name": "stdout",
     "output_type": "stream",
     "text": [
      "There is a 95% chance that investing the Stock/Bond portion of the portfolio (current value $65,723.30) in a traditional 60/40 weight distribution over the next 30 years will result in a value within the range of $150,349.97 and $668,920.08.\n"
     ]
    }
   ],
   "source": [
    "# Use the lower and upper `95%` confidence intervals to calculate the range of the possible outcomes for the current stock/bond portfolio\n",
    "ci_lower_thirty_cumulative_return = trad_weight_table[8] * total_stocks_bonds\n",
    "ci_upper_thirty_cumulative_return = trad_weight_table[9] * total_stocks_bonds\n",
    "\n",
    "# Print the result of your calculations\n",
    "print(f\"There is a 95% chance that investing the Stock/Bond portion of the portfolio (current value ${total_stocks_bonds:,.2f}) in\"\n",
    "      f\" a traditional 60/40 weight distribution over the next 30 years will result in a value within the range of\"\n",
    "      f\" ${ci_lower_thirty_cumulative_return:,.2f} and ${ci_upper_thirty_cumulative_return:,.2f}.\")\n"
   ]
  },
  {
   "cell_type": "markdown",
   "metadata": {},
   "source": [
    "### Forecast Cumulative Returns in 10 Years\n",
    "\n",
    "The CTO of the credit union is impressed with your work on these planning tools but wonders if 30 years is a long time to wait until retirement. So, your next task is to adjust the retirement portfolio and run a new Monte Carlo simulation to find out if the changes will allow members to retire earlier.\n",
    "\n",
    "For this new Monte Carlo simulation, do the following: \n",
    "\n",
    "- Forecast the cumulative returns for 10 years from now. Because of the shortened investment horizon (30 years to 10 years), the portfolio needs to invest more heavily in the riskier asset&mdash;that is, stock&mdash;to help accumulate wealth for retirement. \n",
    "\n",
    "- Adjust the weights of the retirement portfolio so that the composition for the Monte Carlo simulation consists of 20% bonds and 80% stocks. \n",
    "\n",
    "- Run the simulation over 500 samples, and use the same data that the API call to Alpaca generated.\n",
    "\n",
    "- Based on the new Monte Carlo simulation, answer the following questions in your Jupyter notebook:\n",
    "\n",
    "    - Using the current value of only the stock and bond portion of the member's portfolio and the summary statistics that you generated from the new Monte Carlo simulation, what are the lower and upper bounds for the expected value of the portfolio (with the new weights) with a 95% confidence interval?\n",
    "\n",
    "    - Will weighting the portfolio more heavily toward stocks allow the credit union members to retire after only 10 years?\n"
   ]
  },
  {
   "cell_type": "code",
   "execution_count": 54,
   "metadata": {},
   "outputs": [
    {
     "data": {
      "text/html": [
       "<div>\n",
       "<style scoped>\n",
       "    .dataframe tbody tr th:only-of-type {\n",
       "        vertical-align: middle;\n",
       "    }\n",
       "\n",
       "    .dataframe tbody tr th {\n",
       "        vertical-align: top;\n",
       "    }\n",
       "\n",
       "    .dataframe thead tr th {\n",
       "        text-align: left;\n",
       "    }\n",
       "\n",
       "    .dataframe thead tr:last-of-type th {\n",
       "        text-align: right;\n",
       "    }\n",
       "</style>\n",
       "<table border=\"1\" class=\"dataframe\">\n",
       "  <thead>\n",
       "    <tr>\n",
       "      <th></th>\n",
       "      <th colspan=\"6\" halign=\"left\">AGG</th>\n",
       "      <th colspan=\"6\" halign=\"left\">SPY</th>\n",
       "    </tr>\n",
       "    <tr>\n",
       "      <th></th>\n",
       "      <th>open</th>\n",
       "      <th>high</th>\n",
       "      <th>low</th>\n",
       "      <th>close</th>\n",
       "      <th>volume</th>\n",
       "      <th>daily_return</th>\n",
       "      <th>open</th>\n",
       "      <th>high</th>\n",
       "      <th>low</th>\n",
       "      <th>close</th>\n",
       "      <th>volume</th>\n",
       "      <th>daily_return</th>\n",
       "    </tr>\n",
       "    <tr>\n",
       "      <th>time</th>\n",
       "      <th></th>\n",
       "      <th></th>\n",
       "      <th></th>\n",
       "      <th></th>\n",
       "      <th></th>\n",
       "      <th></th>\n",
       "      <th></th>\n",
       "      <th></th>\n",
       "      <th></th>\n",
       "      <th></th>\n",
       "      <th></th>\n",
       "      <th></th>\n",
       "    </tr>\n",
       "  </thead>\n",
       "  <tbody>\n",
       "    <tr>\n",
       "      <th>2011-01-26 00:00:00-05:00</th>\n",
       "      <td>105.74</td>\n",
       "      <td>105.7800</td>\n",
       "      <td>105.51</td>\n",
       "      <td>105.557</td>\n",
       "      <td>542836.0</td>\n",
       "      <td>NaN</td>\n",
       "      <td>129.49</td>\n",
       "      <td>130.05</td>\n",
       "      <td>129.2300</td>\n",
       "      <td>129.67</td>\n",
       "      <td>115993932</td>\n",
       "      <td>NaN</td>\n",
       "    </tr>\n",
       "    <tr>\n",
       "      <th>2011-01-27 00:00:00-05:00</th>\n",
       "      <td>105.64</td>\n",
       "      <td>105.7501</td>\n",
       "      <td>105.52</td>\n",
       "      <td>105.730</td>\n",
       "      <td>422093.0</td>\n",
       "      <td>0.001639</td>\n",
       "      <td>129.70</td>\n",
       "      <td>130.21</td>\n",
       "      <td>129.4700</td>\n",
       "      <td>130.02</td>\n",
       "      <td>100169887</td>\n",
       "      <td>0.002699</td>\n",
       "    </tr>\n",
       "    <tr>\n",
       "      <th>2011-01-28 00:00:00-05:00</th>\n",
       "      <td>105.59</td>\n",
       "      <td>105.9700</td>\n",
       "      <td>105.58</td>\n",
       "      <td>105.840</td>\n",
       "      <td>607012.0</td>\n",
       "      <td>0.001040</td>\n",
       "      <td>130.14</td>\n",
       "      <td>130.35</td>\n",
       "      <td>127.5100</td>\n",
       "      <td>127.69</td>\n",
       "      <td>235476101</td>\n",
       "      <td>-0.017920</td>\n",
       "    </tr>\n",
       "    <tr>\n",
       "      <th>2011-01-31 00:00:00-05:00</th>\n",
       "      <td>105.85</td>\n",
       "      <td>105.9400</td>\n",
       "      <td>105.59</td>\n",
       "      <td>105.670</td>\n",
       "      <td>1514824.0</td>\n",
       "      <td>-0.001606</td>\n",
       "      <td>128.07</td>\n",
       "      <td>128.78</td>\n",
       "      <td>127.7500</td>\n",
       "      <td>128.67</td>\n",
       "      <td>125255715</td>\n",
       "      <td>0.007675</td>\n",
       "    </tr>\n",
       "    <tr>\n",
       "      <th>2011-02-01 00:00:00-05:00</th>\n",
       "      <td>105.26</td>\n",
       "      <td>105.2600</td>\n",
       "      <td>105.03</td>\n",
       "      <td>105.120</td>\n",
       "      <td>629903.0</td>\n",
       "      <td>-0.005205</td>\n",
       "      <td>129.46</td>\n",
       "      <td>130.97</td>\n",
       "      <td>129.3801</td>\n",
       "      <td>130.75</td>\n",
       "      <td>134943648</td>\n",
       "      <td>0.016165</td>\n",
       "    </tr>\n",
       "  </tbody>\n",
       "</table>\n",
       "</div>"
      ],
      "text/plain": [
       "                              AGG                                        \\\n",
       "                             open      high     low    close     volume   \n",
       "time                                                                      \n",
       "2011-01-26 00:00:00-05:00  105.74  105.7800  105.51  105.557   542836.0   \n",
       "2011-01-27 00:00:00-05:00  105.64  105.7501  105.52  105.730   422093.0   \n",
       "2011-01-28 00:00:00-05:00  105.59  105.9700  105.58  105.840   607012.0   \n",
       "2011-01-31 00:00:00-05:00  105.85  105.9400  105.59  105.670  1514824.0   \n",
       "2011-02-01 00:00:00-05:00  105.26  105.2600  105.03  105.120   629903.0   \n",
       "\n",
       "                                           SPY                            \\\n",
       "                          daily_return    open    high       low   close   \n",
       "time                                                                       \n",
       "2011-01-26 00:00:00-05:00          NaN  129.49  130.05  129.2300  129.67   \n",
       "2011-01-27 00:00:00-05:00     0.001639  129.70  130.21  129.4700  130.02   \n",
       "2011-01-28 00:00:00-05:00     0.001040  130.14  130.35  127.5100  127.69   \n",
       "2011-01-31 00:00:00-05:00    -0.001606  128.07  128.78  127.7500  128.67   \n",
       "2011-02-01 00:00:00-05:00    -0.005205  129.46  130.97  129.3801  130.75   \n",
       "\n",
       "                                                   \n",
       "                              volume daily_return  \n",
       "time                                               \n",
       "2011-01-26 00:00:00-05:00  115993932          NaN  \n",
       "2011-01-27 00:00:00-05:00  100169887     0.002699  \n",
       "2011-01-28 00:00:00-05:00  235476101    -0.017920  \n",
       "2011-01-31 00:00:00-05:00  125255715     0.007675  \n",
       "2011-02-01 00:00:00-05:00  134943648     0.016165  "
      ]
     },
     "execution_count": 54,
     "metadata": {},
     "output_type": "execute_result"
    }
   ],
   "source": [
    "# Configure a Monte Carlo simulation to forecast 10 years cumulative returns\n",
    "# The weights should be split 20% to AGG and 80% to SPY.\n",
    "# Run 500 samples.\n",
    "MC_spy80_weight = MCSimulation(\n",
    "    portfolio_data = prices_df,\n",
    "    weights = [.80,.20],\n",
    "    num_simulation = 500,\n",
    "    num_trading_days = 252*10\n",
    ")\n",
    "\n",
    "# Review the simulation input data\n",
    "MC_spy80_weight.portfolio_data.head()\n"
   ]
  },
  {
   "cell_type": "code",
   "execution_count": 55,
   "metadata": {},
   "outputs": [
    {
     "name": "stdout",
     "output_type": "stream",
     "text": [
      "Running Monte Carlo simulation number 0.\n",
      "Running Monte Carlo simulation number 10.\n",
      "Running Monte Carlo simulation number 20.\n",
      "Running Monte Carlo simulation number 30.\n",
      "Running Monte Carlo simulation number 40.\n",
      "Running Monte Carlo simulation number 50.\n",
      "Running Monte Carlo simulation number 60.\n",
      "Running Monte Carlo simulation number 70.\n",
      "Running Monte Carlo simulation number 80.\n",
      "Running Monte Carlo simulation number 90.\n",
      "Running Monte Carlo simulation number 100.\n",
      "Running Monte Carlo simulation number 110.\n",
      "Running Monte Carlo simulation number 120.\n",
      "Running Monte Carlo simulation number 130.\n",
      "Running Monte Carlo simulation number 140.\n",
      "Running Monte Carlo simulation number 150.\n",
      "Running Monte Carlo simulation number 160.\n",
      "Running Monte Carlo simulation number 170.\n",
      "Running Monte Carlo simulation number 180.\n",
      "Running Monte Carlo simulation number 190.\n",
      "Running Monte Carlo simulation number 200.\n",
      "Running Monte Carlo simulation number 210.\n",
      "Running Monte Carlo simulation number 220.\n",
      "Running Monte Carlo simulation number 230.\n",
      "Running Monte Carlo simulation number 240.\n",
      "Running Monte Carlo simulation number 250.\n",
      "Running Monte Carlo simulation number 260.\n",
      "Running Monte Carlo simulation number 270.\n",
      "Running Monte Carlo simulation number 280.\n",
      "Running Monte Carlo simulation number 290.\n",
      "Running Monte Carlo simulation number 300.\n",
      "Running Monte Carlo simulation number 310.\n",
      "Running Monte Carlo simulation number 320.\n",
      "Running Monte Carlo simulation number 330.\n",
      "Running Monte Carlo simulation number 340.\n",
      "Running Monte Carlo simulation number 350.\n",
      "Running Monte Carlo simulation number 360.\n",
      "Running Monte Carlo simulation number 370.\n",
      "Running Monte Carlo simulation number 380.\n",
      "Running Monte Carlo simulation number 390.\n",
      "Running Monte Carlo simulation number 400.\n",
      "Running Monte Carlo simulation number 410.\n",
      "Running Monte Carlo simulation number 420.\n",
      "Running Monte Carlo simulation number 430.\n",
      "Running Monte Carlo simulation number 440.\n",
      "Running Monte Carlo simulation number 450.\n",
      "Running Monte Carlo simulation number 460.\n",
      "Running Monte Carlo simulation number 470.\n",
      "Running Monte Carlo simulation number 480.\n",
      "Running Monte Carlo simulation number 490.\n"
     ]
    },
    {
     "data": {
      "text/html": [
       "<div>\n",
       "<style scoped>\n",
       "    .dataframe tbody tr th:only-of-type {\n",
       "        vertical-align: middle;\n",
       "    }\n",
       "\n",
       "    .dataframe tbody tr th {\n",
       "        vertical-align: top;\n",
       "    }\n",
       "\n",
       "    .dataframe thead th {\n",
       "        text-align: right;\n",
       "    }\n",
       "</style>\n",
       "<table border=\"1\" class=\"dataframe\">\n",
       "  <thead>\n",
       "    <tr style=\"text-align: right;\">\n",
       "      <th></th>\n",
       "      <th>0</th>\n",
       "      <th>1</th>\n",
       "      <th>2</th>\n",
       "      <th>3</th>\n",
       "      <th>4</th>\n",
       "      <th>5</th>\n",
       "      <th>6</th>\n",
       "      <th>7</th>\n",
       "      <th>8</th>\n",
       "      <th>9</th>\n",
       "      <th>...</th>\n",
       "      <th>490</th>\n",
       "      <th>491</th>\n",
       "      <th>492</th>\n",
       "      <th>493</th>\n",
       "      <th>494</th>\n",
       "      <th>495</th>\n",
       "      <th>496</th>\n",
       "      <th>497</th>\n",
       "      <th>498</th>\n",
       "      <th>499</th>\n",
       "    </tr>\n",
       "  </thead>\n",
       "  <tbody>\n",
       "    <tr>\n",
       "      <th>0</th>\n",
       "      <td>1.000000</td>\n",
       "      <td>1.000000</td>\n",
       "      <td>1.000000</td>\n",
       "      <td>1.000000</td>\n",
       "      <td>1.000000</td>\n",
       "      <td>1.000000</td>\n",
       "      <td>1.000000</td>\n",
       "      <td>1.000000</td>\n",
       "      <td>1.000000</td>\n",
       "      <td>1.000000</td>\n",
       "      <td>...</td>\n",
       "      <td>1.000000</td>\n",
       "      <td>1.000000</td>\n",
       "      <td>1.000000</td>\n",
       "      <td>1.000000</td>\n",
       "      <td>1.000000</td>\n",
       "      <td>1.000000</td>\n",
       "      <td>1.000000</td>\n",
       "      <td>1.000000</td>\n",
       "      <td>1.000000</td>\n",
       "      <td>1.000000</td>\n",
       "    </tr>\n",
       "    <tr>\n",
       "      <th>1</th>\n",
       "      <td>0.998722</td>\n",
       "      <td>0.994155</td>\n",
       "      <td>0.998005</td>\n",
       "      <td>0.999296</td>\n",
       "      <td>1.002890</td>\n",
       "      <td>1.002145</td>\n",
       "      <td>1.007277</td>\n",
       "      <td>0.997306</td>\n",
       "      <td>1.000109</td>\n",
       "      <td>1.008536</td>\n",
       "      <td>...</td>\n",
       "      <td>1.000788</td>\n",
       "      <td>0.993763</td>\n",
       "      <td>0.998663</td>\n",
       "      <td>0.995445</td>\n",
       "      <td>1.001420</td>\n",
       "      <td>0.995874</td>\n",
       "      <td>1.003655</td>\n",
       "      <td>0.997749</td>\n",
       "      <td>1.002458</td>\n",
       "      <td>0.999734</td>\n",
       "    </tr>\n",
       "    <tr>\n",
       "      <th>2</th>\n",
       "      <td>0.997257</td>\n",
       "      <td>0.993319</td>\n",
       "      <td>1.002647</td>\n",
       "      <td>1.006613</td>\n",
       "      <td>0.997789</td>\n",
       "      <td>1.002014</td>\n",
       "      <td>1.007039</td>\n",
       "      <td>0.992063</td>\n",
       "      <td>0.995988</td>\n",
       "      <td>1.006830</td>\n",
       "      <td>...</td>\n",
       "      <td>0.999258</td>\n",
       "      <td>0.991877</td>\n",
       "      <td>0.998459</td>\n",
       "      <td>0.997411</td>\n",
       "      <td>1.002848</td>\n",
       "      <td>0.994274</td>\n",
       "      <td>1.009537</td>\n",
       "      <td>0.994856</td>\n",
       "      <td>1.004481</td>\n",
       "      <td>0.998460</td>\n",
       "    </tr>\n",
       "    <tr>\n",
       "      <th>3</th>\n",
       "      <td>1.001147</td>\n",
       "      <td>0.990692</td>\n",
       "      <td>1.005897</td>\n",
       "      <td>1.006541</td>\n",
       "      <td>0.992172</td>\n",
       "      <td>1.001444</td>\n",
       "      <td>1.007162</td>\n",
       "      <td>0.994580</td>\n",
       "      <td>1.000376</td>\n",
       "      <td>1.002914</td>\n",
       "      <td>...</td>\n",
       "      <td>1.003259</td>\n",
       "      <td>0.990888</td>\n",
       "      <td>1.002608</td>\n",
       "      <td>0.999976</td>\n",
       "      <td>1.007042</td>\n",
       "      <td>0.991865</td>\n",
       "      <td>1.011831</td>\n",
       "      <td>0.994050</td>\n",
       "      <td>1.008452</td>\n",
       "      <td>0.993642</td>\n",
       "    </tr>\n",
       "    <tr>\n",
       "      <th>4</th>\n",
       "      <td>1.008387</td>\n",
       "      <td>0.988080</td>\n",
       "      <td>1.008807</td>\n",
       "      <td>1.001631</td>\n",
       "      <td>0.993008</td>\n",
       "      <td>1.002632</td>\n",
       "      <td>1.006527</td>\n",
       "      <td>0.995348</td>\n",
       "      <td>1.001116</td>\n",
       "      <td>1.007118</td>\n",
       "      <td>...</td>\n",
       "      <td>1.007067</td>\n",
       "      <td>0.988890</td>\n",
       "      <td>1.002845</td>\n",
       "      <td>1.005027</td>\n",
       "      <td>1.004853</td>\n",
       "      <td>0.991232</td>\n",
       "      <td>1.010541</td>\n",
       "      <td>0.992273</td>\n",
       "      <td>1.005768</td>\n",
       "      <td>0.988436</td>\n",
       "    </tr>\n",
       "    <tr>\n",
       "      <th>...</th>\n",
       "      <td>...</td>\n",
       "      <td>...</td>\n",
       "      <td>...</td>\n",
       "      <td>...</td>\n",
       "      <td>...</td>\n",
       "      <td>...</td>\n",
       "      <td>...</td>\n",
       "      <td>...</td>\n",
       "      <td>...</td>\n",
       "      <td>...</td>\n",
       "      <td>...</td>\n",
       "      <td>...</td>\n",
       "      <td>...</td>\n",
       "      <td>...</td>\n",
       "      <td>...</td>\n",
       "      <td>...</td>\n",
       "      <td>...</td>\n",
       "      <td>...</td>\n",
       "      <td>...</td>\n",
       "      <td>...</td>\n",
       "      <td>...</td>\n",
       "    </tr>\n",
       "    <tr>\n",
       "      <th>2516</th>\n",
       "      <td>1.342819</td>\n",
       "      <td>0.994218</td>\n",
       "      <td>1.281086</td>\n",
       "      <td>0.944672</td>\n",
       "      <td>1.232092</td>\n",
       "      <td>1.317372</td>\n",
       "      <td>1.707955</td>\n",
       "      <td>1.333047</td>\n",
       "      <td>1.737035</td>\n",
       "      <td>1.395769</td>\n",
       "      <td>...</td>\n",
       "      <td>1.007982</td>\n",
       "      <td>1.370860</td>\n",
       "      <td>1.441879</td>\n",
       "      <td>1.410802</td>\n",
       "      <td>1.202031</td>\n",
       "      <td>1.002498</td>\n",
       "      <td>1.195510</td>\n",
       "      <td>1.259743</td>\n",
       "      <td>1.243651</td>\n",
       "      <td>1.565832</td>\n",
       "    </tr>\n",
       "    <tr>\n",
       "      <th>2517</th>\n",
       "      <td>1.342567</td>\n",
       "      <td>0.990930</td>\n",
       "      <td>1.280952</td>\n",
       "      <td>0.944934</td>\n",
       "      <td>1.227645</td>\n",
       "      <td>1.311475</td>\n",
       "      <td>1.704711</td>\n",
       "      <td>1.334099</td>\n",
       "      <td>1.737964</td>\n",
       "      <td>1.389648</td>\n",
       "      <td>...</td>\n",
       "      <td>1.006061</td>\n",
       "      <td>1.360719</td>\n",
       "      <td>1.447336</td>\n",
       "      <td>1.414056</td>\n",
       "      <td>1.203393</td>\n",
       "      <td>1.011953</td>\n",
       "      <td>1.193540</td>\n",
       "      <td>1.257322</td>\n",
       "      <td>1.238620</td>\n",
       "      <td>1.561916</td>\n",
       "    </tr>\n",
       "    <tr>\n",
       "      <th>2518</th>\n",
       "      <td>1.345494</td>\n",
       "      <td>0.987795</td>\n",
       "      <td>1.281446</td>\n",
       "      <td>0.939786</td>\n",
       "      <td>1.225845</td>\n",
       "      <td>1.313567</td>\n",
       "      <td>1.704353</td>\n",
       "      <td>1.340890</td>\n",
       "      <td>1.739783</td>\n",
       "      <td>1.386311</td>\n",
       "      <td>...</td>\n",
       "      <td>1.003107</td>\n",
       "      <td>1.360400</td>\n",
       "      <td>1.449397</td>\n",
       "      <td>1.412466</td>\n",
       "      <td>1.196995</td>\n",
       "      <td>1.010478</td>\n",
       "      <td>1.193188</td>\n",
       "      <td>1.251736</td>\n",
       "      <td>1.244844</td>\n",
       "      <td>1.555979</td>\n",
       "    </tr>\n",
       "    <tr>\n",
       "      <th>2519</th>\n",
       "      <td>1.338688</td>\n",
       "      <td>0.986559</td>\n",
       "      <td>1.279794</td>\n",
       "      <td>0.941550</td>\n",
       "      <td>1.229101</td>\n",
       "      <td>1.317813</td>\n",
       "      <td>1.698230</td>\n",
       "      <td>1.335400</td>\n",
       "      <td>1.737030</td>\n",
       "      <td>1.386044</td>\n",
       "      <td>...</td>\n",
       "      <td>1.002922</td>\n",
       "      <td>1.358512</td>\n",
       "      <td>1.452349</td>\n",
       "      <td>1.411086</td>\n",
       "      <td>1.195646</td>\n",
       "      <td>1.013848</td>\n",
       "      <td>1.196493</td>\n",
       "      <td>1.248096</td>\n",
       "      <td>1.250699</td>\n",
       "      <td>1.561897</td>\n",
       "    </tr>\n",
       "    <tr>\n",
       "      <th>2520</th>\n",
       "      <td>1.323019</td>\n",
       "      <td>0.986425</td>\n",
       "      <td>1.280291</td>\n",
       "      <td>0.940982</td>\n",
       "      <td>1.232333</td>\n",
       "      <td>1.316271</td>\n",
       "      <td>1.700567</td>\n",
       "      <td>1.332074</td>\n",
       "      <td>1.735229</td>\n",
       "      <td>1.390435</td>\n",
       "      <td>...</td>\n",
       "      <td>0.999686</td>\n",
       "      <td>1.358817</td>\n",
       "      <td>1.456671</td>\n",
       "      <td>1.417110</td>\n",
       "      <td>1.198074</td>\n",
       "      <td>1.009815</td>\n",
       "      <td>1.192601</td>\n",
       "      <td>1.248757</td>\n",
       "      <td>1.252725</td>\n",
       "      <td>1.554487</td>\n",
       "    </tr>\n",
       "  </tbody>\n",
       "</table>\n",
       "<p>2521 rows × 500 columns</p>\n",
       "</div>"
      ],
      "text/plain": [
       "           0         1         2         3         4         5         6    \\\n",
       "0     1.000000  1.000000  1.000000  1.000000  1.000000  1.000000  1.000000   \n",
       "1     0.998722  0.994155  0.998005  0.999296  1.002890  1.002145  1.007277   \n",
       "2     0.997257  0.993319  1.002647  1.006613  0.997789  1.002014  1.007039   \n",
       "3     1.001147  0.990692  1.005897  1.006541  0.992172  1.001444  1.007162   \n",
       "4     1.008387  0.988080  1.008807  1.001631  0.993008  1.002632  1.006527   \n",
       "...        ...       ...       ...       ...       ...       ...       ...   \n",
       "2516  1.342819  0.994218  1.281086  0.944672  1.232092  1.317372  1.707955   \n",
       "2517  1.342567  0.990930  1.280952  0.944934  1.227645  1.311475  1.704711   \n",
       "2518  1.345494  0.987795  1.281446  0.939786  1.225845  1.313567  1.704353   \n",
       "2519  1.338688  0.986559  1.279794  0.941550  1.229101  1.317813  1.698230   \n",
       "2520  1.323019  0.986425  1.280291  0.940982  1.232333  1.316271  1.700567   \n",
       "\n",
       "           7         8         9    ...       490       491       492  \\\n",
       "0     1.000000  1.000000  1.000000  ...  1.000000  1.000000  1.000000   \n",
       "1     0.997306  1.000109  1.008536  ...  1.000788  0.993763  0.998663   \n",
       "2     0.992063  0.995988  1.006830  ...  0.999258  0.991877  0.998459   \n",
       "3     0.994580  1.000376  1.002914  ...  1.003259  0.990888  1.002608   \n",
       "4     0.995348  1.001116  1.007118  ...  1.007067  0.988890  1.002845   \n",
       "...        ...       ...       ...  ...       ...       ...       ...   \n",
       "2516  1.333047  1.737035  1.395769  ...  1.007982  1.370860  1.441879   \n",
       "2517  1.334099  1.737964  1.389648  ...  1.006061  1.360719  1.447336   \n",
       "2518  1.340890  1.739783  1.386311  ...  1.003107  1.360400  1.449397   \n",
       "2519  1.335400  1.737030  1.386044  ...  1.002922  1.358512  1.452349   \n",
       "2520  1.332074  1.735229  1.390435  ...  0.999686  1.358817  1.456671   \n",
       "\n",
       "           493       494       495       496       497       498       499  \n",
       "0     1.000000  1.000000  1.000000  1.000000  1.000000  1.000000  1.000000  \n",
       "1     0.995445  1.001420  0.995874  1.003655  0.997749  1.002458  0.999734  \n",
       "2     0.997411  1.002848  0.994274  1.009537  0.994856  1.004481  0.998460  \n",
       "3     0.999976  1.007042  0.991865  1.011831  0.994050  1.008452  0.993642  \n",
       "4     1.005027  1.004853  0.991232  1.010541  0.992273  1.005768  0.988436  \n",
       "...        ...       ...       ...       ...       ...       ...       ...  \n",
       "2516  1.410802  1.202031  1.002498  1.195510  1.259743  1.243651  1.565832  \n",
       "2517  1.414056  1.203393  1.011953  1.193540  1.257322  1.238620  1.561916  \n",
       "2518  1.412466  1.196995  1.010478  1.193188  1.251736  1.244844  1.555979  \n",
       "2519  1.411086  1.195646  1.013848  1.196493  1.248096  1.250699  1.561897  \n",
       "2520  1.417110  1.198074  1.009815  1.192601  1.248757  1.252725  1.554487  \n",
       "\n",
       "[2521 rows x 500 columns]"
      ]
     },
     "execution_count": 55,
     "metadata": {},
     "output_type": "execute_result"
    }
   ],
   "source": [
    "# Run the Monte Carlo simulation to forecast 10 years cumulative returns\n",
    "MC_spy80_weight.calc_cumulative_return()"
   ]
  },
  {
   "cell_type": "code",
   "execution_count": 56,
   "metadata": {},
   "outputs": [
    {
     "data": {
      "image/png": "[encoded data removed]",
      "text/plain": [
       "<Figure size 432x288 with 1 Axes>"
      ]
     },
     "metadata": {
      "needs_background": "light"
     },
     "output_type": "display_data"
    }
   ],
   "source": [
    "# Visualize the 10-year Monte Carlo simulation by creating an\n",
    "# overlay line plot\n",
    "spy80_weight_line_plot = MC_spy80_weight.plot_simulation()\n",
    "\n",
    "# Save the plot for future use\n",
    "spy80_weight_line_plot.get_figure().savefig(\"MC_spy80_weight_line_plot.png\", bbox_inches=\"tight\")"
   ]
  },
  {
   "cell_type": "code",
   "execution_count": 57,
   "metadata": {},
   "outputs": [
    {
     "data": {
      "image/png": "[encoded data removed]",
      "text/plain": [
       "<Figure size 432x288 with 1 Axes>"
      ]
     },
     "metadata": {
      "needs_background": "light"
     },
     "output_type": "display_data"
    }
   ],
   "source": [
    "# Visualize the probability distribution of the 10-year Monte Carlo simulation \n",
    "# by plotting a histogram\n",
    "spy80_weight_distribution_plot = MC_spy80_weight.plot_distribution()\n",
    "\n",
    "# Save the plot for future use\n",
    "spy80_weight_distribution_plot.get_figure().savefig('MC_spy80_weight_dist_plot.png',bbox_inches='tight')"
   ]
  },
  {
   "cell_type": "code",
   "execution_count": 58,
   "metadata": {},
   "outputs": [
    {
     "name": "stdout",
     "output_type": "stream",
     "text": [
      "count           500.000000\n",
      "mean              1.404141\n",
      "std               0.224787\n",
      "min               0.846657\n",
      "25%               1.233995\n",
      "50%               1.394465\n",
      "75%               1.543561\n",
      "max               2.188358\n",
      "95% CI Lower      1.006953\n",
      "95% CI Upper      1.859763\n",
      "Name: 2520, dtype: float64\n"
     ]
    }
   ],
   "source": [
    "# Generate summary statistics from the 10-year Monte Carlo simulation results\n",
    "# Save the results as a variable\n",
    "spy80_weight_table = MC_spy80_weight.summarize_cumulative_return()\n",
    "\n",
    "# Review the 10-year Monte Carlo summary statistics\n",
    "print(spy80_weight_table)"
   ]
  },
  {
   "cell_type": "markdown",
   "metadata": {},
   "source": [
    "### Answer the following questions:"
   ]
  },
  {
   "cell_type": "markdown",
   "metadata": {},
   "source": [
    "#### Question: Using the current value of only the stock and bond portion of the member's portfolio and the summary statistics that you generated from the new Monte Carlo simulation, what are the lower and upper bounds for the expected value of the portfolio (with the new weights) with a 95% confidence interval?"
   ]
  },
  {
   "cell_type": "code",
   "execution_count": 59,
   "metadata": {},
   "outputs": [
    {
     "name": "stdout",
     "output_type": "stream",
     "text": [
      "Total Current Value of the Stock/Bond portion of the Portfolio:            $65,723.30\n"
     ]
    }
   ],
   "source": [
    "# Print the current balance of the stock and bond portion of the members portfolio\n",
    "print(f\"Total Current Value of the Stock/Bond portion of the Portfolio:            ${total_stocks_bonds:,.2f}\")"
   ]
  },
  {
   "cell_type": "code",
   "execution_count": 60,
   "metadata": {},
   "outputs": [
    {
     "name": "stdout",
     "output_type": "stream",
     "text": [
      "There is a 95% chance that investing the Stock/Bond portion of the portfolio (current value $65,723.30) in a more aggressive 80/20 weight distribution over the next 10 years will end within in the range of $66,180.29 and $122,229.75 in value.\n"
     ]
    }
   ],
   "source": [
    "# Use the lower and upper `95%` confidence intervals to calculate the range of the possible outcomes for the current stock/bond portfolio\n",
    "ci_lower_ten_cumulative_return = spy80_weight_table[8] * total_stocks_bonds\n",
    "ci_upper_ten_cumulative_return = spy80_weight_table[9] * total_stocks_bonds\n",
    "\n",
    "# Print the result of your calculations\n",
    "# YOUR CODE HERE\n",
    "print(f\"There is a 95% chance that investing the Stock/Bond portion of the portfolio (current value ${total_stocks_bonds:,.2f}) in\"\n",
    "      f\" a more aggressive 80/20 weight distribution over the next 10 years will end within in the range of\"\n",
    "      f\" ${ci_lower_ten_cumulative_return:,.2f} and ${ci_upper_ten_cumulative_return:,.2f} in value.\")\n"
   ]
  },
  {
   "cell_type": "markdown",
   "metadata": {},
   "source": [
    "#### Question: Will weighting the portfolio more heavily to stocks allow the credit union members to retire after only 10 years?"
   ]
  },
  {
   "cell_type": "code",
   "execution_count": 63,
   "metadata": {},
   "outputs": [
    {
     "name": "stdout",
     "output_type": "stream",
     "text": [
      "**Answer**\n",
      "It's very unlikely that weighting the portfolio more heavily towards stocks would allow the members to retire after only 10 years. With their current monthly expenses of $12,000.00, there is up to a 95% chance they would only have enough in stock/bond retirement accounts to survive for maximum of 10.19 months, or 0.85 years (without consideration towards the effects of inflation).\n"
     ]
    }
   ],
   "source": [
    "print(\"**Answer**\")\n",
    "\n",
    "print(f\"It's very unlikely that weighting the portfolio more heavily towards stocks would allow the members to retire after only 10 years. With their current monthly expenses of ${monthly_income:,.2f}, there is up to a 95% chance they would only have enough in stock/bond retirement accounts to survive for maximum of {(ci_upper_ten_cumulative_return / monthly_income):,.2f} months, or {((ci_upper_ten_cumulative_return / monthly_income)/12):,.2f} years (without consideration towards the effects of inflation).\")"
   ]
  },
  {
   "cell_type": "code",
   "execution_count": null,
   "metadata": {},
   "outputs": [],
   "source": []
  }
 ],
 "metadata": {
  "kernelspec": {
   "display_name": "Python (dev)",
   "language": "python",
   "name": "dev"
  },
  "language_info": {
   "codemirror_mode": {
    "name": "ipython",
    "version": 3
   },
   "file_extension": ".py",
   "mimetype": "text/x-python",
   "name": "python",
   "nbconvert_exporter": "python",
   "pygments_lexer": "ipython3",
   "version": "3.7.9"
  }
 },
 "nbformat": 4,
 "nbformat_minor": 4
}
